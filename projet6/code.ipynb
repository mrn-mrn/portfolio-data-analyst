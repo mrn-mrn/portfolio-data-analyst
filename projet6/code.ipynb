{
 "cells": [
  {
   "cell_type": "markdown",
   "metadata": {},
   "source": [
    "# INTRODUCTION AUX STATISTIQUES"
   ]
  },
  {
   "cell_type": "markdown",
   "metadata": {},
   "source": [
    "## 1. Objectifs, cours en ligne et jeux de données"
   ]
  },
  {
   "cell_type": "markdown",
   "metadata": {},
   "source": [
    "> Dans ce livrable, nous allons explorer le modèle linéaire, la régression logistique et l'ANOVA en analysant des données simples et complexes. \n",
    "\n",
    "> L'objectif principal sera de comprendre l'engagement des apprenants dans un MOOC, en nous appuyant sur les résultats d’un article publié en 2015."
   ]
  },
  {
   "cell_type": "markdown",
   "metadata": {},
   "source": [
    "## 2. Un échauffement sur des données-type"
   ]
  },
  {
   "cell_type": "code",
   "execution_count": 178,
   "metadata": {},
   "outputs": [],
   "source": [
    "# Import des bibliothèques :\n",
    "import numpy as np\n",
    "import matplotlib.pyplot as plt\n",
    "import pandas as pd\n",
    "import seaborn as sns\n",
    "from scipy.stats import pearsonr, ttest_ind, mannwhitneyu, levene, chi2_contingency, spearmanr\n",
    "import scipy.stats as stats\n",
    "from statsmodels.api import qqplot\n",
    "import statsmodels.api as sm\n",
    "import statsmodels.formula.api as smf\n",
    "from statsmodels.graphics.mosaicplot import mosaic\n",
    "from matplotlib import colors\n",
    "from statsmodels.formula.api import ols, logit\n",
    "from statsmodels.stats.diagnostic import het_breuschpagan\n",
    "import missingno as msno\n",
    "from math import sqrt\n",
    "import matplotlib.colors as mcolors\n",
    "import statsmodels.formula.api as smf\n",
    "from statsmodels.stats.anova import anova_lm\n",
    "from statsmodels.graphics.regressionplots import influence_plot\n",
    "from statsmodels.stats.outliers_influence import variance_inflation_factor\n",
    "import statsmodels.formula.api as smf\n",
    "import statsmodels.api as sm\n",
    "from lifelines import CoxPHFitter\n",
    "import matplotlib.ticker as mtick\n",
    "from scipy.stats import kruskal"
   ]
  },
  {
   "cell_type": "code",
   "execution_count": 179,
   "metadata": {},
   "outputs": [],
   "source": [
    "# Import du fichier CSV :\n",
    "iris = pd.read_csv(\"dataset0.csv\", \n",
    "                  sep = \",\",\n",
    "                  encoding = \"utf-8\",\n",
    "                  engine = \"python\",\n",
    "                  decimal = \",\")"
   ]
  },
  {
   "cell_type": "code",
   "execution_count": 180,
   "metadata": {},
   "outputs": [
    {
     "data": {
      "text/html": [
       "<div>\n",
       "<style scoped>\n",
       "    .dataframe tbody tr th:only-of-type {\n",
       "        vertical-align: middle;\n",
       "    }\n",
       "\n",
       "    .dataframe tbody tr th {\n",
       "        vertical-align: top;\n",
       "    }\n",
       "\n",
       "    .dataframe thead th {\n",
       "        text-align: right;\n",
       "    }\n",
       "</style>\n",
       "<table border=\"1\" class=\"dataframe\">\n",
       "  <thead>\n",
       "    <tr style=\"text-align: right;\">\n",
       "      <th></th>\n",
       "      <th>sepal.length</th>\n",
       "      <th>sepal.width</th>\n",
       "      <th>petal.length</th>\n",
       "      <th>petal.width</th>\n",
       "      <th>variety</th>\n",
       "    </tr>\n",
       "  </thead>\n",
       "  <tbody>\n",
       "    <tr>\n",
       "      <th>0</th>\n",
       "      <td>5.1</td>\n",
       "      <td>3.5</td>\n",
       "      <td>1.4</td>\n",
       "      <td>0.2</td>\n",
       "      <td>Setosa</td>\n",
       "    </tr>\n",
       "    <tr>\n",
       "      <th>1</th>\n",
       "      <td>4.9</td>\n",
       "      <td>3.0</td>\n",
       "      <td>1.4</td>\n",
       "      <td>0.2</td>\n",
       "      <td>Setosa</td>\n",
       "    </tr>\n",
       "    <tr>\n",
       "      <th>2</th>\n",
       "      <td>4.7</td>\n",
       "      <td>3.2</td>\n",
       "      <td>1.3</td>\n",
       "      <td>0.2</td>\n",
       "      <td>Setosa</td>\n",
       "    </tr>\n",
       "  </tbody>\n",
       "</table>\n",
       "</div>"
      ],
      "text/plain": [
       "   sepal.length  sepal.width  petal.length  petal.width variety\n",
       "0           5.1          3.5           1.4          0.2  Setosa\n",
       "1           4.9          3.0           1.4          0.2  Setosa\n",
       "2           4.7          3.2           1.3          0.2  Setosa"
      ]
     },
     "execution_count": 180,
     "metadata": {},
     "output_type": "execute_result"
    }
   ],
   "source": [
    "# Affichage des premières lignes du dataset 'iris' :\n",
    "iris.head(3)"
   ]
  },
  {
   "cell_type": "code",
   "execution_count": 181,
   "metadata": {},
   "outputs": [
    {
     "name": "stdout",
     "output_type": "stream",
     "text": [
      "Index(['sepal.length', 'sepal.width', 'petal.length', 'petal.width',\n",
      "       'variety'],\n",
      "      dtype='object')\n"
     ]
    }
   ],
   "source": [
    "# Affichage des noms de colonnes :\n",
    "print(iris.columns)"
   ]
  },
  {
   "cell_type": "code",
   "execution_count": 182,
   "metadata": {},
   "outputs": [],
   "source": [
    "# Création d'un dictionnaire de noms de colonnes :\n",
    "new_column_names = {'sepal.length': 'sepal_length',\n",
    "                    'sepal.width': 'sepal_width',\n",
    "                    'petal.length': 'petal_length',\n",
    "                    'petal.width': 'petal_width',\n",
    "                    'variety': 'variety'}"
   ]
  },
  {
   "cell_type": "code",
   "execution_count": 183,
   "metadata": {},
   "outputs": [
    {
     "name": "stdout",
     "output_type": "stream",
     "text": [
      "Index(['sepal_length', 'sepal_width', 'petal_length', 'petal_width',\n",
      "       'variety'],\n",
      "      dtype='object')\n"
     ]
    }
   ],
   "source": [
    "# Changement des noms de colonnes :\n",
    "iris.rename(columns = new_column_names, \n",
    "            inplace = True)\n",
    "print(iris.columns)"
   ]
  },
  {
   "cell_type": "code",
   "execution_count": 184,
   "metadata": {},
   "outputs": [],
   "source": [
    "# Modification du style du graphique :\n",
    "sns.set()"
   ]
  },
  {
   "cell_type": "code",
   "execution_count": 185,
   "metadata": {},
   "outputs": [],
   "source": [
    "# Changement de la police de caractère :\n",
    "plt.rcParams['font.family'] = \"EB Garamond\"\n",
    "plt.rcParams['font.size'] = 10"
   ]
  },
  {
   "cell_type": "code",
   "execution_count": 186,
   "metadata": {},
   "outputs": [
    {
     "data": {
      "image/png": "[encoded data removed]",
      "text/plain": [
       "<Figure size 500x500 with 1 Axes>"
      ]
     },
     "metadata": {},
     "output_type": "display_data"
    }
   ],
   "source": [
    "# Création de la figure :\n",
    "plt.figure(figsize = (5, 5))\n",
    "\n",
    "# Création du scatterplot :\n",
    "sns.scatterplot(x = 'petal_length',\n",
    "                y = 'petal_width', \n",
    "                hue = 'variety', \n",
    "                style = 'variety', \n",
    "                markers = ['o', 's', 'D'], \n",
    "                data = iris)\n",
    "\n",
    "# Ajout du titre :\n",
    "plt.title('Représentation de la largeur du pétale en fonction de la longueur du pétale (dataset Iris)', \n",
    "          fontsize = 13, \n",
    "          pad = 15)\n",
    "\n",
    "# Ajout des étiquettes aux axes :\n",
    "plt.xlabel('Longueur du pétale (cm)')\n",
    "plt.ylabel('Largeur du pétale (cm)')\n",
    "\n",
    "# Affichage de la légende :\n",
    "plt.legend(title = 'Espèce')\n",
    "\n",
    "# Affichage du graphique :\n",
    "plt.show()"
   ]
  },
  {
   "cell_type": "code",
   "execution_count": 187,
   "metadata": {},
   "outputs": [
    {
     "data": {
      "image/png": "[encoded data removed]",
      "text/plain": [
       "<Figure size 500x500 with 1 Axes>"
      ]
     },
     "metadata": {},
     "output_type": "display_data"
    }
   ],
   "source": [
    "# Création de la figure :\n",
    "plt.figure(figsize = (5, 5))\n",
    "\n",
    "# Création du scatterplot :\n",
    "sns.scatterplot(x = 'petal_length',\n",
    "                y = 'petal_width', \n",
    "                hue = 'variety', \n",
    "                style = 'variety', \n",
    "                markers = ['o', 's', 'D'], \n",
    "                data = iris)\n",
    "\n",
    "# Ajout du regplot :\n",
    "sns.regplot(x = 'petal_length', \n",
    "            y = 'petal_width', \n",
    "            data = iris, \n",
    "            scatter = False,\n",
    "            color = 'black',\n",
    "            line_kws = {'color': 'red', 'linewidth': 2})\n",
    "\n",
    "# Ajout du titre :\n",
    "plt.title('Représentation de la largeur du pétale en fonction de la longueur du pétale (dataset Iris)', \n",
    "          fontsize = 13, \n",
    "          pad = 15)\n",
    "\n",
    "# Ajout des étiquettes aux axes :\n",
    "plt.xlabel('Longueur du pétale (cm)')\n",
    "plt.ylabel('Largeur du pétale (cm)')\n",
    "\n",
    "# Affichage de la légende :\n",
    "plt.legend(title = 'Espèce')\n",
    "\n",
    "# Affichage du graphique :\n",
    "plt.show()"
   ]
  },
  {
   "cell_type": "code",
   "execution_count": 188,
   "metadata": {},
   "outputs": [
    {
     "name": "stdout",
     "output_type": "stream",
     "text": [
      "Le coefficient de corrélation de Pearson est : 0.96.\n"
     ]
    }
   ],
   "source": [
    "# Calcul et affichage du coefficient de corrélation de Pearson :\n",
    "corr, _ = pearsonr(iris['petal_length'], iris['petal_width'])\n",
    "print(f\"Le coefficient de corrélation de Pearson est : {corr:.2f}.\")"
   ]
  },
  {
   "cell_type": "code",
   "execution_count": 189,
   "metadata": {},
   "outputs": [
    {
     "data": {
      "image/png": "[encoded data removed]",
      "text/plain": [
       "<Figure size 500x500 with 1 Axes>"
      ]
     },
     "metadata": {},
     "output_type": "display_data"
    }
   ],
   "source": [
    "# Création de la figure :\n",
    "plt.figure(figsize = (5, 5))\n",
    "\n",
    "# Création du boxplot :\n",
    "sns.boxplot(x = 'variety', \n",
    "            y = 'petal_width', \n",
    "            data = iris,\n",
    "            width = 0.3)\n",
    "\n",
    "# Ajout du titre :\n",
    "plt.title(\"Distribution de la largeur du pétale en fonction de l'espèce\",\n",
    "          pad = 15,\n",
    "          fontsize = 13)\n",
    "\n",
    "# Ajout des étiquettes aux axes :\n",
    "plt.xlabel('Espèce')\n",
    "plt.ylabel('Largeur du pétale (cm)')\n",
    "\n",
    "# Affichage de la figure :\n",
    "plt.show()"
   ]
  },
  {
   "cell_type": "code",
   "execution_count": 190,
   "metadata": {},
   "outputs": [],
   "source": [
    "# Séparation des données par espèces :\n",
    "setosa = iris[iris['variety'] == 'Setosa']['petal_width']\n",
    "versicolor = iris[iris['variety'] == 'Versicolor']['petal_width']\n",
    "virginica = iris[iris['variety'] == 'Virginica']['petal_width']"
   ]
  },
  {
   "cell_type": "code",
   "execution_count": 191,
   "metadata": {},
   "outputs": [],
   "source": [
    "# Réalisation de l'ANOVA :\n",
    "f_stat, p_val = stats.f_oneway(setosa, versicolor, virginica)"
   ]
  },
  {
   "cell_type": "code",
   "execution_count": 192,
   "metadata": {},
   "outputs": [
    {
     "name": "stdout",
     "output_type": "stream",
     "text": [
      "F-statistic: 960.007\n",
      "P-value: 0.000\n"
     ]
    }
   ],
   "source": [
    "# Affichage des résultats :\n",
    "print(f\"F-statistic: {f_stat:.3f}\")\n",
    "print(f\"P-value: {p_val:.3f}\")"
   ]
  },
  {
   "cell_type": "code",
   "execution_count": 193,
   "metadata": {},
   "outputs": [
    {
     "name": "stdout",
     "output_type": "stream",
     "text": [
      "Il existe une différence significative dans la largeur du pétale entre les espèces.\n"
     ]
    }
   ],
   "source": [
    "# Interprétation des résultats\n",
    "if p_val < 0.05:\n",
    "    print(\"Il existe une différence significative dans la largeur du pétale entre les espèces.\")\n",
    "else:\n",
    "    print(\"Il n'y a pas de différence significative dans la largeur du pétale entre les espèces.\")"
   ]
  },
  {
   "cell_type": "code",
   "execution_count": 194,
   "metadata": {},
   "outputs": [],
   "source": [
    "# Nombre d'espèces (k) :\n",
    "k = 3\n",
    "\n",
    "# Nombre total d'observations (n) :\n",
    "n = len(setosa) + len(versicolor) + len(virginica)\n",
    "\n",
    "# Somme des carrés entre groupes (SSB) :\n",
    "grand_mean = iris['petal_width'].mean()\n",
    "ssb = sum(len(group) * (group.mean() - grand_mean) ** 2 for group in [setosa, versicolor, virginica])\n",
    "\n",
    "# Somme des carrés à l'intérieur des groupes (SSW) :\n",
    "ssw = sum(((group - group.mean()) ** 2).sum() for group in [setosa, versicolor, virginica])\n",
    "\n",
    "# Degrés de liberté entre groupes :\n",
    "dfb = k - 1  \n",
    "\n",
    "# Degrés de liberté à l'intérieur des groupes :\n",
    "dfw = n - k  \n",
    "\n",
    "# Moyennes des carrés (MS) :\n",
    "msb = ssb / dfb\n",
    "msw = ssw / dfw\n",
    "\n",
    "# Calcul de la statistique F :\n",
    "f_stat = msb / msw\n",
    "\n",
    "# Niveau de signification alpha pour calculer F-crit :\n",
    "alpha = 0.05\n",
    "\n",
    "# Calcul de la valeur critique F-crit à partir de la distribution de Fisher :\n",
    "f_crit = stats.f.ppf(1 - alpha, dfb, dfw)"
   ]
  },
  {
   "cell_type": "code",
   "execution_count": 195,
   "metadata": {},
   "outputs": [
    {
     "data": {
      "text/html": [
       "<div>\n",
       "<style scoped>\n",
       "    .dataframe tbody tr th:only-of-type {\n",
       "        vertical-align: middle;\n",
       "    }\n",
       "\n",
       "    .dataframe tbody tr th {\n",
       "        vertical-align: top;\n",
       "    }\n",
       "\n",
       "    .dataframe thead th {\n",
       "        text-align: right;\n",
       "    }\n",
       "</style>\n",
       "<table border=\"1\" class=\"dataframe\">\n",
       "  <thead>\n",
       "    <tr style=\"text-align: right;\">\n",
       "      <th></th>\n",
       "      <th>Source of variation</th>\n",
       "      <th>Sum of Squares (SS)</th>\n",
       "      <th>Degrees of Freedom (df)</th>\n",
       "      <th>Mean Square (MS)</th>\n",
       "      <th>F-statistic</th>\n",
       "      <th>p-value</th>\n",
       "      <th>F-crit</th>\n",
       "    </tr>\n",
       "  </thead>\n",
       "  <tbody>\n",
       "    <tr>\n",
       "      <th>0</th>\n",
       "      <td>Between Groups</td>\n",
       "      <td>80.41</td>\n",
       "      <td>2</td>\n",
       "      <td>40.21</td>\n",
       "      <td>960</td>\n",
       "      <td>0.000</td>\n",
       "      <td>3.06</td>\n",
       "    </tr>\n",
       "    <tr>\n",
       "      <th>1</th>\n",
       "      <td>Within Groups</td>\n",
       "      <td>6.16</td>\n",
       "      <td>147</td>\n",
       "      <td>0.04</td>\n",
       "      <td></td>\n",
       "      <td></td>\n",
       "      <td></td>\n",
       "    </tr>\n",
       "    <tr>\n",
       "      <th>2</th>\n",
       "      <td>Total</td>\n",
       "      <td>86.57</td>\n",
       "      <td>149</td>\n",
       "      <td></td>\n",
       "      <td></td>\n",
       "      <td></td>\n",
       "      <td></td>\n",
       "    </tr>\n",
       "  </tbody>\n",
       "</table>\n",
       "</div>"
      ],
      "text/plain": [
       "  Source of variation Sum of Squares (SS)  Degrees of Freedom (df)  \\\n",
       "0      Between Groups               80.41                        2   \n",
       "1       Within Groups                6.16                      147   \n",
       "2               Total               86.57                      149   \n",
       "\n",
       "  Mean Square (MS) F-statistic p-value F-crit  \n",
       "0            40.21         960   0.000   3.06  \n",
       "1             0.04                             \n",
       "2                                              "
      ]
     },
     "execution_count": 195,
     "metadata": {},
     "output_type": "execute_result"
    }
   ],
   "source": [
    "# Création de la table d'ANOVA :\n",
    "anova_table_classique = pd.DataFrame({'Source of variation': ['Between Groups', 'Within Groups', 'Total'],\n",
    "                                      'Sum of Squares (SS)': [\"{:.2f}\".format(ssb), \"{:.2f}\".format(ssw), \"{:.2f}\".format(ssb + ssw)],\n",
    "                                      'Degrees of Freedom (df)': [dfb, dfw, n - 1],\n",
    "                                      'Mean Square (MS)': [\"{:.2f}\".format(msb), \"{:.2f}\".format(msw), ''],\n",
    "                                      'F-statistic': [\"{:.0f}\".format(f_stat), '', ''],\n",
    "                                      'p-value': [\"{:.3f}\".format(p_val), '', ''],\n",
    "                                      'F-crit': [\"{:.2f}\".format(f_crit), '', '']})\n",
    "anova_table_classique"
   ]
  },
  {
   "cell_type": "markdown",
   "metadata": {},
   "source": [
    "> L'hypothèse nulle stipule qu'il n'y a pas de différences significatives entre les moyennes des espèces.\n",
    "\n",
    "> La statistique F = 960 est très élevée, ce qui suggère que les moyennes des espèces sont très différentes les unes des autres.\n",
    "\n",
    "> La p-value = 0.000 indique que cette différence est statistiquement significative au niveau de confiance de 95%. Cela signifie qu'il est très improbable que cette différence entre les groupes soit due au hasard.\n",
    "\n",
    "> La valeur critique de F-crit = 3.06 est bien inférieure à la statistique F obtenue, ce qui confirme que l'on peut rejeter l'hypothèse nulle. \n",
    "\n",
    "> En conclusion, les espèces influencent de manière significative la largeur du pétale. "
   ]
  },
  {
   "cell_type": "code",
   "execution_count": 196,
   "metadata": {},
   "outputs": [
    {
     "data": {
      "text/html": [
       "<div>\n",
       "<style scoped>\n",
       "    .dataframe tbody tr th:only-of-type {\n",
       "        vertical-align: middle;\n",
       "    }\n",
       "\n",
       "    .dataframe tbody tr th {\n",
       "        vertical-align: top;\n",
       "    }\n",
       "\n",
       "    .dataframe thead th {\n",
       "        text-align: right;\n",
       "    }\n",
       "</style>\n",
       "<table border=\"1\" class=\"dataframe\">\n",
       "  <thead>\n",
       "    <tr style=\"text-align: right;\">\n",
       "      <th></th>\n",
       "      <th>Estimate</th>\n",
       "      <th>Std Error</th>\n",
       "      <th>t value</th>\n",
       "      <th>Pr(&gt;|t|)</th>\n",
       "    </tr>\n",
       "  </thead>\n",
       "  <tbody>\n",
       "    <tr>\n",
       "      <th>Intercept</th>\n",
       "      <td>0.246</td>\n",
       "      <td>0.029</td>\n",
       "      <td>8.500</td>\n",
       "      <td>0.000</td>\n",
       "    </tr>\n",
       "    <tr>\n",
       "      <th>variety[T.Versicolor]</th>\n",
       "      <td>1.080</td>\n",
       "      <td>0.041</td>\n",
       "      <td>26.387</td>\n",
       "      <td>0.000</td>\n",
       "    </tr>\n",
       "    <tr>\n",
       "      <th>variety[T.Virginica]</th>\n",
       "      <td>1.780</td>\n",
       "      <td>0.041</td>\n",
       "      <td>43.489</td>\n",
       "      <td>0.000</td>\n",
       "    </tr>\n",
       "  </tbody>\n",
       "</table>\n",
       "</div>"
      ],
      "text/plain": [
       "                       Estimate  Std Error  t value  Pr(>|t|)\n",
       "Intercept                 0.246      0.029    8.500     0.000\n",
       "variety[T.Versicolor]     1.080      0.041   26.387     0.000\n",
       "variety[T.Virginica]      1.780      0.041   43.489     0.000"
      ]
     },
     "execution_count": 196,
     "metadata": {},
     "output_type": "execute_result"
    }
   ],
   "source": [
    "# Création d'un modèle avec 'petal_width' en fonction de l'espèce :\n",
    "model = smf.ols('petal_width ~ variety', data = iris).fit()\n",
    "\n",
    "# Résumé détaillé du modèle :\n",
    "results = model.summary2().tables[1]\n",
    "\n",
    "# Changement du nom de la ligne 'Intercept' :\n",
    "results.index = ['Intercept'] + list(results.index[1:])\n",
    "\n",
    "# Sélection des colonnes pour afficher la table d'anova :\n",
    "anova_table = results[['Coef.', \n",
    "                       'Std.Err.', \n",
    "                       't', \n",
    "                       'P>|t|']]\n",
    "\n",
    "# Changement du nom des colonnes :\n",
    "anova_table.columns = ['Estimate',                                      \n",
    "                       'Std Error', \n",
    "                       't value', \n",
    "                       'Pr(>|t|)']\n",
    "\n",
    "# Affichage de 3 décimales après la virgule :\n",
    "pd.options.display.float_format = '{:.3f}'.format\n",
    "\n",
    "# Affichage de la table d'anova :\n",
    "anova_table"
   ]
  },
  {
   "cell_type": "markdown",
   "metadata": {},
   "source": [
    "> On peut donc dire que, en moyenne :\n",
    "\n",
    ">    - Versicolor a une largeur de pétale de 1.08 cm de plus que Setosa\n",
    "\n",
    ">    - Virginica a une largeur de pétale de 1.78 cm de plus que Setosa\n",
    "\n",
    "> Les t-values très élevées (8.5, 26.4, 43.5) et les p-values proches de zéro (toutes inférieures à 0.05) indiquent que les différences sont statistiquement significatives. \n",
    "\n",
    "> En résumé, les trois espèces ont des largeurs de pétales significativement différentes."
   ]
  },
  {
   "cell_type": "code",
   "execution_count": 197,
   "metadata": {},
   "outputs": [],
   "source": [
    "# Suppression du paramètrage de l'arrondi à 3 chiffres après la virgule :\n",
    "pd.options.display.float_format = None"
   ]
  },
  {
   "cell_type": "code",
   "execution_count": 198,
   "metadata": {},
   "outputs": [
    {
     "data": {
      "text/html": [
       "<div>\n",
       "<style scoped>\n",
       "    .dataframe tbody tr th:only-of-type {\n",
       "        vertical-align: middle;\n",
       "    }\n",
       "\n",
       "    .dataframe tbody tr th {\n",
       "        vertical-align: top;\n",
       "    }\n",
       "\n",
       "    .dataframe thead th {\n",
       "        text-align: right;\n",
       "    }\n",
       "</style>\n",
       "<table border=\"1\" class=\"dataframe\">\n",
       "  <thead>\n",
       "    <tr style=\"text-align: right;\">\n",
       "      <th></th>\n",
       "      <th>sum_sq</th>\n",
       "      <th>df</th>\n",
       "      <th>F</th>\n",
       "      <th>PR(&gt;F)</th>\n",
       "    </tr>\n",
       "  </thead>\n",
       "  <tbody>\n",
       "    <tr>\n",
       "      <th>variety</th>\n",
       "      <td>80.41</td>\n",
       "      <td>2.0</td>\n",
       "      <td>960.01</td>\n",
       "      <td>0.0</td>\n",
       "    </tr>\n",
       "    <tr>\n",
       "      <th>Residual</th>\n",
       "      <td>6.16</td>\n",
       "      <td>147.0</td>\n",
       "      <td>NaN</td>\n",
       "      <td>NaN</td>\n",
       "    </tr>\n",
       "  </tbody>\n",
       "</table>\n",
       "</div>"
      ],
      "text/plain": [
       "          sum_sq     df       F  PR(>F)\n",
       "variety    80.41    2.0  960.01     0.0\n",
       "Residual    6.16  147.0     NaN     NaN"
      ]
     },
     "execution_count": 198,
     "metadata": {},
     "output_type": "execute_result"
    }
   ],
   "source": [
    "# Modèle de régression pour analyser l'effet de l'espèce sur la largeur du pétale\n",
    "model = smf.ols('petal_width ~ variety', \n",
    "                data = iris).fit()\n",
    "\n",
    "# Calcul de l'anova pour tester l'effet :\n",
    "anova_table = sm.stats.anova_lm(model, \n",
    "                                typ = 2)\n",
    "\n",
    "# Arrondir les résultats de la table d'ANOVA à 2 décimales\n",
    "anova_table = anova_table.round(2)\n",
    "\n",
    "# Affichage de la table d'ANOVA\n",
    "anova_table"
   ]
  },
  {
   "cell_type": "code",
   "execution_count": 199,
   "metadata": {},
   "outputs": [],
   "source": [
    "# Obtention des résidus du modèle :\n",
    "residuals = model.resid"
   ]
  },
  {
   "cell_type": "code",
   "execution_count": 200,
   "metadata": {},
   "outputs": [
    {
     "data": {
      "image/png": "[encoded data removed]",
      "text/plain": [
       "<Figure size 500x500 with 1 Axes>"
      ]
     },
     "metadata": {},
     "output_type": "display_data"
    }
   ],
   "source": [
    "# QQPlot des résidus de l'ANOVA \n",
    "\n",
    "# Création de la figure :\n",
    "fig, ax = plt.subplots(figsize = (5, 5))\n",
    "\n",
    "# QQ-plot des résidus pour vérifier la normalité :\n",
    "sm.qqplot(residuals, \n",
    "          line = 'q', \n",
    "          ax = ax)\n",
    "\n",
    "# Ajout du titre :\n",
    "ax.set_title('QQ-Plot des résidus de l\\'ANOVA', fontsize = 13, pad = 15)\n",
    "\n",
    "# Personnalisation des axes :\n",
    "ax.set_xlabel('Quantiles théoriques')\n",
    "ax.set_ylabel('Quantiles des résidus')\n",
    "\n",
    "# Modification de la couleur et de la transparence des points :\n",
    "ax.get_lines()[0].set_markerfacecolor('darkslateblue')\n",
    "ax.get_lines()[0].set_alpha(0.5)\n",
    "ax.get_lines()[0].set_markersize(4.5)\n",
    "\n",
    "# Ajout d'une bordure autour des points :\n",
    "ax.get_lines()[0].set_markeredgecolor('white')\n",
    "ax.get_lines()[0].set_markeredgewidth(0.05)\n",
    "\n",
    "# Modification de la couleur de la ligne de régression :\n",
    "ax.get_lines()[1].set_color('greenyellow')\n",
    "\n",
    "# Affichage du graphique :\n",
    "plt.show()"
   ]
  },
  {
   "cell_type": "code",
   "execution_count": 201,
   "metadata": {},
   "outputs": [
    {
     "name": "stdout",
     "output_type": "stream",
     "text": [
      "Statistique de Levene : 19.89, p-valeur : 0.000\n",
      "Les variances ne sont pas homogènes : hypothèse d'homoscédasticité rejetée.\n"
     ]
    }
   ],
   "source": [
    "# Test de l'homogénéité des variances (Test de Levene) :\n",
    "\n",
    "# On groupe les données de 'petal_width' par espèce :\n",
    "grouped = [iris[iris['variety'] == variety]['petal_width'] for variety in iris['variety'].unique()]\n",
    "\n",
    "# On effectue le test de Levene :\n",
    "stat, p_value = levene(*grouped)\n",
    "\n",
    "# Affichage des résultats :\n",
    "print(f\"Statistique de Levene : {stat:.2f}, p-valeur : {p_value:.3f}\")\n",
    "\n",
    "# Conclusion en fonction de la p-value :\n",
    "if p_value < 0.05:\n",
    "    print(\"Les variances ne sont pas homogènes : hypothèse d'homoscédasticité rejetée.\")\n",
    "else:\n",
    "    print(\"Les variances sont homogènes : hypothèse d'homoscédasticité validée.\")"
   ]
  },
  {
   "cell_type": "code",
   "execution_count": 202,
   "metadata": {},
   "outputs": [],
   "source": [
    "# Calcul des valeurs ajustées :\n",
    "predictions = model.fittedvalues"
   ]
  },
  {
   "cell_type": "code",
   "execution_count": 203,
   "metadata": {},
   "outputs": [
    {
     "data": {
      "image/png": "[encoded data removed]",
      "text/plain": [
       "<Figure size 500x500 with 1 Axes>"
      ]
     },
     "metadata": {},
     "output_type": "display_data"
    }
   ],
   "source": [
    "# Test de l'hétéroscédasticité :\n",
    "\n",
    "# Tracé des résidus vs valeurs ajustées :\n",
    "fig, ax = plt.subplots(figsize = (5, 5))\n",
    "\n",
    "# Tracer les points de résidus vs valeurs ajustées :\n",
    "ax.scatter(predictions, \n",
    "           residuals,\n",
    "           color = 'darkslateblue',\n",
    "           alpha = 0.2)\n",
    "\n",
    "# Ligne à 0 pour visualiser les résidus :\n",
    "ax.axhline(0, \n",
    "           color = 'orange', \n",
    "           linestyle = '-',\n",
    "           alpha = 0.8)\n",
    "\n",
    "# Ajout des étiquettes aux axes :\n",
    "ax.set_xlabel('Valeurs ajustées')\n",
    "ax.set_ylabel('Résidus')\n",
    "\n",
    "# Affichage du graphique :\n",
    "plt.show()"
   ]
  },
  {
   "cell_type": "markdown",
   "metadata": {},
   "source": [
    "> QQ-plot : Les points suivent bien la ligne, ce qui suggère que les résidus suivent une distribution normale. Cela indique que l'hypothèse de normalité des résidus est raisonnable pour ce modèle.\n",
    "\n",
    "> Statistique de Levene (19.89, p-valeur = 0.000) : Le test de Levene évalue l'égalité des variances entre les groupes. Une p-valeur aussi faible (inférieure à 0.05) indique que l'hypothèse d'égalité des variances est rejetée. En d'autres termes, les variances entre les groupes ne sont pas homogènes (l'hypothèse d'homoscédasticité est rejetée).\n",
    "\n",
    "> Test d'hétéroscédasticité (dispersion des points) : En observant le nuage de points dans un graphique de résidus contre les valeurs prédites, on constate que les points s'élargissent en allant vers la droite, ce qui est un signe typique d'hétéroscédasticité. Cela signifie que la variance des résidus augmente avec les valeurs prédite, ce qui pourrait violer l'une des hypothèses des modèles de régression linéaire."
   ]
  },
  {
   "cell_type": "markdown",
   "metadata": {},
   "source": [
    "> En conclusion :  Les résultats de l'analyse des résidus suggèrent que l'hypothèse de normalité a été acceptée, les résidus suivant une distribution normale (QQ-plot). Cependant, l'hypothèse d'homoscédasticité a été rejetée, indiquant des variances inégales entre les groupes, comme l'indique le test de Levene (p < 0.001) et la dispersion des résidus du modèle."
   ]
  },
  {
   "cell_type": "markdown",
   "metadata": {},
   "source": [
    "> Dans ce cas précis, l'utilisation de l'ANOVA pour tester la différence de la largeur du pétale en fonction des espèces était raisonnable à première vue, car l'ANOVA est conçue pour comparer les moyennes de plusieurs groupes. Cependant, les résultats montrent que l'hypothèse d'homoscédasticité (variance égale entre les groupes) a été rejetée, ce qui viole une des hypothèses clés de l'ANOVA. Par conséquent, l'ANOVA n'est peut-être pas la méthode la plus appropriée dans ce cas, car elle peut conduire à des conclusions erronées."
   ]
  },
  {
   "cell_type": "markdown",
   "metadata": {},
   "source": [
    "> Le test de Kruskal-Wallis est le test non paramétrique équivalent de l'ANOVA à un facteur. Il permet de comparer les distributions de plusieurs groupes, mais contrairement à l'ANOVA, il ne fait aucune hypothèse sur la forme de la distribution des données ni sur l'homogénéité des variances."
   ]
  },
  {
   "cell_type": "markdown",
   "metadata": {},
   "source": [
    "## 3. Le jeu de données sur un MOOC"
   ]
  },
  {
   "cell_type": "markdown",
   "metadata": {},
   "source": [
    "### 3.1. Préparation du jeu de données"
   ]
  },
  {
   "cell_type": "code",
   "execution_count": 204,
   "metadata": {},
   "outputs": [],
   "source": [
    "# Chargement des fichiers CSV pour les questionnaires :\n",
    "effect1_quest = pd.read_csv(\"dataset1a.csv\", sep = \",\", encoding = \"latin1\", engine = \"python\", decimal = \",\")\n",
    "effect2_quest = pd.read_csv(\"dataset2a.csv\", sep = \",\", encoding = \"latin1\", engine = \"python\", decimal = \",\")\n",
    "effect3_quest = pd.read_csv(\"dataset3a.csv\", sep = \",\", encoding = \"latin1\", engine = \"python\", decimal = \",\")"
   ]
  },
  {
   "cell_type": "code",
   "execution_count": 205,
   "metadata": {},
   "outputs": [
    {
     "data": {
      "text/html": [
       "<div>\n",
       "<style scoped>\n",
       "    .dataframe tbody tr th:only-of-type {\n",
       "        vertical-align: middle;\n",
       "    }\n",
       "\n",
       "    .dataframe tbody tr th {\n",
       "        vertical-align: top;\n",
       "    }\n",
       "\n",
       "    .dataframe thead th {\n",
       "        text-align: right;\n",
       "    }\n",
       "</style>\n",
       "<table border=\"1\" class=\"dataframe\">\n",
       "  <thead>\n",
       "    <tr style=\"text-align: right;\">\n",
       "      <th></th>\n",
       "      <th>Student_ID</th>\n",
       "      <th>Gender</th>\n",
       "      <th>birth.year</th>\n",
       "      <th>Country</th>\n",
       "      <th>Diploma</th>\n",
       "      <th>Formation</th>\n",
       "      <th>CSP</th>\n",
       "      <th>How.heard</th>\n",
       "      <th>Exp.crea</th>\n",
       "      <th>Curiosity.MOOC</th>\n",
       "      <th>...</th>\n",
       "      <th>Eval.diffic</th>\n",
       "      <th>Estimated.hours</th>\n",
       "      <th>Part.labo</th>\n",
       "      <th>Plat.satisf</th>\n",
       "      <th>Peer.eval.relev</th>\n",
       "      <th>encad.diffic</th>\n",
       "      <th>Country_HDI</th>\n",
       "      <th>Country_HDI.fin</th>\n",
       "      <th>CSP.fin</th>\n",
       "      <th>Temps.dispo.fin</th>\n",
       "    </tr>\n",
       "  </thead>\n",
       "  <tbody>\n",
       "    <tr>\n",
       "      <th>0</th>\n",
       "      <td>221</td>\n",
       "      <td>NaN</td>\n",
       "      <td>NaN</td>\n",
       "      <td>NaN</td>\n",
       "      <td>NaN</td>\n",
       "      <td>NaN</td>\n",
       "      <td>NaN</td>\n",
       "      <td>NaN</td>\n",
       "      <td>NaN</td>\n",
       "      <td>NaN</td>\n",
       "      <td>...</td>\n",
       "      <td>NaN</td>\n",
       "      <td>NaN</td>\n",
       "      <td>NaN</td>\n",
       "      <td>NaN</td>\n",
       "      <td>NaN</td>\n",
       "      <td>NaN</td>\n",
       "      <td>NaN</td>\n",
       "      <td>NaN</td>\n",
       "      <td>NaN</td>\n",
       "      <td>NaN</td>\n",
       "    </tr>\n",
       "    <tr>\n",
       "      <th>1</th>\n",
       "      <td>19178</td>\n",
       "      <td>une femme</td>\n",
       "      <td>1986.0</td>\n",
       "      <td>France</td>\n",
       "      <td>Bac+5 (Master ou équivalent)</td>\n",
       "      <td>Droit</td>\n",
       "      <td>Cadres et professions intellectuelles</td>\n",
       "      <td>par un article ou un blog sur Internet</td>\n",
       "      <td>Je n'ai aucune expérience en création d'entrep...</td>\n",
       "      <td>4.0</td>\n",
       "      <td>...</td>\n",
       "      <td>NaN</td>\n",
       "      <td>NaN</td>\n",
       "      <td>NaN</td>\n",
       "      <td>NaN</td>\n",
       "      <td>NaN</td>\n",
       "      <td>NaN</td>\n",
       "      <td>TH</td>\n",
       "      <td>TH</td>\n",
       "      <td>Cadres et professions intellectuelles</td>\n",
       "      <td>Moins de deux heures</td>\n",
       "    </tr>\n",
       "    <tr>\n",
       "      <th>2</th>\n",
       "      <td>1086</td>\n",
       "      <td>une femme</td>\n",
       "      <td>1967.0</td>\n",
       "      <td>France</td>\n",
       "      <td>Bac+5 (Master ou équivalent)</td>\n",
       "      <td>Sciences sociales (économie\\, sciences politiq...</td>\n",
       "      <td>Artisans, commerçants, chefs d'entreprise</td>\n",
       "      <td>par une communication de l'EMLYON</td>\n",
       "      <td>Je suis en train de créer mon entreprise (phas...</td>\n",
       "      <td>2.0</td>\n",
       "      <td>...</td>\n",
       "      <td>NaN</td>\n",
       "      <td>NaN</td>\n",
       "      <td>NaN</td>\n",
       "      <td>NaN</td>\n",
       "      <td>NaN</td>\n",
       "      <td>NaN</td>\n",
       "      <td>TH</td>\n",
       "      <td>TH</td>\n",
       "      <td>Artisans, commerçants, chefs d'entreprise</td>\n",
       "      <td>Moins de deux heures</td>\n",
       "    </tr>\n",
       "  </tbody>\n",
       "</table>\n",
       "<p>3 rows × 35 columns</p>\n",
       "</div>"
      ],
      "text/plain": [
       "   Student_ID     Gender  birth.year Country                       Diploma  \\\n",
       "0         221        NaN         NaN     NaN                           NaN   \n",
       "1       19178  une femme      1986.0  France  Bac+5 (Master ou équivalent)   \n",
       "2        1086  une femme      1967.0  France  Bac+5 (Master ou équivalent)   \n",
       "\n",
       "                                           Formation  \\\n",
       "0                                                NaN   \n",
       "1                                              Droit   \n",
       "2  Sciences sociales (économie\\, sciences politiq...   \n",
       "\n",
       "                                         CSP  \\\n",
       "0                                        NaN   \n",
       "1      Cadres et professions intellectuelles   \n",
       "2  Artisans, commerçants, chefs d'entreprise   \n",
       "\n",
       "                                How.heard  \\\n",
       "0                                     NaN   \n",
       "1  par un article ou un blog sur Internet   \n",
       "2       par une communication de l'EMLYON   \n",
       "\n",
       "                                            Exp.crea  Curiosity.MOOC  ...  \\\n",
       "0                                                NaN             NaN  ...   \n",
       "1  Je n'ai aucune expérience en création d'entrep...             4.0  ...   \n",
       "2  Je suis en train de créer mon entreprise (phas...             2.0  ...   \n",
       "\n",
       "   Eval.diffic  Estimated.hours  Part.labo  Plat.satisf Peer.eval.relev  \\\n",
       "0          NaN              NaN        NaN          NaN             NaN   \n",
       "1          NaN              NaN        NaN          NaN             NaN   \n",
       "2          NaN              NaN        NaN          NaN             NaN   \n",
       "\n",
       "  encad.diffic  Country_HDI Country_HDI.fin  \\\n",
       "0          NaN          NaN             NaN   \n",
       "1          NaN           TH              TH   \n",
       "2          NaN           TH              TH   \n",
       "\n",
       "                                     CSP.fin       Temps.dispo.fin  \n",
       "0                                        NaN                   NaN  \n",
       "1      Cadres et professions intellectuelles  Moins de deux heures  \n",
       "2  Artisans, commerçants, chefs d'entreprise  Moins de deux heures  \n",
       "\n",
       "[3 rows x 35 columns]"
      ]
     },
     "execution_count": 205,
     "metadata": {},
     "output_type": "execute_result"
    }
   ],
   "source": [
    "# Affichage du dataframe \"effect1_quest\" :\n",
    "effect1_quest.head(3)"
   ]
  },
  {
   "cell_type": "code",
   "execution_count": 206,
   "metadata": {},
   "outputs": [
    {
     "data": {
      "text/html": [
       "<div>\n",
       "<style scoped>\n",
       "    .dataframe tbody tr th:only-of-type {\n",
       "        vertical-align: middle;\n",
       "    }\n",
       "\n",
       "    .dataframe tbody tr th {\n",
       "        vertical-align: top;\n",
       "    }\n",
       "\n",
       "    .dataframe thead th {\n",
       "        text-align: right;\n",
       "    }\n",
       "</style>\n",
       "<table border=\"1\" class=\"dataframe\">\n",
       "  <thead>\n",
       "    <tr style=\"text-align: right;\">\n",
       "      <th></th>\n",
       "      <th>Student_ID</th>\n",
       "      <th>Current.Score</th>\n",
       "      <th>Section</th>\n",
       "      <th>Gender</th>\n",
       "      <th>birth.year</th>\n",
       "      <th>Country</th>\n",
       "      <th>Diploma</th>\n",
       "      <th>Formation</th>\n",
       "      <th>CSP</th>\n",
       "      <th>How.heard</th>\n",
       "      <th>...</th>\n",
       "      <th>Eval.diffic</th>\n",
       "      <th>Estimated.hours</th>\n",
       "      <th>Part.labo</th>\n",
       "      <th>Plat.satisf</th>\n",
       "      <th>Peer.eval.relev</th>\n",
       "      <th>Country_HDI</th>\n",
       "      <th>Country_HDI.fin</th>\n",
       "      <th>CSP.fin</th>\n",
       "      <th>Temps.dispo.fin</th>\n",
       "      <th>EMLyon.et</th>\n",
       "    </tr>\n",
       "  </thead>\n",
       "  <tbody>\n",
       "    <tr>\n",
       "      <th>0</th>\n",
       "      <td>32360</td>\n",
       "      <td>NaN</td>\n",
       "      <td>Laboratoire, Effectuation #2</td>\n",
       "      <td>une femme</td>\n",
       "      <td>1967.0</td>\n",
       "      <td>France</td>\n",
       "      <td>Bac+5 (Master ou équivalent)</td>\n",
       "      <td>Sciences humaines (histoire\\, archéologie\\, ph...</td>\n",
       "      <td>Cadres et professions intellectuelles</td>\n",
       "      <td>par un ami ou une connaissance</td>\n",
       "      <td>...</td>\n",
       "      <td>Très facile</td>\n",
       "      <td>De 1 à  2 heures</td>\n",
       "      <td>Oui\\, j'ai soumis un projet en tant que Porteu...</td>\n",
       "      <td>Satisfaisante</td>\n",
       "      <td>5</td>\n",
       "      <td>TH</td>\n",
       "      <td>TH</td>\n",
       "      <td>Cadres et professions intellectuelles</td>\n",
       "      <td>Moins de deux heures</td>\n",
       "      <td>0.0</td>\n",
       "    </tr>\n",
       "    <tr>\n",
       "      <th>1</th>\n",
       "      <td>27582</td>\n",
       "      <td>NaN</td>\n",
       "      <td>NaN</td>\n",
       "      <td>NaN</td>\n",
       "      <td>NaN</td>\n",
       "      <td>NaN</td>\n",
       "      <td>NaN</td>\n",
       "      <td>NaN</td>\n",
       "      <td>NaN</td>\n",
       "      <td>NaN</td>\n",
       "      <td>...</td>\n",
       "      <td>NaN</td>\n",
       "      <td>NaN</td>\n",
       "      <td>NaN</td>\n",
       "      <td>NaN</td>\n",
       "      <td>NaN</td>\n",
       "      <td>NaN</td>\n",
       "      <td>NaN</td>\n",
       "      <td>NaN</td>\n",
       "      <td>NaN</td>\n",
       "      <td>NaN</td>\n",
       "    </tr>\n",
       "    <tr>\n",
       "      <th>2</th>\n",
       "      <td>27808</td>\n",
       "      <td>NaN</td>\n",
       "      <td>Effectuation #2</td>\n",
       "      <td>un homme</td>\n",
       "      <td>1986.0</td>\n",
       "      <td>Haïti</td>\n",
       "      <td>Bac+3 (Licence ou équivalent)</td>\n",
       "      <td>Management/Gestion d  entreprise</td>\n",
       "      <td>En recherche d'emploi</td>\n",
       "      <td>autre</td>\n",
       "      <td>...</td>\n",
       "      <td>Moyen</td>\n",
       "      <td>Plus de 8 heures</td>\n",
       "      <td>Oui\\, je suis devenu Coach sur au moins un pro...</td>\n",
       "      <td>Très satisfaisante</td>\n",
       "      <td>5</td>\n",
       "      <td>B</td>\n",
       "      <td>B</td>\n",
       "      <td>En recherche d'emploi</td>\n",
       "      <td>Entre quatre et six heures</td>\n",
       "      <td>0.0</td>\n",
       "    </tr>\n",
       "  </tbody>\n",
       "</table>\n",
       "<p>3 rows × 40 columns</p>\n",
       "</div>"
      ],
      "text/plain": [
       "   Student_ID  Current.Score                       Section     Gender  \\\n",
       "0       32360            NaN  Laboratoire, Effectuation #2  une femme   \n",
       "1       27582            NaN                           NaN        NaN   \n",
       "2       27808            NaN               Effectuation #2   un homme   \n",
       "\n",
       "   birth.year Country                        Diploma  \\\n",
       "0      1967.0  France   Bac+5 (Master ou équivalent)   \n",
       "1         NaN     NaN                            NaN   \n",
       "2      1986.0   Haïti  Bac+3 (Licence ou équivalent)   \n",
       "\n",
       "                                           Formation  \\\n",
       "0  Sciences humaines (histoire\\, archéologie\\, ph...   \n",
       "1                                                NaN   \n",
       "2                   Management/Gestion d  entreprise   \n",
       "\n",
       "                                     CSP                       How.heard  ...  \\\n",
       "0  Cadres et professions intellectuelles  par un ami ou une connaissance  ...   \n",
       "1                                    NaN                             NaN  ...   \n",
       "2                  En recherche d'emploi                           autre  ...   \n",
       "\n",
       "   Eval.diffic   Estimated.hours  \\\n",
       "0  Très facile  De 1 à  2 heures   \n",
       "1          NaN               NaN   \n",
       "2        Moyen  Plus de 8 heures   \n",
       "\n",
       "                                           Part.labo         Plat.satisf  \\\n",
       "0  Oui\\, j'ai soumis un projet en tant que Porteu...       Satisfaisante   \n",
       "1                                                NaN                 NaN   \n",
       "2  Oui\\, je suis devenu Coach sur au moins un pro...  Très satisfaisante   \n",
       "\n",
       "   Peer.eval.relev  Country_HDI Country_HDI.fin  \\\n",
       "0                5           TH              TH   \n",
       "1              NaN          NaN             NaN   \n",
       "2                5            B               B   \n",
       "\n",
       "                                 CSP.fin             Temps.dispo.fin  \\\n",
       "0  Cadres et professions intellectuelles        Moins de deux heures   \n",
       "1                                    NaN                         NaN   \n",
       "2                  En recherche d'emploi  Entre quatre et six heures   \n",
       "\n",
       "   EMLyon.et  \n",
       "0        0.0  \n",
       "1        NaN  \n",
       "2        0.0  \n",
       "\n",
       "[3 rows x 40 columns]"
      ]
     },
     "execution_count": 206,
     "metadata": {},
     "output_type": "execute_result"
    }
   ],
   "source": [
    "# Affichage du dataframe \"effect2_quest\" :\n",
    "effect2_quest.head(3)"
   ]
  },
  {
   "cell_type": "code",
   "execution_count": 207,
   "metadata": {},
   "outputs": [
    {
     "data": {
      "text/html": [
       "<div>\n",
       "<style scoped>\n",
       "    .dataframe tbody tr th:only-of-type {\n",
       "        vertical-align: middle;\n",
       "    }\n",
       "\n",
       "    .dataframe tbody tr th {\n",
       "        vertical-align: top;\n",
       "    }\n",
       "\n",
       "    .dataframe thead th {\n",
       "        text-align: right;\n",
       "    }\n",
       "</style>\n",
       "<table border=\"1\" class=\"dataframe\">\n",
       "  <thead>\n",
       "    <tr style=\"text-align: right;\">\n",
       "      <th></th>\n",
       "      <th>Student_ID</th>\n",
       "      <th>Certif.bin</th>\n",
       "      <th>Section</th>\n",
       "      <th>Gender</th>\n",
       "      <th>birth.year</th>\n",
       "      <th>Country</th>\n",
       "      <th>Diploma</th>\n",
       "      <th>EMLYON.et</th>\n",
       "      <th>Formation</th>\n",
       "      <th>CSP</th>\n",
       "      <th>...</th>\n",
       "      <th>Incitation</th>\n",
       "      <th>Temps.Dispo</th>\n",
       "      <th>Exp.MOOC</th>\n",
       "      <th>Completion.proba</th>\n",
       "      <th>EMLyon</th>\n",
       "      <th>Country_HDI</th>\n",
       "      <th>Country_HDI.fin</th>\n",
       "      <th>age</th>\n",
       "      <th>CSP.fin</th>\n",
       "      <th>Temps.dispo.fin</th>\n",
       "    </tr>\n",
       "  </thead>\n",
       "  <tbody>\n",
       "    <tr>\n",
       "      <th>0</th>\n",
       "      <td>68029.0</td>\n",
       "      <td>1.0</td>\n",
       "      <td>MOOC Effectuation #3</td>\n",
       "      <td>un homme</td>\n",
       "      <td>1982.0</td>\n",
       "      <td>France</td>\n",
       "      <td>Bac+5 (Master ou équivalent)</td>\n",
       "      <td>Non</td>\n",
       "      <td>Mathématiques\\, informatique</td>\n",
       "      <td>Artisans, commerÃ§ants, chefs d'entreprise</td>\n",
       "      <td>...</td>\n",
       "      <td>1.0</td>\n",
       "      <td>Entre deux et quatre heures</td>\n",
       "      <td>Non, c'est ma première participation Ã  un MOOC</td>\n",
       "      <td>5.0</td>\n",
       "      <td>Non</td>\n",
       "      <td>TH</td>\n",
       "      <td>TH</td>\n",
       "      <td>31.0</td>\n",
       "      <td>Artisans, commerÃ§ants, chefs d'entreprise</td>\n",
       "      <td>Entre deux et quatre heures</td>\n",
       "    </tr>\n",
       "    <tr>\n",
       "      <th>1</th>\n",
       "      <td>66198.0</td>\n",
       "      <td>1.0</td>\n",
       "      <td>Laboratoire, Laboratoire Effectuation #3, MOOC...</td>\n",
       "      <td>un homme</td>\n",
       "      <td>1994.0</td>\n",
       "      <td>Maroc</td>\n",
       "      <td>Bac+2 (Deug, IUT, BTS ou équivalent)</td>\n",
       "      <td>Non</td>\n",
       "      <td>Sciences sociales (économie\\, sciences politiq...</td>\n",
       "      <td>Etudiants</td>\n",
       "      <td>...</td>\n",
       "      <td>4.0</td>\n",
       "      <td>Entre deux et quatre heures</td>\n",
       "      <td>Non, c'est ma première participation Ã  un MOOC</td>\n",
       "      <td>5.0</td>\n",
       "      <td>Non</td>\n",
       "      <td>H</td>\n",
       "      <td>H&amp;M</td>\n",
       "      <td>19.0</td>\n",
       "      <td>Etudiants</td>\n",
       "      <td>Entre deux et quatre heures</td>\n",
       "    </tr>\n",
       "    <tr>\n",
       "      <th>2</th>\n",
       "      <td>68052.0</td>\n",
       "      <td>1.0</td>\n",
       "      <td>MOOC Effectuation #3</td>\n",
       "      <td>un homme</td>\n",
       "      <td>1988.0</td>\n",
       "      <td>Maroc</td>\n",
       "      <td>Bac+5 (Master ou équivalent)</td>\n",
       "      <td>Oui</td>\n",
       "      <td>Mathématiques\\, informatique</td>\n",
       "      <td>Cadres et professions intellectuelles</td>\n",
       "      <td>...</td>\n",
       "      <td>4.0</td>\n",
       "      <td>Entre deux et quatre heures</td>\n",
       "      <td>Non, c'est ma première participation Ã  un MOOC</td>\n",
       "      <td>4.0</td>\n",
       "      <td>Oui</td>\n",
       "      <td>H</td>\n",
       "      <td>H&amp;M</td>\n",
       "      <td>25.0</td>\n",
       "      <td>Cadres et professions intellectuelles</td>\n",
       "      <td>Entre deux et quatre heures</td>\n",
       "    </tr>\n",
       "  </tbody>\n",
       "</table>\n",
       "<p>3 rows × 26 columns</p>\n",
       "</div>"
      ],
      "text/plain": [
       "   Student_ID  Certif.bin                                            Section  \\\n",
       "0     68029.0         1.0                               MOOC Effectuation #3   \n",
       "1     66198.0         1.0  Laboratoire, Laboratoire Effectuation #3, MOOC...   \n",
       "2     68052.0         1.0                               MOOC Effectuation #3   \n",
       "\n",
       "     Gender  birth.year Country                               Diploma  \\\n",
       "0  un homme      1982.0  France          Bac+5 (Master ou équivalent)   \n",
       "1  un homme      1994.0   Maroc  Bac+2 (Deug, IUT, BTS ou équivalent)   \n",
       "2  un homme      1988.0   Maroc          Bac+5 (Master ou équivalent)   \n",
       "\n",
       "  EMLYON.et                                          Formation  \\\n",
       "0       Non                       Mathématiques\\, informatique   \n",
       "1       Non  Sciences sociales (économie\\, sciences politiq...   \n",
       "2       Oui                       Mathématiques\\, informatique   \n",
       "\n",
       "                                          CSP  ... Incitation  \\\n",
       "0  Artisans, commerÃ§ants, chefs d'entreprise  ...        1.0   \n",
       "1                                   Etudiants  ...        4.0   \n",
       "2       Cadres et professions intellectuelles  ...        4.0   \n",
       "\n",
       "                   Temps.Dispo  \\\n",
       "0  Entre deux et quatre heures   \n",
       "1  Entre deux et quatre heures   \n",
       "2  Entre deux et quatre heures   \n",
       "\n",
       "                                          Exp.MOOC  Completion.proba EMLyon  \\\n",
       "0  Non, c'est ma première participation Ã  un MOOC               5.0    Non   \n",
       "1  Non, c'est ma première participation Ã  un MOOC               5.0    Non   \n",
       "2  Non, c'est ma première participation Ã  un MOOC               4.0    Oui   \n",
       "\n",
       "   Country_HDI  Country_HDI.fin   age  \\\n",
       "0           TH               TH  31.0   \n",
       "1            H              H&M  19.0   \n",
       "2            H              H&M  25.0   \n",
       "\n",
       "                                      CSP.fin              Temps.dispo.fin  \n",
       "0  Artisans, commerÃ§ants, chefs d'entreprise  Entre deux et quatre heures  \n",
       "1                                   Etudiants  Entre deux et quatre heures  \n",
       "2       Cadres et professions intellectuelles  Entre deux et quatre heures  \n",
       "\n",
       "[3 rows x 26 columns]"
      ]
     },
     "execution_count": 207,
     "metadata": {},
     "output_type": "execute_result"
    }
   ],
   "source": [
    "# Affichage du dataframe \"effect3_quest\" :\n",
    "effect3_quest.head(3)"
   ]
  },
  {
   "cell_type": "code",
   "execution_count": 208,
   "metadata": {},
   "outputs": [],
   "source": [
    "# Chargement des fichiers CSV pour les logs :\n",
    "usages_effec1 = pd.read_csv(\"dataset1b.csv\", sep = \",\", encoding = \"latin1\", engine = \"python\", decimal = \",\")\n",
    "usages_effec2 = pd.read_csv(\"dataset2b.csv\", sep = \",\", encoding = \"latin1\", engine = \"python\", decimal = \",\")\n",
    "usages_effec3 = pd.read_csv(\"dataset3b.csv\", sep = \",\", encoding = \"latin1\", engine = \"python\", decimal = \",\")"
   ]
  },
  {
   "cell_type": "code",
   "execution_count": 209,
   "metadata": {},
   "outputs": [
    {
     "name": "stdout",
     "output_type": "stream",
     "text": [
      "Index(['Student_ID', 'Exam.score', 'Exam.bin', 'Assignment.score',\n",
      "       'Assignment.bin', 'Quizz.1.score', 'Quizz.1.bin', 'Quizz.2.score',\n",
      "       'Quizz.2.bin', 'Quizz.3.score', 'Quizz.3.bin', 'Quizz.4.bin',\n",
      "       'Quizz.4.score', 'Quizz.5.bin', 'Quizz.5.score', 'Intro.MOOC',\n",
      "       'Prez.sem.1', 'S1.L1', 'S1.L2', 'S1.L3', 'S1.L4', 'S1.L5', 'S1.L6',\n",
      "       'Prez.sem.2', 'S2.L1', 'S2.L2', 'S2.L3', 'S2.L4', 'S2.L5', 'S2.L6',\n",
      "       'Prez.sem.3', 'S3.L1.1', 'S3.L1.2', 'S3.L2', 'S3.L3', 'S3.L4', 'S3.L5',\n",
      "       'Prez.sem.4', 'S4.L1.1', 'S4.L1.2', 'S4.L2', 'S4.L3', 'S4.L4', 'S4.L5',\n",
      "       'Prez.sem.5', 'S5.L1.1', 'S5.L1.2', 'S5.L2', 'S5.L3', 'S5.L4', 'S5.L5',\n",
      "       'Post.forum.0', 'view.forum.0', 'Post.forum.1', 'Post.forum.1.2',\n",
      "       'view.forum.1', 'view.forum.1.2', 'Post.forum.2', 'Post.forum.2.2',\n",
      "       'view.forum.2', 'view.forum.2.2', 'Post.forum.3', 'view.forum.3',\n",
      "       'Post.forum.4', 'Post.forum.4.2', 'view.forum.4', 'view.forum.4.2',\n",
      "       'Post.forum.5', 'Post.forum.5.2', 'view.forum.5', 'view.forum.5.2',\n",
      "       'last.video', 'last.quizz'],\n",
      "      dtype='object')\n"
     ]
    }
   ],
   "source": [
    "# Affichage de \"usages_effec1\" :\n",
    "usages_effec1.head(3)\n",
    "print(usages_effec1.columns)"
   ]
  },
  {
   "cell_type": "code",
   "execution_count": 210,
   "metadata": {},
   "outputs": [
    {
     "data": {
      "text/html": [
       "<div>\n",
       "<style scoped>\n",
       "    .dataframe tbody tr th:only-of-type {\n",
       "        vertical-align: middle;\n",
       "    }\n",
       "\n",
       "    .dataframe tbody tr th {\n",
       "        vertical-align: top;\n",
       "    }\n",
       "\n",
       "    .dataframe thead th {\n",
       "        text-align: right;\n",
       "    }\n",
       "</style>\n",
       "<table border=\"1\" class=\"dataframe\">\n",
       "  <thead>\n",
       "    <tr style=\"text-align: right;\">\n",
       "      <th></th>\n",
       "      <th>Student_ID</th>\n",
       "      <th>Exam.score</th>\n",
       "      <th>Exam.bin</th>\n",
       "      <th>Assignment.score</th>\n",
       "      <th>Assignment.bin</th>\n",
       "      <th>Quizz.1.score</th>\n",
       "      <th>Quizz.1.bin</th>\n",
       "      <th>Quizz.2.score</th>\n",
       "      <th>Quizz.2.bin</th>\n",
       "      <th>Quizz.3.score</th>\n",
       "      <th>...</th>\n",
       "      <th>Post.forum.4.2</th>\n",
       "      <th>view.forum.4</th>\n",
       "      <th>view.forum.4.2</th>\n",
       "      <th>Post.forum.5</th>\n",
       "      <th>Post.forum.5.2</th>\n",
       "      <th>view.forum.5</th>\n",
       "      <th>view.forum.5.2</th>\n",
       "      <th>last.video</th>\n",
       "      <th>last.quizz</th>\n",
       "      <th>Assignment.choice</th>\n",
       "    </tr>\n",
       "  </thead>\n",
       "  <tbody>\n",
       "    <tr>\n",
       "      <th>0</th>\n",
       "      <td>15</td>\n",
       "      <td>NaN</td>\n",
       "      <td>0</td>\n",
       "      <td>NaN</td>\n",
       "      <td>0</td>\n",
       "      <td>NaN</td>\n",
       "      <td>0</td>\n",
       "      <td>NaN</td>\n",
       "      <td>0</td>\n",
       "      <td>NaN</td>\n",
       "      <td>...</td>\n",
       "      <td>0</td>\n",
       "      <td>1</td>\n",
       "      <td>0</td>\n",
       "      <td>0</td>\n",
       "      <td>0</td>\n",
       "      <td>0</td>\n",
       "      <td>0</td>\n",
       "      <td>3</td>\n",
       "      <td>0</td>\n",
       "      <td>0</td>\n",
       "    </tr>\n",
       "    <tr>\n",
       "      <th>1</th>\n",
       "      <td>26</td>\n",
       "      <td>NaN</td>\n",
       "      <td>0</td>\n",
       "      <td>NaN</td>\n",
       "      <td>0</td>\n",
       "      <td>20.0</td>\n",
       "      <td>1</td>\n",
       "      <td>NaN</td>\n",
       "      <td>0</td>\n",
       "      <td>NaN</td>\n",
       "      <td>...</td>\n",
       "      <td>0</td>\n",
       "      <td>0</td>\n",
       "      <td>0</td>\n",
       "      <td>0</td>\n",
       "      <td>0</td>\n",
       "      <td>0</td>\n",
       "      <td>0</td>\n",
       "      <td>3</td>\n",
       "      <td>1</td>\n",
       "      <td>0</td>\n",
       "    </tr>\n",
       "    <tr>\n",
       "      <th>2</th>\n",
       "      <td>151</td>\n",
       "      <td>NaN</td>\n",
       "      <td>0</td>\n",
       "      <td>NaN</td>\n",
       "      <td>0</td>\n",
       "      <td>NaN</td>\n",
       "      <td>0</td>\n",
       "      <td>NaN</td>\n",
       "      <td>0</td>\n",
       "      <td>NaN</td>\n",
       "      <td>...</td>\n",
       "      <td>0</td>\n",
       "      <td>0</td>\n",
       "      <td>0</td>\n",
       "      <td>0</td>\n",
       "      <td>0</td>\n",
       "      <td>0</td>\n",
       "      <td>0</td>\n",
       "      <td>0</td>\n",
       "      <td>0</td>\n",
       "      <td>0</td>\n",
       "    </tr>\n",
       "  </tbody>\n",
       "</table>\n",
       "<p>3 rows × 74 columns</p>\n",
       "</div>"
      ],
      "text/plain": [
       "   Student_ID  Exam.score  Exam.bin  Assignment.score  Assignment.bin  \\\n",
       "0          15         NaN         0               NaN               0   \n",
       "1          26         NaN         0               NaN               0   \n",
       "2         151         NaN         0               NaN               0   \n",
       "\n",
       "   Quizz.1.score  Quizz.1.bin  Quizz.2.score  Quizz.2.bin  Quizz.3.score  ...  \\\n",
       "0            NaN            0            NaN            0            NaN  ...   \n",
       "1           20.0            1            NaN            0            NaN  ...   \n",
       "2            NaN            0            NaN            0            NaN  ...   \n",
       "\n",
       "   Post.forum.4.2  view.forum.4  view.forum.4.2  Post.forum.5  Post.forum.5.2  \\\n",
       "0               0             1               0             0               0   \n",
       "1               0             0               0             0               0   \n",
       "2               0             0               0             0               0   \n",
       "\n",
       "   view.forum.5  view.forum.5.2  last.video  last.quizz  Assignment.choice  \n",
       "0             0               0           3           0                  0  \n",
       "1             0               0           3           1                  0  \n",
       "2             0               0           0           0                  0  \n",
       "\n",
       "[3 rows x 74 columns]"
      ]
     },
     "execution_count": 210,
     "metadata": {},
     "output_type": "execute_result"
    }
   ],
   "source": [
    "# Affichage de \"usages_effec2\" :\n",
    "usages_effec2.head(3)"
   ]
  },
  {
   "cell_type": "code",
   "execution_count": 211,
   "metadata": {},
   "outputs": [
    {
     "data": {
      "text/html": [
       "<div>\n",
       "<style scoped>\n",
       "    .dataframe tbody tr th:only-of-type {\n",
       "        vertical-align: middle;\n",
       "    }\n",
       "\n",
       "    .dataframe tbody tr th {\n",
       "        vertical-align: top;\n",
       "    }\n",
       "\n",
       "    .dataframe thead th {\n",
       "        text-align: right;\n",
       "    }\n",
       "</style>\n",
       "<table border=\"1\" class=\"dataframe\">\n",
       "  <thead>\n",
       "    <tr style=\"text-align: right;\">\n",
       "      <th></th>\n",
       "      <th>Student_ID</th>\n",
       "      <th>Exam.score</th>\n",
       "      <th>Exam.bin</th>\n",
       "      <th>Assignment.score</th>\n",
       "      <th>Assignment.bin</th>\n",
       "      <th>Quizz.1.score</th>\n",
       "      <th>Quizz.1.bin</th>\n",
       "      <th>Quizz.2.score</th>\n",
       "      <th>Quizz.2.bin</th>\n",
       "      <th>Quizz.3.score</th>\n",
       "      <th>...</th>\n",
       "      <th>view.forum.4.2</th>\n",
       "      <th>Post.forum.5</th>\n",
       "      <th>Post.forum.5.2</th>\n",
       "      <th>view.forum.5</th>\n",
       "      <th>view.forum.5.2</th>\n",
       "      <th>last.video</th>\n",
       "      <th>last.quizz</th>\n",
       "      <th>Assignment.choice</th>\n",
       "      <th>Post.forum.fonc.cours</th>\n",
       "      <th>view.forum.fonc.cours</th>\n",
       "    </tr>\n",
       "  </thead>\n",
       "  <tbody>\n",
       "    <tr>\n",
       "      <th>0</th>\n",
       "      <td>15</td>\n",
       "      <td>NaN</td>\n",
       "      <td>0</td>\n",
       "      <td>NaN</td>\n",
       "      <td>0</td>\n",
       "      <td>NaN</td>\n",
       "      <td>0</td>\n",
       "      <td>NaN</td>\n",
       "      <td>0</td>\n",
       "      <td>NaN</td>\n",
       "      <td>...</td>\n",
       "      <td>0</td>\n",
       "      <td>0</td>\n",
       "      <td>0</td>\n",
       "      <td>0</td>\n",
       "      <td>0</td>\n",
       "      <td>2</td>\n",
       "      <td>0</td>\n",
       "      <td>0</td>\n",
       "      <td>0</td>\n",
       "      <td>0</td>\n",
       "    </tr>\n",
       "    <tr>\n",
       "      <th>1</th>\n",
       "      <td>34</td>\n",
       "      <td>NaN</td>\n",
       "      <td>0</td>\n",
       "      <td>NaN</td>\n",
       "      <td>0</td>\n",
       "      <td>NaN</td>\n",
       "      <td>0</td>\n",
       "      <td>NaN</td>\n",
       "      <td>0</td>\n",
       "      <td>NaN</td>\n",
       "      <td>...</td>\n",
       "      <td>0</td>\n",
       "      <td>0</td>\n",
       "      <td>0</td>\n",
       "      <td>0</td>\n",
       "      <td>0</td>\n",
       "      <td>0</td>\n",
       "      <td>0</td>\n",
       "      <td>0</td>\n",
       "      <td>0</td>\n",
       "      <td>0</td>\n",
       "    </tr>\n",
       "    <tr>\n",
       "      <th>2</th>\n",
       "      <td>88</td>\n",
       "      <td>NaN</td>\n",
       "      <td>0</td>\n",
       "      <td>NaN</td>\n",
       "      <td>0</td>\n",
       "      <td>NaN</td>\n",
       "      <td>0</td>\n",
       "      <td>NaN</td>\n",
       "      <td>0</td>\n",
       "      <td>NaN</td>\n",
       "      <td>...</td>\n",
       "      <td>0</td>\n",
       "      <td>0</td>\n",
       "      <td>0</td>\n",
       "      <td>0</td>\n",
       "      <td>0</td>\n",
       "      <td>2</td>\n",
       "      <td>0</td>\n",
       "      <td>0</td>\n",
       "      <td>0</td>\n",
       "      <td>0</td>\n",
       "    </tr>\n",
       "  </tbody>\n",
       "</table>\n",
       "<p>3 rows × 76 columns</p>\n",
       "</div>"
      ],
      "text/plain": [
       "   Student_ID  Exam.score  Exam.bin  Assignment.score  Assignment.bin  \\\n",
       "0          15         NaN         0               NaN               0   \n",
       "1          34         NaN         0               NaN               0   \n",
       "2          88         NaN         0               NaN               0   \n",
       "\n",
       "   Quizz.1.score  Quizz.1.bin  Quizz.2.score  Quizz.2.bin  Quizz.3.score  ...  \\\n",
       "0            NaN            0            NaN            0            NaN  ...   \n",
       "1            NaN            0            NaN            0            NaN  ...   \n",
       "2            NaN            0            NaN            0            NaN  ...   \n",
       "\n",
       "   view.forum.4.2  Post.forum.5  Post.forum.5.2  view.forum.5  view.forum.5.2  \\\n",
       "0               0             0               0             0               0   \n",
       "1               0             0               0             0               0   \n",
       "2               0             0               0             0               0   \n",
       "\n",
       "   last.video  last.quizz  Assignment.choice  Post.forum.fonc.cours  \\\n",
       "0           2           0                  0                      0   \n",
       "1           0           0                  0                      0   \n",
       "2           2           0                  0                      0   \n",
       "\n",
       "   view.forum.fonc.cours  \n",
       "0                      0  \n",
       "1                      0  \n",
       "2                      0  \n",
       "\n",
       "[3 rows x 76 columns]"
      ]
     },
     "execution_count": 211,
     "metadata": {},
     "output_type": "execute_result"
    }
   ],
   "source": [
    "# Affichage de \"usages_effec3\" :\n",
    "usages_effec3.head(3)"
   ]
  },
  {
   "cell_type": "code",
   "execution_count": 212,
   "metadata": {},
   "outputs": [
    {
     "name": "stdout",
     "output_type": "stream",
     "text": [
      "Colonnes de effect1_quest : ['Student_ID', 'Gender', 'birth.year', 'Country', 'Diploma', 'Formation', 'CSP', 'How.heard', 'Exp.crea', 'Curiosity.MOOC', 'Certif.self.sat', 'Rencontres', 'Certif.work', 'Incitation', 'Temps.Dispo', 'Exp.MOOC', 'Completion.proba', 'Instit.brand', 'motiv.princ', 'diffic', 'encad.disp', 'How.contact', 'entour', 'entour.inter', 'Satisf', 'Eval.diffic', 'Estimated.hours', 'Part.labo', 'Plat.satisf', 'Peer.eval.relev', 'encad.diffic', 'Country_HDI', 'Country_HDI.fin', 'CSP.fin', 'Temps.dispo.fin']\n",
      "Colonnes de effect2_quest : ['Student_ID', 'Current.Score', 'Section', 'Gender', 'birth.year', 'Country', 'Diploma', 'Formation', 'CSP', 'How.heard', 'Exp.crea', 'Curiosity.MOOC', 'Certif.self.sat', 'Rencontres', 'Certif.work', 'Incitation', 'Mot', 'Temps.Dispo', 'Exp.MOOC', 'Completion.proba', 'EMLyon', 'Instit.brand', 'motiv.princ', 'diffic', 'encad.disp', 'How.contact', 'entour', 'entour.inter', 'Satisf', 'Proba.reco', 'Eval.diffic', 'Estimated.hours', 'Part.labo', 'Plat.satisf', 'Peer.eval.relev', 'Country_HDI', 'Country_HDI.fin', 'CSP.fin', 'Temps.dispo.fin', 'EMLyon.et']\n",
      "Colonnes de effect3_quest : ['Student_ID', 'Certif.bin', 'Section', 'Gender', 'birth.year', 'Country', 'Diploma', 'EMLYON.et', 'Formation', 'CSP', 'How.heard', 'Exp.crea', 'Curiosity.MOOC', 'Certif.self.sat', 'Rencontres', 'Certif.work', 'Incitation', 'Temps.Dispo', 'Exp.MOOC', 'Completion.proba', 'EMLyon', 'Country_HDI', 'Country_HDI.fin', 'age', 'CSP.fin', 'Temps.dispo.fin']\n"
     ]
    }
   ],
   "source": [
    "# Affichage des noms de colonnes des DataFrames de questionnaires :\n",
    "print(\"Colonnes de effect1_quest :\", effect1_quest.columns.tolist())\n",
    "print(\"Colonnes de effect2_quest :\", effect2_quest.columns.tolist())\n",
    "print(\"Colonnes de effect3_quest :\", effect3_quest.columns.tolist())"
   ]
  },
  {
   "cell_type": "code",
   "execution_count": 213,
   "metadata": {},
   "outputs": [
    {
     "name": "stdout",
     "output_type": "stream",
     "text": [
      "Colonnes de usages_effec1 : ['Student_ID', 'Exam.score', 'Exam.bin', 'Assignment.score', 'Assignment.bin', 'Quizz.1.score', 'Quizz.1.bin', 'Quizz.2.score', 'Quizz.2.bin', 'Quizz.3.score', 'Quizz.3.bin', 'Quizz.4.bin', 'Quizz.4.score', 'Quizz.5.bin', 'Quizz.5.score', 'Intro.MOOC', 'Prez.sem.1', 'S1.L1', 'S1.L2', 'S1.L3', 'S1.L4', 'S1.L5', 'S1.L6', 'Prez.sem.2', 'S2.L1', 'S2.L2', 'S2.L3', 'S2.L4', 'S2.L5', 'S2.L6', 'Prez.sem.3', 'S3.L1.1', 'S3.L1.2', 'S3.L2', 'S3.L3', 'S3.L4', 'S3.L5', 'Prez.sem.4', 'S4.L1.1', 'S4.L1.2', 'S4.L2', 'S4.L3', 'S4.L4', 'S4.L5', 'Prez.sem.5', 'S5.L1.1', 'S5.L1.2', 'S5.L2', 'S5.L3', 'S5.L4', 'S5.L5', 'Post.forum.0', 'view.forum.0', 'Post.forum.1', 'Post.forum.1.2', 'view.forum.1', 'view.forum.1.2', 'Post.forum.2', 'Post.forum.2.2', 'view.forum.2', 'view.forum.2.2', 'Post.forum.3', 'view.forum.3', 'Post.forum.4', 'Post.forum.4.2', 'view.forum.4', 'view.forum.4.2', 'Post.forum.5', 'Post.forum.5.2', 'view.forum.5', 'view.forum.5.2', 'last.video', 'last.quizz']\n",
      "Colonnes de usages_effec2 : ['Student_ID', 'Exam.score', 'Exam.bin', 'Assignment.score', 'Assignment.bin', 'Quizz.1.score', 'Quizz.1.bin', 'Quizz.2.score', 'Quizz.2.bin', 'Quizz.3.score', 'Quizz.3.bin', 'Quizz.4.bin', 'Quizz.4.score', 'Quizz.5.bin', 'Quizz.5.score', 'Intro.MOOC', 'Prez.sem.1', 'S1.L1', 'S1.L2', 'S1.L3', 'S1.L4', 'S1.L5', 'S1.L6', 'Prez.sem.2', 'S2.L1', 'S2.L2', 'S2.L3', 'S2.L4', 'S2.L5', 'S2.L6', 'Prez.sem.3', 'S3.L1.1', 'S3.L1.2', 'S3.L2', 'S3.L3', 'S3.L4', 'S3.L5', 'Prez.sem.4', 'S4.L1.1', 'S4.L1.2', 'S4.L2', 'S4.L3', 'S4.L4', 'S4.L5', 'Prez.sem.5', 'S5.L1.1', 'S5.L1.2', 'S5.L2', 'S5.L3', 'S5.L4', 'S5.L5', 'Post.forum.0', 'view.forum.0', 'Post.forum.1', 'Post.forum.1.2', 'view.forum.1', 'view.forum.1.2', 'Post.forum.2', 'Post.forum.2.2', 'view.forum.2', 'view.forum.2.2', 'Post.forum.3', 'view.forum.3', 'Post.forum.4', 'Post.forum.4.2', 'view.forum.4', 'view.forum.4.2', 'Post.forum.5', 'Post.forum.5.2', 'view.forum.5', 'view.forum.5.2', 'last.video', 'last.quizz', 'Assignment.choice']\n",
      "Colonnes de usages_effec3 : ['Student_ID', 'Exam.score', 'Exam.bin', 'Assignment.score', 'Assignment.bin', 'Quizz.1.score', 'Quizz.1.bin', 'Quizz.2.score', 'Quizz.2.bin', 'Quizz.3.score', 'Quizz.3.bin', 'Quizz.4.bin', 'Quizz.4.score', 'Quizz.5.bin', 'Quizz.5.score', 'Intro.MOOC', 'Prez.sem.1', 'S1.L1', 'S1.L2', 'S1.L3', 'S1.L4', 'S1.L5', 'S1.L6', 'Prez.sem.2', 'S2.L1', 'S2.L2', 'S2.L3', 'S2.L4', 'S2.L5', 'S2.L6', 'Prez.sem.3', 'S3.L1.1', 'S3.L1.2', 'S3.L2', 'S3.L3', 'S3.L4', 'S3.L5', 'Prez.sem.4', 'S4.L1.1', 'S4.L1.2', 'S4.L2', 'S4.L3', 'S4.L4', 'S4.L5', 'Prez.sem.5', 'S5.L1.1', 'S5.L1.2', 'S5.L2', 'S5.L3', 'S5.L4', 'S5.L5', 'Post.forum.0', 'view.forum.0', 'Post.forum.1', 'Post.forum.1.2', 'view.forum.1', 'view.forum.1.2', 'Post.forum.2', 'Post.forum.2.2', 'view.forum.2', 'view.forum.2.2', 'Post.forum.3', 'view.forum.3', 'Post.forum.4', 'Post.forum.4.2', 'view.forum.4', 'view.forum.4.2', 'Post.forum.5', 'Post.forum.5.2', 'view.forum.5', 'view.forum.5.2', 'last.video', 'last.quizz', 'Assignment.choice', 'Post.forum.fonc.cours', 'view.forum.fonc.cours']\n"
     ]
    }
   ],
   "source": [
    "# Affichage des noms de colonnes des DataFrames de logs :\n",
    "print(\"Colonnes de usages_effec1 :\", usages_effec1.columns.tolist())\n",
    "print(\"Colonnes de usages_effec2 :\", usages_effec2.columns.tolist())\n",
    "print(\"Colonnes de usages_effec3 :\", usages_effec3.columns.tolist())"
   ]
  },
  {
   "cell_type": "code",
   "execution_count": 214,
   "metadata": {},
   "outputs": [],
   "source": [
    "# Fusion des DataFrames questionnaires et logs pour chaque itération sur 'Student_ID' (column bind):\n",
    "merged1 = pd.merge(effect1_quest, usages_effec1, on = 'Student_ID', how = 'left')\n",
    "merged1['iteration'] = 1\n",
    "merged2 = pd.merge(effect2_quest, usages_effec2, on = 'Student_ID', how = 'left')\n",
    "merged2['iteration'] = 2\n",
    "merged3 = pd.merge(effect3_quest, usages_effec3, on = 'Student_ID', how = 'left')\n",
    "merged3['iteration'] = 3"
   ]
  },
  {
   "cell_type": "code",
   "execution_count": 215,
   "metadata": {},
   "outputs": [
    {
     "name": "stdout",
     "output_type": "stream",
     "text": [
      "Colonnes de merged1 : ['Student_ID', 'Gender', 'birth.year', 'Country', 'Diploma', 'Formation', 'CSP', 'How.heard', 'Exp.crea', 'Curiosity.MOOC', 'Certif.self.sat', 'Rencontres', 'Certif.work', 'Incitation', 'Temps.Dispo', 'Exp.MOOC', 'Completion.proba', 'Instit.brand', 'motiv.princ', 'diffic', 'encad.disp', 'How.contact', 'entour', 'entour.inter', 'Satisf', 'Eval.diffic', 'Estimated.hours', 'Part.labo', 'Plat.satisf', 'Peer.eval.relev', 'encad.diffic', 'Country_HDI', 'Country_HDI.fin', 'CSP.fin', 'Temps.dispo.fin', 'Exam.score', 'Exam.bin', 'Assignment.score', 'Assignment.bin', 'Quizz.1.score', 'Quizz.1.bin', 'Quizz.2.score', 'Quizz.2.bin', 'Quizz.3.score', 'Quizz.3.bin', 'Quizz.4.bin', 'Quizz.4.score', 'Quizz.5.bin', 'Quizz.5.score', 'Intro.MOOC', 'Prez.sem.1', 'S1.L1', 'S1.L2', 'S1.L3', 'S1.L4', 'S1.L5', 'S1.L6', 'Prez.sem.2', 'S2.L1', 'S2.L2', 'S2.L3', 'S2.L4', 'S2.L5', 'S2.L6', 'Prez.sem.3', 'S3.L1.1', 'S3.L1.2', 'S3.L2', 'S3.L3', 'S3.L4', 'S3.L5', 'Prez.sem.4', 'S4.L1.1', 'S4.L1.2', 'S4.L2', 'S4.L3', 'S4.L4', 'S4.L5', 'Prez.sem.5', 'S5.L1.1', 'S5.L1.2', 'S5.L2', 'S5.L3', 'S5.L4', 'S5.L5', 'Post.forum.0', 'view.forum.0', 'Post.forum.1', 'Post.forum.1.2', 'view.forum.1', 'view.forum.1.2', 'Post.forum.2', 'Post.forum.2.2', 'view.forum.2', 'view.forum.2.2', 'Post.forum.3', 'view.forum.3', 'Post.forum.4', 'Post.forum.4.2', 'view.forum.4', 'view.forum.4.2', 'Post.forum.5', 'Post.forum.5.2', 'view.forum.5', 'view.forum.5.2', 'last.video', 'last.quizz', 'iteration']\n",
      "Colonnes de merged2 : ['Student_ID', 'Current.Score', 'Section', 'Gender', 'birth.year', 'Country', 'Diploma', 'Formation', 'CSP', 'How.heard', 'Exp.crea', 'Curiosity.MOOC', 'Certif.self.sat', 'Rencontres', 'Certif.work', 'Incitation', 'Mot', 'Temps.Dispo', 'Exp.MOOC', 'Completion.proba', 'EMLyon', 'Instit.brand', 'motiv.princ', 'diffic', 'encad.disp', 'How.contact', 'entour', 'entour.inter', 'Satisf', 'Proba.reco', 'Eval.diffic', 'Estimated.hours', 'Part.labo', 'Plat.satisf', 'Peer.eval.relev', 'Country_HDI', 'Country_HDI.fin', 'CSP.fin', 'Temps.dispo.fin', 'EMLyon.et', 'Exam.score', 'Exam.bin', 'Assignment.score', 'Assignment.bin', 'Quizz.1.score', 'Quizz.1.bin', 'Quizz.2.score', 'Quizz.2.bin', 'Quizz.3.score', 'Quizz.3.bin', 'Quizz.4.bin', 'Quizz.4.score', 'Quizz.5.bin', 'Quizz.5.score', 'Intro.MOOC', 'Prez.sem.1', 'S1.L1', 'S1.L2', 'S1.L3', 'S1.L4', 'S1.L5', 'S1.L6', 'Prez.sem.2', 'S2.L1', 'S2.L2', 'S2.L3', 'S2.L4', 'S2.L5', 'S2.L6', 'Prez.sem.3', 'S3.L1.1', 'S3.L1.2', 'S3.L2', 'S3.L3', 'S3.L4', 'S3.L5', 'Prez.sem.4', 'S4.L1.1', 'S4.L1.2', 'S4.L2', 'S4.L3', 'S4.L4', 'S4.L5', 'Prez.sem.5', 'S5.L1.1', 'S5.L1.2', 'S5.L2', 'S5.L3', 'S5.L4', 'S5.L5', 'Post.forum.0', 'view.forum.0', 'Post.forum.1', 'Post.forum.1.2', 'view.forum.1', 'view.forum.1.2', 'Post.forum.2', 'Post.forum.2.2', 'view.forum.2', 'view.forum.2.2', 'Post.forum.3', 'view.forum.3', 'Post.forum.4', 'Post.forum.4.2', 'view.forum.4', 'view.forum.4.2', 'Post.forum.5', 'Post.forum.5.2', 'view.forum.5', 'view.forum.5.2', 'last.video', 'last.quizz', 'Assignment.choice', 'iteration']\n",
      "Colonnes de merged3 : ['Student_ID', 'Certif.bin', 'Section', 'Gender', 'birth.year', 'Country', 'Diploma', 'EMLYON.et', 'Formation', 'CSP', 'How.heard', 'Exp.crea', 'Curiosity.MOOC', 'Certif.self.sat', 'Rencontres', 'Certif.work', 'Incitation', 'Temps.Dispo', 'Exp.MOOC', 'Completion.proba', 'EMLyon', 'Country_HDI', 'Country_HDI.fin', 'age', 'CSP.fin', 'Temps.dispo.fin', 'Exam.score', 'Exam.bin', 'Assignment.score', 'Assignment.bin', 'Quizz.1.score', 'Quizz.1.bin', 'Quizz.2.score', 'Quizz.2.bin', 'Quizz.3.score', 'Quizz.3.bin', 'Quizz.4.bin', 'Quizz.4.score', 'Quizz.5.bin', 'Quizz.5.score', 'Intro.MOOC', 'Prez.sem.1', 'S1.L1', 'S1.L2', 'S1.L3', 'S1.L4', 'S1.L5', 'S1.L6', 'Prez.sem.2', 'S2.L1', 'S2.L2', 'S2.L3', 'S2.L4', 'S2.L5', 'S2.L6', 'Prez.sem.3', 'S3.L1.1', 'S3.L1.2', 'S3.L2', 'S3.L3', 'S3.L4', 'S3.L5', 'Prez.sem.4', 'S4.L1.1', 'S4.L1.2', 'S4.L2', 'S4.L3', 'S4.L4', 'S4.L5', 'Prez.sem.5', 'S5.L1.1', 'S5.L1.2', 'S5.L2', 'S5.L3', 'S5.L4', 'S5.L5', 'Post.forum.0', 'view.forum.0', 'Post.forum.1', 'Post.forum.1.2', 'view.forum.1', 'view.forum.1.2', 'Post.forum.2', 'Post.forum.2.2', 'view.forum.2', 'view.forum.2.2', 'Post.forum.3', 'view.forum.3', 'Post.forum.4', 'Post.forum.4.2', 'view.forum.4', 'view.forum.4.2', 'Post.forum.5', 'Post.forum.5.2', 'view.forum.5', 'view.forum.5.2', 'last.video', 'last.quizz', 'Assignment.choice', 'Post.forum.fonc.cours', 'view.forum.fonc.cours', 'iteration']\n"
     ]
    }
   ],
   "source": [
    "# Affichage des noms de colonnes des tableaux obtenus :\n",
    "print(\"Colonnes de merged1 :\", merged1.columns.tolist())\n",
    "print(\"Colonnes de merged2 :\", merged2.columns.tolist())\n",
    "print(\"Colonnes de merged3 :\", merged3.columns.tolist())"
   ]
  },
  {
   "cell_type": "code",
   "execution_count": 216,
   "metadata": {},
   "outputs": [
    {
     "name": "stdout",
     "output_type": "stream",
     "text": [
      "Valeurs uniques de 'iteration' dans le dataframe merged1 : [1]\n",
      "Valeurs uniques de 'iteration' dans le dataframe merged2 : [2]\n",
      "Valeurs uniques de 'iteration' dans le dataframe merged3 : [3]\n"
     ]
    }
   ],
   "source": [
    "# Affichage des valeurs uniques dans la colonne 'iteration' :\n",
    "print(\"Valeurs uniques de 'iteration' dans le dataframe merged1 :\", merged1['iteration'].unique())\n",
    "print(\"Valeurs uniques de 'iteration' dans le dataframe merged2 :\", merged2['iteration'].unique())\n",
    "print(\"Valeurs uniques de 'iteration' dans le dataframe merged3 :\", merged3['iteration'].unique())"
   ]
  },
  {
   "cell_type": "code",
   "execution_count": 217,
   "metadata": {},
   "outputs": [
    {
     "data": {
      "text/html": [
       "<div>\n",
       "<style scoped>\n",
       "    .dataframe tbody tr th:only-of-type {\n",
       "        vertical-align: middle;\n",
       "    }\n",
       "\n",
       "    .dataframe tbody tr th {\n",
       "        vertical-align: top;\n",
       "    }\n",
       "\n",
       "    .dataframe thead th {\n",
       "        text-align: right;\n",
       "    }\n",
       "</style>\n",
       "<table border=\"1\" class=\"dataframe\">\n",
       "  <thead>\n",
       "    <tr style=\"text-align: right;\">\n",
       "      <th></th>\n",
       "      <th>Student_ID</th>\n",
       "      <th>Gender</th>\n",
       "      <th>birth.year</th>\n",
       "      <th>Country</th>\n",
       "      <th>Diploma</th>\n",
       "      <th>Formation</th>\n",
       "      <th>CSP</th>\n",
       "      <th>How.heard</th>\n",
       "      <th>Exp.crea</th>\n",
       "      <th>Curiosity.MOOC</th>\n",
       "      <th>...</th>\n",
       "      <th>Mot</th>\n",
       "      <th>EMLyon</th>\n",
       "      <th>Proba.reco</th>\n",
       "      <th>EMLyon.et</th>\n",
       "      <th>Assignment.choice</th>\n",
       "      <th>Certif.bin</th>\n",
       "      <th>EMLYON.et</th>\n",
       "      <th>age</th>\n",
       "      <th>Post.forum.fonc.cours</th>\n",
       "      <th>view.forum.fonc.cours</th>\n",
       "    </tr>\n",
       "  </thead>\n",
       "  <tbody>\n",
       "    <tr>\n",
       "      <th>0</th>\n",
       "      <td>221.0</td>\n",
       "      <td>NaN</td>\n",
       "      <td>NaN</td>\n",
       "      <td>NaN</td>\n",
       "      <td>NaN</td>\n",
       "      <td>NaN</td>\n",
       "      <td>NaN</td>\n",
       "      <td>NaN</td>\n",
       "      <td>NaN</td>\n",
       "      <td>NaN</td>\n",
       "      <td>...</td>\n",
       "      <td>NaN</td>\n",
       "      <td>NaN</td>\n",
       "      <td>NaN</td>\n",
       "      <td>NaN</td>\n",
       "      <td>NaN</td>\n",
       "      <td>NaN</td>\n",
       "      <td>NaN</td>\n",
       "      <td>NaN</td>\n",
       "      <td>NaN</td>\n",
       "      <td>NaN</td>\n",
       "    </tr>\n",
       "    <tr>\n",
       "      <th>1</th>\n",
       "      <td>19178.0</td>\n",
       "      <td>une femme</td>\n",
       "      <td>1986.0</td>\n",
       "      <td>France</td>\n",
       "      <td>Bac+5 (Master ou équivalent)</td>\n",
       "      <td>Droit</td>\n",
       "      <td>Cadres et professions intellectuelles</td>\n",
       "      <td>par un article ou un blog sur Internet</td>\n",
       "      <td>Je n'ai aucune expérience en création d'entrep...</td>\n",
       "      <td>4.0</td>\n",
       "      <td>...</td>\n",
       "      <td>NaN</td>\n",
       "      <td>NaN</td>\n",
       "      <td>NaN</td>\n",
       "      <td>NaN</td>\n",
       "      <td>NaN</td>\n",
       "      <td>NaN</td>\n",
       "      <td>NaN</td>\n",
       "      <td>NaN</td>\n",
       "      <td>NaN</td>\n",
       "      <td>NaN</td>\n",
       "    </tr>\n",
       "    <tr>\n",
       "      <th>2</th>\n",
       "      <td>1086.0</td>\n",
       "      <td>une femme</td>\n",
       "      <td>1967.0</td>\n",
       "      <td>France</td>\n",
       "      <td>Bac+5 (Master ou équivalent)</td>\n",
       "      <td>Sciences sociales (économie\\, sciences politiq...</td>\n",
       "      <td>Artisans, commerçants, chefs d'entreprise</td>\n",
       "      <td>par une communication de l'EMLYON</td>\n",
       "      <td>Je suis en train de créer mon entreprise (phas...</td>\n",
       "      <td>2.0</td>\n",
       "      <td>...</td>\n",
       "      <td>NaN</td>\n",
       "      <td>NaN</td>\n",
       "      <td>NaN</td>\n",
       "      <td>NaN</td>\n",
       "      <td>NaN</td>\n",
       "      <td>NaN</td>\n",
       "      <td>NaN</td>\n",
       "      <td>NaN</td>\n",
       "      <td>NaN</td>\n",
       "      <td>NaN</td>\n",
       "    </tr>\n",
       "  </tbody>\n",
       "</table>\n",
       "<p>3 rows × 120 columns</p>\n",
       "</div>"
      ],
      "text/plain": [
       "   Student_ID     Gender  birth.year Country                       Diploma  \\\n",
       "0       221.0        NaN         NaN     NaN                           NaN   \n",
       "1     19178.0  une femme      1986.0  France  Bac+5 (Master ou équivalent)   \n",
       "2      1086.0  une femme      1967.0  France  Bac+5 (Master ou équivalent)   \n",
       "\n",
       "                                           Formation  \\\n",
       "0                                                NaN   \n",
       "1                                              Droit   \n",
       "2  Sciences sociales (économie\\, sciences politiq...   \n",
       "\n",
       "                                         CSP  \\\n",
       "0                                        NaN   \n",
       "1      Cadres et professions intellectuelles   \n",
       "2  Artisans, commerçants, chefs d'entreprise   \n",
       "\n",
       "                                How.heard  \\\n",
       "0                                     NaN   \n",
       "1  par un article ou un blog sur Internet   \n",
       "2       par une communication de l'EMLYON   \n",
       "\n",
       "                                            Exp.crea Curiosity.MOOC  ...  Mot  \\\n",
       "0                                                NaN            NaN  ...  NaN   \n",
       "1  Je n'ai aucune expérience en création d'entrep...            4.0  ...  NaN   \n",
       "2  Je suis en train de créer mon entreprise (phas...            2.0  ...  NaN   \n",
       "\n",
       "  EMLyon  Proba.reco  EMLyon.et Assignment.choice Certif.bin  EMLYON.et age  \\\n",
       "0    NaN         NaN        NaN               NaN        NaN        NaN NaN   \n",
       "1    NaN         NaN        NaN               NaN        NaN        NaN NaN   \n",
       "2    NaN         NaN        NaN               NaN        NaN        NaN NaN   \n",
       "\n",
       "  Post.forum.fonc.cours view.forum.fonc.cours  \n",
       "0                   NaN                   NaN  \n",
       "1                   NaN                   NaN  \n",
       "2                   NaN                   NaN  \n",
       "\n",
       "[3 rows x 120 columns]"
      ]
     },
     "execution_count": 217,
     "metadata": {},
     "output_type": "execute_result"
    }
   ],
   "source": [
    "# Fusion des DataFrames de chaque itération (row bind) :\n",
    "final_merged = pd.concat([merged1, merged2, merged3], \n",
    "                         ignore_index = True, \n",
    "                         sort = False)\n",
    "final_merged.head(3)"
   ]
  },
  {
   "cell_type": "code",
   "execution_count": 218,
   "metadata": {},
   "outputs": [
    {
     "name": "stdout",
     "output_type": "stream",
     "text": [
      "['Student_ID', 'Gender', 'birth.year', 'Country', 'Diploma', 'Formation', 'CSP', 'How.heard', 'Exp.crea', 'Curiosity.MOOC', 'Certif.self.sat', 'Rencontres', 'Certif.work', 'Incitation', 'Temps.Dispo', 'Exp.MOOC', 'Completion.proba', 'Instit.brand', 'motiv.princ', 'diffic', 'encad.disp', 'How.contact', 'entour', 'entour.inter', 'Satisf', 'Eval.diffic', 'Estimated.hours', 'Part.labo', 'Plat.satisf', 'Peer.eval.relev', 'encad.diffic', 'Country_HDI', 'Country_HDI.fin', 'CSP.fin', 'Temps.dispo.fin', 'Exam.score', 'Exam.bin', 'Assignment.score', 'Assignment.bin', 'Quizz.1.score', 'Quizz.1.bin', 'Quizz.2.score', 'Quizz.2.bin', 'Quizz.3.score', 'Quizz.3.bin', 'Quizz.4.bin', 'Quizz.4.score', 'Quizz.5.bin', 'Quizz.5.score', 'Intro.MOOC', 'Prez.sem.1', 'S1.L1', 'S1.L2', 'S1.L3', 'S1.L4', 'S1.L5', 'S1.L6', 'Prez.sem.2', 'S2.L1', 'S2.L2', 'S2.L3', 'S2.L4', 'S2.L5', 'S2.L6', 'Prez.sem.3', 'S3.L1.1', 'S3.L1.2', 'S3.L2', 'S3.L3', 'S3.L4', 'S3.L5', 'Prez.sem.4', 'S4.L1.1', 'S4.L1.2', 'S4.L2', 'S4.L3', 'S4.L4', 'S4.L5', 'Prez.sem.5', 'S5.L1.1', 'S5.L1.2', 'S5.L2', 'S5.L3', 'S5.L4', 'S5.L5', 'Post.forum.0', 'view.forum.0', 'Post.forum.1', 'Post.forum.1.2', 'view.forum.1', 'view.forum.1.2', 'Post.forum.2', 'Post.forum.2.2', 'view.forum.2', 'view.forum.2.2', 'Post.forum.3', 'view.forum.3', 'Post.forum.4', 'Post.forum.4.2', 'view.forum.4', 'view.forum.4.2', 'Post.forum.5', 'Post.forum.5.2', 'view.forum.5', 'view.forum.5.2', 'last.video', 'last.quizz', 'iteration', 'Current.Score', 'Section', 'Mot', 'EMLyon', 'Proba.reco', 'EMLyon.et', 'Assignment.choice', 'Certif.bin', 'EMLYON.et', 'age', 'Post.forum.fonc.cours', 'view.forum.fonc.cours']\n"
     ]
    }
   ],
   "source": [
    "# Affichage des noms de colonnes pour le DataFrame final :\n",
    "print(final_merged.columns.tolist())"
   ]
  },
  {
   "cell_type": "code",
   "execution_count": 219,
   "metadata": {},
   "outputs": [
    {
     "data": {
      "text/html": [
       "<div>\n",
       "<style scoped>\n",
       "    .dataframe tbody tr th:only-of-type {\n",
       "        vertical-align: middle;\n",
       "    }\n",
       "\n",
       "    .dataframe tbody tr th {\n",
       "        vertical-align: top;\n",
       "    }\n",
       "\n",
       "    .dataframe thead th {\n",
       "        text-align: right;\n",
       "    }\n",
       "</style>\n",
       "<table border=\"1\" class=\"dataframe\">\n",
       "  <thead>\n",
       "    <tr style=\"text-align: right;\">\n",
       "      <th></th>\n",
       "      <th>Student_ID</th>\n",
       "      <th>Country_HDI</th>\n",
       "      <th>Gender</th>\n",
       "    </tr>\n",
       "  </thead>\n",
       "  <tbody>\n",
       "    <tr>\n",
       "      <th>0</th>\n",
       "      <td>221.0</td>\n",
       "      <td>NaN</td>\n",
       "      <td>NaN</td>\n",
       "    </tr>\n",
       "    <tr>\n",
       "      <th>1</th>\n",
       "      <td>19178.0</td>\n",
       "      <td>TH</td>\n",
       "      <td>une femme</td>\n",
       "    </tr>\n",
       "    <tr>\n",
       "      <th>2</th>\n",
       "      <td>1086.0</td>\n",
       "      <td>TH</td>\n",
       "      <td>une femme</td>\n",
       "    </tr>\n",
       "  </tbody>\n",
       "</table>\n",
       "</div>"
      ],
      "text/plain": [
       "   Student_ID Country_HDI     Gender\n",
       "0       221.0         NaN        NaN\n",
       "1     19178.0          TH  une femme\n",
       "2      1086.0          TH  une femme"
      ]
     },
     "execution_count": 219,
     "metadata": {},
     "output_type": "execute_result"
    }
   ],
   "source": [
    "# Conservation uniquement des colonnes 'Country_HDI' et 'Gender' :\n",
    "final_merged[['Student_ID', 'Country_HDI', 'Gender']].head(3)"
   ]
  },
  {
   "cell_type": "code",
   "execution_count": 220,
   "metadata": {},
   "outputs": [],
   "source": [
    "# Sélection des colonnes des vidéos :\n",
    "colonnes_video = ['S1.L1', 'S1.L2', 'S1.L3', 'S1.L4', 'S1.L5', 'S1.L6', \n",
    "                  'S2.L1', 'S2.L2', 'S2.L3', 'S2.L4', 'S2.L5', 'S2.L6',\n",
    "                  'S3.L1.1', 'S3.L1.2', 'S3.L2', 'S3.L3', 'S3.L4', 'S3.L5',\n",
    "                  'S4.L1.1', 'S4.L1.2', 'S4.L2', 'S4.L3', 'S4.L4', 'S4.L5',\n",
    "                  'S5.L1.1', 'S5.L1.2', 'S5.L2', 'S5.L3', 'S5.L4', 'S5.L5']"
   ]
  },
  {
   "cell_type": "code",
   "execution_count": 221,
   "metadata": {},
   "outputs": [],
   "source": [
    "# Sélection des colonnes des quiz :\n",
    "colonnes_quiz = ['Quizz.1.bin', \n",
    "                 'Quizz.2.bin', \n",
    "                 'Quizz.3.bin', \n",
    "                 'Quizz.4.bin', \n",
    "                 'Quizz.5.bin']"
   ]
  },
  {
   "cell_type": "code",
   "execution_count": 222,
   "metadata": {},
   "outputs": [],
   "source": [
    "# Calcul de la somme des vidéos vues pour chaque étudiant :\n",
    "final_merged = final_merged.copy()\n",
    "final_merged['videos_vues'] = final_merged[colonnes_video].sum(axis = 1, skipna = True)"
   ]
  },
  {
   "cell_type": "code",
   "execution_count": 223,
   "metadata": {},
   "outputs": [],
   "source": [
    "# Calcul de la somme des quiz réalisés pour chaque étudiant :\n",
    "final_merged['quiz_realises'] = final_merged[colonnes_quiz].sum(axis = 1, skipna = True)"
   ]
  },
  {
   "cell_type": "code",
   "execution_count": 224,
   "metadata": {},
   "outputs": [
    {
     "data": {
      "text/html": [
       "<div>\n",
       "<style scoped>\n",
       "    .dataframe tbody tr th:only-of-type {\n",
       "        vertical-align: middle;\n",
       "    }\n",
       "\n",
       "    .dataframe tbody tr th {\n",
       "        vertical-align: top;\n",
       "    }\n",
       "\n",
       "    .dataframe thead th {\n",
       "        text-align: right;\n",
       "    }\n",
       "</style>\n",
       "<table border=\"1\" class=\"dataframe\">\n",
       "  <thead>\n",
       "    <tr style=\"text-align: right;\">\n",
       "      <th></th>\n",
       "      <th>Student_ID</th>\n",
       "      <th>Country_HDI</th>\n",
       "      <th>Gender</th>\n",
       "      <th>videos_vues</th>\n",
       "      <th>quiz_realises</th>\n",
       "    </tr>\n",
       "  </thead>\n",
       "  <tbody>\n",
       "    <tr>\n",
       "      <th>0</th>\n",
       "      <td>221.0</td>\n",
       "      <td>NaN</td>\n",
       "      <td>NaN</td>\n",
       "      <td>0.0</td>\n",
       "      <td>0.0</td>\n",
       "    </tr>\n",
       "    <tr>\n",
       "      <th>1</th>\n",
       "      <td>19178.0</td>\n",
       "      <td>TH</td>\n",
       "      <td>une femme</td>\n",
       "      <td>1.0</td>\n",
       "      <td>0.0</td>\n",
       "    </tr>\n",
       "    <tr>\n",
       "      <th>2</th>\n",
       "      <td>1086.0</td>\n",
       "      <td>TH</td>\n",
       "      <td>une femme</td>\n",
       "      <td>30.0</td>\n",
       "      <td>4.0</td>\n",
       "    </tr>\n",
       "  </tbody>\n",
       "</table>\n",
       "</div>"
      ],
      "text/plain": [
       "   Student_ID Country_HDI     Gender  videos_vues  quiz_realises\n",
       "0       221.0         NaN        NaN          0.0            0.0\n",
       "1     19178.0          TH  une femme          1.0            0.0\n",
       "2      1086.0          TH  une femme         30.0            4.0"
      ]
     },
     "execution_count": 224,
     "metadata": {},
     "output_type": "execute_result"
    }
   ],
   "source": [
    "# Sélection des colonnes du dataframe 'final_merged' :\n",
    "final_merged[['Student_ID', 'Country_HDI', 'Gender', 'videos_vues', 'quiz_realises']].head(3)"
   ]
  },
  {
   "cell_type": "code",
   "execution_count": 225,
   "metadata": {},
   "outputs": [
    {
     "data": {
      "text/plain": [
       "Country_HDI\n",
       "TH    7270\n",
       "B     1032\n",
       "H      354\n",
       "M      313\n",
       "Name: count, dtype: int64"
      ]
     },
     "execution_count": 225,
     "metadata": {},
     "output_type": "execute_result"
    }
   ],
   "source": [
    "# Décompte des occurrences de chaque catégorie dans'Country_HDI' :\n",
    "hdi_counts = final_merged['Country_HDI'].value_counts()\n",
    "hdi_counts"
   ]
  },
  {
   "cell_type": "code",
   "execution_count": 226,
   "metadata": {},
   "outputs": [
    {
     "data": {
      "text/html": [
       "<div>\n",
       "<style scoped>\n",
       "    .dataframe tbody tr th:only-of-type {\n",
       "        vertical-align: middle;\n",
       "    }\n",
       "\n",
       "    .dataframe tbody tr th {\n",
       "        vertical-align: top;\n",
       "    }\n",
       "\n",
       "    .dataframe thead th {\n",
       "        text-align: right;\n",
       "    }\n",
       "</style>\n",
       "<table border=\"1\" class=\"dataframe\">\n",
       "  <thead>\n",
       "    <tr style=\"text-align: right;\">\n",
       "      <th></th>\n",
       "      <th>Student_ID</th>\n",
       "      <th>HDI_grouped</th>\n",
       "      <th>Gender</th>\n",
       "      <th>videos_vues</th>\n",
       "      <th>quiz_realises</th>\n",
       "    </tr>\n",
       "  </thead>\n",
       "  <tbody>\n",
       "    <tr>\n",
       "      <th>0</th>\n",
       "      <td>221.0</td>\n",
       "      <td>NaN</td>\n",
       "      <td>NaN</td>\n",
       "      <td>0.0</td>\n",
       "      <td>0.0</td>\n",
       "    </tr>\n",
       "    <tr>\n",
       "      <th>1</th>\n",
       "      <td>19178.0</td>\n",
       "      <td>TH</td>\n",
       "      <td>une femme</td>\n",
       "      <td>1.0</td>\n",
       "      <td>0.0</td>\n",
       "    </tr>\n",
       "    <tr>\n",
       "      <th>2</th>\n",
       "      <td>1086.0</td>\n",
       "      <td>TH</td>\n",
       "      <td>une femme</td>\n",
       "      <td>30.0</td>\n",
       "      <td>4.0</td>\n",
       "    </tr>\n",
       "  </tbody>\n",
       "</table>\n",
       "</div>"
      ],
      "text/plain": [
       "   Student_ID HDI_grouped     Gender  videos_vues  quiz_realises\n",
       "0       221.0         NaN        NaN          0.0            0.0\n",
       "1     19178.0          TH  une femme          1.0            0.0\n",
       "2      1086.0          TH  une femme         30.0            4.0"
      ]
     },
     "execution_count": 226,
     "metadata": {},
     "output_type": "execute_result"
    }
   ],
   "source": [
    "# Création d'une nouvelle colonne 'HDI_grouped' où M et H sont regroupés sous 'I' :\n",
    "final_merged['HDI_grouped'] = final_merged['Country_HDI'].replace({'M': 'I',\n",
    "                                                                   'H': 'I',\n",
    "                                                                   'B': 'B',\n",
    "                                                                   'TH': 'TH'})\n",
    "\n",
    "# Affichage du tableau simplifié :\n",
    "final_merged[['Student_ID', 'HDI_grouped', 'Gender', 'videos_vues', 'quiz_realises']].head(3)"
   ]
  },
  {
   "cell_type": "code",
   "execution_count": 227,
   "metadata": {},
   "outputs": [
    {
     "data": {
      "text/plain": [
       "HDI_grouped\n",
       "TH    7270\n",
       "B     1032\n",
       "I      667\n",
       "Name: count, dtype: int64"
      ]
     },
     "execution_count": 227,
     "metadata": {},
     "output_type": "execute_result"
    }
   ],
   "source": [
    "# Décompte du nombre d'occurrences dans la nouvelle colonne 'HDI_grouped' :\n",
    "new_hdi_counts = final_merged['HDI_grouped'].value_counts()\n",
    "new_hdi_counts"
   ]
  },
  {
   "cell_type": "code",
   "execution_count": 228,
   "metadata": {},
   "outputs": [
    {
     "data": {
      "image/png": "[encoded data removed]",
      "text/plain": [
       "<Figure size 500x500 with 1 Axes>"
      ]
     },
     "metadata": {},
     "output_type": "display_data"
    }
   ],
   "source": [
    "# Création de la figure :\n",
    "plt.figure(figsize = (5, 5))\n",
    "\n",
    "# Création du barplot :\n",
    "new_hdi_counts.plot(kind = 'bar', \n",
    "                    color = 'orange', \n",
    "                    alpha = 0.8, \n",
    "                    edgecolor = 'white', \n",
    "                    width = 0.6)\n",
    "\n",
    "# Ajout d'un titre au graphique :\n",
    "plt.title(\"Distribution des apprenants par niveaux d'IDH\", \n",
    "          fontsize = 13, \n",
    "          pad = 15)\n",
    "\n",
    "# Personnalisation des axes :\n",
    "plt.xlabel(\"IDH\")\n",
    "plt.ylabel(\"Nombre d'apprenants\")\n",
    "\n",
    "# Personnalisation des graduations de l'axe des x :\n",
    "plt.xticks(rotation = 0)\n",
    "\n",
    "# Affichage du graphique :\n",
    "plt.show()"
   ]
  },
  {
   "cell_type": "markdown",
   "metadata": {},
   "source": [
    "### 3.2. Une taxonomie d'apprenants"
   ]
  },
  {
   "cell_type": "code",
   "execution_count": 229,
   "metadata": {},
   "outputs": [
    {
     "data": {
      "text/html": [
       "<div>\n",
       "<style scoped>\n",
       "    .dataframe tbody tr th:only-of-type {\n",
       "        vertical-align: middle;\n",
       "    }\n",
       "\n",
       "    .dataframe tbody tr th {\n",
       "        vertical-align: top;\n",
       "    }\n",
       "\n",
       "    .dataframe thead th {\n",
       "        text-align: right;\n",
       "    }\n",
       "</style>\n",
       "<table border=\"1\" class=\"dataframe\">\n",
       "  <thead>\n",
       "    <tr style=\"text-align: right;\">\n",
       "      <th></th>\n",
       "      <th>Student_ID</th>\n",
       "      <th>HDI_grouped</th>\n",
       "      <th>Gender</th>\n",
       "      <th>videos_vues</th>\n",
       "      <th>quiz_realises</th>\n",
       "      <th>Assignment.bin</th>\n",
       "      <th>Exam.bin</th>\n",
       "      <th>Complete.bin</th>\n",
       "    </tr>\n",
       "  </thead>\n",
       "  <tbody>\n",
       "    <tr>\n",
       "      <th>0</th>\n",
       "      <td>221.0</td>\n",
       "      <td>NaN</td>\n",
       "      <td>NaN</td>\n",
       "      <td>0.0</td>\n",
       "      <td>0.0</td>\n",
       "      <td>0.0</td>\n",
       "      <td>0.0</td>\n",
       "      <td>0</td>\n",
       "    </tr>\n",
       "    <tr>\n",
       "      <th>1</th>\n",
       "      <td>19178.0</td>\n",
       "      <td>TH</td>\n",
       "      <td>une femme</td>\n",
       "      <td>1.0</td>\n",
       "      <td>0.0</td>\n",
       "      <td>0.0</td>\n",
       "      <td>0.0</td>\n",
       "      <td>0</td>\n",
       "    </tr>\n",
       "    <tr>\n",
       "      <th>2</th>\n",
       "      <td>1086.0</td>\n",
       "      <td>TH</td>\n",
       "      <td>une femme</td>\n",
       "      <td>30.0</td>\n",
       "      <td>4.0</td>\n",
       "      <td>0.0</td>\n",
       "      <td>0.0</td>\n",
       "      <td>0</td>\n",
       "    </tr>\n",
       "  </tbody>\n",
       "</table>\n",
       "</div>"
      ],
      "text/plain": [
       "   Student_ID HDI_grouped     Gender  videos_vues  quiz_realises  \\\n",
       "0       221.0         NaN        NaN          0.0            0.0   \n",
       "1     19178.0          TH  une femme          1.0            0.0   \n",
       "2      1086.0          TH  une femme         30.0            4.0   \n",
       "\n",
       "   Assignment.bin  Exam.bin  Complete.bin  \n",
       "0             0.0       0.0             0  \n",
       "1             0.0       0.0             0  \n",
       "2             0.0       0.0             0  "
      ]
     },
     "execution_count": 229,
     "metadata": {},
     "output_type": "execute_result"
    }
   ],
   "source": [
    "# Création de la variable 'Complete.bin' :\n",
    "final_merged['Complete.bin'] = np.where((final_merged['Exam.bin'] == 1) | (final_merged['Assignment.bin'] == 1), 1, 0)\n",
    "final_merged[['Student_ID', \n",
    "              'HDI_grouped', \n",
    "              'Gender', \n",
    "              'videos_vues', \n",
    "              'quiz_realises', \n",
    "              'Assignment.bin', \n",
    "              'Exam.bin', \n",
    "              'Complete.bin']].head(3)"
   ]
  },
  {
   "cell_type": "code",
   "execution_count": 230,
   "metadata": {},
   "outputs": [],
   "source": [
    "# Création de la condition pour attribuer 'Completer' :\n",
    "final_merged.loc[final_merged['Complete.bin'] == 1, 'Learner.type'] = 'Completer'"
   ]
  },
  {
   "cell_type": "code",
   "execution_count": 231,
   "metadata": {},
   "outputs": [],
   "source": [
    "# Création de la condition pour attribuer 'Disengaging' :\n",
    "final_merged.loc[(final_merged['Complete.bin'] == 0) & (final_merged['Quizz.1.bin'] >= 1), 'Learner.type'] = 'Disengaging'"
   ]
  },
  {
   "cell_type": "code",
   "execution_count": 232,
   "metadata": {},
   "outputs": [],
   "source": [
    "# Création de la condition pour attribuer 'Auditing' :\n",
    "final_merged.loc[(final_merged['Assignment.bin'] == 0) & \n",
    "                 (final_merged['quiz_realises'] == 0) & \n",
    "                 (final_merged['videos_vues'] >= 6), 'Learner.type'] = 'Auditing'"
   ]
  },
  {
   "cell_type": "code",
   "execution_count": 233,
   "metadata": {},
   "outputs": [],
   "source": [
    "# Création de la condition pour attribuer 'Bystander' :\n",
    "final_merged.loc[(final_merged['Assignment.bin'] == 0) & \n",
    "                 (final_merged['quiz_realises'] == 0) & \n",
    "                 (final_merged['videos_vues'] < 6), 'Learner.type'] = 'Bystander'"
   ]
  },
  {
   "cell_type": "code",
   "execution_count": 234,
   "metadata": {},
   "outputs": [
    {
     "name": "stdout",
     "output_type": "stream",
     "text": [
      "[nan  1.  0.]\n"
     ]
    }
   ],
   "source": [
    "# Affichage des valeurs uniques dans la colonne 'Certif.bin' :\n",
    "print(final_merged['Certif.bin'].unique())"
   ]
  },
  {
   "cell_type": "code",
   "execution_count": 235,
   "metadata": {},
   "outputs": [
    {
     "data": {
      "text/plain": [
       "Certif.bin\n",
       "NaN    0.78\n",
       "0.0    0.18\n",
       "1.0    0.04\n",
       "Name: proportion, dtype: float64"
      ]
     },
     "execution_count": 235,
     "metadata": {},
     "output_type": "execute_result"
    }
   ],
   "source": [
    "# Proportion des valeurs uniques dans la colonne 'Certif.bin' :\n",
    "proportions = final_merged['Certif.bin'].value_counts(normalize = True, dropna = False)\n",
    "\n",
    "# Arrondir les proportions à 2 décimales :\n",
    "proportions = proportions.round(2)\n",
    "proportions"
   ]
  },
  {
   "cell_type": "code",
   "execution_count": 236,
   "metadata": {},
   "outputs": [],
   "source": [
    "# Création de la variable 'Exam_certif' (=obtention du certificat et/ou réalisation de l’examen final):\n",
    "final_merged['Exam_Certif.bin'] = np.where((final_merged['Exam.bin'] == 1) | (final_merged['Certif.bin'] == 1), 1, 0)\n",
    "final_merged['Exam_Certif.bin'] = np.where((final_merged['Exam.bin'] == 1) | (final_merged['Certif.bin'] == 1),1, np.where(final_merged['Certif.bin'].isna() & (final_merged['Exam.bin'] == 0), np.nan, 0))"
   ]
  },
  {
   "cell_type": "code",
   "execution_count": 237,
   "metadata": {},
   "outputs": [
    {
     "data": {
      "text/html": [
       "<div>\n",
       "<style scoped>\n",
       "    .dataframe tbody tr th:only-of-type {\n",
       "        vertical-align: middle;\n",
       "    }\n",
       "\n",
       "    .dataframe tbody tr th {\n",
       "        vertical-align: top;\n",
       "    }\n",
       "\n",
       "    .dataframe thead th {\n",
       "        text-align: right;\n",
       "    }\n",
       "</style>\n",
       "<table border=\"1\" class=\"dataframe\">\n",
       "  <thead>\n",
       "    <tr style=\"text-align: right;\">\n",
       "      <th></th>\n",
       "      <th>Student_ID</th>\n",
       "      <th>HDI_grouped</th>\n",
       "      <th>Gender</th>\n",
       "      <th>videos_vues</th>\n",
       "      <th>quiz_realises</th>\n",
       "      <th>Exam.bin</th>\n",
       "      <th>Assignment.bin</th>\n",
       "      <th>Complete.bin</th>\n",
       "      <th>Exam_Certif.bin</th>\n",
       "      <th>Learner.type</th>\n",
       "      <th>iteration</th>\n",
       "    </tr>\n",
       "  </thead>\n",
       "  <tbody>\n",
       "    <tr>\n",
       "      <th>0</th>\n",
       "      <td>221.0</td>\n",
       "      <td>NaN</td>\n",
       "      <td>NaN</td>\n",
       "      <td>0.0</td>\n",
       "      <td>0.0</td>\n",
       "      <td>0.0</td>\n",
       "      <td>0.0</td>\n",
       "      <td>0</td>\n",
       "      <td>NaN</td>\n",
       "      <td>Bystander</td>\n",
       "      <td>1</td>\n",
       "    </tr>\n",
       "    <tr>\n",
       "      <th>1</th>\n",
       "      <td>19178.0</td>\n",
       "      <td>TH</td>\n",
       "      <td>une femme</td>\n",
       "      <td>1.0</td>\n",
       "      <td>0.0</td>\n",
       "      <td>0.0</td>\n",
       "      <td>0.0</td>\n",
       "      <td>0</td>\n",
       "      <td>NaN</td>\n",
       "      <td>Bystander</td>\n",
       "      <td>1</td>\n",
       "    </tr>\n",
       "    <tr>\n",
       "      <th>2</th>\n",
       "      <td>1086.0</td>\n",
       "      <td>TH</td>\n",
       "      <td>une femme</td>\n",
       "      <td>30.0</td>\n",
       "      <td>4.0</td>\n",
       "      <td>0.0</td>\n",
       "      <td>0.0</td>\n",
       "      <td>0</td>\n",
       "      <td>NaN</td>\n",
       "      <td>Disengaging</td>\n",
       "      <td>1</td>\n",
       "    </tr>\n",
       "    <tr>\n",
       "      <th>3</th>\n",
       "      <td>1948.0</td>\n",
       "      <td>TH</td>\n",
       "      <td>une femme</td>\n",
       "      <td>1.0</td>\n",
       "      <td>0.0</td>\n",
       "      <td>0.0</td>\n",
       "      <td>0.0</td>\n",
       "      <td>0</td>\n",
       "      <td>NaN</td>\n",
       "      <td>Bystander</td>\n",
       "      <td>1</td>\n",
       "    </tr>\n",
       "    <tr>\n",
       "      <th>4</th>\n",
       "      <td>16209.0</td>\n",
       "      <td>B</td>\n",
       "      <td>une femme</td>\n",
       "      <td>0.0</td>\n",
       "      <td>5.0</td>\n",
       "      <td>0.0</td>\n",
       "      <td>0.0</td>\n",
       "      <td>0</td>\n",
       "      <td>NaN</td>\n",
       "      <td>Disengaging</td>\n",
       "      <td>1</td>\n",
       "    </tr>\n",
       "  </tbody>\n",
       "</table>\n",
       "</div>"
      ],
      "text/plain": [
       "   Student_ID HDI_grouped     Gender  videos_vues  quiz_realises  Exam.bin  \\\n",
       "0       221.0         NaN        NaN          0.0            0.0       0.0   \n",
       "1     19178.0          TH  une femme          1.0            0.0       0.0   \n",
       "2      1086.0          TH  une femme         30.0            4.0       0.0   \n",
       "3      1948.0          TH  une femme          1.0            0.0       0.0   \n",
       "4     16209.0           B  une femme          0.0            5.0       0.0   \n",
       "\n",
       "   Assignment.bin  Complete.bin  Exam_Certif.bin Learner.type  iteration  \n",
       "0             0.0             0              NaN    Bystander          1  \n",
       "1             0.0             0              NaN    Bystander          1  \n",
       "2             0.0             0              NaN  Disengaging          1  \n",
       "3             0.0             0              NaN    Bystander          1  \n",
       "4             0.0             0              NaN  Disengaging          1  "
      ]
     },
     "execution_count": 237,
     "metadata": {},
     "output_type": "execute_result"
    }
   ],
   "source": [
    "# Vérification du résultat obtenu :\n",
    "resultats_MOOC = final_merged[['Student_ID', \n",
    "                               'HDI_grouped', \n",
    "                               'Gender', \n",
    "                               'videos_vues', \n",
    "                               'quiz_realises', \n",
    "                               'Exam.bin', \n",
    "                               'Assignment.bin', \n",
    "                               'Complete.bin', \n",
    "                               'Exam_Certif.bin', \n",
    "                               'Learner.type', \n",
    "                               'iteration']]\n",
    "resultats_MOOC.head(5)"
   ]
  },
  {
   "cell_type": "code",
   "execution_count": 238,
   "metadata": {},
   "outputs": [
    {
     "name": "stdout",
     "output_type": "stream",
     "text": [
      "<class 'pandas.core.frame.DataFrame'>\n",
      "RangeIndex: 17297 entries, 0 to 17296\n",
      "Data columns (total 11 columns):\n",
      " #   Column           Non-Null Count  Dtype  \n",
      "---  ------           --------------  -----  \n",
      " 0   Student_ID       16947 non-null  float64\n",
      " 1   HDI_grouped      8969 non-null   object \n",
      " 2   Gender           9099 non-null   object \n",
      " 3   videos_vues      17297 non-null  float64\n",
      " 4   quiz_realises    17297 non-null  float64\n",
      " 5   Exam.bin         15182 non-null  float64\n",
      " 6   Assignment.bin   15182 non-null  float64\n",
      " 7   Complete.bin     17297 non-null  int64  \n",
      " 8   Exam_Certif.bin  6526 non-null   float64\n",
      " 9   Learner.type     15119 non-null  object \n",
      " 10  iteration        17297 non-null  int64  \n",
      "dtypes: float64(6), int64(2), object(3)\n",
      "memory usage: 1.5+ MB\n",
      "None\n"
     ]
    }
   ],
   "source": [
    "# Affichage des informations sur le tableau :\n",
    "print(resultats_MOOC.info())"
   ]
  },
  {
   "cell_type": "code",
   "execution_count": 239,
   "metadata": {},
   "outputs": [
    {
     "name": "stdout",
     "output_type": "stream",
     "text": [
      "Nombre de lignes : 17297\n"
     ]
    }
   ],
   "source": [
    "# Affichage du nombre de lignes :\n",
    "print(f\"Nombre de lignes : {resultats_MOOC.shape[0]}\")"
   ]
  },
  {
   "cell_type": "code",
   "execution_count": 240,
   "metadata": {},
   "outputs": [
    {
     "name": "stdout",
     "output_type": "stream",
     "text": [
      "Student_ID          2.0\n",
      "HDI_grouped        48.0\n",
      "Gender             47.0\n",
      "videos_vues         0.0\n",
      "quiz_realises       0.0\n",
      "Exam.bin           12.0\n",
      "Assignment.bin     12.0\n",
      "Complete.bin        0.0\n",
      "Exam_Certif.bin    62.0\n",
      "Learner.type       13.0\n",
      "iteration           0.0\n",
      "dtype: float64\n"
     ]
    }
   ],
   "source": [
    "# Calcul du pourcentage de données manquantes\n",
    "missing_percentage = resultats_MOOC.isnull().mean() * 100\n",
    "\n",
    "# Affichage des résultats\n",
    "print(missing_percentage.round(0))"
   ]
  },
  {
   "cell_type": "code",
   "execution_count": 241,
   "metadata": {},
   "outputs": [],
   "source": [
    "# Tri du dataframe resultats_MOOC sur 'HDI_grouped' :\n",
    "resultats_MOOC_sorted = resultats_MOOC.sort_values('HDI_grouped')"
   ]
  },
  {
   "cell_type": "code",
   "execution_count": 242,
   "metadata": {},
   "outputs": [
    {
     "data": {
      "image/png": "[encoded data removed]",
      "text/plain": [
       "<Figure size 2500x1000 with 2 Axes>"
      ]
     },
     "metadata": {},
     "output_type": "display_data"
    }
   ],
   "source": [
    "# Affichage de la matrice de nullité :\n",
    "msno.matrix(resultats_MOOC_sorted)\n",
    "\n",
    "# Affichage du graphique :\n",
    "plt.show()"
   ]
  },
  {
   "cell_type": "code",
   "execution_count": 243,
   "metadata": {},
   "outputs": [],
   "source": [
    "# Suppression des lignes où la valeur de 'HDI_grouped' est manquante :\n",
    "resultats_MOOC = resultats_MOOC_sorted.dropna(subset = ['HDI_grouped'])"
   ]
  },
  {
   "cell_type": "code",
   "execution_count": 244,
   "metadata": {},
   "outputs": [
    {
     "name": "stdout",
     "output_type": "stream",
     "text": [
      "Le nombre de valeurs manquantes pour chaque colonne est :\n",
      "Student_ID            0\n",
      "HDI_grouped           0\n",
      "Gender               12\n",
      "videos_vues           0\n",
      "quiz_realises         0\n",
      "Exam.bin              6\n",
      "Assignment.bin        6\n",
      "Complete.bin          0\n",
      "Exam_Certif.bin    6538\n",
      "Learner.type         33\n",
      "iteration             0\n",
      "dtype: int64\n"
     ]
    }
   ],
   "source": [
    "# Calcul du nombre de valeurs manquantes pour chaque colonne :\n",
    "missing_values_count = resultats_MOOC.isnull().sum()\n",
    "\n",
    "# Affichage du nombre de valeurs manquantes :\n",
    "print(f\"Le nombre de valeurs manquantes pour chaque colonne est :\\n{missing_values_count}\")"
   ]
  },
  {
   "cell_type": "code",
   "execution_count": 245,
   "metadata": {},
   "outputs": [],
   "source": [
    "# Suppression des lignes où la colonne 'Gender' contient des valeurs NaN :\n",
    "resultats_MOOC = resultats_MOOC.dropna(subset = ['Gender'])\n",
    "resultats_MOOC = resultats_MOOC.dropna(subset = ['Learner.type'])"
   ]
  },
  {
   "cell_type": "code",
   "execution_count": 246,
   "metadata": {},
   "outputs": [
    {
     "name": "stdout",
     "output_type": "stream",
     "text": [
      "Nombre de lignes : 8924\n"
     ]
    }
   ],
   "source": [
    "# Affichage du nombre de lignes :\n",
    "print(f\"Nombre de lignes : {resultats_MOOC.shape[0]}\")"
   ]
  },
  {
   "cell_type": "code",
   "execution_count": 247,
   "metadata": {},
   "outputs": [
    {
     "name": "stdout",
     "output_type": "stream",
     "text": [
      "Le nombre de valeurs manquantes pour chaque colonne est :\n",
      "Student_ID            0\n",
      "HDI_grouped           0\n",
      "Gender                0\n",
      "videos_vues           0\n",
      "quiz_realises         0\n",
      "Exam.bin              0\n",
      "Assignment.bin        0\n",
      "Complete.bin          0\n",
      "Exam_Certif.bin    6506\n",
      "Learner.type          0\n",
      "iteration             0\n",
      "dtype: int64\n"
     ]
    }
   ],
   "source": [
    "# Calcul du nombre de valeurs manquantes pour chaque colonne :\n",
    "missing_values_count = resultats_MOOC.isnull().sum()\n",
    "\n",
    "# Affichage du nombre de valeurs manquantes :\n",
    "print(f\"Le nombre de valeurs manquantes pour chaque colonne est :\\n{missing_values_count}\")"
   ]
  },
  {
   "cell_type": "markdown",
   "metadata": {},
   "source": [
    "> Le nombre de valeurs manquantes dans la colonne 'Exam_Certif.bin' est trop élevé pour envisager une suppression.\n",
    "\n",
    "> Lors de l'utilisation de cette variable spécifique, le tableau sera filtré pour s'appliquer sur une plus petite portion de l'échantillon."
   ]
  },
  {
   "cell_type": "code",
   "execution_count": 248,
   "metadata": {},
   "outputs": [],
   "source": [
    "# Recherche des doublons complets dans toutes les colonnes :\n",
    "duplicates_in_full_row = resultats_MOOC[resultats_MOOC.duplicated(keep = False)]"
   ]
  },
  {
   "cell_type": "code",
   "execution_count": 249,
   "metadata": {},
   "outputs": [
    {
     "name": "stdout",
     "output_type": "stream",
     "text": [
      "Le nombre de doublons complets est de : 0\n"
     ]
    }
   ],
   "source": [
    "# Affichage du nombre de doublons complets :\n",
    "num_duplicates = duplicates_in_full_row.shape[0]\n",
    "print(f\"Le nombre de doublons complets est de : {num_duplicates}\")"
   ]
  },
  {
   "cell_type": "code",
   "execution_count": 250,
   "metadata": {},
   "outputs": [
    {
     "name": "stdout",
     "output_type": "stream",
     "text": [
      "Student_ID         float64\n",
      "HDI_grouped         object\n",
      "Gender              object\n",
      "videos_vues        float64\n",
      "quiz_realises      float64\n",
      "Exam.bin           float64\n",
      "Assignment.bin     float64\n",
      "Complete.bin         int64\n",
      "Exam_Certif.bin    float64\n",
      "Learner.type        object\n",
      "iteration            int64\n",
      "dtype: object\n"
     ]
    }
   ],
   "source": [
    "# Vérification des types de données des colonnes :\n",
    "print(resultats_MOOC.dtypes)"
   ]
  },
  {
   "cell_type": "code",
   "execution_count": 251,
   "metadata": {},
   "outputs": [],
   "source": [
    "# Vérification si des valeurs dans 'Student_ID' ont un chiffre après la virgule :\n",
    "has_decimal_part = resultats_MOOC['Student_ID'] % 1 != 0"
   ]
  },
  {
   "cell_type": "code",
   "execution_count": 252,
   "metadata": {},
   "outputs": [
    {
     "name": "stdout",
     "output_type": "stream",
     "text": [
      "Le nombre de valeurs dont le chiffre après la virgule diffère de 0 est : 0\n"
     ]
    }
   ],
   "source": [
    "# Calcul du nombre de valeurs avec un chiffre après la virgule :\n",
    "num_values_with_decimal = has_decimal_part.sum()\n",
    "print(f\"Le nombre de valeurs dont le chiffre après la virgule diffère de 0 est : {num_values_with_decimal}\")"
   ]
  },
  {
   "cell_type": "code",
   "execution_count": 253,
   "metadata": {},
   "outputs": [],
   "source": [
    "# Conversion de la colonne 'Student_ID' en type entier :\n",
    "resultats_MOOC['Student_ID'] = resultats_MOOC['Student_ID'].astype(int)"
   ]
  },
  {
   "cell_type": "code",
   "execution_count": 254,
   "metadata": {},
   "outputs": [
    {
     "name": "stdout",
     "output_type": "stream",
     "text": [
      "Les valeurs uniques prises par 'videos_vues' sont : [ 0.  1.  4.  6.  2.  3. 13. 11.  7.  9.  8. 24. 30. 18. 25. 26. 29. 16.\n",
      " 12. 19.  5. 21. 20. 10. 28. 17. 15. 23. 14. 27. 22.]\n",
      "Les valeurs uniques prises par 'quiz_realises' sont : [5. 0. 3. 1. 2. 4.]\n",
      "Les valeurs uniques prises par 'Exam.bin' sont : [0. 1.]\n",
      "Les valeurs uniques prises par 'Assignment.bin' sont : [1. 0.]\n",
      "Les valeurs uniques prises par 'HDI_grouped' sont : ['B' 'I' 'TH']\n",
      "Les valeurs uniques prises par 'Gender' sont : ['un homme' 'une femme']\n",
      "Les valeurs uniques prises par 'Learner.type' sont : ['Completer' 'Bystander' 'Disengaging' 'Auditing']\n",
      "Les valeurs uniques prises par 'iteration' sont : [1 3 2]\n"
     ]
    }
   ],
   "source": [
    "# Affichage des valeurs uniques des différentes colonnes :\n",
    "print(\"Les valeurs uniques prises par 'videos_vues' sont :\", resultats_MOOC['videos_vues'].unique())\n",
    "print(\"Les valeurs uniques prises par 'quiz_realises' sont :\", resultats_MOOC['quiz_realises'].unique())\n",
    "print(\"Les valeurs uniques prises par 'Exam.bin' sont :\", resultats_MOOC['Exam.bin'].unique())\n",
    "print(\"Les valeurs uniques prises par 'Assignment.bin' sont :\", resultats_MOOC['Assignment.bin'].unique())\n",
    "print(\"Les valeurs uniques prises par 'HDI_grouped' sont :\", resultats_MOOC['HDI_grouped'].unique())\n",
    "print(\"Les valeurs uniques prises par 'Gender' sont :\", resultats_MOOC['Gender'].unique())\n",
    "print(\"Les valeurs uniques prises par 'Learner.type' sont :\", resultats_MOOC['Learner.type'].unique())\n",
    "print(\"Les valeurs uniques prises par 'iteration' sont :\", resultats_MOOC['iteration'].unique())"
   ]
  },
  {
   "cell_type": "code",
   "execution_count": 255,
   "metadata": {},
   "outputs": [],
   "source": [
    "# Remplacement des valeurs de la colonne 'Gender' :\n",
    "resultats_MOOC['Gender'] = resultats_MOOC['Gender'].replace({'un homme': 'Homme', \n",
    "                                                             'une femme': 'Femme'})"
   ]
  },
  {
   "cell_type": "code",
   "execution_count": 256,
   "metadata": {},
   "outputs": [],
   "source": [
    "# Conversion de la colonne 'Learner.type' en type 'catégorie' :\n",
    "resultats_MOOC['Learner.type'] = resultats_MOOC['Learner.type'].astype('category')"
   ]
  },
  {
   "cell_type": "code",
   "execution_count": 257,
   "metadata": {},
   "outputs": [],
   "source": [
    "# Conversion de la colonne 'videos_vues' en type 'integer' :\n",
    "resultats_MOOC['videos_vues'] = resultats_MOOC['videos_vues'].astype(int)"
   ]
  },
  {
   "cell_type": "code",
   "execution_count": 258,
   "metadata": {},
   "outputs": [],
   "source": [
    "# Conversion de la colonne 'quiz_realises' en type 'integer' :\n",
    "resultats_MOOC['quiz_realises'] = resultats_MOOC['quiz_realises'].astype(int)"
   ]
  },
  {
   "cell_type": "code",
   "execution_count": 259,
   "metadata": {},
   "outputs": [],
   "source": [
    "# Conversion de la colonne 'Exam.bin' en type 'integer' :\n",
    "resultats_MOOC['Exam.bin'] = resultats_MOOC['Exam.bin'].astype(int)"
   ]
  },
  {
   "cell_type": "code",
   "execution_count": 260,
   "metadata": {},
   "outputs": [],
   "source": [
    "# Conversion de la colonne 'Assignment.bin' en type 'integer' :\n",
    "resultats_MOOC['Assignment.bin'] = resultats_MOOC['Assignment.bin'].astype(int)"
   ]
  },
  {
   "cell_type": "code",
   "execution_count": 261,
   "metadata": {},
   "outputs": [
    {
     "name": "stdout",
     "output_type": "stream",
     "text": [
      "Student_ID            int64\n",
      "HDI_grouped          object\n",
      "Gender               object\n",
      "videos_vues           int64\n",
      "quiz_realises         int64\n",
      "Exam.bin              int64\n",
      "Assignment.bin        int64\n",
      "Complete.bin          int64\n",
      "Exam_Certif.bin     float64\n",
      "Learner.type       category\n",
      "iteration             int64\n",
      "dtype: object\n"
     ]
    }
   ],
   "source": [
    "# Vérification des types de données des colonnes :\n",
    "print(resultats_MOOC.dtypes)"
   ]
  },
  {
   "cell_type": "code",
   "execution_count": 262,
   "metadata": {},
   "outputs": [
    {
     "data": {
      "text/html": [
       "<div>\n",
       "<style scoped>\n",
       "    .dataframe tbody tr th:only-of-type {\n",
       "        vertical-align: middle;\n",
       "    }\n",
       "\n",
       "    .dataframe tbody tr th {\n",
       "        vertical-align: top;\n",
       "    }\n",
       "\n",
       "    .dataframe thead th {\n",
       "        text-align: right;\n",
       "    }\n",
       "</style>\n",
       "<table border=\"1\" class=\"dataframe\">\n",
       "  <thead>\n",
       "    <tr style=\"text-align: right;\">\n",
       "      <th></th>\n",
       "      <th>Student_ID</th>\n",
       "      <th>HDI_grouped</th>\n",
       "      <th>Gender</th>\n",
       "      <th>videos_vues</th>\n",
       "      <th>quiz_realises</th>\n",
       "      <th>Exam.bin</th>\n",
       "      <th>Assignment.bin</th>\n",
       "      <th>Complete.bin</th>\n",
       "      <th>Exam_Certif.bin</th>\n",
       "      <th>Learner.type</th>\n",
       "      <th>iteration</th>\n",
       "    </tr>\n",
       "  </thead>\n",
       "  <tbody>\n",
       "    <tr>\n",
       "      <th>7650</th>\n",
       "      <td>5846</td>\n",
       "      <td>B</td>\n",
       "      <td>Homme</td>\n",
       "      <td>0</td>\n",
       "      <td>5</td>\n",
       "      <td>0</td>\n",
       "      <td>1</td>\n",
       "      <td>1</td>\n",
       "      <td>NaN</td>\n",
       "      <td>Completer</td>\n",
       "      <td>1</td>\n",
       "    </tr>\n",
       "    <tr>\n",
       "      <th>5964</th>\n",
       "      <td>13987</td>\n",
       "      <td>B</td>\n",
       "      <td>Homme</td>\n",
       "      <td>0</td>\n",
       "      <td>0</td>\n",
       "      <td>0</td>\n",
       "      <td>0</td>\n",
       "      <td>0</td>\n",
       "      <td>NaN</td>\n",
       "      <td>Bystander</td>\n",
       "      <td>1</td>\n",
       "    </tr>\n",
       "    <tr>\n",
       "      <th>5960</th>\n",
       "      <td>18294</td>\n",
       "      <td>B</td>\n",
       "      <td>Homme</td>\n",
       "      <td>0</td>\n",
       "      <td>0</td>\n",
       "      <td>0</td>\n",
       "      <td>0</td>\n",
       "      <td>0</td>\n",
       "      <td>NaN</td>\n",
       "      <td>Bystander</td>\n",
       "      <td>1</td>\n",
       "    </tr>\n",
       "  </tbody>\n",
       "</table>\n",
       "</div>"
      ],
      "text/plain": [
       "      Student_ID HDI_grouped Gender  videos_vues  quiz_realises  Exam.bin  \\\n",
       "7650        5846           B  Homme            0              5         0   \n",
       "5964       13987           B  Homme            0              0         0   \n",
       "5960       18294           B  Homme            0              0         0   \n",
       "\n",
       "      Assignment.bin  Complete.bin  Exam_Certif.bin Learner.type  iteration  \n",
       "7650               1             1              NaN    Completer          1  \n",
       "5964               0             0              NaN    Bystander          1  \n",
       "5960               0             0              NaN    Bystander          1  "
      ]
     },
     "execution_count": 262,
     "metadata": {},
     "output_type": "execute_result"
    }
   ],
   "source": [
    "# Affichage du dataframe après nettoyage des données :\n",
    "resultats_MOOC.head(3)"
   ]
  },
  {
   "cell_type": "code",
   "execution_count": 263,
   "metadata": {},
   "outputs": [],
   "source": [
    "# Calcul des valeurs minimales et maximales pour 'videos_vues' :\n",
    "min_videos_vues = resultats_MOOC['videos_vues'].min()\n",
    "max_videos_vues = resultats_MOOC['videos_vues'].max()"
   ]
  },
  {
   "cell_type": "code",
   "execution_count": 264,
   "metadata": {},
   "outputs": [],
   "source": [
    "# Calcul des valeurs minimales et maximales pour 'quiz_realises' :\n",
    "min_quiz_realises = resultats_MOOC['quiz_realises'].min()\n",
    "max_quiz_realises = resultats_MOOC['quiz_realises'].max()"
   ]
  },
  {
   "cell_type": "code",
   "execution_count": 265,
   "metadata": {},
   "outputs": [
    {
     "name": "stdout",
     "output_type": "stream",
     "text": [
      "Min videos_vues : 0, Max videos_vues : 30\n",
      "Min quiz_realises : 0, Max quiz_realises : 5\n"
     ]
    }
   ],
   "source": [
    "# Affichage des résultats :\n",
    "print(f\"Min videos_vues : {min_videos_vues}, Max videos_vues : {max_videos_vues}\")\n",
    "print(f\"Min quiz_realises : {min_quiz_realises}, Max quiz_realises : {max_quiz_realises}\")"
   ]
  },
  {
   "cell_type": "code",
   "execution_count": 266,
   "metadata": {},
   "outputs": [
    {
     "data": {
      "image/png": "[encoded data removed]",
      "text/plain": [
       "<Figure size 600x400 with 1 Axes>"
      ]
     },
     "metadata": {},
     "output_type": "display_data"
    }
   ],
   "source": [
    "# Création de la figure :\n",
    "plt.figure(figsize = (6, 4))\n",
    "\n",
    "# Création du boxplot :\n",
    "sns.boxplot(x = resultats_MOOC['videos_vues'], \n",
    "            orient = 'h', \n",
    "            width = 0.1,\n",
    "            color = 'orange')\n",
    "\n",
    "# Ajout d'un titre au graphique :\n",
    "plt.title('Distribution du nombre de vidéos vues', \n",
    "          pad = 15, \n",
    "          fontsize = 13)\n",
    "\n",
    "# Personnalisation des axes :\n",
    "plt.xlabel('Nombre de vidéos vues')\n",
    "plt.ylabel('')\n",
    "\n",
    "# Affichage du graphique :\n",
    "plt.show()"
   ]
  },
  {
   "cell_type": "code",
   "execution_count": 267,
   "metadata": {},
   "outputs": [],
   "source": [
    "# Création des intervalles de 5 en 5 pour la colonne 'videos_vues' :\n",
    "bins = range(0, resultats_MOOC['videos_vues'].max() + 5, 5)"
   ]
  },
  {
   "cell_type": "code",
   "execution_count": 268,
   "metadata": {},
   "outputs": [],
   "source": [
    "# Création d'une nouvelle colonne 'intervalle_videos' :\n",
    "resultats_MOOC['intervalle_videos'] = pd.cut(resultats_MOOC['videos_vues'], \n",
    "                                             bins = bins, \n",
    "                                             right = False)"
   ]
  },
  {
   "cell_type": "code",
   "execution_count": 269,
   "metadata": {},
   "outputs": [],
   "source": [
    "# Création d'un nouveau tableau :\n",
    "distribution_videos = resultats_MOOC['intervalle_videos'].value_counts().sort_index()"
   ]
  },
  {
   "cell_type": "code",
   "execution_count": 270,
   "metadata": {},
   "outputs": [],
   "source": [
    "# Suppression de la colonne 'intervalle_videos' du DataFrame d'origine :\n",
    "resultats_MOOC = resultats_MOOC.drop(columns=['intervalle_videos'])"
   ]
  },
  {
   "cell_type": "code",
   "execution_count": 271,
   "metadata": {},
   "outputs": [],
   "source": [
    "# Conversion du tableau 'distribution_videos' en DataFrame :\n",
    "distribution_videos_df = distribution_videos.reset_index()"
   ]
  },
  {
   "cell_type": "code",
   "execution_count": 272,
   "metadata": {},
   "outputs": [
    {
     "data": {
      "text/html": [
       "<div>\n",
       "<style scoped>\n",
       "    .dataframe tbody tr th:only-of-type {\n",
       "        vertical-align: middle;\n",
       "    }\n",
       "\n",
       "    .dataframe tbody tr th {\n",
       "        vertical-align: top;\n",
       "    }\n",
       "\n",
       "    .dataframe thead th {\n",
       "        text-align: right;\n",
       "    }\n",
       "</style>\n",
       "<table border=\"1\" class=\"dataframe\">\n",
       "  <thead>\n",
       "    <tr style=\"text-align: right;\">\n",
       "      <th></th>\n",
       "      <th>Intervalle_Videos</th>\n",
       "      <th>Nombre_Apprenants</th>\n",
       "    </tr>\n",
       "  </thead>\n",
       "  <tbody>\n",
       "    <tr>\n",
       "      <th>0</th>\n",
       "      <td>[0, 5)</td>\n",
       "      <td>2924</td>\n",
       "    </tr>\n",
       "    <tr>\n",
       "      <th>1</th>\n",
       "      <td>[5, 10)</td>\n",
       "      <td>1271</td>\n",
       "    </tr>\n",
       "    <tr>\n",
       "      <th>2</th>\n",
       "      <td>[10, 15)</td>\n",
       "      <td>843</td>\n",
       "    </tr>\n",
       "    <tr>\n",
       "      <th>3</th>\n",
       "      <td>[15, 20)</td>\n",
       "      <td>591</td>\n",
       "    </tr>\n",
       "    <tr>\n",
       "      <th>4</th>\n",
       "      <td>[20, 25)</td>\n",
       "      <td>583</td>\n",
       "    </tr>\n",
       "    <tr>\n",
       "      <th>5</th>\n",
       "      <td>[25, 30)</td>\n",
       "      <td>1363</td>\n",
       "    </tr>\n",
       "  </tbody>\n",
       "</table>\n",
       "</div>"
      ],
      "text/plain": [
       "  Intervalle_Videos  Nombre_Apprenants\n",
       "0            [0, 5)               2924\n",
       "1           [5, 10)               1271\n",
       "2          [10, 15)                843\n",
       "3          [15, 20)                591\n",
       "4          [20, 25)                583\n",
       "5          [25, 30)               1363"
      ]
     },
     "execution_count": 272,
     "metadata": {},
     "output_type": "execute_result"
    }
   ],
   "source": [
    "# Changement des noms des colonnes du DataFrame :\n",
    "distribution_videos_df.columns = ['Intervalle_Videos', 'Nombre_Apprenants']\n",
    "distribution_videos_df"
   ]
  },
  {
   "cell_type": "code",
   "execution_count": 273,
   "metadata": {},
   "outputs": [
    {
     "data": {
      "image/png": "[encoded data removed]",
      "text/plain": [
       "<Figure size 500x500 with 1 Axes>"
      ]
     },
     "metadata": {},
     "output_type": "display_data"
    }
   ],
   "source": [
    "# Création de la figure :\n",
    "plt.figure(figsize = (5, 5))\n",
    "\n",
    "# Création du barplot :\n",
    "sns.barplot(x = 'Intervalle_Videos', \n",
    "            y = 'Nombre_Apprenants', \n",
    "            data = distribution_videos_df, \n",
    "            color = 'orange', \n",
    "            alpha = 0.8)\n",
    "\n",
    "# Ajout d'un titre au graphique :\n",
    "titre_figure = \"Distribution du nombre de vidéos vues par apprenants\"\n",
    "\n",
    "# Personnalisation des axes :\n",
    "plt.xlabel('Nombre de vidéos vues')\n",
    "plt.ylabel(\"Nombre d'apprenants\")\n",
    "\n",
    "# Rotation des labels des intervalles :\n",
    "plt.xticks(rotation = 0)\n",
    "\n",
    "# Ajout des labels au-dessus des barres :\n",
    "for index, value in enumerate(distribution_videos_df['Nombre_Apprenants']):\n",
    "    plt.text(index, \n",
    "             value + 1, \n",
    "             str(value), \n",
    "             ha = 'center', \n",
    "             va = 'bottom', \n",
    "             fontsize = 10)\n",
    "\n",
    "# Sauvegarde de la figure :\n",
    "plt.savefig('figure_videos_vues.png')\n",
    "\n",
    "# Affichage du graphique :\n",
    "plt.show()"
   ]
  },
  {
   "cell_type": "code",
   "execution_count": 274,
   "metadata": {},
   "outputs": [
    {
     "data": {
      "image/png": "[encoded data removed]",
      "text/plain": [
       "<Figure size 566.347x500 with 1 Axes>"
      ]
     },
     "metadata": {},
     "output_type": "display_data"
    }
   ],
   "source": [
    "# Création du barplot :\n",
    "g = sns.catplot(data = resultats_MOOC, \n",
    "                kind = \"bar\",\n",
    "                x = \"Gender\", \n",
    "                y = \"videos_vues\", \n",
    "                hue = \"iteration\", \n",
    "                errorbar = \"sd\", \n",
    "                palette = [\"greenyellow\", \"darkslateblue\", \"orange\"], \n",
    "                alpha = 0.8)\n",
    "\n",
    "# Personnalisation des bordures :\n",
    "g.despine(left = True)\n",
    "\n",
    "# Personnalisation des labels des axes :\n",
    "g.set_axis_labels(\"Genre\", \n",
    "                  \"Nombre de vidéos vues\")\n",
    "\n",
    "# Personnalisation de la légende :\n",
    "g.legend.set_title(\"Itération\")\n",
    "g.legend.set_bbox_to_anchor((1, 0.9))\n",
    "\n",
    "# Affichage du graphique :\n",
    "plt.show()"
   ]
  },
  {
   "cell_type": "code",
   "execution_count": 275,
   "metadata": {},
   "outputs": [],
   "source": [
    "# Calcul des écarts-types :\n",
    "ecarts_types = resultats_MOOC.groupby(['Gender', 'iteration'])['videos_vues'].std().reset_index()\n",
    "ecarts_types.rename(columns = {'videos_vues': 'ecart_type'}, inplace = True)"
   ]
  },
  {
   "cell_type": "code",
   "execution_count": 276,
   "metadata": {},
   "outputs": [],
   "source": [
    "# Calcul de la moyenne par groupe :\n",
    "moyennes = resultats_MOOC.groupby(['Gender', 'iteration'])['videos_vues'].mean().reset_index()"
   ]
  },
  {
   "cell_type": "code",
   "execution_count": 277,
   "metadata": {},
   "outputs": [],
   "source": [
    "# Fusionner les écarts-types et les moyennes\n",
    "ecarts_moyennes = pd.merge(ecarts_types, moyennes, on = ['Gender', 'iteration'])"
   ]
  },
  {
   "cell_type": "code",
   "execution_count": 278,
   "metadata": {},
   "outputs": [],
   "source": [
    "# Calcul du coefficient de variation (CV)\n",
    "ecarts_moyennes['CV'] = (ecarts_moyennes['ecart_type'] / ecarts_moyennes['videos_vues']) * 100"
   ]
  },
  {
   "cell_type": "code",
   "execution_count": 279,
   "metadata": {},
   "outputs": [],
   "source": [
    "# Arrondir les valeurs de la colonne 'ecart_type' à 1 chiffre après la virgule :\n",
    "ecarts_moyennes['ecart_type'] = ecarts_moyennes['ecart_type'].round(1)"
   ]
  },
  {
   "cell_type": "code",
   "execution_count": 280,
   "metadata": {},
   "outputs": [],
   "source": [
    "# Arrondir les valeurs de la colonne 'videos_vues' à 1 chiffre après la virgule :\n",
    "ecarts_moyennes['videos_vues'] = ecarts_moyennes['videos_vues'].round(1)"
   ]
  },
  {
   "cell_type": "code",
   "execution_count": 281,
   "metadata": {},
   "outputs": [],
   "source": [
    "# Arrondir les valeurs de la colonne 'CV' à 1 chiffre après la virgule :\n",
    "ecarts_moyennes['CV'] = ecarts_moyennes['CV'].round(1)"
   ]
  },
  {
   "cell_type": "code",
   "execution_count": 282,
   "metadata": {},
   "outputs": [],
   "source": [
    "# Changement du nom de la colonne pour la moyenne des vidéos vues :\n",
    "ecarts_moyennes.rename(columns = {'videos_vues': 'Moyenne des vidéos vues'}, inplace = True)\n"
   ]
  },
  {
   "cell_type": "code",
   "execution_count": 283,
   "metadata": {},
   "outputs": [
    {
     "name": "stdout",
     "output_type": "stream",
     "text": [
      "  Gender  iteration  ecart_type  Moyenne des vidéos vues    CV\n",
      "0  Femme          1        11.7                     14.2  82.5\n",
      "1  Femme          2        12.1                     14.5  83.3\n",
      "2  Femme          3        12.0                     15.5  77.3\n",
      "3  Homme          1        11.5                     13.1  88.2\n",
      "4  Homme          2        11.8                     13.4  87.6\n",
      "5  Homme          3        12.2                     15.5  78.4\n"
     ]
    }
   ],
   "source": [
    "# Affichage des résultats :\n",
    "print(ecarts_moyennes[['Gender', 'iteration', 'ecart_type', 'Moyenne des vidéos vues', 'CV']])"
   ]
  },
  {
   "cell_type": "code",
   "execution_count": 284,
   "metadata": {},
   "outputs": [
    {
     "data": {
      "image/png": "[encoded data removed]",
      "text/plain": [
       "<Figure size 566.347x500 with 1 Axes>"
      ]
     },
     "metadata": {},
     "output_type": "display_data"
    }
   ],
   "source": [
    "# Création du barplot :\n",
    "g = sns.catplot(data = resultats_MOOC, \n",
    "                kind = \"bar\",\n",
    "                x = \"HDI_grouped\", \n",
    "                y = \"videos_vues\", \n",
    "                hue = \"iteration\", \n",
    "                errorbar = \"sd\", \n",
    "                palette = [\"greenyellow\", \"darkslateblue\", \"orange\"], \n",
    "                alpha = 0.8)\n",
    "\n",
    "# Personnalisation des labels des axes :\n",
    "g.despine(left = True)\n",
    "g.set_axis_labels(\"IDH\", \n",
    "                  \"Nombre moyen de vidéos vues\")\n",
    "\n",
    "# Personnalisation de la légende :\n",
    "g.legend.set_title(\"Itération\")\n",
    "g.legend.set_bbox_to_anchor((1, 0.9))\n",
    "\n",
    "# Affichage du graphique :\n",
    "plt.show()"
   ]
  },
  {
   "cell_type": "code",
   "execution_count": 285,
   "metadata": {},
   "outputs": [],
   "source": [
    "# Calcul du nombre total de vidéos vues pour chaque groupe (HDI_grouped) en prenant la moyenne :\n",
    "total_videos_vues = resultats_MOOC.groupby(['HDI_grouped'])['videos_vues'].mean().reset_index()"
   ]
  },
  {
   "cell_type": "code",
   "execution_count": 286,
   "metadata": {},
   "outputs": [],
   "source": [
    "# Changement du nom de la colonne pour la moyenne des vidéos vues :\n",
    "total_videos_vues.rename(columns = {'videos_vues': 'Moyenne des vidéos vues'}, inplace = True)"
   ]
  },
  {
   "cell_type": "code",
   "execution_count": 287,
   "metadata": {},
   "outputs": [],
   "source": [
    "# Arrondi des valeurs à 1 chiffre après la virgule :\n",
    "total_videos_vues['Moyenne des vidéos vues'] = total_videos_vues['Moyenne des vidéos vues'].round(1)"
   ]
  },
  {
   "cell_type": "code",
   "execution_count": 288,
   "metadata": {},
   "outputs": [
    {
     "data": {
      "text/html": [
       "<div>\n",
       "<style scoped>\n",
       "    .dataframe tbody tr th:only-of-type {\n",
       "        vertical-align: middle;\n",
       "    }\n",
       "\n",
       "    .dataframe tbody tr th {\n",
       "        vertical-align: top;\n",
       "    }\n",
       "\n",
       "    .dataframe thead th {\n",
       "        text-align: right;\n",
       "    }\n",
       "</style>\n",
       "<table border=\"1\" class=\"dataframe\">\n",
       "  <thead>\n",
       "    <tr style=\"text-align: right;\">\n",
       "      <th></th>\n",
       "      <th>HDI_grouped</th>\n",
       "      <th>Moyenne des vidéos vues</th>\n",
       "    </tr>\n",
       "  </thead>\n",
       "  <tbody>\n",
       "    <tr>\n",
       "      <th>0</th>\n",
       "      <td>B</td>\n",
       "      <td>6.5</td>\n",
       "    </tr>\n",
       "    <tr>\n",
       "      <th>1</th>\n",
       "      <td>I</td>\n",
       "      <td>10.8</td>\n",
       "    </tr>\n",
       "    <tr>\n",
       "      <th>2</th>\n",
       "      <td>TH</td>\n",
       "      <td>15.2</td>\n",
       "    </tr>\n",
       "  </tbody>\n",
       "</table>\n",
       "</div>"
      ],
      "text/plain": [
       "  HDI_grouped  Moyenne des vidéos vues\n",
       "0           B                      6.5\n",
       "1           I                     10.8\n",
       "2          TH                     15.2"
      ]
     },
     "execution_count": 288,
     "metadata": {},
     "output_type": "execute_result"
    }
   ],
   "source": [
    "# Affichage des résultats :\n",
    "total_videos_vues[['HDI_grouped', 'Moyenne des vidéos vues']]"
   ]
  },
  {
   "cell_type": "code",
   "execution_count": 289,
   "metadata": {},
   "outputs": [],
   "source": [
    "# Calcul des écarts-types de 'videos_vues' groupés par 'HDI_grouped' et 'iteration' :\n",
    "ecarts_types = resultats_MOOC.groupby(['HDI_grouped', 'iteration'])['videos_vues'].std().reset_index()"
   ]
  },
  {
   "cell_type": "code",
   "execution_count": 290,
   "metadata": {},
   "outputs": [],
   "source": [
    "# Changement du nom de la colonne 'videos_vues' en 'ecart_type' :\n",
    "ecarts_types.rename(columns = {'videos_vues': 'ecart_type'}, inplace = True)"
   ]
  },
  {
   "cell_type": "code",
   "execution_count": 291,
   "metadata": {},
   "outputs": [],
   "source": [
    "# Calcul de la moyenne par groupe :\n",
    "moyennes = resultats_MOOC.groupby(['HDI_grouped', 'iteration'])['videos_vues'].mean().reset_index()"
   ]
  },
  {
   "cell_type": "code",
   "execution_count": 292,
   "metadata": {},
   "outputs": [],
   "source": [
    "# Fusion des écarts-types et des moyennes :\n",
    "ecarts_moyennes = pd.merge(ecarts_types, moyennes, on = ['HDI_grouped', 'iteration'])"
   ]
  },
  {
   "cell_type": "code",
   "execution_count": 293,
   "metadata": {},
   "outputs": [],
   "source": [
    "# Calcul du coefficient de variation (CV) :\n",
    "ecarts_moyennes['CV'] = (ecarts_moyennes['ecart_type'] / ecarts_moyennes['videos_vues']) * 100"
   ]
  },
  {
   "cell_type": "code",
   "execution_count": 294,
   "metadata": {},
   "outputs": [],
   "source": [
    "# Arrondi des valeurs de la colonne 'ecart_type' à 1 chiffre après la virgule :\n",
    "ecarts_moyennes['ecart_type'] = ecarts_moyennes['ecart_type'].round(1)"
   ]
  },
  {
   "cell_type": "code",
   "execution_count": 295,
   "metadata": {},
   "outputs": [],
   "source": [
    "# Arrondi des valeurs de la colonne 'videos_vues' à 1 chiffre après la virgule :\n",
    "ecarts_moyennes['videos_vues'] = ecarts_moyennes['videos_vues'].round(1)"
   ]
  },
  {
   "cell_type": "code",
   "execution_count": 296,
   "metadata": {},
   "outputs": [],
   "source": [
    "# Arrondi des valeurs de la colonne 'CV' à 1 chiffre après la virgule :\n",
    "ecarts_moyennes['CV'] = ecarts_moyennes['CV'].round(1)"
   ]
  },
  {
   "cell_type": "code",
   "execution_count": 297,
   "metadata": {},
   "outputs": [],
   "source": [
    "# Changement du nom de la colonne 'videos-vues' :\n",
    "ecarts_moyennes.rename(columns = {'videos_vues': 'Moyenne des vidéos vues'}, inplace = True)"
   ]
  },
  {
   "cell_type": "code",
   "execution_count": 298,
   "metadata": {},
   "outputs": [
    {
     "data": {
      "text/html": [
       "<div>\n",
       "<style scoped>\n",
       "    .dataframe tbody tr th:only-of-type {\n",
       "        vertical-align: middle;\n",
       "    }\n",
       "\n",
       "    .dataframe tbody tr th {\n",
       "        vertical-align: top;\n",
       "    }\n",
       "\n",
       "    .dataframe thead th {\n",
       "        text-align: right;\n",
       "    }\n",
       "</style>\n",
       "<table border=\"1\" class=\"dataframe\">\n",
       "  <thead>\n",
       "    <tr style=\"text-align: right;\">\n",
       "      <th></th>\n",
       "      <th>HDI_grouped</th>\n",
       "      <th>iteration</th>\n",
       "      <th>ecart_type</th>\n",
       "      <th>Moyenne des vidéos vues</th>\n",
       "      <th>CV</th>\n",
       "    </tr>\n",
       "  </thead>\n",
       "  <tbody>\n",
       "    <tr>\n",
       "      <th>0</th>\n",
       "      <td>B</td>\n",
       "      <td>1</td>\n",
       "      <td>8.4</td>\n",
       "      <td>5.8</td>\n",
       "      <td>144.6</td>\n",
       "    </tr>\n",
       "    <tr>\n",
       "      <th>1</th>\n",
       "      <td>B</td>\n",
       "      <td>2</td>\n",
       "      <td>9.3</td>\n",
       "      <td>7.3</td>\n",
       "      <td>127.8</td>\n",
       "    </tr>\n",
       "    <tr>\n",
       "      <th>2</th>\n",
       "      <td>B</td>\n",
       "      <td>3</td>\n",
       "      <td>10.5</td>\n",
       "      <td>8.5</td>\n",
       "      <td>123.3</td>\n",
       "    </tr>\n",
       "    <tr>\n",
       "      <th>3</th>\n",
       "      <td>I</td>\n",
       "      <td>1</td>\n",
       "      <td>10.7</td>\n",
       "      <td>10.4</td>\n",
       "      <td>103.2</td>\n",
       "    </tr>\n",
       "    <tr>\n",
       "      <th>4</th>\n",
       "      <td>I</td>\n",
       "      <td>2</td>\n",
       "      <td>11.5</td>\n",
       "      <td>10.3</td>\n",
       "      <td>111.5</td>\n",
       "    </tr>\n",
       "    <tr>\n",
       "      <th>5</th>\n",
       "      <td>I</td>\n",
       "      <td>3</td>\n",
       "      <td>13.0</td>\n",
       "      <td>12.6</td>\n",
       "      <td>103.1</td>\n",
       "    </tr>\n",
       "    <tr>\n",
       "      <th>6</th>\n",
       "      <td>TH</td>\n",
       "      <td>1</td>\n",
       "      <td>11.6</td>\n",
       "      <td>15.0</td>\n",
       "      <td>77.6</td>\n",
       "    </tr>\n",
       "    <tr>\n",
       "      <th>7</th>\n",
       "      <td>TH</td>\n",
       "      <td>2</td>\n",
       "      <td>11.9</td>\n",
       "      <td>14.9</td>\n",
       "      <td>79.9</td>\n",
       "    </tr>\n",
       "    <tr>\n",
       "      <th>8</th>\n",
       "      <td>TH</td>\n",
       "      <td>3</td>\n",
       "      <td>11.9</td>\n",
       "      <td>16.6</td>\n",
       "      <td>71.7</td>\n",
       "    </tr>\n",
       "  </tbody>\n",
       "</table>\n",
       "</div>"
      ],
      "text/plain": [
       "  HDI_grouped  iteration  ecart_type  Moyenne des vidéos vues     CV\n",
       "0           B          1         8.4                      5.8  144.6\n",
       "1           B          2         9.3                      7.3  127.8\n",
       "2           B          3        10.5                      8.5  123.3\n",
       "3           I          1        10.7                     10.4  103.2\n",
       "4           I          2        11.5                     10.3  111.5\n",
       "5           I          3        13.0                     12.6  103.1\n",
       "6          TH          1        11.6                     15.0   77.6\n",
       "7          TH          2        11.9                     14.9   79.9\n",
       "8          TH          3        11.9                     16.6   71.7"
      ]
     },
     "execution_count": 298,
     "metadata": {},
     "output_type": "execute_result"
    }
   ],
   "source": [
    "# Affichage des résultats :\n",
    "ecarts_moyennes[['HDI_grouped', 'iteration', 'ecart_type', 'Moyenne des vidéos vues', 'CV']]"
   ]
  },
  {
   "cell_type": "markdown",
   "metadata": {},
   "source": [
    "### 3.3. Un zoom sur les types d’apprenants"
   ]
  },
  {
   "cell_type": "code",
   "execution_count": 299,
   "metadata": {},
   "outputs": [],
   "source": [
    "# Création du tableau croisé avec les comptages :\n",
    "pivot_table = pd.crosstab(index = resultats_MOOC['Learner.type'], \n",
    "                          columns = resultats_MOOC['iteration'],\n",
    "                          margins = True,\n",
    "                          margins_name = 'Total')"
   ]
  },
  {
   "cell_type": "code",
   "execution_count": 300,
   "metadata": {},
   "outputs": [],
   "source": [
    "# Création d'une colonne 'Taux' :\n",
    "total_reel = pivot_table['Total'].sum() / 2\n",
    "pivot_table['Taux'] = pivot_table['Total'] / total_reel * 100"
   ]
  },
  {
   "cell_type": "code",
   "execution_count": 301,
   "metadata": {},
   "outputs": [
    {
     "data": {
      "text/html": [
       "<div>\n",
       "<style scoped>\n",
       "    .dataframe tbody tr th:only-of-type {\n",
       "        vertical-align: middle;\n",
       "    }\n",
       "\n",
       "    .dataframe tbody tr th {\n",
       "        vertical-align: top;\n",
       "    }\n",
       "\n",
       "    .dataframe thead th {\n",
       "        text-align: right;\n",
       "    }\n",
       "</style>\n",
       "<table border=\"1\" class=\"dataframe\">\n",
       "  <thead>\n",
       "    <tr style=\"text-align: right;\">\n",
       "      <th>iteration</th>\n",
       "      <th>1</th>\n",
       "      <th>2</th>\n",
       "      <th>3</th>\n",
       "      <th>Total</th>\n",
       "      <th>Taux</th>\n",
       "    </tr>\n",
       "    <tr>\n",
       "      <th>Learner.type</th>\n",
       "      <th></th>\n",
       "      <th></th>\n",
       "      <th></th>\n",
       "      <th></th>\n",
       "      <th></th>\n",
       "    </tr>\n",
       "  </thead>\n",
       "  <tbody>\n",
       "    <tr>\n",
       "      <th>Auditing</th>\n",
       "      <td>74</td>\n",
       "      <td>45</td>\n",
       "      <td>33</td>\n",
       "      <td>152</td>\n",
       "      <td>1.7</td>\n",
       "    </tr>\n",
       "    <tr>\n",
       "      <th>Bystander</th>\n",
       "      <td>936</td>\n",
       "      <td>469</td>\n",
       "      <td>235</td>\n",
       "      <td>1640</td>\n",
       "      <td>18.4</td>\n",
       "    </tr>\n",
       "    <tr>\n",
       "      <th>Completer</th>\n",
       "      <td>2378</td>\n",
       "      <td>951</td>\n",
       "      <td>854</td>\n",
       "      <td>4183</td>\n",
       "      <td>46.9</td>\n",
       "    </tr>\n",
       "    <tr>\n",
       "      <th>Disengaging</th>\n",
       "      <td>1836</td>\n",
       "      <td>681</td>\n",
       "      <td>432</td>\n",
       "      <td>2949</td>\n",
       "      <td>33.0</td>\n",
       "    </tr>\n",
       "    <tr>\n",
       "      <th>Total</th>\n",
       "      <td>5224</td>\n",
       "      <td>2146</td>\n",
       "      <td>1554</td>\n",
       "      <td>8924</td>\n",
       "      <td>100.0</td>\n",
       "    </tr>\n",
       "  </tbody>\n",
       "</table>\n",
       "</div>"
      ],
      "text/plain": [
       "iteration        1     2     3  Total   Taux\n",
       "Learner.type                                \n",
       "Auditing        74    45    33    152    1.7\n",
       "Bystander      936   469   235   1640   18.4\n",
       "Completer     2378   951   854   4183   46.9\n",
       "Disengaging   1836   681   432   2949   33.0\n",
       "Total         5224  2146  1554   8924  100.0"
      ]
     },
     "execution_count": 301,
     "metadata": {},
     "output_type": "execute_result"
    }
   ],
   "source": [
    "# Arrondi des résultats de la colonne 'Taux' :\n",
    "pivot_table['Taux'] = pivot_table['Taux'].round(1)\n",
    "pivot_table"
   ]
  },
  {
   "cell_type": "code",
   "execution_count": 302,
   "metadata": {},
   "outputs": [
    {
     "data": {
      "text/html": [
       "<div>\n",
       "<style scoped>\n",
       "    .dataframe tbody tr th:only-of-type {\n",
       "        vertical-align: middle;\n",
       "    }\n",
       "\n",
       "    .dataframe tbody tr th {\n",
       "        vertical-align: top;\n",
       "    }\n",
       "\n",
       "    .dataframe thead th {\n",
       "        text-align: right;\n",
       "    }\n",
       "</style>\n",
       "<table border=\"1\" class=\"dataframe\">\n",
       "  <thead>\n",
       "    <tr style=\"text-align: right;\">\n",
       "      <th>iteration</th>\n",
       "      <th>Iteration_3</th>\n",
       "      <th>Taux (%)</th>\n",
       "    </tr>\n",
       "    <tr>\n",
       "      <th>Learner.type</th>\n",
       "      <th></th>\n",
       "      <th></th>\n",
       "    </tr>\n",
       "  </thead>\n",
       "  <tbody>\n",
       "    <tr>\n",
       "      <th>Auditing</th>\n",
       "      <td>33</td>\n",
       "      <td>2.1</td>\n",
       "    </tr>\n",
       "    <tr>\n",
       "      <th>Bystander</th>\n",
       "      <td>235</td>\n",
       "      <td>15.1</td>\n",
       "    </tr>\n",
       "    <tr>\n",
       "      <th>Completer</th>\n",
       "      <td>854</td>\n",
       "      <td>55.0</td>\n",
       "    </tr>\n",
       "    <tr>\n",
       "      <th>Disengaging</th>\n",
       "      <td>432</td>\n",
       "      <td>27.8</td>\n",
       "    </tr>\n",
       "    <tr>\n",
       "      <th>Total</th>\n",
       "      <td>1554</td>\n",
       "      <td>100.0</td>\n",
       "    </tr>\n",
       "  </tbody>\n",
       "</table>\n",
       "</div>"
      ],
      "text/plain": [
       "iteration     Iteration_3  Taux (%)\n",
       "Learner.type                       \n",
       "Auditing               33       2.1\n",
       "Bystander             235      15.1\n",
       "Completer             854      55.0\n",
       "Disengaging           432      27.8\n",
       "Total                1554     100.0"
      ]
     },
     "execution_count": 302,
     "metadata": {},
     "output_type": "execute_result"
    }
   ],
   "source": [
    "# Définition de la variable pour l'itération souhaitée :\n",
    "iteration_number = 3\n",
    "\n",
    "# Création du tableau croisé avec les comptages :\n",
    "pivot_table = pd.crosstab(index = resultats_MOOC['Learner.type'], \n",
    "                          columns = resultats_MOOC['iteration'],\n",
    "                          margins = True,\n",
    "                          margins_name = 'Total')\n",
    "\n",
    "# Sélection de la colonne correspondant à l'itération donnée :\n",
    "pivot_table = pivot_table[[iteration_number]].rename(columns = {iteration_number: f'Iteration_{iteration_number}'})\n",
    "\n",
    "# Calcul du total des apprenants pour l'itération :\n",
    "total_apprenants_iteration = pivot_table[f'Iteration_{iteration_number}'].sum() / 2  \n",
    "\n",
    "# Calcul du taux en pourcentage pour chaque ligne :\n",
    "pivot_table['Taux (%)'] = (pivot_table[f'Iteration_{iteration_number}'] / total_apprenants_iteration) * 100\n",
    "\n",
    "# Arrondi du taux à 1 chiffre :\n",
    "pivot_table['Taux (%)'] = pivot_table['Taux (%)'].round(1)\n",
    "pivot_table"
   ]
  },
  {
   "cell_type": "markdown",
   "metadata": {},
   "source": [
    "### 3.4. Chi2 et mosaic plot"
   ]
  },
  {
   "cell_type": "code",
   "execution_count": 303,
   "metadata": {},
   "outputs": [],
   "source": [
    "# Création d'un dataframe simplifié :\n",
    "gender_hdi = resultats_MOOC[['Gender', 'HDI_grouped']]"
   ]
  },
  {
   "cell_type": "code",
   "execution_count": 304,
   "metadata": {},
   "outputs": [
    {
     "data": {
      "text/html": [
       "<div>\n",
       "<style scoped>\n",
       "    .dataframe tbody tr th:only-of-type {\n",
       "        vertical-align: middle;\n",
       "    }\n",
       "\n",
       "    .dataframe tbody tr th {\n",
       "        vertical-align: top;\n",
       "    }\n",
       "\n",
       "    .dataframe thead th {\n",
       "        text-align: right;\n",
       "    }\n",
       "</style>\n",
       "<table border=\"1\" class=\"dataframe\">\n",
       "  <thead>\n",
       "    <tr style=\"text-align: right;\">\n",
       "      <th>Gender</th>\n",
       "      <th>Femme</th>\n",
       "      <th>Homme</th>\n",
       "    </tr>\n",
       "    <tr>\n",
       "      <th>HDI_grouped</th>\n",
       "      <th></th>\n",
       "      <th></th>\n",
       "    </tr>\n",
       "  </thead>\n",
       "  <tbody>\n",
       "    <tr>\n",
       "      <th>B</th>\n",
       "      <td>147</td>\n",
       "      <td>880</td>\n",
       "    </tr>\n",
       "    <tr>\n",
       "      <th>I</th>\n",
       "      <td>231</td>\n",
       "      <td>432</td>\n",
       "    </tr>\n",
       "    <tr>\n",
       "      <th>TH</th>\n",
       "      <td>2539</td>\n",
       "      <td>4695</td>\n",
       "    </tr>\n",
       "  </tbody>\n",
       "</table>\n",
       "</div>"
      ],
      "text/plain": [
       "Gender       Femme  Homme\n",
       "HDI_grouped              \n",
       "B              147    880\n",
       "I              231    432\n",
       "TH            2539   4695"
      ]
     },
     "execution_count": 304,
     "metadata": {},
     "output_type": "execute_result"
    }
   ],
   "source": [
    "# Création de la table de contingence :\n",
    "table_initiale = pd.crosstab(gender_hdi['HDI_grouped'], gender_hdi['Gender'])\n",
    "table_initiale"
   ]
  },
  {
   "cell_type": "code",
   "execution_count": 305,
   "metadata": {},
   "outputs": [
    {
     "name": "stdout",
     "output_type": "stream",
     "text": [
      "\n",
      "Table de contingence avec pourcentages et totaux :\n"
     ]
    },
    {
     "data": {
      "text/html": [
       "<div>\n",
       "<style scoped>\n",
       "    .dataframe tbody tr th:only-of-type {\n",
       "        vertical-align: middle;\n",
       "    }\n",
       "\n",
       "    .dataframe tbody tr th {\n",
       "        vertical-align: top;\n",
       "    }\n",
       "\n",
       "    .dataframe thead th {\n",
       "        text-align: right;\n",
       "    }\n",
       "</style>\n",
       "<table border=\"1\" class=\"dataframe\">\n",
       "  <thead>\n",
       "    <tr style=\"text-align: right;\">\n",
       "      <th></th>\n",
       "      <th>Homme</th>\n",
       "      <th>Femme</th>\n",
       "      <th>Homme (%)</th>\n",
       "      <th>Femme (%)</th>\n",
       "    </tr>\n",
       "  </thead>\n",
       "  <tbody>\n",
       "    <tr>\n",
       "      <th>B</th>\n",
       "      <td>880</td>\n",
       "      <td>147</td>\n",
       "      <td>14.6</td>\n",
       "      <td>5.0</td>\n",
       "    </tr>\n",
       "    <tr>\n",
       "      <th>I</th>\n",
       "      <td>432</td>\n",
       "      <td>231</td>\n",
       "      <td>7.2</td>\n",
       "      <td>7.9</td>\n",
       "    </tr>\n",
       "    <tr>\n",
       "      <th>TH</th>\n",
       "      <td>4695</td>\n",
       "      <td>2539</td>\n",
       "      <td>78.2</td>\n",
       "      <td>87.0</td>\n",
       "    </tr>\n",
       "    <tr>\n",
       "      <th>Total</th>\n",
       "      <td>6007</td>\n",
       "      <td>2917</td>\n",
       "      <td>100.0</td>\n",
       "      <td>100.0</td>\n",
       "    </tr>\n",
       "  </tbody>\n",
       "</table>\n",
       "</div>"
      ],
      "text/plain": [
       "       Homme  Femme  Homme (%)  Femme (%)\n",
       "B        880    147       14.6        5.0\n",
       "I        432    231        7.2        7.9\n",
       "TH      4695   2539       78.2       87.0\n",
       "Total   6007   2917      100.0      100.0"
      ]
     },
     "execution_count": 305,
     "metadata": {},
     "output_type": "execute_result"
    }
   ],
   "source": [
    "# Présentation de la table de contingence avec taux :\n",
    "\n",
    "# Calcul des pourcentages par rapport aux totaux hommes et femmes :\n",
    "total_homme = table_initiale['Homme'].sum()\n",
    "total_femme = table_initiale['Femme'].sum()\n",
    "\n",
    "# Création d'une copie du DataFrame :\n",
    "table_formatée = table_initiale[['Homme', 'Femme']].copy()\n",
    "\n",
    "# Ajout des colonnes pour le format souhaité : Homme (%), Femme (%)\n",
    "table_formatée['Homme (%)'] = table_formatée['Homme'] / total_homme * 100\n",
    "table_formatée['Femme (%)'] = table_formatée['Femme'] / total_femme * 100\n",
    "\n",
    "# Ajout d'une ligne \"Total\" :\n",
    "total_lignes = pd.DataFrame({\n",
    "    'Homme': [total_homme],\n",
    "    'Homme (%)': [100],\n",
    "    'Femme': [total_femme],\n",
    "    'Femme (%)': [100]\n",
    "}, index=['Total'])\n",
    "\n",
    "# Concaténation de la ligne de total au DataFrame existant :\n",
    "table_contingence = pd.concat([table_formatée, total_lignes])\n",
    "\n",
    "# Arrondi des pourcentages à 1 décimale :\n",
    "table_contingence = table_contingence.round({'Homme (%)': 1, 'Femme (%)': 1})\n",
    "\n",
    "# Affichage de la table formatée :\n",
    "print(\"\\nTable de contingence avec pourcentages et totaux :\")\n",
    "table_contingence"
   ]
  },
  {
   "cell_type": "code",
   "execution_count": 306,
   "metadata": {},
   "outputs": [
    {
     "name": "stdout",
     "output_type": "stream",
     "text": [
      "Test d'indépendance du chi2 : Genre et Groupe IDH\n",
      "\n",
      "Chi2 : 178\n",
      "P-value : 0.0000\n",
      "Degrés de liberté : 2\n",
      "\n",
      "Table des valeurs attendues si les variables sont indépendantes :\n"
     ]
    },
    {
     "data": {
      "text/html": [
       "<div>\n",
       "<style scoped>\n",
       "    .dataframe tbody tr th:only-of-type {\n",
       "        vertical-align: middle;\n",
       "    }\n",
       "\n",
       "    .dataframe tbody tr th {\n",
       "        vertical-align: top;\n",
       "    }\n",
       "\n",
       "    .dataframe thead th {\n",
       "        text-align: right;\n",
       "    }\n",
       "</style>\n",
       "<table border=\"1\" class=\"dataframe\">\n",
       "  <thead>\n",
       "    <tr style=\"text-align: right;\">\n",
       "      <th>Gender</th>\n",
       "      <th>Femme</th>\n",
       "      <th>Homme</th>\n",
       "    </tr>\n",
       "    <tr>\n",
       "      <th>HDI_grouped</th>\n",
       "      <th></th>\n",
       "      <th></th>\n",
       "    </tr>\n",
       "  </thead>\n",
       "  <tbody>\n",
       "    <tr>\n",
       "      <th>B</th>\n",
       "      <td>335.7</td>\n",
       "      <td>691.3</td>\n",
       "    </tr>\n",
       "    <tr>\n",
       "      <th>I</th>\n",
       "      <td>216.7</td>\n",
       "      <td>446.3</td>\n",
       "    </tr>\n",
       "    <tr>\n",
       "      <th>TH</th>\n",
       "      <td>2364.6</td>\n",
       "      <td>4869.4</td>\n",
       "    </tr>\n",
       "  </tbody>\n",
       "</table>\n",
       "</div>"
      ],
      "text/plain": [
       "Gender        Femme   Homme\n",
       "HDI_grouped                \n",
       "B             335.7   691.3\n",
       "I             216.7   446.3\n",
       "TH           2364.6  4869.4"
      ]
     },
     "execution_count": 306,
     "metadata": {},
     "output_type": "execute_result"
    }
   ],
   "source": [
    "# Affichage des résultats :\n",
    "print(\"Test d'indépendance du chi2 : Genre et Groupe IDH\\n\")\n",
    "\n",
    "# Test du chi-2 :\n",
    "chi2, p_value, dof, expected = chi2_contingency(table_initiale)\n",
    "\n",
    "# Affichage des résultats du test :\n",
    "print(f\"Chi2 : {chi2:.0f}\")\n",
    "print(f\"P-value : {p_value:.4f}\")\n",
    "print(f\"Degrés de liberté : {dof}\")\n",
    "\n",
    "# Conversion de la table des valeurs attendues en DataFrame :\n",
    "table_valeurs_attendues = pd.DataFrame(expected, \n",
    "                                       columns = table_initiale.columns, \n",
    "                                       index = table_initiale.index)\n",
    "\n",
    "# Arrondi des valeurs attendues à une décimale :\n",
    "table_valeurs_attendues = table_valeurs_attendues.round(1)\n",
    "\n",
    "# Affichage de la table des valeurs attendues :\n",
    "print(\"\\nTable des valeurs attendues si les variables sont indépendantes :\")\n",
    "table_valeurs_attendues"
   ]
  },
  {
   "cell_type": "code",
   "execution_count": 307,
   "metadata": {},
   "outputs": [
    {
     "name": "stdout",
     "output_type": "stream",
     "text": [
      "V de Cramer : 0.14\n"
     ]
    }
   ],
   "source": [
    "# Nombre total d'observations :\n",
    "n = table_initiale.sum().sum()\n",
    "\n",
    "# Calcul des dimensions de la table  :\n",
    "r, k = table_initiale.shape\n",
    "\n",
    "# Calcul du V de Cramér :\n",
    "min_dim = min(r - 1, k - 1)\n",
    "cramers_v = np.sqrt(chi2 / (n * min_dim))\n",
    "\n",
    "# Affichage du V de Cramér :\n",
    "print(f\"V de Cramer : {cramers_v:.2f}\")"
   ]
  },
  {
   "cell_type": "code",
   "execution_count": 308,
   "metadata": {},
   "outputs": [
    {
     "name": "stdout",
     "output_type": "stream",
     "text": [
      "Résidus du chi2 :\n"
     ]
    },
    {
     "data": {
      "text/html": [
       "<div>\n",
       "<style scoped>\n",
       "    .dataframe tbody tr th:only-of-type {\n",
       "        vertical-align: middle;\n",
       "    }\n",
       "\n",
       "    .dataframe tbody tr th {\n",
       "        vertical-align: top;\n",
       "    }\n",
       "\n",
       "    .dataframe thead th {\n",
       "        text-align: right;\n",
       "    }\n",
       "</style>\n",
       "<table border=\"1\" class=\"dataframe\">\n",
       "  <thead>\n",
       "    <tr style=\"text-align: right;\">\n",
       "      <th>Gender</th>\n",
       "      <th>Homme</th>\n",
       "      <th>Femme</th>\n",
       "    </tr>\n",
       "    <tr>\n",
       "      <th>HDI_grouped</th>\n",
       "      <th></th>\n",
       "      <th></th>\n",
       "    </tr>\n",
       "  </thead>\n",
       "  <tbody>\n",
       "    <tr>\n",
       "      <th>B</th>\n",
       "      <td>29.7</td>\n",
       "      <td>-20.7</td>\n",
       "    </tr>\n",
       "    <tr>\n",
       "      <th>I</th>\n",
       "      <td>14.6</td>\n",
       "      <td>-10.2</td>\n",
       "    </tr>\n",
       "    <tr>\n",
       "      <th>TH</th>\n",
       "      <td>47.9</td>\n",
       "      <td>-33.4</td>\n",
       "    </tr>\n",
       "  </tbody>\n",
       "</table>\n",
       "</div>"
      ],
      "text/plain": [
       "Gender       Homme  Femme\n",
       "HDI_grouped              \n",
       "B             29.7  -20.7\n",
       "I             14.6  -10.2\n",
       "TH            47.9  -33.4"
      ]
     },
     "execution_count": 308,
     "metadata": {},
     "output_type": "execute_result"
    }
   ],
   "source": [
    "# Calcul des résidus : \n",
    "residus = (table_initiale[['Homme', 'Femme']] - expected) / np.sqrt(expected)\n",
    "\n",
    "# Arrondi des résidus à 2 décimales :\n",
    "residus = residus.round(1)\n",
    "\n",
    "# Affichage des résidus :\n",
    "print(\"Résidus du chi2 :\")\n",
    "residus"
   ]
  },
  {
   "cell_type": "code",
   "execution_count": 309,
   "metadata": {},
   "outputs": [],
   "source": [
    "# Création du mosaicplot avec la table de contingence :\n",
    "def props(key):\n",
    "    x, y = key\n",
    "    COLORS = {\n",
    "        'Homme': {\n",
    "            'B': '#06b6d4',\n",
    "            'I': '#22d3ee',\n",
    "            'TH': '#67e8f9',\n",
    "        },\n",
    "        'Femme': {\n",
    "            'B': '#ef4444',\n",
    "            'I': '#f87171',\n",
    "            'TH': '#fca5a5',\n",
    "        }\n",
    "    }\n",
    "    print(f'{x = }, {y = }')\n",
    "    return {'color': COLORS[y][x]}\n",
    "\n",
    "def labels(key):\n",
    "    x, y = key\n",
    "    v = table_initiale[y][x]\n",
    "    return f'{v}'\n",
    "\n"
   ]
  },
  {
   "cell_type": "code",
   "execution_count": 310,
   "metadata": {},
   "outputs": [
    {
     "name": "stdout",
     "output_type": "stream",
     "text": [
      "x = 'B', y = 'Femme'\n",
      "x = 'B', y = 'Homme'\n",
      "x = 'I', y = 'Femme'\n",
      "x = 'I', y = 'Homme'\n",
      "x = 'TH', y = 'Femme'\n",
      "x = 'TH', y = 'Homme'\n"
     ]
    },
    {
     "data": {
      "image/png": "[encoded data removed]",
      "text/plain": [
       "<Figure size 640x480 with 3 Axes>"
      ]
     },
     "metadata": {},
     "output_type": "display_data"
    }
   ],
   "source": [
    "# Création de la figure :\n",
    "fig, ax = plt.subplots()  \n",
    "\n",
    "# Génération du mosaic plot :\n",
    "mosaic(data = table_initiale.stack(),\n",
    "       axes_label = True,\n",
    "       properties = props,\n",
    "       labelizer = labels,\n",
    "       ax = ax)  \n",
    "\n",
    "# Personnalisation de la police :\n",
    "for text in ax.texts:  \n",
    "    text.set_fontsize(11)\n",
    "\n",
    "# Ajout des étiquettes des axes :\n",
    "ax.set_xlabel('IDH')\n",
    "ax.set_ylabel('Genre')\n",
    "\n",
    "# Affichage du plot :\n",
    "plt.show()"
   ]
  },
  {
   "cell_type": "code",
   "execution_count": 311,
   "metadata": {},
   "outputs": [
    {
     "name": "stdout",
     "output_type": "stream",
     "text": [
      "x = 'B', y = 'Homme'\n",
      "x = 'B', y = 'Femme'\n",
      "x = 'I', y = 'Homme'\n",
      "x = 'I', y = 'Femme'\n",
      "x = 'TH', y = 'Homme'\n",
      "x = 'TH', y = 'Femme'\n"
     ]
    },
    {
     "data": {
      "image/png": "[encoded data removed]",
      "text/plain": [
       "<Figure size 500x500 with 3 Axes>"
      ]
     },
     "metadata": {},
     "output_type": "display_data"
    }
   ],
   "source": [
    "# Appliquer la fonction abs() pour obtenir la valeur absolue des éléments de la table 'résidus' :\n",
    "residus_abs = np.abs(residus)\n",
    "\n",
    "# Création du mosaicplot avec la table des résidus :\n",
    "def props(key):\n",
    "    x, y = key\n",
    "    v = residus[y][x]\n",
    "    COLORS = {\n",
    "        'Homme': {\n",
    "            'B': '#06b6d4',\n",
    "            'I': '#22d3ee',\n",
    "            'TH': '#67e8f9',\n",
    "        },\n",
    "        'Femme': {\n",
    "            'B': '#ef4444',\n",
    "            'I': '#f87171',\n",
    "            'TH': '#fca5a5',\n",
    "        }\n",
    "    }\n",
    "    color = COLORS[y][x]\n",
    "    color = '#ef4444' if v < 0 else '#06b6d4'\n",
    "    print(f'{x = }, {y = }')\n",
    "    return {'color': color}\n",
    "\n",
    "def labels(key):\n",
    "    x, y = key\n",
    "    v = residus[y][x]\n",
    "    return f'{v}'\n",
    "\n",
    "# Création du mosaic plot avec personnalisation des couleurs et des labels :\n",
    "fig, ax = plt.subplots(figsize = (5,5))  \n",
    "\n",
    "mosaic(data = residus_abs.stack(),\n",
    "       axes_label = True,\n",
    "       properties = props,\n",
    "       labelizer = labels,\n",
    "       ax = ax)  \n",
    "\n",
    "# Personnalisation de la police :\n",
    "for text in ax.texts:\n",
    "    text.set_fontsize(11)\n",
    "\n",
    "# Ajout des étiquettes aux axes :\n",
    "ax.set_xlabel('IDH')  \n",
    "ax.set_ylabel('Genre')\n",
    "\n",
    "# Affichage du plot :\n",
    "plt.show()"
   ]
  },
  {
   "cell_type": "markdown",
   "metadata": {},
   "source": [
    "> Les couleurs bleues représentent les valeurs de résidus positives et les valeurs rouges représentent les valeurs de résidus négatives.\n",
    "\n",
    "> Les résidus d'une table de contingence, dans un test du chi², ne peuvent pas être tous négatifs ou positifs car ils mesurent l'écart entre les fréquences observées et attendues. Si tous les résidus étaient du même signe, cela signifierait que les données s'écartent systématiquement dans une seule direction, ce qui ne correspondrait pas à une distribution aléatoire équilibrée. Les résidus doivent donc varier entre positifs et négatifs pour refléter la variabilité naturelle des données."
   ]
  },
  {
   "cell_type": "markdown",
   "metadata": {},
   "source": [
    "> Les résultats du test du chi²  (chi²(2, N=10000) = 178, p << 0.001) montrent une statistique chi² de 178 et une p-value << 0.001, bien inférieure au seuil de significativité habituel de 0.05. Cela nous permet de rejeter l'hypothèse nulle selon laquelle les deux variables (genre et IDH) sont indépendantes, ce qui indique qu'il existe une relation statistiquement significative entre le genre et l'IDH.\n",
    "\n",
    "> Le V de Cramer, calculé à 0.14, suggère une association modérée entre le genre et l'IDH. Cette métrique quantifie l'intensité de la relation : une valeur proche de 0 indique une faible association, tandis qu'une valeur proche de 1 indique une forte association. Un V de Cramer de 0.14 indique donc qu'il existe des différences suffisamment significatives dans la répartition des sexes selon l'IDH.\n",
    "\n",
    "> Concernant l'interprétation des résidus, ceux-ci montrent que les hommes sont surreprésentés dans les groupes B, I et TH, tandis que les femmes sont sous-représentées par rapport aux valeurs attendues. Les écarts sont particulièrement marqués dans le groupe TH, où les hommes sont surreprésentés avec un excédent de 47.9 individus, tandis que les femmes sont sous-représentées avec un déficit de 33.4 individus. Ces écarts sont systématiques, avec des excédents d'hommes dans chaque groupe et des déficits de femmes, ce qui suggère une dépendance entre le genre et l'IDH. \n",
    "\n",
    "> Ces résultats pourraient être le reflet de plusieurs facteurs socio-économiques ou culturels influençant la participation à ce type de MOOC. Par exemple, il est possible que des inégalités de genre existent dans l'accès à la formation, l'intérêt pour ce type de programme, ou la disponibilité des ressources nécessaires pour suivre un MOOC sur l’effectuation. \n",
    "\n",
    "> Les hommes pourraient être davantage encouragés ou avoir plus de facilité à s’engager dans ce type de formation, notamment si des stéréotypes de genre influencent leur participation à des programmes axés sur l'entrepreneuriat ou l'innovation. \n",
    "\n",
    "> À l'inverse, les femmes pourraient rencontrer des obstacles supplémentaires, comme des responsabilités familiales ou des attentes sociales qui limitent leur disponibilité ou leur accès à ce genre de cursus."
   ]
  },
  {
   "cell_type": "markdown",
   "metadata": {},
   "source": [
    "### 3.5. Modèle linéaire, tests non paramétriques"
   ]
  },
  {
   "cell_type": "markdown",
   "metadata": {},
   "source": [
    "#### 3.5.1. Test non-paramétrique : impact du genre sur le nombre de vidéos vues"
   ]
  },
  {
   "cell_type": "code",
   "execution_count": 312,
   "metadata": {},
   "outputs": [],
   "source": [
    "# Séparation des données en fonction du genre :\n",
    "hommes_videos = resultats_MOOC[resultats_MOOC['Gender'] == 'Homme']['videos_vues']\n",
    "femmes_videos = resultats_MOOC[resultats_MOOC['Gender'] == 'Femme']['videos_vues']"
   ]
  },
  {
   "cell_type": "code",
   "execution_count": 313,
   "metadata": {},
   "outputs": [
    {
     "name": "stdout",
     "output_type": "stream",
     "text": [
      "Statistique t : -3.64\n",
      "P-value : 0.0003\n"
     ]
    }
   ],
   "source": [
    "# Test de Student pour comparer les moyennes :\n",
    "t_stat, p_value = ttest_ind(hommes_videos, femmes_videos)\n",
    "\n",
    "# Affichage des résultats :\n",
    "print(f\"Statistique t : {t_stat:.2f}\")\n",
    "print(f\"P-value : {p_value:.4f}\")"
   ]
  },
  {
   "cell_type": "code",
   "execution_count": 314,
   "metadata": {},
   "outputs": [
    {
     "name": "stdout",
     "output_type": "stream",
     "text": [
      "Statistique U : 8373795\n",
      "P-value : 0.0007\n"
     ]
    }
   ],
   "source": [
    "# Test de Mann-Whitney U pour comparer les distributions :\n",
    "u_stat, p_value_mannwhitney = mannwhitneyu(hommes_videos, femmes_videos)\n",
    "\n",
    "# Affichage des résultats :\n",
    "print(f\"Statistique U : {u_stat:.0f}\")\n",
    "print(f\"P-value : {p_value_mannwhitney:.4f}\")"
   ]
  },
  {
   "cell_type": "markdown",
   "metadata": {},
   "source": [
    "> Les résultats du test de Mann-Whitney U montrent une statistique U de 8 373 795 et une p-value << 0.001. \n",
    "\n",
    "> La p-value est largement inférieure au seuil de significativité conventionnel de 0.05, ce qui suggère que la différence entre les groupes est statistiquement significative. Le test a été effectué pour comparer le nombre de vidéos vues entre les hommes et les femmes, et ces résultats indiquent que les distributions des deux groupes diffèrent de manière significative.\n",
    "\n",
    "> La statistique U mesure la différence entre les deux groupes comparés, et une valeur de U élevée comme celle-ci implique qu'il existe une séparation marquée entre les rangs des deux groupes.\n",
    "\n",
    "> Étant donné que la p-value est inférieure à 0.05, nous rejetons l’hypothèse nulle selon laquelle il n’y aurait pas de différence dans la distribution du nombre de vidéos vues entre les hommes et les femmes. Cela indique qu’il existe une différence significative dans les comportements de consommation de vidéos entre les deux groupes. \n",
    "\n",
    "> Toutefois, il est important de noter que ce test non paramétrique ne nous dit pas dans quelle direction se situe cette différence. Pour mieux comprendre cette différence, des analyses supplémentaires, telles que l'examen des médianes ou la taille de l'effet, pourraient être réalisées. \n",
    "\n",
    "> Les résultats suggèrent qu'il existe un écart dans la façon dont les hommes et les femmes consomment les vidéos dans ce contexte, ce qui pourrait refléter des comportements différents ou des facteurs externes influençant ces habitudes."
   ]
  },
  {
   "cell_type": "markdown",
   "metadata": {},
   "source": [
    "#### 3.5.2. Test non-paramétrique : impact de l'IDH sur le nombre de vidéos vues"
   ]
  },
  {
   "cell_type": "code",
   "execution_count": 315,
   "metadata": {},
   "outputs": [
    {
     "name": "stdout",
     "output_type": "stream",
     "text": [
      "Statistique de Kruskal-Wallis: 556.37\n",
      "Valeur p: 0.0000\n"
     ]
    }
   ],
   "source": [
    "# Séparation des groupes en fonction des valeurs d'IDH :\n",
    "groupes_IDH = [resultats_MOOC[resultats_MOOC['HDI_grouped'] == i]['videos_vues'] for i in resultats_MOOC['HDI_grouped'].unique()]\n",
    "\n",
    "# Test de Kruskal-Wallis :\n",
    "stat, p_val = kruskal(*groupes_IDH)\n",
    "\n",
    "# Affichage des résultats :\n",
    "print(f\"Statistique de Kruskal-Wallis: {stat:.2f}\")\n",
    "print(f\"Valeur p: {p_val:.4f}\")"
   ]
  },
  {
   "cell_type": "markdown",
   "metadata": {},
   "source": [
    "#### 3.5.3. Modèle de régression linéaire"
   ]
  },
  {
   "cell_type": "code",
   "execution_count": 316,
   "metadata": {},
   "outputs": [
    {
     "name": "stdout",
     "output_type": "stream",
     "text": [
      "Résumé du modèle de régression linéaire :\n",
      "                            OLS Regression Results                            \n",
      "==============================================================================\n",
      "Dep. Variable:            videos_vues   R-squared:                       0.519\n",
      "Model:                            OLS   Adj. R-squared:                  0.519\n",
      "Method:                 Least Squares   F-statistic:                     9642.\n",
      "Date:                Sun, 07 Sep 2025   Prob (F-statistic):               0.00\n",
      "Time:                        16:01:03   Log-Likelihood:                -31404.\n",
      "No. Observations:                8924   AIC:                         6.281e+04\n",
      "Df Residuals:                    8922   BIC:                         6.283e+04\n",
      "Df Model:                           1                                         \n",
      "Covariance Type:            nonrobust                                         \n",
      "=================================================================================\n",
      "                    coef    std err          t      P>|t|      [0.025      0.975]\n",
      "---------------------------------------------------------------------------------\n",
      "const             1.4460      0.153      9.429      0.000       1.145       1.747\n",
      "quiz_realises     4.0316      0.041     98.191      0.000       3.951       4.112\n",
      "==============================================================================\n",
      "Omnibus:                      995.740   Durbin-Watson:                   1.763\n",
      "Prob(Omnibus):                  0.000   Jarque-Bera (JB):             1361.289\n",
      "Skew:                          -0.910   Prob(JB):                    2.51e-296\n",
      "Kurtosis:                       3.590   Cond. No.                         6.96\n",
      "==============================================================================\n",
      "\n",
      "Notes:\n",
      "[1] Standard Errors assume that the covariance matrix of the errors is correctly specified.\n"
     ]
    }
   ],
   "source": [
    "# Définition des variables du modèle de régression linéaire :\n",
    "X = resultats_MOOC['quiz_realises']  # Variable indépendante\n",
    "y = resultats_MOOC['videos_vues']  # Variable dépendante\n",
    "\n",
    "# Ajout d'une constante pour l'ordonnée à l'origine :\n",
    "X_with_const = sm.add_constant(X)\n",
    "\n",
    "# Création du modèle de régression linéaire :\n",
    "model = sm.OLS(y, X_with_const)\n",
    "results = model.fit()\n",
    "\n",
    "# Résumé du modèle :\n",
    "print(\"Résumé du modèle de régression linéaire :\")\n",
    "print(results.summary())"
   ]
  },
  {
   "cell_type": "code",
   "execution_count": 317,
   "metadata": {},
   "outputs": [
    {
     "name": "stdout",
     "output_type": "stream",
     "text": [
      "\n",
      "Corrélation de Pearson : 0.721\n",
      "P-value de Pearson : 0.0000\n"
     ]
    }
   ],
   "source": [
    "# Test de corrélation de Pearson :\n",
    "pearson_corr, pearson_p_value = pearsonr(X, y)\n",
    "print(f\"\\nCorrélation de Pearson : {pearson_corr:.3f}\")\n",
    "print(f\"P-value de Pearson : {pearson_p_value:.4f}\")"
   ]
  },
  {
   "cell_type": "code",
   "execution_count": 318,
   "metadata": {},
   "outputs": [
    {
     "name": "stdout",
     "output_type": "stream",
     "text": [
      "\n",
      "Corrélation de Spearman : 0.711\n",
      "P-value de Spearman : 0.0000\n"
     ]
    }
   ],
   "source": [
    "# Test de corrélation de Spearman :\n",
    "spearman_corr, spearman_p_value = spearmanr(X, y)\n",
    "print(f\"\\nCorrélation de Spearman : {spearman_corr:.3f}\")\n",
    "print(f\"P-value de Spearman : {spearman_p_value:.4f}\")"
   ]
  },
  {
   "cell_type": "code",
   "execution_count": 319,
   "metadata": {},
   "outputs": [
    {
     "data": {
      "image/png": "[encoded data removed]",
      "text/plain": [
       "<Figure size 600x500 with 2 Axes>"
      ]
     },
     "metadata": {},
     "output_type": "display_data"
    }
   ],
   "source": [
    "# Définition du style pour le graphique :\n",
    "custom_params = {\"axes.spines.right\": False, \"axes.spines.top\": False}\n",
    "sns.set_theme(style=\"ticks\", rc=custom_params)\n",
    "plt.rcParams['font.family'] = \"EB Garamond\"\n",
    "plt.rcParams['font.size'] = 10\n",
    "\n",
    "# Création d'une palette de couleurs :\n",
    "cmap = mcolors.LinearSegmentedColormap.from_list(\"white_to_orange\", [\"white\", \"darkorange\"])\n",
    "\n",
    "# Création de la figure :\n",
    "plt.figure(figsize = (6, 5))\n",
    "\n",
    "# Utilisation de 'hexbin' :\n",
    "hb = plt.hexbin(resultats_MOOC['quiz_realises'], \n",
    "                resultats_MOOC['videos_vues'], \n",
    "                gridsize = 30, \n",
    "                cmap = cmap)\n",
    "\n",
    "# Ajout d'une barre de couleur pour la densité :\n",
    "plt.colorbar(hb, label = 'Densité des points')\n",
    "\n",
    "# Ajout d'un titre au graphique :\n",
    "plt.title('Relation entre le nombre de quiz réalisés et le nombre de vidéos vues', \n",
    "          fontsize = 13, \n",
    "          pad = 15)\n",
    "\n",
    "# Ajout du tracé de régression linéaire :\n",
    "sns.regplot(x = 'quiz_realises', \n",
    "            y = 'videos_vues', \n",
    "            data = resultats_MOOC, \n",
    "            scatter = False,\n",
    "            line_kws = {'color': 'orange', \n",
    "                        'lw': 1.5})\n",
    "\n",
    "# Ajout d'une étiquette pour l'axe des x :\n",
    "plt.xlabel('Nombre de quiz réalisés')\n",
    "\n",
    "# Ajout d'une étiquette pour l'axe des y :\n",
    "plt.ylabel('Nombre de vidéos vues')\n",
    "\n",
    "# Affichage du graphique :\n",
    "plt.show()"
   ]
  },
  {
   "cell_type": "markdown",
   "metadata": {},
   "source": [
    "> Le scatterplot révèle une forte densité de points autour des coordonnées (0, 0) et (5, 30), ce qui pourrait refléter des comportements spécifiques : d'une part, des apprenants n'ayant pas participé aux quiz ni visionné de vidéos (0, 0), et d'autre part, des apprenants ayant complété tous les quiz et visionné toutes les vidéos (5, 30).\n",
    "\n",
    "> La concentration des points autour des entiers, due à la nature discrète des variables, peut rendre l'interprétation difficile.\n",
    "\n",
    "> Pour améliorer la visualisation, il serait utile d'ajuster le format du graphique, par exemple en jouant sur la taille ou la transparence des points.\n",
    "Une autre option serait d'ajouter un léger \"jitter\" pour mieux répartir les points (plots en bandes et en essaims), ou encore de mettre en avant la densité des valeurs à l’aide d’intervalles de données, comme dans une matrice des corrélations.\n",
    "\n",
    "> Étant donné que les tests de corrélation de Pearson et la régression linéaire supposent que les données sont normalement distribuées, il est préférable d'utiliser un test de corrélation non paramétrique, comme le test de Spearman, qui ne repose pas sur l'hypothèse de normalité. La corrélation de Spearman mesure la relation entre les variables, indépendamment de leur distribution."
   ]
  },
  {
   "cell_type": "code",
   "execution_count": 320,
   "metadata": {},
   "outputs": [
    {
     "data": {
      "text/html": [
       "<div>\n",
       "<style scoped>\n",
       "    .dataframe tbody tr th:only-of-type {\n",
       "        vertical-align: middle;\n",
       "    }\n",
       "\n",
       "    .dataframe tbody tr th {\n",
       "        vertical-align: top;\n",
       "    }\n",
       "\n",
       "    .dataframe thead th {\n",
       "        text-align: right;\n",
       "    }\n",
       "</style>\n",
       "<table border=\"1\" class=\"dataframe\">\n",
       "  <thead>\n",
       "    <tr style=\"text-align: right;\">\n",
       "      <th></th>\n",
       "      <th>df</th>\n",
       "      <th>sum_sq</th>\n",
       "      <th>mean_sq</th>\n",
       "      <th>F</th>\n",
       "      <th>PR(&gt;F)</th>\n",
       "      <th>eta_squared</th>\n",
       "    </tr>\n",
       "  </thead>\n",
       "  <tbody>\n",
       "    <tr>\n",
       "      <th>C(HDI_grouped)</th>\n",
       "      <td>2.0</td>\n",
       "      <td>74008.054</td>\n",
       "      <td>37004.027</td>\n",
       "      <td>283.876</td>\n",
       "      <td>0.000</td>\n",
       "      <td>0.06</td>\n",
       "    </tr>\n",
       "    <tr>\n",
       "      <th>C(Gender)</th>\n",
       "      <td>1.0</td>\n",
       "      <td>50.239</td>\n",
       "      <td>50.239</td>\n",
       "      <td>0.385</td>\n",
       "      <td>0.535</td>\n",
       "      <td>0.00</td>\n",
       "    </tr>\n",
       "    <tr>\n",
       "      <th>Residual</th>\n",
       "      <td>8920.0</td>\n",
       "      <td>1162744.917</td>\n",
       "      <td>130.353</td>\n",
       "      <td>NaN</td>\n",
       "      <td>NaN</td>\n",
       "      <td>0.94</td>\n",
       "    </tr>\n",
       "  </tbody>\n",
       "</table>\n",
       "</div>"
      ],
      "text/plain": [
       "                    df       sum_sq    mean_sq        F  PR(>F)  eta_squared\n",
       "C(HDI_grouped)     2.0    74008.054  37004.027  283.876   0.000         0.06\n",
       "C(Gender)          1.0       50.239     50.239    0.385   0.535         0.00\n",
       "Residual        8920.0  1162744.917    130.353      NaN     NaN         0.94"
      ]
     },
     "execution_count": 320,
     "metadata": {},
     "output_type": "execute_result"
    }
   ],
   "source": [
    "# Création du modèle de régression linéaire sans interaction :\n",
    "model = ols('videos_vues ~ C(HDI_grouped) + C(Gender)', data = resultats_MOOC).fit()\n",
    "\n",
    "# ANOVA de type 2, sans interaction :\n",
    "anova_table = sm.stats.anova_lm(model, typ = 2)\n",
    "\n",
    "# Calcul des mean_sq manuellement (sum_sq / df) :\n",
    "anova_table['mean_sq'] = anova_table['sum_sq'] / anova_table['df']\n",
    "\n",
    "# Calcul des tailles d'effet (partial eta squared) :\n",
    "total_sum_sq = anova_table['sum_sq'].sum()\n",
    "anova_table['eta_squared'] = anova_table['sum_sq'] / total_sum_sq\n",
    "\n",
    "# Réorganisation des colonnes :\n",
    "anova_table = anova_table[['df', 'sum_sq', 'mean_sq', 'F', 'PR(>F)', 'eta_squared']]\n",
    "\n",
    "# Affichage de la table d'ANOVA :\n",
    "anova_table.round(3)"
   ]
  },
  {
   "cell_type": "markdown",
   "metadata": {},
   "source": [
    "> Les résultats de l'ANOVA sans interaction montrent que l'effet de l'IDH est significatif (F(2, 8920) = 283.88, p < 0.001), avec un eta carré de 0.06, ce qui indique que l'IDH explique une proportion notable de la variance.\n",
    "\n",
    "> En revanche, l'effet du genre n'est pas significatif (F(1, 8920) = 0.39, p = 0.54), suggérant qu'il n'y a pas de différence significative entre les sexes."
   ]
  },
  {
   "cell_type": "markdown",
   "metadata": {},
   "source": [
    "> Les degrés de liberté (ddl) pour une variable catégorielle sont calculés en fonction du nombre de ses catégories moins 1. \n",
    "\n",
    "> Pour la variable Genre, il y a deux catégories possibles : femme et homme. \n",
    "\n",
    "> Comme il y a deux modalités, les degrés de liberté sont donc calculés comme 2 - 1, ce qui donne 1 degré de liberté. \n",
    "\n",
    "> Pour la variable IDH, il y a trois catégories : B, I et TH. \n",
    "\n",
    "> Les degrés de liberté sont donc 3 - 1, ce qui donne 2 degrés de liberté. \n",
    "\n",
    "> En résumé, le genre a 1 ddl et l'IDH a 2 ddl, ce qui reflète le nombre de comparaisons indépendantes possibles entre les catégories de chaque variable."
   ]
  },
  {
   "cell_type": "code",
   "execution_count": 321,
   "metadata": {},
   "outputs": [
    {
     "name": "stdout",
     "output_type": "stream",
     "text": [
      "Intercept               6.614594\n",
      "C(HDI_grouped)[T.I]     4.243327\n",
      "C(HDI_grouped)[T.TH]    8.711312\n",
      "C(Gender)[T.Homme]     -0.161577\n",
      "dtype: float64\n"
     ]
    }
   ],
   "source": [
    "# Vérification des paramètres du modèle :\n",
    "print(model.params)"
   ]
  },
  {
   "cell_type": "code",
   "execution_count": 322,
   "metadata": {},
   "outputs": [
    {
     "data": {
      "text/html": [
       "<div>\n",
       "<style scoped>\n",
       "    .dataframe tbody tr th:only-of-type {\n",
       "        vertical-align: middle;\n",
       "    }\n",
       "\n",
       "    .dataframe tbody tr th {\n",
       "        vertical-align: top;\n",
       "    }\n",
       "\n",
       "    .dataframe thead th {\n",
       "        text-align: right;\n",
       "    }\n",
       "</style>\n",
       "<table border=\"1\" class=\"dataframe\">\n",
       "  <thead>\n",
       "    <tr style=\"text-align: right;\">\n",
       "      <th></th>\n",
       "      <th>estimate</th>\n",
       "      <th>std error</th>\n",
       "      <th>t value</th>\n",
       "      <th>PR (&gt; t)</th>\n",
       "    </tr>\n",
       "  </thead>\n",
       "  <tbody>\n",
       "    <tr>\n",
       "      <th>Intercept</th>\n",
       "      <td>6.615</td>\n",
       "      <td>0.420</td>\n",
       "      <td>15.737</td>\n",
       "      <td>0.000</td>\n",
       "    </tr>\n",
       "    <tr>\n",
       "      <th>C(HDI_grouped)[T.I]</th>\n",
       "      <td>4.243</td>\n",
       "      <td>0.571</td>\n",
       "      <td>7.427</td>\n",
       "      <td>0.000</td>\n",
       "    </tr>\n",
       "    <tr>\n",
       "      <th>C(HDI_grouped)[T.TH]</th>\n",
       "      <td>8.711</td>\n",
       "      <td>0.385</td>\n",
       "      <td>22.654</td>\n",
       "      <td>0.000</td>\n",
       "    </tr>\n",
       "    <tr>\n",
       "      <th>C(Gender)[T.Homme]</th>\n",
       "      <td>-0.162</td>\n",
       "      <td>0.260</td>\n",
       "      <td>-0.621</td>\n",
       "      <td>0.535</td>\n",
       "    </tr>\n",
       "  </tbody>\n",
       "</table>\n",
       "</div>"
      ],
      "text/plain": [
       "                      estimate  std error  t value  PR (> t)\n",
       "Intercept                6.615      0.420   15.737     0.000\n",
       "C(HDI_grouped)[T.I]      4.243      0.571    7.427     0.000\n",
       "C(HDI_grouped)[T.TH]     8.711      0.385   22.654     0.000\n",
       "C(Gender)[T.Homme]      -0.162      0.260   -0.621     0.535"
      ]
     },
     "execution_count": 322,
     "metadata": {},
     "output_type": "execute_result"
    }
   ],
   "source": [
    "# Obtention des résultats du modèle :\n",
    "results = model.summary()\n",
    "\n",
    "# Extraction des coefficients et statistiques associées :\n",
    "coefficients = model.params\n",
    "std_errors = model.bse\n",
    "t_values = model.tvalues\n",
    "p_values = model.pvalues\n",
    "\n",
    "# Création de la table :\n",
    "table = {'estimate': coefficients[['Intercept', \n",
    "                                   'C(HDI_grouped)[T.I]', \n",
    "                                   'C(HDI_grouped)[T.TH]', \n",
    "                                   'C(Gender)[T.Homme]']],\n",
    "         'std error': std_errors[['Intercept', \n",
    "                                  'C(HDI_grouped)[T.I]', \n",
    "                                  'C(HDI_grouped)[T.TH]', \n",
    "                                  'C(Gender)[T.Homme]']],\n",
    "         't value': t_values[['Intercept', \n",
    "                              'C(HDI_grouped)[T.I]', \n",
    "                              'C(HDI_grouped)[T.TH]', \n",
    "                              'C(Gender)[T.Homme]']],\n",
    "         'PR (> t)': p_values[['Intercept', \n",
    "                               'C(HDI_grouped)[T.I]', \n",
    "                               'C(HDI_grouped)[T.TH]', \n",
    "                               'C(Gender)[T.Homme]']]}\n",
    "\n",
    "# Conversion en DataFrame :\n",
    "table_intercept = pd.DataFrame(table)\n",
    "\n",
    "# Affichage de la table :\n",
    "table_intercept.round(3)"
   ]
  },
  {
   "cell_type": "markdown",
   "metadata": {},
   "source": [
    "> Les résultats montrent que l'IDH a un effet significatif sur la variable dépendante. \n",
    "\n",
    "> Comparé au groupe de référence, le groupe I augmente de 4.24 unités (p < 0.001), et le groupe TH de 8.71 unités (p < 0.001). \n",
    "\n",
    "> L'intercept est également significatif avec 6.62 (p < 0.001). \n",
    "\n",
    "> En revanche, l'effet du genre est non significatif, avec une estimation de -0.16 pour les hommes (p = 0.54), suggérant aucune différence entre les sexes."
   ]
  },
  {
   "cell_type": "markdown",
   "metadata": {},
   "source": [
    "> La modalité femme se trouve dans l'intercept. Comparé aux hommes, elles regardent en moyenne 0.16 vidéos en plus.\n",
    "\n",
    "> Comme la p-value est de 0.535, cela indique que la différence entre les hommes et les femmes dans le nombre de vidéos regardées n'est pas statistiquement significative.\n",
    "\n",
    "> Autrement dit, cette différence de 0.16 vidéos pourrait très bien être due au hasard."
   ]
  },
  {
   "cell_type": "code",
   "execution_count": 323,
   "metadata": {},
   "outputs": [
    {
     "data": {
      "text/html": [
       "<div>\n",
       "<style scoped>\n",
       "    .dataframe tbody tr th:only-of-type {\n",
       "        vertical-align: middle;\n",
       "    }\n",
       "\n",
       "    .dataframe tbody tr th {\n",
       "        vertical-align: top;\n",
       "    }\n",
       "\n",
       "    .dataframe thead th {\n",
       "        text-align: right;\n",
       "    }\n",
       "</style>\n",
       "<table border=\"1\" class=\"dataframe\">\n",
       "  <thead>\n",
       "    <tr style=\"text-align: right;\">\n",
       "      <th></th>\n",
       "      <th>df</th>\n",
       "      <th>sum_sq</th>\n",
       "      <th>mean_sq</th>\n",
       "      <th>F</th>\n",
       "      <th>PR(&gt;F)</th>\n",
       "      <th>eta_squared</th>\n",
       "    </tr>\n",
       "  </thead>\n",
       "  <tbody>\n",
       "    <tr>\n",
       "      <th>C(HDI_grouped)</th>\n",
       "      <td>2.0</td>\n",
       "      <td>74008.054</td>\n",
       "      <td>37004.027</td>\n",
       "      <td>283.903</td>\n",
       "      <td>0.000</td>\n",
       "      <td>0.06</td>\n",
       "    </tr>\n",
       "    <tr>\n",
       "      <th>C(Gender)</th>\n",
       "      <td>1.0</td>\n",
       "      <td>50.239</td>\n",
       "      <td>50.239</td>\n",
       "      <td>0.385</td>\n",
       "      <td>0.535</td>\n",
       "      <td>0.00</td>\n",
       "    </tr>\n",
       "    <tr>\n",
       "      <th>C(HDI_grouped):C(Gender)</th>\n",
       "      <td>2.0</td>\n",
       "      <td>369.357</td>\n",
       "      <td>184.678</td>\n",
       "      <td>1.417</td>\n",
       "      <td>0.243</td>\n",
       "      <td>0.00</td>\n",
       "    </tr>\n",
       "    <tr>\n",
       "      <th>Residual</th>\n",
       "      <td>8918.0</td>\n",
       "      <td>1162375.561</td>\n",
       "      <td>130.340</td>\n",
       "      <td>NaN</td>\n",
       "      <td>NaN</td>\n",
       "      <td>0.94</td>\n",
       "    </tr>\n",
       "  </tbody>\n",
       "</table>\n",
       "</div>"
      ],
      "text/plain": [
       "                              df       sum_sq    mean_sq        F  PR(>F)  \\\n",
       "C(HDI_grouped)               2.0    74008.054  37004.027  283.903   0.000   \n",
       "C(Gender)                    1.0       50.239     50.239    0.385   0.535   \n",
       "C(HDI_grouped):C(Gender)     2.0      369.357    184.678    1.417   0.243   \n",
       "Residual                  8918.0  1162375.561    130.340      NaN     NaN   \n",
       "\n",
       "                          eta_squared  \n",
       "C(HDI_grouped)                   0.06  \n",
       "C(Gender)                        0.00  \n",
       "C(HDI_grouped):C(Gender)         0.00  \n",
       "Residual                         0.94  "
      ]
     },
     "execution_count": 323,
     "metadata": {},
     "output_type": "execute_result"
    }
   ],
   "source": [
    "# Création du modèle de régression linéaire avec interaction, avec les effets principaux de HDI et Gender :\n",
    "model_interact = ols('videos_vues ~ C(HDI_grouped) * C(Gender)', data = resultats_MOOC).fit()\n",
    "\n",
    "# ANOVA de type 2 :\n",
    "anova_table_interact = sm.stats.anova_lm(model_interact, typ = 2)\n",
    "\n",
    "# Calcul des mean squares :\n",
    "anova_table_interact['mean_sq'] = anova_table_interact['sum_sq'] / anova_table_interact['df']\n",
    "\n",
    "# Calcul des tailles d'effet :\n",
    "total_sum_sq_interact = anova_table_interact['sum_sq'].sum()\n",
    "anova_table_interact['eta_squared'] = anova_table_interact['sum_sq'] / total_sum_sq_interact\n",
    "\n",
    "# Réorganisation des colonnes :\n",
    "anova_table_interact = anova_table_interact[['df', 'sum_sq', 'mean_sq', 'F', 'PR(>F)', 'eta_squared']]\n",
    "\n",
    "# Affichage de la table d'ANOVA :\n",
    "anova_table_interact.round(3)"
   ]
  },
  {
   "cell_type": "code",
   "execution_count": 324,
   "metadata": {},
   "outputs": [],
   "source": [
    "# TEST DE L'HOMOSCEDASTICITE DES RESIDUS\n",
    "\n",
    "# Ajustement du style du graphique :\n",
    "sns.set()\n",
    "plt.rcParams['font.family'] = \"EB Garamond\"\n",
    "plt.rcParams['font.size'] = 10\n",
    "\n",
    "# Calcul des résidus et des valeurs ajustées :\n",
    "residuals = model.resid\n",
    "fitted_values = model.fittedvalues\n",
    "\n",
    "# Création d'un DataFrame :\n",
    "df = pd.DataFrame({'residuals': residuals, 'fitted_values': fitted_values})"
   ]
  },
  {
   "cell_type": "code",
   "execution_count": 325,
   "metadata": {},
   "outputs": [
    {
     "data": {
      "image/png": "[encoded data removed]",
      "text/plain": [
       "<Figure size 500x500 with 1 Axes>"
      ]
     },
     "metadata": {},
     "output_type": "display_data"
    }
   ],
   "source": [
    "# Création de la figure :\n",
    "plt.figure(figsize = (5, 5))\n",
    "\n",
    "# Création d'un scatterplot :\n",
    "sns.scatterplot(x = \"fitted_values\", \n",
    "                y = \"residuals\",\n",
    "                data = df, \n",
    "                color = 'darkslateblue', \n",
    "                alpha = 0.1)\n",
    "\n",
    "# Ajout d'une ligne horizontale à y = 0 :\n",
    "plt.axhline(y = 0, \n",
    "            color = 'greenyellow', \n",
    "            linestyle = '--', \n",
    "            linewidth = 2,\n",
    "            alpha = 0.7)\n",
    "\n",
    "# Ajout des étiquettes aux axes :\n",
    "plt.xlabel(\"Valeurs prédites par le modèle\")\n",
    "plt.ylabel(\"Erreurs résiduelles\")\n",
    "\n",
    "# Affichage du graphique :\n",
    "plt.show()"
   ]
  },
  {
   "cell_type": "markdown",
   "metadata": {},
   "source": [
    "> Le graphique montre un modèle biaisé mais homoscédastique. \n",
    "\n",
    "> Les résidus du modèle montrent un biais systématique, avec des erreurs plus élevées à gauche et plus faibles à droite, suggérant une mauvaise spécification du modèle. \n",
    "\n",
    "> Cependant, l'écart des résidus reste constant sur l'ensemble du graphique, indiquant une homoscédasticité. Cela signifie que la variance des erreurs est constante, mais le modèle doit être amélioré pour éliminer ce biais, probablement en capturant une relation non linéaire ou en ajustant les variables."
   ]
  },
  {
   "cell_type": "code",
   "execution_count": 326,
   "metadata": {},
   "outputs": [
    {
     "name": "stdout",
     "output_type": "stream",
     "text": [
      "Test de Breusch-Pagan : Statistique = 328.4, p-value = 0.0000\n",
      "Les résidus présentent une hétéroscédasticité (variance non constante).\n"
     ]
    }
   ],
   "source": [
    "# Récupération des résidus :\n",
    "residu = model.resid\n",
    "\n",
    "# Test de Breusch-Pagan pour l'homoscédasticité :\n",
    "bp_test = het_breuschpagan(residu, model.model.exog)\n",
    "\n",
    "# Extraction de la statistique et la p-value :\n",
    "bp_stat, bp_pvalue, _, _ = bp_test\n",
    "\n",
    "# Affichage des résultats du test :\n",
    "print(f\"Test de Breusch-Pagan : Statistique = {bp_stat:.1f}, p-value = {bp_pvalue:.4f}\")\n",
    "\n",
    "# Interprétation de la p-value :\n",
    "if bp_pvalue < 0.05:\n",
    "    print(\"Les résidus présentent une hétéroscédasticité (variance non constante).\")\n",
    "else:\n",
    "    print(\"Les résidus ne présentent pas de problème d'hétéroscédasticité.\")"
   ]
  },
  {
   "cell_type": "markdown",
   "metadata": {},
   "source": [
    "> La statistique de test est relativement élevée, ce qui suggère qu'il existe une forte indication d'hétéroscédasticité dans le modèle.\n",
    "\n",
    "> La p-value est inférieure à 0.05, cela indique que les résidus ne sont pas homoscédastiques (violation de l'homoscédasticité)."
   ]
  },
  {
   "cell_type": "code",
   "execution_count": 327,
   "metadata": {},
   "outputs": [
    {
     "data": {
      "image/png": "[encoded data removed]",
      "text/plain": [
       "<Figure size 500x500 with 1 Axes>"
      ]
     },
     "metadata": {},
     "output_type": "display_data"
    }
   ],
   "source": [
    "# Création de la figure :\n",
    "plt.figure(figsize = (5, 5))\n",
    "\n",
    "# Tracé du QQ plot des résidus :\n",
    "stats.probplot(residuals, \n",
    "               dist = \"norm\", \n",
    "               plot = plt)\n",
    "\n",
    "# Personnalisation du titre et des axes :\n",
    "plt.title(\"\")\n",
    "plt.xlabel('Quantiles théoriques')\n",
    "plt.ylabel('Quantiles des résidus')\n",
    "\n",
    "# Modification de la couleur et de la transparence des points :\n",
    "plt.gca().get_lines()[0].set_markerfacecolor('darkslateblue')\n",
    "plt.gca().get_lines()[0].set_alpha(0.1)\n",
    "plt.gca().get_lines()[0].set_markersize(4.5)\n",
    "\n",
    "# Ajout d'une bordure blanche autour des points :\n",
    "plt.gca().get_lines()[0].set_markeredgecolor('slateblue')\n",
    "plt.gca().get_lines()[0].set_markeredgewidth(0.05)\n",
    "\n",
    "# Modification de la couleur de la ligne de régression :\n",
    "plt.gca().get_lines()[1].set_color('greenyellow')\n",
    "\n",
    "# Affichage du graphique :\n",
    "plt.show()"
   ]
  },
  {
   "cell_type": "markdown",
   "metadata": {},
   "source": [
    "> Les points ne pas alignés sur la droite verte, cela suggère que les résidus ne suivent pas une distribution normale (courbe en s). \n",
    "\n",
    "> Cela indique une violation de l'hypothèse de normalité des erreurs."
   ]
  },
  {
   "cell_type": "code",
   "execution_count": 328,
   "metadata": {},
   "outputs": [
    {
     "name": "stdout",
     "output_type": "stream",
     "text": [
      "               variable    VIF\n",
      "0             Intercept  12.09\n",
      "1   C(HDI_grouped)[T.I]   1.54\n",
      "2  C(HDI_grouped)[T.TH]   1.55\n",
      "3    C(Gender)[T.Homme]   1.02\n"
     ]
    }
   ],
   "source": [
    "# Calcul des VIF :\n",
    "X = model.model.exog  # Matrice des variables indépendantes\n",
    "\n",
    "# Création d'un DataFrame vide pour stocker les résultats des VIF :\n",
    "vif_data = pd.DataFrame()\n",
    "\n",
    "# Ajout des noms des variables indépendantes dans le DataFrame :\n",
    "vif_data[\"variable\"] = model.model.exog_names\n",
    "\n",
    "# Calcul du VIF pour chaque variable indépendante :\n",
    "vif_data[\"VIF\"] = [variance_inflation_factor(X, i) for i in range(X.shape[1])]\n",
    "\n",
    "# Affichage des résultats des VIF :\n",
    "print(vif_data.round(2))"
   ]
  },
  {
   "cell_type": "markdown",
   "metadata": {},
   "source": [
    "> La vérification des hypothèses du modèle, y compris l'homoscédasticité, la normalité des résidus et la multicolinéarité, a révélé plusieurs problèmes qui remettent en question la validité de l'utilisation de l'ANOVA dans ce contexte.\n",
    "\n",
    "> L'hétéroscédasticité identifiée par le test de Breusch-Pagan et la déviation des résidus par rapport à la normalité observée dans le QQ plot indiquent que les résidus ne suivent pas une distribution normale et que la variance n'est pas constante. \n",
    "\n",
    "> Ces violations des hypothèses de l'ANOVA suggèrent que cette méthode n'était pas appropriée pour analyser l'impact de l'IDH et du genre sur le nombre de vidéos vues. \n",
    "\n",
    "> Par conséquent, une approche alternative, comme l'utilisation de modèles non linéaires ou de régressions robustes, serait plus appropriée pour tirer des conclusions fiables."
   ]
  },
  {
   "cell_type": "markdown",
   "metadata": {},
   "source": [
    "### 3.6. Régression logistique - binomiale et Poisson"
   ]
  },
  {
   "cell_type": "markdown",
   "metadata": {},
   "source": [
    "#### 3.6.1. Présenter des odd ratios"
   ]
  },
  {
   "cell_type": "code",
   "execution_count": 329,
   "metadata": {},
   "outputs": [],
   "source": [
    "# Création d'un nouveau tableau pour exclure les valeurs manquantes de la colonne 'Exam_Certif.bin' :\n",
    "resultats_MOOC_2 = resultats_MOOC.dropna(subset=['Exam_Certif.bin'])"
   ]
  },
  {
   "cell_type": "code",
   "execution_count": 330,
   "metadata": {},
   "outputs": [
    {
     "data": {
      "image/png": "[encoded data removed]",
      "text/plain": [
       "<Figure size 2500x1000 with 2 Axes>"
      ]
     },
     "metadata": {},
     "output_type": "display_data"
    }
   ],
   "source": [
    "# Affichage d'un graphique des valeurs manquantes :\n",
    "msno.matrix(resultats_MOOC_2)\n",
    "\n",
    "# Affichage du plot :\n",
    "plt.show()"
   ]
  },
  {
   "cell_type": "code",
   "execution_count": 331,
   "metadata": {},
   "outputs": [
    {
     "data": {
      "text/html": [
       "<div>\n",
       "<style scoped>\n",
       "    .dataframe tbody tr th:only-of-type {\n",
       "        vertical-align: middle;\n",
       "    }\n",
       "\n",
       "    .dataframe tbody tr th {\n",
       "        vertical-align: top;\n",
       "    }\n",
       "\n",
       "    .dataframe thead th {\n",
       "        text-align: right;\n",
       "    }\n",
       "</style>\n",
       "<table border=\"1\" class=\"dataframe\">\n",
       "  <thead>\n",
       "    <tr style=\"text-align: right;\">\n",
       "      <th></th>\n",
       "      <th>Gender</th>\n",
       "      <th>HDI_grouped</th>\n",
       "      <th>Exam_Certif.bin</th>\n",
       "      <th>iteration</th>\n",
       "    </tr>\n",
       "  </thead>\n",
       "  <tbody>\n",
       "    <tr>\n",
       "      <th>13068</th>\n",
       "      <td>Homme</td>\n",
       "      <td>B</td>\n",
       "      <td>1.0</td>\n",
       "      <td>3</td>\n",
       "    </tr>\n",
       "    <tr>\n",
       "      <th>13067</th>\n",
       "      <td>Homme</td>\n",
       "      <td>B</td>\n",
       "      <td>1.0</td>\n",
       "      <td>3</td>\n",
       "    </tr>\n",
       "    <tr>\n",
       "      <th>13046</th>\n",
       "      <td>Homme</td>\n",
       "      <td>B</td>\n",
       "      <td>1.0</td>\n",
       "      <td>2</td>\n",
       "    </tr>\n",
       "  </tbody>\n",
       "</table>\n",
       "</div>"
      ],
      "text/plain": [
       "      Gender HDI_grouped  Exam_Certif.bin  iteration\n",
       "13068  Homme           B              1.0          3\n",
       "13067  Homme           B              1.0          3\n",
       "13046  Homme           B              1.0          2"
      ]
     },
     "execution_count": 331,
     "metadata": {},
     "output_type": "execute_result"
    }
   ],
   "source": [
    "# Conservation des variables d'intérêt :\n",
    "resultats_MOOC_2 = resultats_MOOC_2[['Gender', 'HDI_grouped', 'Exam_Certif.bin', 'iteration']]\n",
    "resultats_MOOC_2.head(3)"
   ]
  },
  {
   "cell_type": "code",
   "execution_count": 332,
   "metadata": {},
   "outputs": [
    {
     "name": "stdout",
     "output_type": "stream",
     "text": [
      "13068    1\n",
      "13067    1\n",
      "13046    1\n",
      "Name: Gender, dtype: object\n"
     ]
    }
   ],
   "source": [
    "# Conversion de 'Gender' en variable binaire :\n",
    "resultats_MOOC_2.loc[:, 'Gender'] = resultats_MOOC_2['Gender'].map({'Femme': 0, 'Homme': 1})\n",
    "print(resultats_MOOC_2['Gender'].head(3))"
   ]
  },
  {
   "cell_type": "code",
   "execution_count": 333,
   "metadata": {},
   "outputs": [
    {
     "name": "stdout",
     "output_type": "stream",
     "text": [
      "Gender               int64\n",
      "HDI_grouped         object\n",
      "Exam_Certif.bin    float64\n",
      "iteration            int64\n",
      "dtype: object\n"
     ]
    }
   ],
   "source": [
    "# Conversion de la colonne 'Gender' en type numérique :\n",
    "resultats_MOOC_2['Gender'] = pd.to_numeric(resultats_MOOC_2['Gender'], errors='coerce')\n",
    "print(resultats_MOOC_2.dtypes)"
   ]
  },
  {
   "cell_type": "code",
   "execution_count": 334,
   "metadata": {},
   "outputs": [
    {
     "name": "stdout",
     "output_type": "stream",
     "text": [
      "Int64\n"
     ]
    }
   ],
   "source": [
    "# Conversion en type entier tout en gardant les NaN :\n",
    "resultats_MOOC_2['Exam_Certif.bin'] = resultats_MOOC_2['Exam_Certif.bin'].astype('Int64')\n",
    "\n",
    "# Vérification du type de la colonne après conversion :\n",
    "print(resultats_MOOC_2['Exam_Certif.bin'].dtype)"
   ]
  },
  {
   "cell_type": "code",
   "execution_count": 335,
   "metadata": {},
   "outputs": [
    {
     "data": {
      "text/html": [
       "<div>\n",
       "<style scoped>\n",
       "    .dataframe tbody tr th:only-of-type {\n",
       "        vertical-align: middle;\n",
       "    }\n",
       "\n",
       "    .dataframe tbody tr th {\n",
       "        vertical-align: top;\n",
       "    }\n",
       "\n",
       "    .dataframe thead th {\n",
       "        text-align: right;\n",
       "    }\n",
       "</style>\n",
       "<table border=\"1\" class=\"dataframe\">\n",
       "  <thead>\n",
       "    <tr style=\"text-align: right;\">\n",
       "      <th></th>\n",
       "      <th>Gender</th>\n",
       "      <th>Exam_Certif.bin</th>\n",
       "      <th>iteration</th>\n",
       "      <th>HDI_grouped_I</th>\n",
       "      <th>HDI_grouped_TH</th>\n",
       "    </tr>\n",
       "  </thead>\n",
       "  <tbody>\n",
       "    <tr>\n",
       "      <th>13068</th>\n",
       "      <td>1</td>\n",
       "      <td>1</td>\n",
       "      <td>3</td>\n",
       "      <td>False</td>\n",
       "      <td>False</td>\n",
       "    </tr>\n",
       "    <tr>\n",
       "      <th>13067</th>\n",
       "      <td>1</td>\n",
       "      <td>1</td>\n",
       "      <td>3</td>\n",
       "      <td>False</td>\n",
       "      <td>False</td>\n",
       "    </tr>\n",
       "    <tr>\n",
       "      <th>13046</th>\n",
       "      <td>1</td>\n",
       "      <td>1</td>\n",
       "      <td>2</td>\n",
       "      <td>False</td>\n",
       "      <td>False</td>\n",
       "    </tr>\n",
       "  </tbody>\n",
       "</table>\n",
       "</div>"
      ],
      "text/plain": [
       "       Gender  Exam_Certif.bin  iteration  HDI_grouped_I  HDI_grouped_TH\n",
       "13068       1                1          3          False           False\n",
       "13067       1                1          3          False           False\n",
       "13046       1                1          2          False           False"
      ]
     },
     "execution_count": 335,
     "metadata": {},
     "output_type": "execute_result"
    }
   ],
   "source": [
    "# Encodage de 'HDI_grouped' en variables indicatrices :\n",
    "resultats_MOOC_2 = pd.get_dummies(resultats_MOOC_2, \n",
    "                                  columns = ['HDI_grouped'], \n",
    "                                  drop_first = True)\n",
    "resultats_MOOC_2.head(3)"
   ]
  },
  {
   "cell_type": "code",
   "execution_count": 336,
   "metadata": {},
   "outputs": [],
   "source": [
    "# Conversion de 'HDI_grouped_TH' en variable numérique (True = 1, False = 0) :\n",
    "resultats_MOOC_2['HDI_grouped_TH'] = resultats_MOOC_2['HDI_grouped_TH'].astype(int)"
   ]
  },
  {
   "cell_type": "code",
   "execution_count": 337,
   "metadata": {},
   "outputs": [
    {
     "data": {
      "text/html": [
       "<div>\n",
       "<style scoped>\n",
       "    .dataframe tbody tr th:only-of-type {\n",
       "        vertical-align: middle;\n",
       "    }\n",
       "\n",
       "    .dataframe tbody tr th {\n",
       "        vertical-align: top;\n",
       "    }\n",
       "\n",
       "    .dataframe thead th {\n",
       "        text-align: right;\n",
       "    }\n",
       "</style>\n",
       "<table border=\"1\" class=\"dataframe\">\n",
       "  <thead>\n",
       "    <tr style=\"text-align: right;\">\n",
       "      <th></th>\n",
       "      <th>Gender</th>\n",
       "      <th>Exam_Certif.bin</th>\n",
       "      <th>iteration</th>\n",
       "      <th>HDI_grouped_I</th>\n",
       "      <th>HDI_grouped_TH</th>\n",
       "    </tr>\n",
       "  </thead>\n",
       "  <tbody>\n",
       "    <tr>\n",
       "      <th>13068</th>\n",
       "      <td>1</td>\n",
       "      <td>1</td>\n",
       "      <td>3</td>\n",
       "      <td>0</td>\n",
       "      <td>0</td>\n",
       "    </tr>\n",
       "    <tr>\n",
       "      <th>13067</th>\n",
       "      <td>1</td>\n",
       "      <td>1</td>\n",
       "      <td>3</td>\n",
       "      <td>0</td>\n",
       "      <td>0</td>\n",
       "    </tr>\n",
       "    <tr>\n",
       "      <th>13046</th>\n",
       "      <td>1</td>\n",
       "      <td>1</td>\n",
       "      <td>2</td>\n",
       "      <td>0</td>\n",
       "      <td>0</td>\n",
       "    </tr>\n",
       "  </tbody>\n",
       "</table>\n",
       "</div>"
      ],
      "text/plain": [
       "       Gender  Exam_Certif.bin  iteration  HDI_grouped_I  HDI_grouped_TH\n",
       "13068       1                1          3              0               0\n",
       "13067       1                1          3              0               0\n",
       "13046       1                1          2              0               0"
      ]
     },
     "execution_count": 337,
     "metadata": {},
     "output_type": "execute_result"
    }
   ],
   "source": [
    "# Conversion de 'HDI_grouped_TH' en variable numérique (True=1, False=0) :\n",
    "resultats_MOOC_2['HDI_grouped_I'] = resultats_MOOC_2['HDI_grouped_I'].astype(int)\n",
    "resultats_MOOC_2.head(3)"
   ]
  },
  {
   "cell_type": "code",
   "execution_count": 338,
   "metadata": {},
   "outputs": [],
   "source": [
    "# Définition des variables indépendantes (X) et dépendante (y) :\n",
    "X = resultats_MOOC_2[['Gender', 'HDI_grouped_I', 'HDI_grouped_TH']]\n",
    "y = resultats_MOOC_2['Exam_Certif.bin']"
   ]
  },
  {
   "cell_type": "code",
   "execution_count": 339,
   "metadata": {},
   "outputs": [],
   "source": [
    "# Ajout d'une constante (intercept) au modèle :\n",
    "X = sm.add_constant(X)"
   ]
  },
  {
   "cell_type": "code",
   "execution_count": 340,
   "metadata": {},
   "outputs": [
    {
     "name": "stdout",
     "output_type": "stream",
     "text": [
      "Optimization terminated successfully.\n",
      "         Current function value: 0.624211\n",
      "         Iterations 5\n"
     ]
    }
   ],
   "source": [
    "# Ajustement du modèle de régression logistique :\n",
    "model = sm.Logit(y, X)\n",
    "result = model.fit()"
   ]
  },
  {
   "cell_type": "code",
   "execution_count": 341,
   "metadata": {},
   "outputs": [
    {
     "name": "stdout",
     "output_type": "stream",
     "text": [
      "                           Logit Regression Results                           \n",
      "==============================================================================\n",
      "Dep. Variable:        Exam_Certif.bin   No. Observations:                 2418\n",
      "Model:                          Logit   Df Residuals:                     2414\n",
      "Method:                           MLE   Df Model:                            3\n",
      "Date:                Sun, 07 Sep 2025   Pseudo R-squ.:               0.0008539\n",
      "Time:                        16:01:04   Log-Likelihood:                -1509.3\n",
      "converged:                       True   LL-Null:                       -1510.6\n",
      "Covariance Type:            nonrobust   LLR p-value:                    0.4610\n",
      "==================================================================================\n",
      "                     coef    std err          z      P>|z|      [0.025      0.975]\n",
      "----------------------------------------------------------------------------------\n",
      "const              0.7109      0.167      4.252      0.000       0.383       1.039\n",
      "Gender             0.1408      0.091      1.545      0.122      -0.038       0.320\n",
      "HDI_grouped_I     -0.0528      0.227     -0.233      0.816      -0.497       0.391\n",
      "HDI_grouped_TH    -0.0350      0.158     -0.222      0.824      -0.344       0.274\n",
      "==================================================================================\n"
     ]
    }
   ],
   "source": [
    "# Résumé des résultats :\n",
    "print(result.summary())"
   ]
  },
  {
   "cell_type": "code",
   "execution_count": 342,
   "metadata": {},
   "outputs": [
    {
     "data": {
      "text/plain": [
       "const             2.035876\n",
       "Gender            1.151250\n",
       "HDI_grouped_I     0.948526\n",
       "HDI_grouped_TH    0.965582\n",
       "dtype: float64"
      ]
     },
     "execution_count": 342,
     "metadata": {},
     "output_type": "execute_result"
    }
   ],
   "source": [
    "# Calcul des odds ratios en exponentiant les coefficients :\n",
    "odds_ratios = np.exp(result.params)\n",
    "odds_ratios"
   ]
  },
  {
   "cell_type": "code",
   "execution_count": 343,
   "metadata": {},
   "outputs": [
    {
     "data": {
      "text/html": [
       "<div>\n",
       "<style scoped>\n",
       "    .dataframe tbody tr th:only-of-type {\n",
       "        vertical-align: middle;\n",
       "    }\n",
       "\n",
       "    .dataframe tbody tr th {\n",
       "        vertical-align: top;\n",
       "    }\n",
       "\n",
       "    .dataframe thead th {\n",
       "        text-align: right;\n",
       "    }\n",
       "</style>\n",
       "<table border=\"1\" class=\"dataframe\">\n",
       "  <thead>\n",
       "    <tr style=\"text-align: right;\">\n",
       "      <th></th>\n",
       "      <th>Coef</th>\n",
       "      <th>Odds Ratios</th>\n",
       "      <th>IC 95% (min)</th>\n",
       "      <th>IC 95% (max)</th>\n",
       "      <th>p-value</th>\n",
       "    </tr>\n",
       "  </thead>\n",
       "  <tbody>\n",
       "    <tr>\n",
       "      <th>Références (Femme &amp; IDH B)</th>\n",
       "      <td>0.71</td>\n",
       "      <td>2.04</td>\n",
       "      <td>1.47</td>\n",
       "      <td>2.83</td>\n",
       "      <td>0.0000</td>\n",
       "    </tr>\n",
       "    <tr>\n",
       "      <th>Genre = Homme</th>\n",
       "      <td>0.14</td>\n",
       "      <td>1.15</td>\n",
       "      <td>0.96</td>\n",
       "      <td>1.38</td>\n",
       "      <td>0.1224</td>\n",
       "    </tr>\n",
       "    <tr>\n",
       "      <th>IDH = I</th>\n",
       "      <td>-0.05</td>\n",
       "      <td>0.95</td>\n",
       "      <td>0.61</td>\n",
       "      <td>1.48</td>\n",
       "      <td>0.8155</td>\n",
       "    </tr>\n",
       "    <tr>\n",
       "      <th>IDH = TH</th>\n",
       "      <td>-0.04</td>\n",
       "      <td>0.97</td>\n",
       "      <td>0.71</td>\n",
       "      <td>1.32</td>\n",
       "      <td>0.8241</td>\n",
       "    </tr>\n",
       "  </tbody>\n",
       "</table>\n",
       "</div>"
      ],
      "text/plain": [
       "                            Coef  Odds Ratios  IC 95% (min)  IC 95% (max)  \\\n",
       "Références (Femme & IDH B)  0.71         2.04          1.47          2.83   \n",
       "Genre = Homme               0.14         1.15          0.96          1.38   \n",
       "IDH = I                    -0.05         0.95          0.61          1.48   \n",
       "IDH = TH                   -0.04         0.97          0.71          1.32   \n",
       "\n",
       "                            p-value  \n",
       "Références (Femme & IDH B)   0.0000  \n",
       "Genre = Homme                0.1224  \n",
       "IDH = I                      0.8155  \n",
       "IDH = TH                     0.8241  "
      ]
     },
     "execution_count": 343,
     "metadata": {},
     "output_type": "execute_result"
    }
   ],
   "source": [
    "# Extraction des coefficients et des intervalles de confiance :\n",
    "coef = result.params\n",
    "conf = result.conf_int()\n",
    "\n",
    "# Calcul des odd ratios en exponentiant les coefficients :\n",
    "odd_ratios = np.exp(coef)\n",
    "\n",
    "# Calcul des intervalles de confiance pour les odd ratios :\n",
    "conf_exp = np.exp(conf)\n",
    "\n",
    "# Construction de la table des odds ratios :\n",
    "odds_table = pd.DataFrame({\n",
    "    'Coef': coef,\n",
    "    'Odds Ratios': odd_ratios,\n",
    "    'IC 95% (min)': conf_exp[0],  # Intervalle de confiance inférieur\n",
    "    'IC 95% (max)': conf_exp[1],  # Intervalle de confiance supérieur\n",
    "    'p-value': result.pvalues\n",
    "})\n",
    "\n",
    "# Arrondi des résultats :\n",
    "odds_table = odds_table.round({'Coef': 2, \n",
    "                               'Odds Ratios': 2, \n",
    "                               'IC 95% (min)': 2, \n",
    "                               'IC 95% (max)': 2, \n",
    "                               'p-value': 4})\n",
    "\n",
    "# Changement des noms des lignes de la table :\n",
    "odds_table.index = ['Références (Femme & IDH B)', 'Genre = Homme', 'IDH = I', 'IDH = TH']\n",
    "odds_table"
   ]
  },
  {
   "cell_type": "markdown",
   "metadata": {},
   "source": [
    "> Les résultats de la régression logistique montrent que, par rapport au groupe de référence (femmes avec IDH B), le genre et les différentes catégories d'IDH n'ont pas d'effet significatif sur l'obtention du certificat.\n",
    "\n",
    "> Pour les hommes, l'odds ratio est de 1,15 (IC 95% : [0,96, 1,38], p = 0,1224), indiquant une légère augmentation des chances d'obtenir le certificat, mais cette différence n'est pas statistiquement significative, car la p-value est supérieure à 0,05. Il n'y a donc pas de preuve suffisante pour conclure à un effet du genre sur l'obtention du certificat.\n",
    "\n",
    "> Concernant l'IDH, les résultats montrent que l'odds ratio pour IDH I est de 0,95 (IC 95% : [0,61, 1,48], p = 0,8155), ce qui suggère une légère réduction des chances d'obtenir le certificat, mais cette relation n'est pas significative en raison d'une p-value élevée.\n",
    "\n",
    "> De même, pour IDH TH, l'odds ratio est de 0,97 (IC 95% : [0,71, 1,32], p = 0,8241), indiquant une très faible réduction des chances d'obtenir le certificat, sans effet significatif, puisque la p-value est également supérieure à 0,05."
   ]
  },
  {
   "cell_type": "code",
   "execution_count": 344,
   "metadata": {},
   "outputs": [],
   "source": [
    "# Suppression de la première ligne du DataFrame 'odds_table' :\n",
    "odds_table = odds_table.drop(odds_table.index[0])"
   ]
  },
  {
   "cell_type": "code",
   "execution_count": 345,
   "metadata": {},
   "outputs": [
    {
     "data": {
      "image/png": "[encoded data removed]",
      "text/plain": [
       "<Figure size 500x500 with 1 Axes>"
      ]
     },
     "metadata": {},
     "output_type": "display_data"
    }
   ],
   "source": [
    "# Ajout d'un style au graphique :\n",
    "sns.set()\n",
    "\n",
    "# Changement de la police de caractère :\n",
    "plt.rcParams['font.family'] = \"EB Garamond\"\n",
    "plt.rcParams['font.size'] = 12\n",
    "\n",
    "# Création du Forest Plot :\n",
    "plt.figure(figsize=(5, 5))\n",
    "\n",
    "# Placement des intervalles de confiance :\n",
    "plt.errorbar(odds_table['Odds Ratios'], \n",
    "             range(len(odds_table)),\n",
    "             xerr = [odds_table['Odds Ratios'] - odds_table['IC 95% (min)'],\n",
    "                     odds_table['IC 95% (max)'] - odds_table['Odds Ratios']],\n",
    "             fmt = 'o', \n",
    "             color = 'darkslateblue', \n",
    "             markersize = 5, \n",
    "             label = 'Odds Ratios')\n",
    "\n",
    "# Ajout des lignes pour les coefficients :\n",
    "plt.scatter(odds_table['Odds Ratios'],\n",
    "            range(len(odds_table)),\n",
    "            color = 'darkslateblue',\n",
    "            zorder = 5)\n",
    "\n",
    "# Ajout d'un axe x log-scale :\n",
    "plt.xscale('log')\n",
    "\n",
    "# Ajout des étiquettes aux axes :\n",
    "plt.yticks(range(len(odds_table)), odds_table.index)\n",
    "plt.xlabel('Odds Ratios')\n",
    "\n",
    "# Ajout d'une ligne verticale pour l'Odd Ratio = 1 (indicateur d'absence d'effet) :\n",
    "plt.axvline(x = 1, \n",
    "            color = 'greenyellow', \n",
    "            linestyle = '--', \n",
    "            label = 'OR = 1 (Référence)')\n",
    "\n",
    "# Légende à l'extérieur en haut à droite :\n",
    "plt.legend(loc = 'upper left', bbox_to_anchor = (1, 1))\n",
    "\n",
    "# Affichage du graphique :\n",
    "plt.show()"
   ]
  },
  {
   "cell_type": "markdown",
   "metadata": {},
   "source": [
    "> En conclusion, les résultats de l'ANOVA montrent que l'effet de l'IDH sur le nombre de vidéos vues est significatif (F(2, 89) = 4674, p < 0.001), tandis que l'effet du genre n'est pas significatif (F(1, 89) = 0.41, p = 0.52). \n",
    "\n",
    "> L'interaction entre l'IDH et le genre est également non significative (F(2, 89) = 1.42, p = 0.243). \n",
    "\n",
    "> En régression logistique, bien que les catégories IDH Intermédiaire (OR = 4.24, p < 0.001) et IDH Très Haut (OR = 8.71, p < 0.001) montrent un effet positif pour l'obtention du certificat ou la réussite de l'examen, cet effet n'est pas statistiquement significatif pour l'IDH dans le modèle (p > 0.05), et le genre n'a pas d'impact significatif sur cette probabilité (OR = 1.15, p = 0.1224)."
   ]
  },
  {
   "cell_type": "markdown",
   "metadata": {},
   "source": [
    "> L'odds ratio (OR) ne correspond pas stricto sensu au risque relatif (RR) car l'OR compare les cotes (odds) tandis que le RR compare les probabilités (risques) entre deux groupes. \n",
    "\n",
    "> Les cotes mesurent le rapport entre la probabilité de l'événement et sa non-survenue, alors que le risque relatif mesure la probabilité d'occurrence de l'événement dans chaque groupe. \n",
    "\n",
    "> Les OR et RR convergent uniquement lorsque l'événement est rare, c'est-à-dire lorsque les probabilités sont faibles. \n",
    "\n",
    "> Dans ce cas, les cotes se rapprochent des risques, rendant les deux mesures presque équivalentes."
   ]
  },
  {
   "cell_type": "markdown",
   "metadata": {},
   "source": [
    "#### 3.6.2. Données de comptage et loi de Poisson"
   ]
  },
  {
   "cell_type": "markdown",
   "metadata": {},
   "source": [
    "### Figure 1 : Distribution du nombre de vidéos vues par apprenants\n",
    "![Figure 1 : Distribution du nombre de vidéos Vues par apprenants](figure_videos_vues.png)"
   ]
  },
  {
   "cell_type": "markdown",
   "metadata": {},
   "source": [
    "> La distribution du nombre de vidéos vues dans un MOOC ne suit pas une loi de Poisson en raison de son asymétrie et des valeurs extrêmes à droite. \n",
    "\n",
    "> Beaucoup d'apprenants regardent peu de vidéos, ce qui génère une forte concentration à gauche de l'histogramme. \n",
    "\n",
    "> En outre, les comportements des apprenants sont très variés, certains étant plus engagés que d'autres. \n",
    "\n",
    "> La loi de Poisson ne convient pas à cette dispersion élevée des données"
   ]
  },
  {
   "cell_type": "code",
   "execution_count": 346,
   "metadata": {},
   "outputs": [
    {
     "name": "stdout",
     "output_type": "stream",
     "text": [
      "Optimization terminated successfully.\n",
      "         Current function value: 7.444218\n",
      "         Iterations 6\n",
      "                          Poisson Regression Results                          \n",
      "==============================================================================\n",
      "Dep. Variable:            videos_vues   No. Observations:                 8924\n",
      "Model:                        Poisson   Df Residuals:                     8920\n",
      "Method:                           MLE   Df Model:                            3\n",
      "Date:                Sun, 07 Sep 2025   Pseudo R-squ.:                 0.04654\n",
      "Time:                        16:01:04   Log-Likelihood:                -66432.\n",
      "converged:                       True   LL-Null:                       -69675.\n",
      "Covariance Type:            nonrobust   LLR p-value:                     0.000\n",
      "=====================================================================================\n",
      "                        coef    std err          z      P>|z|      [0.025      0.975]\n",
      "-------------------------------------------------------------------------------------\n",
      "Intercept             1.8778      0.013    141.200      0.000       1.852       1.904\n",
      "HDI_grouped[T.I]      0.5047      0.017     29.527      0.000       0.471       0.538\n",
      "HDI_grouped[T.TH]     0.8522      0.013     67.159      0.000       0.827       0.877\n",
      "Gender[T.Homme]      -0.0113      0.006     -1.874      0.061      -0.023       0.001\n",
      "=====================================================================================\n"
     ]
    }
   ],
   "source": [
    "# Conversion de la variable 'Gender' en type catégoriel :\n",
    "resultats_MOOC['Gender'] = pd.Categorical(resultats_MOOC['Gender'])\n",
    "\n",
    "# Création du modèle de régression de Poisson :\n",
    "poisson_model = smf.poisson('videos_vues ~ HDI_grouped + Gender', data = resultats_MOOC).fit()\n",
    "\n",
    "# Affichage du résumé des résultats du modèle :\n",
    "print(poisson_model.summary())"
   ]
  },
  {
   "cell_type": "markdown",
   "metadata": {},
   "source": [
    "> Le coefficient pour le genre masculin est de -0.01 (SE = 0.01), avec une z-value de -1.9 et une p-value de 0.06, suggérant un effet marginal, non significatif au niveau de 5 %.\n",
    "\n",
    ">"
   ]
  },
  {
   "cell_type": "markdown",
   "metadata": {},
   "source": [
    "#### 3.6.3. Conclure sur une analyse de survie"
   ]
  },
  {
   "cell_type": "code",
   "execution_count": 347,
   "metadata": {},
   "outputs": [
    {
     "data": {
      "text/plain": [
       "<lifelines.CoxPHFitter: fitted with 8924 total observations, 1279 right-censored observations>"
      ]
     },
     "execution_count": 347,
     "metadata": {},
     "output_type": "execute_result"
    }
   ],
   "source": [
    "# Encodage de la variable 'Gender' en numérique :\n",
    "resultats_MOOC['Gender_encoded'] = resultats_MOOC['Gender'].map({'Femme': 0, 'Homme': 1})\n",
    "\n",
    "# Création d'une nouvelle colonne 'event' pour définir l'événement (0 = l'apprenant n'a pas vu les vidéos, 1 = l'apprenant a vu au moins une vidéo) :\n",
    "resultats_MOOC['event'] = (resultats_MOOC['videos_vues'] > 0).astype(int)\n",
    "\n",
    "# Ajustement d'un modèle de Cox avec 'videos_vues' comme variable de durée et 'Gender_encoded' comme covariable :\n",
    "cph = CoxPHFitter()\n",
    "\n",
    "# Ajustement du modèle :\n",
    "cph.fit(resultats_MOOC[['videos_vues', 'Gender_encoded', 'event']], \n",
    "        duration_col = 'videos_vues', \n",
    "        event_col = 'event')"
   ]
  },
  {
   "cell_type": "code",
   "execution_count": 348,
   "metadata": {},
   "outputs": [
    {
     "data": {
      "text/plain": [
       "<Figure size 1000x600 with 0 Axes>"
      ]
     },
     "metadata": {},
     "output_type": "display_data"
    },
    {
     "data": {
      "image/png": "[encoded data removed]",
      "text/plain": [
       "<Figure size 640x480 with 1 Axes>"
      ]
     },
     "metadata": {},
     "output_type": "display_data"
    }
   ],
   "source": [
    "# Création de la figure :\n",
    "plt.figure(figsize = (10, 6))\n",
    "\n",
    "# Affichage des courbes de survie par Genre :\n",
    "cph.plot_covariate_groups('Gender_encoded', \n",
    "                          values = [0, 1], \n",
    "                          color = ['greenyellow', 'darkslateblue'],\n",
    "                          alpha = 0.8)\n",
    "\n",
    "# Modification des labels des x et des y :\n",
    "plt.xlabel(\"Nombre de vidéos vues\")\n",
    "plt.ylabel(\"Proportion d'apprenants\")\n",
    "\n",
    "# Formatage de l'axe des ordonnées en pourcentage :\n",
    "plt.gca().yaxis.set_major_formatter(mtick.PercentFormatter(xmax = 1))\n",
    "\n",
    "# Personnalisation de la légende :\n",
    "plt.legend(labels = [\"Femme\", \"Homme\"], \n",
    "           title = \"Genre\")\n",
    "\n",
    "# Affichage de la figure :\n",
    "plt.show()"
   ]
  },
  {
   "cell_type": "code",
   "execution_count": 349,
   "metadata": {},
   "outputs": [
    {
     "data": {
      "text/html": [
       "<div>\n",
       "<style scoped>\n",
       "    .dataframe tbody tr th:only-of-type {\n",
       "        vertical-align: middle;\n",
       "    }\n",
       "\n",
       "    .dataframe tbody tr th {\n",
       "        vertical-align: top;\n",
       "    }\n",
       "\n",
       "    .dataframe thead th {\n",
       "        text-align: right;\n",
       "    }\n",
       "</style>\n",
       "<table border=\"1\" class=\"dataframe\">\n",
       "  <thead>\n",
       "    <tr style=\"text-align: right;\">\n",
       "      <th></th>\n",
       "      <th>Gender</th>\n",
       "      <th>videos_vues</th>\n",
       "    </tr>\n",
       "  </thead>\n",
       "  <tbody>\n",
       "    <tr>\n",
       "      <th>0</th>\n",
       "      <td>Femme</td>\n",
       "      <td>14.5</td>\n",
       "    </tr>\n",
       "    <tr>\n",
       "      <th>1</th>\n",
       "      <td>Homme</td>\n",
       "      <td>13.6</td>\n",
       "    </tr>\n",
       "  </tbody>\n",
       "</table>\n",
       "</div>"
      ],
      "text/plain": [
       "  Gender  videos_vues\n",
       "0  Femme         14.5\n",
       "1  Homme         13.6"
      ]
     },
     "execution_count": 349,
     "metadata": {},
     "output_type": "execute_result"
    }
   ],
   "source": [
    "# Calcul de la moyenne des vidéos vues par genre :\n",
    "moyenne_videos_par_genre = resultats_MOOC.groupby('Gender', observed = True)['videos_vues'].mean().reset_index()\n",
    "moyenne_videos_par_genre.round(1)"
   ]
  },
  {
   "cell_type": "code",
   "execution_count": 350,
   "metadata": {},
   "outputs": [
    {
     "data": {
      "text/html": [
       "<div>\n",
       "<style scoped>\n",
       "    .dataframe tbody tr th:only-of-type {\n",
       "        vertical-align: middle;\n",
       "    }\n",
       "\n",
       "    .dataframe tbody tr th {\n",
       "        vertical-align: top;\n",
       "    }\n",
       "\n",
       "    .dataframe thead th {\n",
       "        text-align: right;\n",
       "    }\n",
       "</style>\n",
       "<table border=\"1\" class=\"dataframe\">\n",
       "  <thead>\n",
       "    <tr style=\"text-align: right;\">\n",
       "      <th></th>\n",
       "      <th>Gender</th>\n",
       "      <th>videos_vues</th>\n",
       "    </tr>\n",
       "  </thead>\n",
       "  <tbody>\n",
       "    <tr>\n",
       "      <th>0</th>\n",
       "      <td>Femme</td>\n",
       "      <td>14.5</td>\n",
       "    </tr>\n",
       "    <tr>\n",
       "      <th>1</th>\n",
       "      <td>Homme</td>\n",
       "      <td>13.6</td>\n",
       "    </tr>\n",
       "  </tbody>\n",
       "</table>\n",
       "</div>"
      ],
      "text/plain": [
       "  Gender  videos_vues\n",
       "0  Femme         14.5\n",
       "1  Homme         13.6"
      ]
     },
     "execution_count": 350,
     "metadata": {},
     "output_type": "execute_result"
    }
   ],
   "source": [
    "# Calcul de la moyenne des vidéos vues par genre :\n",
    "moyenne_videos_par_genre = resultats_MOOC.groupby('Gender', observed = True)['videos_vues'].mean().reset_index()\n",
    "moyenne_videos_par_genre.round(1)"
   ]
  },
  {
   "cell_type": "code",
   "execution_count": 351,
   "metadata": {},
   "outputs": [
    {
     "data": {
      "text/plain": [
       "<lifelines.CoxPHFitter: fitted with 8924 total observations, 1279 right-censored observations>"
      ]
     },
     "execution_count": 351,
     "metadata": {},
     "output_type": "execute_result"
    }
   ],
   "source": [
    "# Encodage de la variable 'HDI_grouped' en numérique :\n",
    "resultats_MOOC['HDI_encoded'] = resultats_MOOC['HDI_grouped'].map({'B': 0, 'I': 1, 'TH' : 2})\n",
    "\n",
    "# Création d'une nouvelle colonne 'event' pour définir l'événement (0 = l'apprenant n'a pas vu les vidéos, 1 = l'apprenant a vu au moins une vidéo) :\n",
    "resultats_MOOC['event'] = (resultats_MOOC['videos_vues'] > 0).astype(int)\n",
    "\n",
    "# Ajustement d'un modèle de Cox avec 'videos_vues' comme variable de durée et 'Gender_encoded' comme covariable :\n",
    "cph = CoxPHFitter()\n",
    "\n",
    "# Ajustement du modèle :\n",
    "cph.fit(resultats_MOOC[['videos_vues', 'HDI_encoded', 'event']], duration_col='videos_vues', event_col='event')"
   ]
  },
  {
   "cell_type": "code",
   "execution_count": 352,
   "metadata": {},
   "outputs": [
    {
     "data": {
      "text/html": [
       "<div>\n",
       "<style scoped>\n",
       "    .dataframe tbody tr th:only-of-type {\n",
       "        vertical-align: middle;\n",
       "    }\n",
       "\n",
       "    .dataframe tbody tr th {\n",
       "        vertical-align: top;\n",
       "    }\n",
       "\n",
       "    .dataframe thead th {\n",
       "        text-align: right;\n",
       "    }\n",
       "</style>\n",
       "<table border=\"1\" class=\"dataframe\">\n",
       "  <thead>\n",
       "    <tr style=\"text-align: right;\">\n",
       "      <th></th>\n",
       "      <th>HDI_grouped</th>\n",
       "      <th>videos_vues</th>\n",
       "    </tr>\n",
       "  </thead>\n",
       "  <tbody>\n",
       "    <tr>\n",
       "      <th>0</th>\n",
       "      <td>B</td>\n",
       "      <td>6.5</td>\n",
       "    </tr>\n",
       "    <tr>\n",
       "      <th>1</th>\n",
       "      <td>I</td>\n",
       "      <td>10.8</td>\n",
       "    </tr>\n",
       "    <tr>\n",
       "      <th>2</th>\n",
       "      <td>TH</td>\n",
       "      <td>15.2</td>\n",
       "    </tr>\n",
       "  </tbody>\n",
       "</table>\n",
       "</div>"
      ],
      "text/plain": [
       "  HDI_grouped  videos_vues\n",
       "0           B          6.5\n",
       "1           I         10.8\n",
       "2          TH         15.2"
      ]
     },
     "execution_count": 352,
     "metadata": {},
     "output_type": "execute_result"
    }
   ],
   "source": [
    "# Calcul de la moyenne des vidéos vues par IDH :\n",
    "moyenne_videos_par_idh = resultats_MOOC.groupby('HDI_grouped', observed = True)['videos_vues'].mean().reset_index()\n",
    "\n",
    "# Arrondi des moyennes à 1 chiffre après la virgule :\n",
    "moyenne_videos_par_idh['videos_vues'] = moyenne_videos_par_idh['videos_vues'].round(1)\n",
    "moyenne_videos_par_idh"
   ]
  },
  {
   "cell_type": "code",
   "execution_count": 353,
   "metadata": {},
   "outputs": [
    {
     "data": {
      "text/plain": [
       "<Figure size 600x600 with 0 Axes>"
      ]
     },
     "metadata": {},
     "output_type": "display_data"
    },
    {
     "data": {
      "image/png": "[encoded data removed]",
      "text/plain": [
       "<Figure size 640x480 with 1 Axes>"
      ]
     },
     "metadata": {},
     "output_type": "display_data"
    }
   ],
   "source": [
    "# Création de la figure :\n",
    "plt.figure(figsize = (6, 6))\n",
    "\n",
    "# Affichage des courbes de survie par HDI :\n",
    "cph.plot_covariate_groups('HDI_encoded', \n",
    "                          values = [0, 1, 2], \n",
    "                          color = ['greenyellow', 'darkslateblue', 'orange'],\n",
    "                          alpha = 0.8)\n",
    "\n",
    "# Ajout des étiquettes aux axes :\n",
    "plt.xlabel(\"Nombre de vidéos vues\")\n",
    "plt.ylabel(\"Proportion d'apprenants\")\n",
    "\n",
    "# Formatage de l'axe des ordonnées en pourcentage :\n",
    "plt.gca().yaxis.set_major_formatter(mtick.PercentFormatter(xmax=1))\n",
    "\n",
    "# Personnalisation de la légende :\n",
    "plt.legend(labels = [\"Bas\", \"Intermédiaire\", \"Très Haut\"], \n",
    "           title = \"IDH\")\n",
    "\n",
    "# Affichage de la figure :\n",
    "plt.show()"
   ]
  },
  {
   "cell_type": "markdown",
   "metadata": {},
   "source": [
    "> Les analyses ont révélé des différences significatives dans la consommation de vidéos entre les auditeurs et les apprenants désengagés, mesurées par les Hazard Ratios (HR). \n",
    "\n",
    "> Pour les auditeurs, le HR était de 1,78, indiquant qu'ils consommaient plus de vidéos que les apprenants désengagés (HR = 1,66 pour les apprenants désengagés). \n",
    "\n",
    "> En revanche, les apprenants désengagés avaient un HR de 2,33, suggérant une consommation plus faible de vidéos par rapport aux auditeurs. \n",
    "\n",
    "> Les résultats ont montré une différence statistiquement significative, avec une p-value < 0,001, ce qui indique que ces différences de consommation sont significatives sur le plan statistique."
   ]
  }
 ],
 "metadata": {
  "kernelspec": {
   "display_name": ".venv",
   "language": "python",
   "name": "python3"
  },
  "language_info": {
   "codemirror_mode": {
    "name": "ipython",
    "version": 3
   },
   "file_extension": ".py",
   "mimetype": "text/x-python",
   "name": "python",
   "nbconvert_exporter": "python",
   "pygments_lexer": "ipython3",
   "version": "3.13.0"
  }
 },
 "nbformat": 4,
 "nbformat_minor": 2
}
