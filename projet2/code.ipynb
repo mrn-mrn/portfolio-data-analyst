{
 "cells": [
  {
   "cell_type": "markdown",
   "metadata": {},
   "source": [
    "# I. Informations sur les données #"
   ]
  },
  {
   "cell_type": "code",
   "execution_count": 236,
   "metadata": {},
   "outputs": [],
   "source": [
    "# Import des bibliothèques :\n",
    "import pandas as pd\n",
    "import numpy as np\n",
    "import matplotlib.pyplot as plt\n",
    "import seaborn as sns\n",
    "import missingno as msno"
   ]
  },
  {
   "cell_type": "code",
   "execution_count": null,
   "metadata": {},
   "outputs": [],
   "source": [
    "# Import du jeu de données :\n",
    "barometre = pd.read_csv(\"../Données/dataset-barometre.csv\", \n",
    "                        sep = \";\",  \n",
    "                        encoding = 'utf-8', \n",
    "                        engine = 'python', \n",
    "                        decimal = ',')"
   ]
  },
  {
   "cell_type": "code",
   "execution_count": 238,
   "metadata": {},
   "outputs": [],
   "source": [
    "# Paramétrage du style de police des graphiques : \n",
    "plt.rcParams['font.family'] = \"EB Garamond\"\n",
    "plt.rcParams['font.size'] = 16"
   ]
  },
  {
   "cell_type": "code",
   "execution_count": 239,
   "metadata": {},
   "outputs": [
    {
     "data": {
      "text/html": [
       "<div>\n",
       "<style scoped>\n",
       "    .dataframe tbody tr th:only-of-type {\n",
       "        vertical-align: middle;\n",
       "    }\n",
       "\n",
       "    .dataframe tbody tr th {\n",
       "        vertical-align: top;\n",
       "    }\n",
       "\n",
       "    .dataframe thead th {\n",
       "        text-align: right;\n",
       "    }\n",
       "</style>\n",
       "<table border=\"1\" class=\"dataframe\">\n",
       "  <thead>\n",
       "    <tr style=\"text-align: right;\">\n",
       "      <th></th>\n",
       "      <th>Vague</th>\n",
       "      <th>S1. genre</th>\n",
       "      <th>S2. âge</th>\n",
       "      <th>S3. Zone géo</th>\n",
       "      <th>Région</th>\n",
       "      <th>Département</th>\n",
       "      <th>S7. Taille commune</th>\n",
       "      <th>S7b. Taille commune</th>\n",
       "      <th>S7c. Taille commune</th>\n",
       "      <th>S6. Situation professionnelle</th>\n",
       "      <th>...</th>\n",
       "      <th>Reso. Usage Instagram</th>\n",
       "      <th>Reso. Usage Facebook</th>\n",
       "      <th>Reso. Usage WhatsApp</th>\n",
       "      <th>Reso. Usage Twitter</th>\n",
       "      <th>Reso. Usage TikTok</th>\n",
       "      <th>Reso. Usage YouTube</th>\n",
       "      <th>poids</th>\n",
       "      <th>UC</th>\n",
       "      <th>age</th>\n",
       "      <th>insee</th>\n",
       "    </tr>\n",
       "  </thead>\n",
       "  <tbody>\n",
       "    <tr>\n",
       "      <th>0</th>\n",
       "      <td>Vague 01</td>\n",
       "      <td>Un homme</td>\n",
       "      <td>65 ans et +</td>\n",
       "      <td>Nord Est</td>\n",
       "      <td>Alsace - Champagne - Ardennes - Lorraine</td>\n",
       "      <td>Meurthe-et-Moselle</td>\n",
       "      <td>NaN</td>\n",
       "      <td>En zone rurale</td>\n",
       "      <td>NaN</td>\n",
       "      <td>NaN</td>\n",
       "      <td>...</td>\n",
       "      <td>NaN</td>\n",
       "      <td>NaN</td>\n",
       "      <td>NaN</td>\n",
       "      <td>NaN</td>\n",
       "      <td>NaN</td>\n",
       "      <td>NaN</td>\n",
       "      <td>0.570370</td>\n",
       "      <td>NaN</td>\n",
       "      <td>68.0</td>\n",
       "      <td>NaN</td>\n",
       "    </tr>\n",
       "    <tr>\n",
       "      <th>1</th>\n",
       "      <td>Vague 01</td>\n",
       "      <td>Un homme</td>\n",
       "      <td>35-49 ans</td>\n",
       "      <td>Nord Est</td>\n",
       "      <td>Alsace - Champagne - Ardennes - Lorraine</td>\n",
       "      <td>Meurthe-et-Moselle</td>\n",
       "      <td>NaN</td>\n",
       "      <td>Dans une agglomération de 100.000 habitants et...</td>\n",
       "      <td>NaN</td>\n",
       "      <td>NaN</td>\n",
       "      <td>...</td>\n",
       "      <td>NaN</td>\n",
       "      <td>NaN</td>\n",
       "      <td>NaN</td>\n",
       "      <td>NaN</td>\n",
       "      <td>NaN</td>\n",
       "      <td>NaN</td>\n",
       "      <td>1.112676</td>\n",
       "      <td>NaN</td>\n",
       "      <td>40.0</td>\n",
       "      <td>NaN</td>\n",
       "    </tr>\n",
       "    <tr>\n",
       "      <th>2</th>\n",
       "      <td>Vague 01</td>\n",
       "      <td>Un homme</td>\n",
       "      <td>25-34 ans</td>\n",
       "      <td>Ile de France</td>\n",
       "      <td>Ile de France</td>\n",
       "      <td>Seine-Saint-Denis</td>\n",
       "      <td>NaN</td>\n",
       "      <td>Dans l'agglomération parisienne</td>\n",
       "      <td>NaN</td>\n",
       "      <td>NaN</td>\n",
       "      <td>...</td>\n",
       "      <td>NaN</td>\n",
       "      <td>NaN</td>\n",
       "      <td>NaN</td>\n",
       "      <td>NaN</td>\n",
       "      <td>NaN</td>\n",
       "      <td>NaN</td>\n",
       "      <td>1.112676</td>\n",
       "      <td>NaN</td>\n",
       "      <td>34.0</td>\n",
       "      <td>NaN</td>\n",
       "    </tr>\n",
       "  </tbody>\n",
       "</table>\n",
       "<p>3 rows × 221 columns</p>\n",
       "</div>"
      ],
      "text/plain": [
       "      Vague S1. genre      S2. âge   S3. Zone géo  \\\n",
       "0  Vague 01  Un homme  65 ans et +       Nord Est   \n",
       "1  Vague 01  Un homme    35-49 ans       Nord Est   \n",
       "2  Vague 01  Un homme    25-34 ans  Ile de France   \n",
       "\n",
       "                                     Région         Département  \\\n",
       "0  Alsace - Champagne - Ardennes - Lorraine  Meurthe-et-Moselle   \n",
       "1  Alsace - Champagne - Ardennes - Lorraine  Meurthe-et-Moselle   \n",
       "2                             Ile de France   Seine-Saint-Denis   \n",
       "\n",
       "  S7. Taille commune                                S7b. Taille commune  \\\n",
       "0                NaN                                     En zone rurale   \n",
       "1                NaN  Dans une agglomération de 100.000 habitants et...   \n",
       "2                NaN                    Dans l'agglomération parisienne   \n",
       "\n",
       "  S7c. Taille commune S6. Situation professionnelle  ...  \\\n",
       "0                 NaN                           NaN  ...   \n",
       "1                 NaN                           NaN  ...   \n",
       "2                 NaN                           NaN  ...   \n",
       "\n",
       "  Reso. Usage Instagram Reso. Usage Facebook Reso. Usage WhatsApp  \\\n",
       "0                   NaN                  NaN                  NaN   \n",
       "1                   NaN                  NaN                  NaN   \n",
       "2                   NaN                  NaN                  NaN   \n",
       "\n",
       "  Reso. Usage Twitter Reso. Usage TikTok Reso. Usage YouTube     poids  UC  \\\n",
       "0                 NaN                NaN                 NaN  0.570370 NaN   \n",
       "1                 NaN                NaN                 NaN  1.112676 NaN   \n",
       "2                 NaN                NaN                 NaN  1.112676 NaN   \n",
       "\n",
       "    age insee  \n",
       "0  68.0   NaN  \n",
       "1  40.0   NaN  \n",
       "2  34.0   NaN  \n",
       "\n",
       "[3 rows x 221 columns]"
      ]
     },
     "execution_count": 239,
     "metadata": {},
     "output_type": "execute_result"
    }
   ],
   "source": [
    "# Affichage des premières lignes du tableau 'barometre' :\n",
    "barometre.head(3)"
   ]
  },
  {
   "cell_type": "code",
   "execution_count": 240,
   "metadata": {},
   "outputs": [
    {
     "name": "stdout",
     "output_type": "stream",
     "text": [
      "<class 'pandas.core.frame.DataFrame'>\n",
      "RangeIndex: 29387 entries, 0 to 29386\n",
      "Columns: 221 entries, Vague to insee\n",
      "dtypes: float64(6), object(215)\n",
      "memory usage: 49.5+ MB\n"
     ]
    }
   ],
   "source": [
    "# Affichage des informations du tableau 'baromètre' :\n",
    "barometre.info()"
   ]
  },
  {
   "cell_type": "code",
   "execution_count": 241,
   "metadata": {},
   "outputs": [
    {
     "name": "stdout",
     "output_type": "stream",
     "text": [
      "Dans le jeu de données, il y a 29387 lignes et 221 colonnes.\n"
     ]
    }
   ],
   "source": [
    "# Affichage du nombre de lignes et de colonnes du tableau 'baromètre' :\n",
    "rows, cols = barometre.shape\n",
    "print(f\"Dans le jeu de données, il y a {rows} lignes et {cols} colonnes.\")"
   ]
  },
  {
   "cell_type": "code",
   "execution_count": 242,
   "metadata": {},
   "outputs": [
    {
     "name": "stdout",
     "output_type": "stream",
     "text": [
      "Vague\n",
      "S1. genre\n",
      "S2. âge\n",
      "S3. Zone géo\n",
      "Région\n",
      "Département\n",
      "S7. Taille commune\n",
      "S7b. Taille commune\n",
      "S7c. Taille commune\n",
      "S6. Situation professionnelle\n",
      "S5. CSP\n",
      "q1_1. Enjeu important 1\n",
      "q1_2. Enjeu important 2\n",
      "q1_3. Enjeu important 3\n",
      "q1total. Enjeu Emploi\n",
      "q1total. Enjeu Sécurité\n",
      "q1total. Enjeu Education et recherche\n",
      "q1total. Enjeu Inégalités\n",
      "q1total. Enjeu Logement\n",
      "q1total. Enjeu Impôts et taxes\n",
      "q1total. Enjeu Hausse des prix\n",
      "q1total. Enjeu Immigration\n",
      "q1total. Enjeu Environnement/Transition écologique\n",
      "q1total. Enjeu Déficits publics\n",
      "q1total. Enjeu Banlieues\n",
      "q1total. Enjeu Transports\n",
      "q1total. Enjeu Santé publique\n",
      "q1total. Enjeu No rep.\n",
      "q2_1. Problème environnemental 1\n",
      "q2_2. Problème environnemental 2\n",
      "q2total. Problème pollution de l'air\n",
      "q2total. Problème pollution de l'eau\n",
      "q2total. Problème bruit\n",
      "q2total. Problème risques nucléaire\n",
      "q2total. Problème déchets\n",
      "q2total. Problème dégradation biodiversité\n",
      "q2total. Problème Effet de serre/ réchauffement climatique\n",
      "q2total. Problème dégradation des paysages\n",
      "q2total. Problème aucun\n",
      "q2total. Problème No rep.\n",
      "q5. Certitude/hypothèse impact effet de serre\n",
      "q8. Conséquences changement climatique\n",
      "q8bis_1. Inquiétude conséquence 1\n",
      "q8bis_2. Inquiétude conséquence 2\n",
      "q8bis_total. Inquiétude catastrophe naturelle\n",
      "q8bis_total. Inquiétude conflits entre Etats\n",
      "q8bis_total. Inquiétude migrations population\n",
      "q8bis_total. Inquiétude conflits politiques et sociaux\n",
      "q8bis_total. Inquiétude développement maladies\n",
      "q8bis_total. Inquiétude réchauffement températures\n",
      "q8bis_total. aucun\n",
      "q8bis_total. No rep.\n",
      "q9. Causes désordres du climat\n",
      "q10. Causes anthropiques/naturelles du changement climatique\n",
      "q10x. Parmi ces trois opinions, laquelle est la plus proche de la vôtre ?\n",
      "q11. Solutions changement climatique\n",
      "q12. Opportunité/ contrainte changement\n",
      "q13_1. Conditions acceptation changement 1\n",
      "q13_2. Conditions acceptation changement 2\n",
      "q13total. Condition changements modérés\n",
      "q13total. Condition compensation\n",
      "q13total. Condition équité\n",
      "q13total. Condition participation\n",
      "q13total. Condition acceptation dans tous les cas\n",
      "q13total. Condition No rep.\n",
      "q14. Médiatisation changement climatique\n",
      "q14b. Pourquoi souhaitez-vous qu'on en parle plus ?\n",
      "Split q15/15b.\n",
      "q15_1. Acteur efficace 1\n",
      "q15_2. Acteur efficace 2\n",
      "q15total. instances internationales\n",
      "q15total. Etats\n",
      "q15total. collectivités locales\n",
      "q15total. entreprises\n",
      "q15total. associations\n",
      "q15total. Chacun d'entre nous\n",
      "q15total. Personne\n",
      "q15total. No rep.\n",
      "q15b_1. Acteur actif 1\n",
      "q15b_2. Acteur actif 2\n",
      "q15btotal. instances internationales\n",
      "q15btotal. Etats\n",
      "q15btotal. collectivités locales\n",
      "q15btotal. entreprises\n",
      "q15btotal. associations\n",
      "q15btotal. Chacun d'entre nous\n",
      "q15btotal. Personne\n",
      "q15btotal. No rep.\n",
      "q16. Optimisme limitation changement climatique\n",
      "q18_i1. Causes GES activités industrielles\n",
      "q18_i2. Causes GES transports\n",
      "q18_i3. Causes GES bâtiments\n",
      "q18_i4. Causes GES agriculture\n",
      "q18_i5. Causes GES centrales de production d'électricité au gaz, charbon ou fuel\n",
      "q18_i6. Causes GES traitement des déchets\n",
      "q18_i7. Causes GES destruction des forêts\n",
      "q18_i8. Causes GES centrales nucléaires\n",
      "q18_i9. Causes GES activité volcanique\n",
      "q18_i10. Causes GES bombes aérosols\n",
      "q18_i11. Causes GES numérique\n",
      "q19_1. Action efficace réduction GES 1\n",
      "q19_2. Action efficace réduction GES 2\n",
      "q19total. Action efficace Achat voiture consommant moins\n",
      "q19total. Action efficace covoiturage, autopartage\n",
      "q19total. Action efficace modes alternatifs voiture\n",
      "q19total. Action efficace isolation logement\n",
      "q19total. Action efficace chauffage, chauffe-eau performant\n",
      "q19total. Action efficace Appareils ménagers consommant moins\n",
      "q19total. Action efficace EnR pour son logement\n",
      "q19total. Action efficace consommer moins ou produits ayant moins d’impact\n",
      "q19total. Action efficace réduire trier ses déchets\n",
      "q19total. Action efficace télétravail\n",
      "q19total. Action efficace No rep.\n",
      "splitq20\n",
      "q20_i1. Action individuelle Tri déchets\n",
      "q20_i2. Actin individuelle Eteindre appareils en veille\n",
      "q20_i3. Actin individuelle Transports en commun\n",
      "q20_i4. Actin individuelle Baisse température logement\n",
      "q20_i5. Actin individuelle Acheter légumes de saison\n",
      "q20_i6. Actin individuelle Limiter consommation viande\n",
      "q20_i7. Actin individuelle Se déplacer en vélo ou à pied\n",
      "q20_i8. Actin individuelle Covoiturage ou de l'auto-partage\n",
      "q20_i9. Actin individuelle Produits avec peu d'emballage\n",
      "q20_i10. Action individuelle choix Ecolabels\n",
      "q20_i11. Action individuelle Consommer moins\n",
      "q20_i12. Action individuelle Couper chauffage, chauffe-eau\n",
      "q20_i13. Action individuelle Pas prendre l'avion pour ses loisirs\n",
      "q20_i14. Action individuelle Produits locaux\n",
      "q20_i15. Action individuelle Achats vêtements seconde main\n",
      "q20_i16. Action individuelle Choisir pour mon épargne une banque et/ou des placements financiers qui respectent ...\n",
      "q20_i1. Action individuelle Tri déchets.1\n",
      "q20_i2. Actin individuelle Eteindre appareils en veille.1\n",
      "q20_i3. Actin individuelle Transports en commun.1\n",
      "q20_i4. Actin individuelle Baisse température logement.1\n",
      "q20_i5. Actin individuelle Acheter légumes de saison.1\n",
      "q20_i6. Actin individuelle Limiter consommation viande.1\n",
      "q20_i7. Actin individuelle Se déplacer en vélo ou à pied.1\n",
      "q20_i8. Actin individuelle Covoiturage ou de l'auto-partage.1\n",
      "q20_i9. Actin individuelle Produits avec peu d'emballage.1\n",
      "q20_i10. Action individuelle choix Ecolabels.1\n",
      "q20_i11. Action individuelle Consommer moins.1\n",
      "q20_i12. Action individuelle Couper chauffage, chauffe-eau.1\n",
      "q20_i13. Action individuelle Pas prendre l'avion pour ses loisirs.1\n",
      "q20_i14. Action individuelle Produits locaux.1\n",
      "q20_i15. Action individuelle Achats vêtements seconde main.1\n",
      "q20_i16. Action individuelle Choisir pour mon épargne une banque et/ou des placements financiers qui respectent ....1\n",
      "effort. Effort pour réduire ses émissions\n",
      "q21_i1. Mesures Baisse vitesse autoroute\n",
      "q21_i2. Mesures Taxe transport aérien\n",
      "q21_i3. Mesures Obligation rénovation\n",
      "q21_i4. Mesures Compteurs communicants\n",
      "q21_i5. Mesures Prix acheminement produits\n",
      "q21_i6. Mesures Taxe carbone\n",
      "q21_i7. Mesures EnR\n",
      "q21_i8. Mesures Densifier les villes\n",
      "q21_i9. Mesures Taxe véhicules émetteurs\n",
      "q21_i10. Mesures Favoriser véhicules peu polluants\n",
      "q21_i11. Mesures Menu restauration collective\n",
      "q21_i12. Mesures Réduire gaspillage alimentaireé\n",
      "q21_i13. Mesures Supprimer dates de péremption\n",
      "q21_i14. Mesures Interdire publicité\n",
      "q21_i15. Mesures Limiter la circulation des véhicules les plus polluants dans les grandes agglomérations\n",
      "q22. Mesures territoire\n",
      "q22a. Connaissance mesures territoire\n",
      "q23. Véracité scientifique\n",
      "q24_i1. Incitation investissement EnR – prix énergie\n",
      "q24_i2. Incitation investissement EnR – accélération changement climatique\n",
      "q24_i3. Incitation investissement EnR – soutiens financiers\n",
      "q24_i4. Incitation investissement EnR – baisse prix\n",
      "q24_i5. Incitation investissement EnR – fiabilité travaux\n",
      "q24_i6. Incitation investissement EnR – labellisation artisans\n",
      "q24_i7. Incitation investissement EnR – contrôle technique\n",
      "q24_i8. Incitation investissement EnR – tiers financement\n",
      "q24_i9. Incitation investissement EnR – bonus malus\n",
      "q23new_i1. Engagement – Association environnement\n",
      "q23new_i2. Engagement – Désobéissance civile\n",
      "q23new_i3. Engagement – Manifestation climat\n",
      "q23new_i4. Engagement - Boycott\n",
      "el9. Taxe carbone\n",
      "q25. Priorité relance\n",
      "s11. Désordre climatique subi\n",
      "s13_i1. Nb >18 ans foyer\n",
      "s13_i2. Nb 14-17 ans foyer\n",
      "s13_i34. Nb <14 ans foyer\n",
      "s13. Nb membres foyer\n",
      "a4. Nb membres foyer\n",
      "a5. Présence enfant\n",
      "a5. Présence moins de 6 ans\n",
      "a5. Présence moins de 6 à 13 ans\n",
      "a5. Présence moins de 14 à 17 ans\n",
      "a5. Présence 18 ans ou plus\n",
      "a5. Nombre d’enfant mineur\n",
      "a5. Conjoint\n",
      "s10t. Nb enfants\n",
      "s15. Diplôme\n",
      "s16. Formation\n",
      "s17. Type habitat\n",
      "s18. Statut locataire/propriétaire\n",
      "s20. Revenus\n",
      "aisance. Aisance de vie avec ses revenus\n",
      "s21_i1. Importance environnement\n",
      "s21_i2. Importance santé\n",
      "s21_i3. Importance action sociale\n",
      "s21_i4. Importance niveau de vie\n",
      "s21. Importance environnement\n",
      "s22. Mode de transport\n",
      "avion. Usage perso\n",
      "avion. Usage pro\n",
      "s23. Partis politiques\n",
      "s24. Echiquier politique\n",
      "s25. Sympathie mouvements écologistes\n",
      "Reso. Usage Instagram\n",
      "Reso. Usage Facebook\n",
      "Reso. Usage WhatsApp\n",
      "Reso. Usage Twitter\n",
      "Reso. Usage TikTok\n",
      "Reso. Usage YouTube\n",
      "poids\n",
      "UC\n",
      "age\n",
      "insee\n"
     ]
    }
   ],
   "source": [
    "# Affichage des noms de variables du tableau 'baromètre' :\n",
    "for col in barometre.columns:\n",
    "    print(col)"
   ]
  },
  {
   "cell_type": "markdown",
   "metadata": {},
   "source": [
    "# II. Préparation et nettoyage des données #"
   ]
  },
  {
   "cell_type": "markdown",
   "metadata": {},
   "source": [
    "### A. Changement du nom de la colonne \"Q10x\" et remplacement des données qu'elle contient ###"
   ]
  },
  {
   "cell_type": "code",
   "execution_count": 243,
   "metadata": {},
   "outputs": [
    {
     "name": "stdout",
     "output_type": "stream",
     "text": [
      "L'index de la question 'q10x' est  54 .\n"
     ]
    }
   ],
   "source": [
    "# Recherche de l'index de la variable 'q10x. Parmi ces trois opinions, laquelle est la plus proche de la vôtre ?' :\n",
    "index_q10x = barometre.columns.get_loc('q10x. Parmi ces trois opinions, laquelle est la plus proche de la vôtre ?')\n",
    "print(\"L'index de la question 'q10x' est \", index_q10x, \".\")"
   ]
  },
  {
   "cell_type": "code",
   "execution_count": 244,
   "metadata": {},
   "outputs": [
    {
     "name": "stdout",
     "output_type": "stream",
     "text": [
      "Le nouveau titre de la colonne  54 est  opinion .\n"
     ]
    }
   ],
   "source": [
    "# Changement du nom de la variable de la question \"q10x\" :\n",
    "barometre = barometre.rename(columns={ 'q10x. Parmi ces trois opinions, laquelle est la plus proche de la vôtre ?': 'opinion'})\n",
    "print(\"Le nouveau titre de la colonne \", index_q10x, \"est \", barometre.columns[index_q10x], \".\")"
   ]
  },
  {
   "cell_type": "code",
   "execution_count": 245,
   "metadata": {},
   "outputs": [
    {
     "name": "stdout",
     "output_type": "stream",
     "text": [
      "Les valeurs uniques de la colonne 'opinion' sont : [nan\n",
      " \"Il y a actuellement un changement climatique et il est dû à l'activité humaine\"\n",
      " 'Il y a actuellement un changement climatique et il est dû à un phénomène naturel comme la Terre en a toujours connu'\n",
      " \"Vous n'avez pas d'avis\"\n",
      " \"Il n'y a pas actuellement de changement climatique\" 'No rep.']\n"
     ]
    }
   ],
   "source": [
    "# Affichage des valeurs uniques de la variable \"opinion\" :\n",
    "print(\"Les valeurs uniques de la colonne 'opinion' sont :\", barometre['opinion'].unique())"
   ]
  },
  {
   "cell_type": "code",
   "execution_count": 246,
   "metadata": {},
   "outputs": [],
   "source": [
    "# Conversion des réponses 'No rep' et 'Vous n'avez pas d'avis' en valeurs nulles :\n",
    "barometre.replace('No rep.', \n",
    "                  np.nan, \n",
    "                  inplace = True)\n",
    "barometre.replace(\"Vous n'avez pas d'avis\", \n",
    "                  np.nan, \n",
    "                  inplace = True)"
   ]
  },
  {
   "cell_type": "code",
   "execution_count": 247,
   "metadata": {},
   "outputs": [
    {
     "name": "stdout",
     "output_type": "stream",
     "text": [
      "Les valeurs uniques de la variable 'opinion' sont : [nan\n",
      " \"Il y a actuellement un changement climatique et il est dû à l'activité humaine\"\n",
      " 'Il y a actuellement un changement climatique et il est dû à un phénomène naturel comme la Terre en a toujours connu'\n",
      " \"Il n'y a pas actuellement de changement climatique\"]\n"
     ]
    }
   ],
   "source": [
    "# Affichage des valeurs uniques de la variable \"opinion\" :\n",
    "print(\"Les valeurs uniques de la variable 'opinion' sont :\", barometre['opinion'].unique())"
   ]
  },
  {
   "cell_type": "code",
   "execution_count": 248,
   "metadata": {},
   "outputs": [
    {
     "name": "stdout",
     "output_type": "stream",
     "text": [
      "Il y a  29387 valeurs dans la colonne 'opinion'.\n"
     ]
    }
   ],
   "source": [
    "# Décompte du nombre de valeurs total dans la colonne \"opinion\" :\n",
    "nb_valeurs = barometre['opinion'].shape[0]\n",
    "print(\"Il y a \", nb_valeurs, \"valeurs dans la colonne 'opinion'.\")"
   ]
  },
  {
   "cell_type": "code",
   "execution_count": 249,
   "metadata": {},
   "outputs": [
    {
     "name": "stdout",
     "output_type": "stream",
     "text": [
      "Il y a  27946 valeurs nulles dans la colonne 'opinion'. Il y a donc  1441 valeurs non-nulles dans la colonne 'opinion'.\n"
     ]
    }
   ],
   "source": [
    "# Décompte du nombre de valeurs nulles dans la colonne 'opinion' :\n",
    "nb_valeurs_nulles_opinion = barometre['opinion'].isnull().sum()\n",
    "print(\"Il y a \", nb_valeurs_nulles_opinion, \"valeurs nulles dans la colonne 'opinion'. Il y a donc \", nb_valeurs-nb_valeurs_nulles_opinion, \"valeurs non-nulles dans la colonne 'opinion'.\")"
   ]
  },
  {
   "cell_type": "code",
   "execution_count": 250,
   "metadata": {},
   "outputs": [],
   "source": [
    "# Création du dictionnaire de remplacement des données de la colonne 'opinion' :\n",
    "dictionnaire = {\n",
    "    \"Il y a actuellement un changement climatique et il est dû à l'activité humaine\": 'Activité humaine',\n",
    "    \"Il y a actuellement un changement climatique et il est dû à un phénomène naturel comme la Terre en a toujours connu\": \"Phénomène naturel\",\n",
    "    \"Vous n'avez pas d'avis\": \"Sans avis\",\n",
    "    \"Il n'y a pas actuellement de changement climatique\" : \"Absence de phénomène\"\n",
    "    }"
   ]
  },
  {
   "cell_type": "code",
   "execution_count": 251,
   "metadata": {},
   "outputs": [
    {
     "name": "stdout",
     "output_type": "stream",
     "text": [
      "Le nouvel intitulé des données de la colonne 'opinion' sont : [nan 'Activité humaine' 'Phénomène naturel' 'Absence de phénomène']\n"
     ]
    }
   ],
   "source": [
    "# Remplacement des données de la colonne 'opinion' :\n",
    "barometre['opinion'] = barometre['opinion'].replace(dictionnaire)\n",
    "print(\"Le nouvel intitulé des données de la colonne 'opinion' sont :\", barometre['opinion'].unique())"
   ]
  },
  {
   "cell_type": "markdown",
   "metadata": {},
   "source": [
    "### B. Arrondi et conversion des données de la colonne \"age\" ###"
   ]
  },
  {
   "cell_type": "code",
   "execution_count": 252,
   "metadata": {},
   "outputs": [
    {
     "name": "stdout",
     "output_type": "stream",
     "text": [
      "le contenu de la colonne 'age' est : 0    68.0\n",
      "1    40.0\n",
      "2    34.0\n",
      "Name: age, dtype: float64\n"
     ]
    }
   ],
   "source": [
    "# Affichage du contenu de la colonne 'age' :\n",
    "print(\"le contenu de la colonne 'age' est :\", barometre['age'].head(3))"
   ]
  },
  {
   "cell_type": "code",
   "execution_count": 253,
   "metadata": {},
   "outputs": [
    {
     "name": "stdout",
     "output_type": "stream",
     "text": [
      "Le type de données contenues dans la colonne 'age' est int64 .\n"
     ]
    }
   ],
   "source": [
    "# Arrondi et conversion des données de la colonne 'age':\n",
    "barometre['age'] = barometre['age'].round(0).astype(int)\n",
    "print(\"Le type de données contenues dans la colonne 'age' est\", barometre['age'].dtype, \".\")"
   ]
  },
  {
   "cell_type": "code",
   "execution_count": 254,
   "metadata": {},
   "outputs": [
    {
     "name": "stdout",
     "output_type": "stream",
     "text": [
      "L'âge maximum des participants est de  99 ans.\n"
     ]
    }
   ],
   "source": [
    "# Affichage de l'age maximum des participants : \n",
    "age_max = barometre['age'].max()\n",
    "print(\"L'âge maximum des participants est de \", age_max, \"ans.\")"
   ]
  },
  {
   "cell_type": "markdown",
   "metadata": {},
   "source": [
    "### C. Remplacement des données de la colonne 'Vague' ###"
   ]
  },
  {
   "cell_type": "code",
   "execution_count": 255,
   "metadata": {},
   "outputs": [
    {
     "name": "stdout",
     "output_type": "stream",
     "text": [
      "L'index de la variable 'Vague' est  0 .\n"
     ]
    }
   ],
   "source": [
    "# Détermination de l'index de la colonne 'Vague' :\n",
    "index_vague = barometre.columns.get_loc('Vague')\n",
    "print(\"L'index de la variable 'Vague' est \", index_vague, \".\")"
   ]
  },
  {
   "cell_type": "code",
   "execution_count": 256,
   "metadata": {},
   "outputs": [],
   "source": [
    "# Dictionnaire de remplacement des données de la colonne 'Vague' :\n",
    "dictionnaire_vague = { \n",
    "    \"Vague 01\" : '2000',\n",
    "    \"Vague 02\" : '2001',\n",
    "    \"Vague 03\" : '2002',\n",
    "    \"Vague 04\" : '2003',\n",
    "    \"Vague 05\" : '2004',\n",
    "    \"Vague 06\" : '2005',\n",
    "    \"Vague 07\" : '2006',\n",
    "    \"Vague 08\" : '2007',\n",
    "    \"Vague 09\" : '2008',\n",
    "    \"Vague 10\" : '2009',\n",
    "    \"Vague 11\" : '2010',\n",
    "    \"Vague 12\" : '2011',\n",
    "    \"Vague 13\" : '2012',\n",
    "    \"Vague 14\" : '2013',\n",
    "    \"Vague 15\" : '2014',\n",
    "    \"Vague 16\" : '2015',\n",
    "    \"Vague 17\" : '2016',\n",
    "    \"Vague 18\" : '2017',\n",
    "    \"Vague 19\" : '2018',\n",
    "    \"Vague 20\" : '2019',\n",
    "    \"Vague 21\" : '2020',\n",
    "    \"Vague 22\" : '2021',\n",
    "    \"Vague 23\" : '2022',\n",
    "    \"Vague 24\" : '2023'\n",
    "    }"
   ]
  },
  {
   "cell_type": "code",
   "execution_count": 257,
   "metadata": {},
   "outputs": [
    {
     "name": "stdout",
     "output_type": "stream",
     "text": [
      "Les nouvelles données de la colonne 'Vague' sont : ['2000' '2001' '2002' '2003' '2004' '2005' '2006' '2007' '2008' '2009'\n",
      " '2010' '2011' '2012' '2013' '2014' '2015' '2016' '2017' '2018' '2019'\n",
      " '2020' '2021' '2022' '2023']\n"
     ]
    }
   ],
   "source": [
    "# Remplacement des données de la colonne 'Vague' :\n",
    "barometre['Vague'] = barometre['Vague'].replace(dictionnaire_vague)\n",
    "print(\"Les nouvelles données de la colonne 'Vague' sont :\", barometre['Vague'].unique())"
   ]
  },
  {
   "cell_type": "markdown",
   "metadata": {},
   "source": [
    "### D. Création de la colonne \"tranche_age\" ###"
   ]
  },
  {
   "cell_type": "code",
   "execution_count": 258,
   "metadata": {},
   "outputs": [],
   "source": [
    "# Définition des intervalles de données :\n",
    "bins = [15, 20, 25, 30, 35, 40, 45, 50, 55, 60, 65, 70, 75, 80, 85, 90]\n",
    "labels = ['15-19', \n",
    "          '20-24', \n",
    "          '25-29', \n",
    "          '30-34', \n",
    "          '35-39', \n",
    "          '40-44', \n",
    "          '45-49', \n",
    "          '50-54', \n",
    "          '55-59', \n",
    "          '60-64', \n",
    "          '65-69', \n",
    "          '70-74', \n",
    "          '75-79', \n",
    "          '80-84', \n",
    "          '85-89']"
   ]
  },
  {
   "cell_type": "code",
   "execution_count": 259,
   "metadata": {},
   "outputs": [
    {
     "name": "stdout",
     "output_type": "stream",
     "text": [
      "Le début de la colonne 'tranche_age' est  0    65-69\n",
      "1    40-44\n",
      "2    30-34\n",
      "Name: tranche_age, dtype: category\n",
      "Categories (15, object): ['15-19' < '20-24' < '25-29' < '30-34' ... '70-74' < '75-79' < '80-84' < '85-89']\n"
     ]
    }
   ],
   "source": [
    "# Création d'une nouvelle colonne pour les tranches d'âge par pas de 5 ans :\n",
    "barometre['tranche_age'] = pd.cut(barometre['age'], \n",
    "                                  bins = bins, \n",
    "                                  labels = labels, \n",
    "                                  right = False)\n",
    "print(\"Le début de la colonne 'tranche_age' est \", barometre['tranche_age'].head(3))"
   ]
  },
  {
   "cell_type": "markdown",
   "metadata": {},
   "source": [
    "### E. Suppression de la colonne 'S2. âge' ###"
   ]
  },
  {
   "cell_type": "code",
   "execution_count": 260,
   "metadata": {},
   "outputs": [
    {
     "name": "stdout",
     "output_type": "stream",
     "text": [
      "0    65 ans et +\n",
      "1      35-49 ans\n",
      "2      25-34 ans\n",
      "3      35-49 ans\n",
      "4      15-17 ans\n",
      "Name: S2. âge, dtype: object\n"
     ]
    }
   ],
   "source": [
    "# Affichage du début de la colonne 'S2. âge' : \n",
    "print(barometre['S2. âge'].head())"
   ]
  },
  {
   "cell_type": "code",
   "execution_count": 261,
   "metadata": {},
   "outputs": [],
   "source": [
    "# Suppression de la colonne :\n",
    "barometre = barometre.drop(columns=['S2. âge'])"
   ]
  },
  {
   "cell_type": "markdown",
   "metadata": {},
   "source": [
    "### F. Changement du nom de la colonne 'Q5' et remplacement des données qu'elle contient ###"
   ]
  },
  {
   "cell_type": "code",
   "execution_count": 262,
   "metadata": {},
   "outputs": [
    {
     "name": "stdout",
     "output_type": "stream",
     "text": [
      "L'index de la variable 'q5. Certitude/hypothèse impact effet de serre' est  39 .\n"
     ]
    }
   ],
   "source": [
    "# Recherche de l'index de la variable \"q5.\" :\n",
    "index_Q5 = barometre.columns.get_loc('q5. Certitude/hypothèse impact effet de serre')\n",
    "print(\"L'index de la variable 'q5. Certitude/hypothèse impact effet de serre' est \", index_Q5, \".\")"
   ]
  },
  {
   "cell_type": "code",
   "execution_count": 263,
   "metadata": {},
   "outputs": [
    {
     "name": "stdout",
     "output_type": "stream",
     "text": [
      "Le nouveau nom de la colonne 'q5' est  climatosceptique .\n"
     ]
    }
   ],
   "source": [
    "# Changement du nom de la colonne 'q5. Certitude/hypothèse impact effet de serre' :\n",
    "barometre = barometre.rename(columns = {'q5. Certitude/hypothèse impact effet de serre' : \"climatosceptique\"})\n",
    "print(\"Le nouveau nom de la colonne 'q5' est \", barometre.columns[index_Q5], \".\")"
   ]
  },
  {
   "cell_type": "code",
   "execution_count": 264,
   "metadata": {},
   "outputs": [
    {
     "name": "stdout",
     "output_type": "stream",
     "text": [
      "Les valeurs uniques contenues dans la colonne 'climatosceptique' sont :  ['...ou bien une certitude pour la plupart des scientifiques ?'\n",
      " \"...une hypothèse sur laquelle les scientifiques ne sont pas tous d'accord ?\"\n",
      " nan] .\n"
     ]
    }
   ],
   "source": [
    "# Affichage des valeurs uniques contenues dans la colonne 'climatosceptique' :\n",
    "print(\"Les valeurs uniques contenues dans la colonne 'climatosceptique' sont : \", barometre['climatosceptique'].unique(), \".\")"
   ]
  },
  {
   "cell_type": "code",
   "execution_count": 265,
   "metadata": {},
   "outputs": [],
   "source": [
    "# Création du dictionnaire de remplacement des données :\n",
    "dictionnaire_bis = {\n",
    "    \"...ou bien une certitude pour la plupart des scientifiques ?\" : \"climatofervent\",\n",
    "    \"...une hypothèse sur laquelle les scientifiques ne sont pas tous d'accord ?\": \"climatosceptique\",\n",
    "    }"
   ]
  },
  {
   "cell_type": "code",
   "execution_count": 266,
   "metadata": {},
   "outputs": [
    {
     "name": "stdout",
     "output_type": "stream",
     "text": [
      "Le type de données contenues dans la colonne 'climatosceptique' est object .\n"
     ]
    }
   ],
   "source": [
    "# Remplacement des valeurs dans la colonne 'climatosceptique' :\n",
    "barometre['climatosceptique'] = barometre['climatosceptique'].replace(dictionnaire_bis)\n",
    "print(\"Le type de données contenues dans la colonne 'climatosceptique' est\", barometre['climatosceptique'].dtype, \".\")"
   ]
  },
  {
   "cell_type": "markdown",
   "metadata": {},
   "source": [
    "### G. Création d'une colonne 'info_reseaux' ###"
   ]
  },
  {
   "cell_type": "code",
   "execution_count": 267,
   "metadata": {},
   "outputs": [],
   "source": [
    "# Sélection des colonnes concernant les réseaux sociaux :\n",
    "colonnes_reseaux_sociaux = [\n",
    "    'Reso. Usage Instagram',\n",
    "    'Reso. Usage Facebook',\n",
    "    'Reso. Usage WhatsApp',\n",
    "    'Reso. Usage Twitter',\n",
    "    'Reso. Usage TikTok',\n",
    "    'Reso. Usage YouTube'\n",
    "]"
   ]
  },
  {
   "cell_type": "code",
   "execution_count": 268,
   "metadata": {},
   "outputs": [
    {
     "name": "stdout",
     "output_type": "stream",
     "text": [
      "Les index des colonnes concernant les réseaux sociaux sont : [210, 211, 212, 213, 214, 215]\n"
     ]
    }
   ],
   "source": [
    "# Recherche des index des colonnes concernant les réseaux sociaux :\n",
    "index_colonnes_reseaux_sociaux = [barometre.columns.get_loc(col) for col in colonnes_reseaux_sociaux]\n",
    "print(\"Les index des colonnes concernant les réseaux sociaux sont :\", index_colonnes_reseaux_sociaux)"
   ]
  },
  {
   "cell_type": "code",
   "execution_count": 269,
   "metadata": {},
   "outputs": [
    {
     "name": "stdout",
     "output_type": "stream",
     "text": [
      "[nan 'Une fois par jour' 'Jamais' 'Plus rarement'\n",
      " 'Plusieurs fois par jour' 'Au moins une fois par semaine'\n",
      " 'Deux à trois fois par mois']\n"
     ]
    }
   ],
   "source": [
    "# Affichage des valeurs uniques d'une des colonnes :\n",
    "print(barometre['Reso. Usage Instagram'].unique())"
   ]
  },
  {
   "cell_type": "code",
   "execution_count": 270,
   "metadata": {},
   "outputs": [
    {
     "name": "stderr",
     "output_type": "stream",
     "text": [
      "/var/folders/j2/f5kp4d2d2tgchfxvfr59kn340000gp/T/ipykernel_45015/3336996555.py:3: FutureWarning: Series.__getitem__ treating keys as positions is deprecated. In a future version, integer keys will always be treated as labels (consistent with DataFrame behavior). To access a value by position, use `ser.iloc[pos]`\n",
      "  lambda row: np.nan if row[index_colonnes_reseaux_sociaux].isna().any() else (\n",
      "/var/folders/j2/f5kp4d2d2tgchfxvfr59kn340000gp/T/ipykernel_45015/3336996555.py:5: FutureWarning: Series.__getitem__ treating keys as positions is deprecated. In a future version, integer keys will always be treated as labels (consistent with DataFrame behavior). To access a value by position, use `ser.iloc[pos]`\n",
      "  val in ['Une fois par jour', 'Plusieurs fois par jour'] for val in row[index_colonnes_reseaux_sociaux]\n"
     ]
    },
    {
     "data": {
      "text/html": [
       "<div>\n",
       "<style scoped>\n",
       "    .dataframe tbody tr th:only-of-type {\n",
       "        vertical-align: middle;\n",
       "    }\n",
       "\n",
       "    .dataframe tbody tr th {\n",
       "        vertical-align: top;\n",
       "    }\n",
       "\n",
       "    .dataframe thead th {\n",
       "        text-align: right;\n",
       "    }\n",
       "</style>\n",
       "<table border=\"1\" class=\"dataframe\">\n",
       "  <thead>\n",
       "    <tr style=\"text-align: right;\">\n",
       "      <th></th>\n",
       "      <th>Reso. Usage Instagram</th>\n",
       "      <th>Reso. Usage Facebook</th>\n",
       "      <th>Reso. Usage WhatsApp</th>\n",
       "      <th>Reso. Usage Twitter</th>\n",
       "      <th>Reso. Usage TikTok</th>\n",
       "      <th>Reso. Usage YouTube</th>\n",
       "      <th>poids</th>\n",
       "      <th>UC</th>\n",
       "      <th>age</th>\n",
       "      <th>insee</th>\n",
       "      <th>tranche_age</th>\n",
       "      <th>info_reseaux</th>\n",
       "    </tr>\n",
       "  </thead>\n",
       "  <tbody>\n",
       "    <tr>\n",
       "      <th>29384</th>\n",
       "      <td>Jamais</td>\n",
       "      <td>Jamais</td>\n",
       "      <td>Jamais</td>\n",
       "      <td>Jamais</td>\n",
       "      <td>Jamais</td>\n",
       "      <td>Jamais</td>\n",
       "      <td>0.951877</td>\n",
       "      <td>1666.0</td>\n",
       "      <td>74</td>\n",
       "      <td>80685.0</td>\n",
       "      <td>70-74</td>\n",
       "      <td>non</td>\n",
       "    </tr>\n",
       "    <tr>\n",
       "      <th>29385</th>\n",
       "      <td>Une fois par jour</td>\n",
       "      <td>Au moins une fois par semaine</td>\n",
       "      <td>Jamais</td>\n",
       "      <td>Jamais</td>\n",
       "      <td>Jamais</td>\n",
       "      <td>Plus rarement</td>\n",
       "      <td>1.218274</td>\n",
       "      <td>2500.0</td>\n",
       "      <td>59</td>\n",
       "      <td>47105.0</td>\n",
       "      <td>55-59</td>\n",
       "      <td>oui</td>\n",
       "    </tr>\n",
       "    <tr>\n",
       "      <th>29386</th>\n",
       "      <td>Jamais</td>\n",
       "      <td>Plusieurs fois par jour</td>\n",
       "      <td>Jamais</td>\n",
       "      <td>Jamais</td>\n",
       "      <td>Jamais</td>\n",
       "      <td>Jamais</td>\n",
       "      <td>0.867381</td>\n",
       "      <td>700.0</td>\n",
       "      <td>68</td>\n",
       "      <td>62193.0</td>\n",
       "      <td>65-69</td>\n",
       "      <td>oui</td>\n",
       "    </tr>\n",
       "  </tbody>\n",
       "</table>\n",
       "</div>"
      ],
      "text/plain": [
       "      Reso. Usage Instagram           Reso. Usage Facebook  \\\n",
       "29384                Jamais                         Jamais   \n",
       "29385     Une fois par jour  Au moins une fois par semaine   \n",
       "29386                Jamais        Plusieurs fois par jour   \n",
       "\n",
       "      Reso. Usage WhatsApp Reso. Usage Twitter Reso. Usage TikTok  \\\n",
       "29384               Jamais              Jamais             Jamais   \n",
       "29385               Jamais              Jamais             Jamais   \n",
       "29386               Jamais              Jamais             Jamais   \n",
       "\n",
       "      Reso. Usage YouTube     poids      UC  age    insee tranche_age  \\\n",
       "29384              Jamais  0.951877  1666.0   74  80685.0       70-74   \n",
       "29385       Plus rarement  1.218274  2500.0   59  47105.0       55-59   \n",
       "29386              Jamais  0.867381   700.0   68  62193.0       65-69   \n",
       "\n",
       "      info_reseaux  \n",
       "29384          non  \n",
       "29385          oui  \n",
       "29386          oui  "
      ]
     },
     "execution_count": 270,
     "metadata": {},
     "output_type": "execute_result"
    }
   ],
   "source": [
    "# Ajout d'une colonne 'info_reseaux' avec la vérification des valeurs NaN : \n",
    "barometre['info_reseaux'] = barometre.apply(\n",
    "    lambda row: np.nan if row[index_colonnes_reseaux_sociaux].isna().any() else (\n",
    "        'oui' if any(\n",
    "            val in ['Une fois par jour', 'Plusieurs fois par jour'] for val in row[index_colonnes_reseaux_sociaux]\n",
    "        ) else 'non'\n",
    "    ),\n",
    "    axis=1\n",
    ")\n",
    "barometre.iloc[:, 210:].tail(3)"
   ]
  },
  {
   "cell_type": "markdown",
   "metadata": {},
   "source": [
    "### H. Création d'un DataFrame intermédiaire 'barometre_opinion' pour barplot 1 ###"
   ]
  },
  {
   "cell_type": "code",
   "execution_count": 271,
   "metadata": {},
   "outputs": [],
   "source": [
    "# Filtre des réponses non nulles de la colonne 'opinion' du dataframe :\n",
    "barometre_filtre = barometre[barometre['opinion'].notna()]"
   ]
  },
  {
   "cell_type": "code",
   "execution_count": 272,
   "metadata": {},
   "outputs": [
    {
     "data": {
      "text/html": [
       "<div>\n",
       "<style scoped>\n",
       "    .dataframe tbody tr th:only-of-type {\n",
       "        vertical-align: middle;\n",
       "    }\n",
       "\n",
       "    .dataframe tbody tr th {\n",
       "        vertical-align: top;\n",
       "    }\n",
       "\n",
       "    .dataframe thead th {\n",
       "        text-align: right;\n",
       "    }\n",
       "</style>\n",
       "<table border=\"1\" class=\"dataframe\">\n",
       "  <thead>\n",
       "    <tr style=\"text-align: right;\">\n",
       "      <th></th>\n",
       "      <th>Vague</th>\n",
       "      <th>opinion</th>\n",
       "      <th>total_vague_opinion</th>\n",
       "    </tr>\n",
       "  </thead>\n",
       "  <tbody>\n",
       "    <tr>\n",
       "      <th>0</th>\n",
       "      <td>2023</td>\n",
       "      <td>Absence de phénomène</td>\n",
       "      <td>43</td>\n",
       "    </tr>\n",
       "    <tr>\n",
       "      <th>1</th>\n",
       "      <td>2023</td>\n",
       "      <td>Activité humaine</td>\n",
       "      <td>989</td>\n",
       "    </tr>\n",
       "    <tr>\n",
       "      <th>2</th>\n",
       "      <td>2023</td>\n",
       "      <td>Phénomène naturel</td>\n",
       "      <td>409</td>\n",
       "    </tr>\n",
       "  </tbody>\n",
       "</table>\n",
       "</div>"
      ],
      "text/plain": [
       "  Vague               opinion  total_vague_opinion\n",
       "0  2023  Absence de phénomène                   43\n",
       "1  2023      Activité humaine                  989\n",
       "2  2023     Phénomène naturel                  409"
      ]
     },
     "execution_count": 272,
     "metadata": {},
     "output_type": "execute_result"
    }
   ],
   "source": [
    "# Calcul du nombre de réponses par opinion :\n",
    "barometre_vague_opinion = barometre_filtre.groupby(['Vague', 'opinion'], observed = True).size().reset_index(name = 'total_vague_opinion')\n",
    "barometre_vague_opinion.head(3)"
   ]
  },
  {
   "cell_type": "code",
   "execution_count": 273,
   "metadata": {},
   "outputs": [],
   "source": [
    "# Calcul du total des réponses pour chaque 'Vague' :\n",
    "total_par_vague = barometre_vague_opinion.groupby('Vague')['total_vague_opinion'].transform('sum')"
   ]
  },
  {
   "cell_type": "code",
   "execution_count": 274,
   "metadata": {},
   "outputs": [
    {
     "data": {
      "text/html": [
       "<div>\n",
       "<style scoped>\n",
       "    .dataframe tbody tr th:only-of-type {\n",
       "        vertical-align: middle;\n",
       "    }\n",
       "\n",
       "    .dataframe tbody tr th {\n",
       "        vertical-align: top;\n",
       "    }\n",
       "\n",
       "    .dataframe thead th {\n",
       "        text-align: right;\n",
       "    }\n",
       "</style>\n",
       "<table border=\"1\" class=\"dataframe\">\n",
       "  <thead>\n",
       "    <tr style=\"text-align: right;\">\n",
       "      <th></th>\n",
       "      <th>Vague</th>\n",
       "      <th>opinion</th>\n",
       "      <th>total_vague_opinion</th>\n",
       "      <th>taux de réponses</th>\n",
       "    </tr>\n",
       "  </thead>\n",
       "  <tbody>\n",
       "    <tr>\n",
       "      <th>0</th>\n",
       "      <td>2023</td>\n",
       "      <td>Absence de phénomène</td>\n",
       "      <td>43</td>\n",
       "      <td>3.0</td>\n",
       "    </tr>\n",
       "    <tr>\n",
       "      <th>1</th>\n",
       "      <td>2023</td>\n",
       "      <td>Activité humaine</td>\n",
       "      <td>989</td>\n",
       "      <td>69.0</td>\n",
       "    </tr>\n",
       "    <tr>\n",
       "      <th>2</th>\n",
       "      <td>2023</td>\n",
       "      <td>Phénomène naturel</td>\n",
       "      <td>409</td>\n",
       "      <td>28.0</td>\n",
       "    </tr>\n",
       "  </tbody>\n",
       "</table>\n",
       "</div>"
      ],
      "text/plain": [
       "  Vague               opinion  total_vague_opinion  taux de réponses\n",
       "0  2023  Absence de phénomène                   43               3.0\n",
       "1  2023      Activité humaine                  989              69.0\n",
       "2  2023     Phénomène naturel                  409              28.0"
      ]
     },
     "execution_count": 274,
     "metadata": {},
     "output_type": "execute_result"
    }
   ],
   "source": [
    "# Ajout de la colonne 'taux de réponses' :\n",
    "barometre_vague_opinion['taux de réponses'] = barometre_vague_opinion['total_vague_opinion']*100 / total_par_vague\n",
    "barometre_vague_opinion.round().head(3)"
   ]
  },
  {
   "cell_type": "code",
   "execution_count": 275,
   "metadata": {},
   "outputs": [
    {
     "data": {
      "text/html": [
       "<div>\n",
       "<style scoped>\n",
       "    .dataframe tbody tr th:only-of-type {\n",
       "        vertical-align: middle;\n",
       "    }\n",
       "\n",
       "    .dataframe tbody tr th {\n",
       "        vertical-align: top;\n",
       "    }\n",
       "\n",
       "    .dataframe thead th {\n",
       "        text-align: right;\n",
       "    }\n",
       "</style>\n",
       "<table border=\"1\" class=\"dataframe\">\n",
       "  <thead>\n",
       "    <tr style=\"text-align: right;\">\n",
       "      <th></th>\n",
       "      <th>tranche_age</th>\n",
       "      <th>total_age</th>\n",
       "    </tr>\n",
       "  </thead>\n",
       "  <tbody>\n",
       "    <tr>\n",
       "      <th>0</th>\n",
       "      <td>15-19</td>\n",
       "      <td>115</td>\n",
       "    </tr>\n",
       "    <tr>\n",
       "      <th>1</th>\n",
       "      <td>20-24</td>\n",
       "      <td>103</td>\n",
       "    </tr>\n",
       "    <tr>\n",
       "      <th>2</th>\n",
       "      <td>25-29</td>\n",
       "      <td>57</td>\n",
       "    </tr>\n",
       "  </tbody>\n",
       "</table>\n",
       "</div>"
      ],
      "text/plain": [
       "  tranche_age  total_age\n",
       "0       15-19        115\n",
       "1       20-24        103\n",
       "2       25-29         57"
      ]
     },
     "execution_count": 275,
     "metadata": {},
     "output_type": "execute_result"
    }
   ],
   "source": [
    "# Calcul du nombre de réponses non nulles par tranche d'âge :\n",
    "barometre_tranche_age = barometre_filtre.groupby('tranche_age', observed = True).size().reset_index(name = 'total_age')\n",
    "barometre_tranche_age.head(3)"
   ]
  },
  {
   "cell_type": "code",
   "execution_count": 276,
   "metadata": {},
   "outputs": [
    {
     "data": {
      "text/html": [
       "<div>\n",
       "<style scoped>\n",
       "    .dataframe tbody tr th:only-of-type {\n",
       "        vertical-align: middle;\n",
       "    }\n",
       "\n",
       "    .dataframe tbody tr th {\n",
       "        vertical-align: top;\n",
       "    }\n",
       "\n",
       "    .dataframe thead th {\n",
       "        text-align: right;\n",
       "    }\n",
       "</style>\n",
       "<table border=\"1\" class=\"dataframe\">\n",
       "  <thead>\n",
       "    <tr style=\"text-align: right;\">\n",
       "      <th></th>\n",
       "      <th>tranche_age</th>\n",
       "      <th>opinion</th>\n",
       "      <th>total_age_opinion</th>\n",
       "    </tr>\n",
       "  </thead>\n",
       "  <tbody>\n",
       "    <tr>\n",
       "      <th>0</th>\n",
       "      <td>15-19</td>\n",
       "      <td>Absence de phénomène</td>\n",
       "      <td>4</td>\n",
       "    </tr>\n",
       "    <tr>\n",
       "      <th>1</th>\n",
       "      <td>15-19</td>\n",
       "      <td>Activité humaine</td>\n",
       "      <td>84</td>\n",
       "    </tr>\n",
       "    <tr>\n",
       "      <th>2</th>\n",
       "      <td>15-19</td>\n",
       "      <td>Phénomène naturel</td>\n",
       "      <td>27</td>\n",
       "    </tr>\n",
       "  </tbody>\n",
       "</table>\n",
       "</div>"
      ],
      "text/plain": [
       "  tranche_age               opinion  total_age_opinion\n",
       "0       15-19  Absence de phénomène                  4\n",
       "1       15-19      Activité humaine                 84\n",
       "2       15-19     Phénomène naturel                 27"
      ]
     },
     "execution_count": 276,
     "metadata": {},
     "output_type": "execute_result"
    }
   ],
   "source": [
    "# Calcul du nombre de réponses par tranche d'âge et par opinion :\n",
    "barometre_opinion_age = barometre_filtre.groupby(['tranche_age', 'opinion'], observed = True).size().reset_index(name = 'total_age_opinion')\n",
    "barometre_opinion_age.head(3)"
   ]
  },
  {
   "cell_type": "code",
   "execution_count": 277,
   "metadata": {},
   "outputs": [
    {
     "data": {
      "text/html": [
       "<div>\n",
       "<style scoped>\n",
       "    .dataframe tbody tr th:only-of-type {\n",
       "        vertical-align: middle;\n",
       "    }\n",
       "\n",
       "    .dataframe tbody tr th {\n",
       "        vertical-align: top;\n",
       "    }\n",
       "\n",
       "    .dataframe thead th {\n",
       "        text-align: right;\n",
       "    }\n",
       "</style>\n",
       "<table border=\"1\" class=\"dataframe\">\n",
       "  <thead>\n",
       "    <tr style=\"text-align: right;\">\n",
       "      <th></th>\n",
       "      <th>tranche_age</th>\n",
       "      <th>opinion</th>\n",
       "      <th>total_age_opinion</th>\n",
       "      <th>total_age</th>\n",
       "    </tr>\n",
       "  </thead>\n",
       "  <tbody>\n",
       "    <tr>\n",
       "      <th>0</th>\n",
       "      <td>15-19</td>\n",
       "      <td>Absence de phénomène</td>\n",
       "      <td>4</td>\n",
       "      <td>115</td>\n",
       "    </tr>\n",
       "    <tr>\n",
       "      <th>1</th>\n",
       "      <td>15-19</td>\n",
       "      <td>Activité humaine</td>\n",
       "      <td>84</td>\n",
       "      <td>115</td>\n",
       "    </tr>\n",
       "    <tr>\n",
       "      <th>2</th>\n",
       "      <td>15-19</td>\n",
       "      <td>Phénomène naturel</td>\n",
       "      <td>27</td>\n",
       "      <td>115</td>\n",
       "    </tr>\n",
       "  </tbody>\n",
       "</table>\n",
       "</div>"
      ],
      "text/plain": [
       "  tranche_age               opinion  total_age_opinion  total_age\n",
       "0       15-19  Absence de phénomène                  4        115\n",
       "1       15-19      Activité humaine                 84        115\n",
       "2       15-19     Phénomène naturel                 27        115"
      ]
     },
     "execution_count": 277,
     "metadata": {},
     "output_type": "execute_result"
    }
   ],
   "source": [
    "# Fusion des deux sous-ensembles créés :\n",
    "barometre_opinion = barometre_opinion_age.merge(barometre_tranche_age, \n",
    "                                                 on = 'tranche_age')\n",
    "barometre_opinion.head(3)"
   ]
  },
  {
   "cell_type": "code",
   "execution_count": 278,
   "metadata": {},
   "outputs": [
    {
     "data": {
      "text/html": [
       "<div>\n",
       "<style scoped>\n",
       "    .dataframe tbody tr th:only-of-type {\n",
       "        vertical-align: middle;\n",
       "    }\n",
       "\n",
       "    .dataframe tbody tr th {\n",
       "        vertical-align: top;\n",
       "    }\n",
       "\n",
       "    .dataframe thead th {\n",
       "        text-align: right;\n",
       "    }\n",
       "</style>\n",
       "<table border=\"1\" class=\"dataframe\">\n",
       "  <thead>\n",
       "    <tr style=\"text-align: right;\">\n",
       "      <th></th>\n",
       "      <th>tranche_age</th>\n",
       "      <th>opinion</th>\n",
       "      <th>total_age_opinion</th>\n",
       "      <th>total_age</th>\n",
       "      <th>taux_opinion</th>\n",
       "    </tr>\n",
       "  </thead>\n",
       "  <tbody>\n",
       "    <tr>\n",
       "      <th>0</th>\n",
       "      <td>15-19</td>\n",
       "      <td>Absence de phénomène</td>\n",
       "      <td>4</td>\n",
       "      <td>115</td>\n",
       "      <td>3.5</td>\n",
       "    </tr>\n",
       "    <tr>\n",
       "      <th>1</th>\n",
       "      <td>15-19</td>\n",
       "      <td>Activité humaine</td>\n",
       "      <td>84</td>\n",
       "      <td>115</td>\n",
       "      <td>73.0</td>\n",
       "    </tr>\n",
       "    <tr>\n",
       "      <th>2</th>\n",
       "      <td>15-19</td>\n",
       "      <td>Phénomène naturel</td>\n",
       "      <td>27</td>\n",
       "      <td>115</td>\n",
       "      <td>23.5</td>\n",
       "    </tr>\n",
       "  </tbody>\n",
       "</table>\n",
       "</div>"
      ],
      "text/plain": [
       "  tranche_age               opinion  total_age_opinion  total_age  \\\n",
       "0       15-19  Absence de phénomène                  4        115   \n",
       "1       15-19      Activité humaine                 84        115   \n",
       "2       15-19     Phénomène naturel                 27        115   \n",
       "\n",
       "   taux_opinion  \n",
       "0           3.5  \n",
       "1          73.0  \n",
       "2          23.5  "
      ]
     },
     "execution_count": 278,
     "metadata": {},
     "output_type": "execute_result"
    }
   ],
   "source": [
    "# Calcul du taux de réponses par tranche d'age et opinions :\n",
    "barometre_opinion['taux_opinion'] = barometre_opinion['total_age_opinion']*100 / barometre_opinion['total_age']\n",
    "barometre_opinion.head(3).round(1)"
   ]
  },
  {
   "cell_type": "code",
   "execution_count": 279,
   "metadata": {},
   "outputs": [
    {
     "name": "stdout",
     "output_type": "stream",
     "text": [
      "Cet objet est un  <class 'pandas.core.frame.DataFrame'> .\n"
     ]
    }
   ],
   "source": [
    "# Conversion au format DataFrame :\n",
    "barometre_opinion = pd.DataFrame(barometre_opinion)\n",
    "print(\"Cet objet est un \", type(barometre_opinion), \".\")"
   ]
  },
  {
   "cell_type": "markdown",
   "metadata": {},
   "source": [
    "### I. Création d'un DataFrame intermédiaire 'barometre_tendance' pour lineplot ###"
   ]
  },
  {
   "cell_type": "code",
   "execution_count": 280,
   "metadata": {},
   "outputs": [],
   "source": [
    "# Filtre du tableau sur 'climatosceptique' non nul :\n",
    "barometre_tendance_filtre = barometre[barometre['climatosceptique'].notna()]"
   ]
  },
  {
   "cell_type": "code",
   "execution_count": 281,
   "metadata": {},
   "outputs": [
    {
     "data": {
      "text/html": [
       "<div>\n",
       "<style scoped>\n",
       "    .dataframe tbody tr th:only-of-type {\n",
       "        vertical-align: middle;\n",
       "    }\n",
       "\n",
       "    .dataframe tbody tr th {\n",
       "        vertical-align: top;\n",
       "    }\n",
       "\n",
       "    .dataframe thead th {\n",
       "        text-align: right;\n",
       "    }\n",
       "</style>\n",
       "<table border=\"1\" class=\"dataframe\">\n",
       "  <thead>\n",
       "    <tr style=\"text-align: right;\">\n",
       "      <th></th>\n",
       "      <th>Vague</th>\n",
       "      <th>total_réponses</th>\n",
       "    </tr>\n",
       "  </thead>\n",
       "  <tbody>\n",
       "    <tr>\n",
       "      <th>0</th>\n",
       "      <td>2000</td>\n",
       "      <td>926</td>\n",
       "    </tr>\n",
       "    <tr>\n",
       "      <th>1</th>\n",
       "      <td>2001</td>\n",
       "      <td>915</td>\n",
       "    </tr>\n",
       "    <tr>\n",
       "      <th>2</th>\n",
       "      <td>2002</td>\n",
       "      <td>943</td>\n",
       "    </tr>\n",
       "  </tbody>\n",
       "</table>\n",
       "</div>"
      ],
      "text/plain": [
       "  Vague  total_réponses\n",
       "0  2000             926\n",
       "1  2001             915\n",
       "2  2002             943"
      ]
     },
     "execution_count": 281,
     "metadata": {},
     "output_type": "execute_result"
    }
   ],
   "source": [
    "# Affichage du nombre de réponses par vagues :\n",
    "barometre_tendance_1 = barometre_tendance_filtre.groupby(['Vague'], observed = True).size().reset_index(name='total_réponses')\n",
    "barometre_tendance_1.head(3)"
   ]
  },
  {
   "cell_type": "code",
   "execution_count": 282,
   "metadata": {},
   "outputs": [
    {
     "data": {
      "text/html": [
       "<div>\n",
       "<style scoped>\n",
       "    .dataframe tbody tr th:only-of-type {\n",
       "        vertical-align: middle;\n",
       "    }\n",
       "\n",
       "    .dataframe tbody tr th {\n",
       "        vertical-align: top;\n",
       "    }\n",
       "\n",
       "    .dataframe thead th {\n",
       "        text-align: right;\n",
       "    }\n",
       "</style>\n",
       "<table border=\"1\" class=\"dataframe\">\n",
       "  <thead>\n",
       "    <tr style=\"text-align: right;\">\n",
       "      <th></th>\n",
       "      <th>Vague</th>\n",
       "      <th>S1. genre</th>\n",
       "      <th>S3. Zone géo</th>\n",
       "      <th>Région</th>\n",
       "      <th>Département</th>\n",
       "      <th>S7. Taille commune</th>\n",
       "      <th>S7b. Taille commune</th>\n",
       "      <th>S7c. Taille commune</th>\n",
       "      <th>S6. Situation professionnelle</th>\n",
       "      <th>S5. CSP</th>\n",
       "      <th>...</th>\n",
       "      <th>Reso. Usage WhatsApp</th>\n",
       "      <th>Reso. Usage Twitter</th>\n",
       "      <th>Reso. Usage TikTok</th>\n",
       "      <th>Reso. Usage YouTube</th>\n",
       "      <th>poids</th>\n",
       "      <th>UC</th>\n",
       "      <th>age</th>\n",
       "      <th>insee</th>\n",
       "      <th>tranche_age</th>\n",
       "      <th>info_reseaux</th>\n",
       "    </tr>\n",
       "  </thead>\n",
       "  <tbody>\n",
       "    <tr>\n",
       "      <th>5</th>\n",
       "      <td>2000</td>\n",
       "      <td>Une femme</td>\n",
       "      <td>Nord Ouest</td>\n",
       "      <td>Pays de la Loire</td>\n",
       "      <td>Loire-Atlantique</td>\n",
       "      <td>NaN</td>\n",
       "      <td>Dans une agglomération de 100.000 habitants et...</td>\n",
       "      <td>NaN</td>\n",
       "      <td>NaN</td>\n",
       "      <td>NaN</td>\n",
       "      <td>...</td>\n",
       "      <td>NaN</td>\n",
       "      <td>NaN</td>\n",
       "      <td>NaN</td>\n",
       "      <td>NaN</td>\n",
       "      <td>0.570370</td>\n",
       "      <td>NaN</td>\n",
       "      <td>28</td>\n",
       "      <td>NaN</td>\n",
       "      <td>25-29</td>\n",
       "      <td>NaN</td>\n",
       "    </tr>\n",
       "    <tr>\n",
       "      <th>8</th>\n",
       "      <td>2000</td>\n",
       "      <td>Une femme</td>\n",
       "      <td>Ile de France</td>\n",
       "      <td>Ile de France</td>\n",
       "      <td>Val-d'Oise</td>\n",
       "      <td>NaN</td>\n",
       "      <td>Dans l'agglomération parisienne</td>\n",
       "      <td>NaN</td>\n",
       "      <td>NaN</td>\n",
       "      <td>NaN</td>\n",
       "      <td>...</td>\n",
       "      <td>NaN</td>\n",
       "      <td>NaN</td>\n",
       "      <td>NaN</td>\n",
       "      <td>NaN</td>\n",
       "      <td>1.112676</td>\n",
       "      <td>NaN</td>\n",
       "      <td>51</td>\n",
       "      <td>NaN</td>\n",
       "      <td>50-54</td>\n",
       "      <td>NaN</td>\n",
       "    </tr>\n",
       "    <tr>\n",
       "      <th>10</th>\n",
       "      <td>2000</td>\n",
       "      <td>Une femme</td>\n",
       "      <td>Sud Est</td>\n",
       "      <td>Provence - Alpes - Côte d'Azur</td>\n",
       "      <td>Bouches-du-Rhône</td>\n",
       "      <td>NaN</td>\n",
       "      <td>Dans une agglomération de 100.000 habitants et...</td>\n",
       "      <td>NaN</td>\n",
       "      <td>NaN</td>\n",
       "      <td>NaN</td>\n",
       "      <td>...</td>\n",
       "      <td>NaN</td>\n",
       "      <td>NaN</td>\n",
       "      <td>NaN</td>\n",
       "      <td>NaN</td>\n",
       "      <td>1.112676</td>\n",
       "      <td>NaN</td>\n",
       "      <td>43</td>\n",
       "      <td>NaN</td>\n",
       "      <td>40-44</td>\n",
       "      <td>NaN</td>\n",
       "    </tr>\n",
       "  </tbody>\n",
       "</table>\n",
       "<p>3 rows × 222 columns</p>\n",
       "</div>"
      ],
      "text/plain": [
       "   Vague  S1. genre   S3. Zone géo                          Région  \\\n",
       "5   2000  Une femme     Nord Ouest                Pays de la Loire   \n",
       "8   2000  Une femme  Ile de France                   Ile de France   \n",
       "10  2000  Une femme        Sud Est  Provence - Alpes - Côte d'Azur   \n",
       "\n",
       "         Département S7. Taille commune  \\\n",
       "5   Loire-Atlantique                NaN   \n",
       "8         Val-d'Oise                NaN   \n",
       "10  Bouches-du-Rhône                NaN   \n",
       "\n",
       "                                  S7b. Taille commune S7c. Taille commune  \\\n",
       "5   Dans une agglomération de 100.000 habitants et...                 NaN   \n",
       "8                     Dans l'agglomération parisienne                 NaN   \n",
       "10  Dans une agglomération de 100.000 habitants et...                 NaN   \n",
       "\n",
       "   S6. Situation professionnelle S5. CSP  ... Reso. Usage WhatsApp  \\\n",
       "5                            NaN     NaN  ...                  NaN   \n",
       "8                            NaN     NaN  ...                  NaN   \n",
       "10                           NaN     NaN  ...                  NaN   \n",
       "\n",
       "   Reso. Usage Twitter Reso. Usage TikTok Reso. Usage YouTube     poids  UC  \\\n",
       "5                  NaN                NaN                 NaN  0.570370 NaN   \n",
       "8                  NaN                NaN                 NaN  1.112676 NaN   \n",
       "10                 NaN                NaN                 NaN  1.112676 NaN   \n",
       "\n",
       "   age insee tranche_age info_reseaux  \n",
       "5   28   NaN       25-29          NaN  \n",
       "8   51   NaN       50-54          NaN  \n",
       "10  43   NaN       40-44          NaN  \n",
       "\n",
       "[3 rows x 222 columns]"
      ]
     },
     "execution_count": 282,
     "metadata": {},
     "output_type": "execute_result"
    }
   ],
   "source": [
    "# Filtre du DataFrame pour inclure uniquement les climatosceptiques :\n",
    "barometre_tendance_filtre_2 = barometre_tendance_filtre[barometre_tendance_filtre['climatosceptique'] == 'climatosceptique']\n",
    "barometre_tendance_filtre_2.head(3)"
   ]
  },
  {
   "cell_type": "code",
   "execution_count": 283,
   "metadata": {},
   "outputs": [
    {
     "data": {
      "text/html": [
       "<div>\n",
       "<style scoped>\n",
       "    .dataframe tbody tr th:only-of-type {\n",
       "        vertical-align: middle;\n",
       "    }\n",
       "\n",
       "    .dataframe tbody tr th {\n",
       "        vertical-align: top;\n",
       "    }\n",
       "\n",
       "    .dataframe thead th {\n",
       "        text-align: right;\n",
       "    }\n",
       "</style>\n",
       "<table border=\"1\" class=\"dataframe\">\n",
       "  <thead>\n",
       "    <tr style=\"text-align: right;\">\n",
       "      <th></th>\n",
       "      <th>Vague</th>\n",
       "      <th>total_climatosceptiques</th>\n",
       "    </tr>\n",
       "  </thead>\n",
       "  <tbody>\n",
       "    <tr>\n",
       "      <th>0</th>\n",
       "      <td>2000</td>\n",
       "      <td>308</td>\n",
       "    </tr>\n",
       "    <tr>\n",
       "      <th>1</th>\n",
       "      <td>2001</td>\n",
       "      <td>311</td>\n",
       "    </tr>\n",
       "    <tr>\n",
       "      <th>2</th>\n",
       "      <td>2002</td>\n",
       "      <td>281</td>\n",
       "    </tr>\n",
       "  </tbody>\n",
       "</table>\n",
       "</div>"
      ],
      "text/plain": [
       "  Vague  total_climatosceptiques\n",
       "0  2000                      308\n",
       "1  2001                      311\n",
       "2  2002                      281"
      ]
     },
     "execution_count": 283,
     "metadata": {},
     "output_type": "execute_result"
    }
   ],
   "source": [
    "# Décompte du nombre de climatosceptiques par vague :\n",
    "barometre_tendance_2 = barometre_tendance_filtre_2.groupby('Vague').size().reset_index(name='total_climatosceptiques')\n",
    "barometre_tendance_2.head(3)"
   ]
  },
  {
   "cell_type": "code",
   "execution_count": 284,
   "metadata": {},
   "outputs": [
    {
     "data": {
      "text/html": [
       "<div>\n",
       "<style scoped>\n",
       "    .dataframe tbody tr th:only-of-type {\n",
       "        vertical-align: middle;\n",
       "    }\n",
       "\n",
       "    .dataframe tbody tr th {\n",
       "        vertical-align: top;\n",
       "    }\n",
       "\n",
       "    .dataframe thead th {\n",
       "        text-align: right;\n",
       "    }\n",
       "</style>\n",
       "<table border=\"1\" class=\"dataframe\">\n",
       "  <thead>\n",
       "    <tr style=\"text-align: right;\">\n",
       "      <th></th>\n",
       "      <th>Vague</th>\n",
       "      <th>total_climatosceptiques</th>\n",
       "      <th>total_réponses</th>\n",
       "    </tr>\n",
       "  </thead>\n",
       "  <tbody>\n",
       "    <tr>\n",
       "      <th>0</th>\n",
       "      <td>2000</td>\n",
       "      <td>308</td>\n",
       "      <td>926</td>\n",
       "    </tr>\n",
       "    <tr>\n",
       "      <th>1</th>\n",
       "      <td>2001</td>\n",
       "      <td>311</td>\n",
       "      <td>915</td>\n",
       "    </tr>\n",
       "    <tr>\n",
       "      <th>2</th>\n",
       "      <td>2002</td>\n",
       "      <td>281</td>\n",
       "      <td>943</td>\n",
       "    </tr>\n",
       "  </tbody>\n",
       "</table>\n",
       "</div>"
      ],
      "text/plain": [
       "  Vague  total_climatosceptiques  total_réponses\n",
       "0  2000                      308             926\n",
       "1  2001                      311             915\n",
       "2  2002                      281             943"
      ]
     },
     "execution_count": 284,
     "metadata": {},
     "output_type": "execute_result"
    }
   ],
   "source": [
    "# Jointure des deux DataFrames sur la colonne 'Vague' :\n",
    "barometre_tendance = pd.merge(barometre_tendance_2, \n",
    "                                    barometre_tendance_1, \n",
    "                                    on = ['Vague'])\n",
    "barometre_tendance.head(3)"
   ]
  },
  {
   "cell_type": "code",
   "execution_count": 285,
   "metadata": {},
   "outputs": [
    {
     "data": {
      "text/html": [
       "<div>\n",
       "<style scoped>\n",
       "    .dataframe tbody tr th:only-of-type {\n",
       "        vertical-align: middle;\n",
       "    }\n",
       "\n",
       "    .dataframe tbody tr th {\n",
       "        vertical-align: top;\n",
       "    }\n",
       "\n",
       "    .dataframe thead th {\n",
       "        text-align: right;\n",
       "    }\n",
       "</style>\n",
       "<table border=\"1\" class=\"dataframe\">\n",
       "  <thead>\n",
       "    <tr style=\"text-align: right;\">\n",
       "      <th></th>\n",
       "      <th>Vague</th>\n",
       "      <th>total_climatosceptiques</th>\n",
       "      <th>total_réponses</th>\n",
       "      <th>taux_climatosceptiques</th>\n",
       "    </tr>\n",
       "  </thead>\n",
       "  <tbody>\n",
       "    <tr>\n",
       "      <th>0</th>\n",
       "      <td>2000</td>\n",
       "      <td>308</td>\n",
       "      <td>926</td>\n",
       "      <td>33.3</td>\n",
       "    </tr>\n",
       "    <tr>\n",
       "      <th>1</th>\n",
       "      <td>2001</td>\n",
       "      <td>311</td>\n",
       "      <td>915</td>\n",
       "      <td>34.0</td>\n",
       "    </tr>\n",
       "    <tr>\n",
       "      <th>2</th>\n",
       "      <td>2002</td>\n",
       "      <td>281</td>\n",
       "      <td>943</td>\n",
       "      <td>29.8</td>\n",
       "    </tr>\n",
       "  </tbody>\n",
       "</table>\n",
       "</div>"
      ],
      "text/plain": [
       "  Vague  total_climatosceptiques  total_réponses  taux_climatosceptiques\n",
       "0  2000                      308             926                    33.3\n",
       "1  2001                      311             915                    34.0\n",
       "2  2002                      281             943                    29.8"
      ]
     },
     "execution_count": 285,
     "metadata": {},
     "output_type": "execute_result"
    }
   ],
   "source": [
    "# Calcul du taux de réponses par Vague :\n",
    "barometre_tendance['taux_climatosceptiques'] = barometre_tendance['total_climatosceptiques']*100 / barometre_tendance['total_réponses']\n",
    "barometre_tendance.head(3).round(1)"
   ]
  },
  {
   "cell_type": "code",
   "execution_count": 286,
   "metadata": {},
   "outputs": [],
   "source": [
    "# Conversion des colonnes en types appropriés :\n",
    "barometre_tendance['Vague'] = pd.to_numeric(barometre_tendance['Vague'], errors='coerce')\n",
    "barometre_tendance['taux_climatosceptiques'] = pd.to_numeric(barometre_tendance['taux_climatosceptiques'], errors='coerce')"
   ]
  },
  {
   "cell_type": "code",
   "execution_count": 287,
   "metadata": {},
   "outputs": [
    {
     "name": "stdout",
     "output_type": "stream",
     "text": [
      "Le taux moyen de climatosceptiques est de  33.0 %.\n"
     ]
    }
   ],
   "source": [
    "# Calcul du taux moyen de climatosceptiques :\n",
    "moyenne_climatosceptiques = barometre_tendance['total_climatosceptiques'].mean()\n",
    "moyenne_participants = barometre_tendance['total_réponses'].mean()\n",
    "moyenne_taux_climatosceptiques = moyenne_climatosceptiques*100/moyenne_participants\n",
    "print(\"Le taux moyen de climatosceptiques est de \", moyenne_taux_climatosceptiques.round(0), \"%.\")"
   ]
  },
  {
   "cell_type": "markdown",
   "metadata": {},
   "source": [
    "### J. Création d'un Dataframe intermédiaire 'barometre_reseaux' pour barplot 2 et export ###"
   ]
  },
  {
   "cell_type": "code",
   "execution_count": 288,
   "metadata": {},
   "outputs": [
    {
     "data": {
      "text/html": [
       "<div>\n",
       "<style scoped>\n",
       "    .dataframe tbody tr th:only-of-type {\n",
       "        vertical-align: middle;\n",
       "    }\n",
       "\n",
       "    .dataframe tbody tr th {\n",
       "        vertical-align: top;\n",
       "    }\n",
       "\n",
       "    .dataframe thead th {\n",
       "        text-align: right;\n",
       "    }\n",
       "</style>\n",
       "<table border=\"1\" class=\"dataframe\">\n",
       "  <thead>\n",
       "    <tr style=\"text-align: right;\">\n",
       "      <th></th>\n",
       "      <th>Vague</th>\n",
       "      <th>S1. genre</th>\n",
       "      <th>S3. Zone géo</th>\n",
       "      <th>Région</th>\n",
       "      <th>Département</th>\n",
       "      <th>S7. Taille commune</th>\n",
       "      <th>S7b. Taille commune</th>\n",
       "      <th>S7c. Taille commune</th>\n",
       "      <th>S6. Situation professionnelle</th>\n",
       "      <th>S5. CSP</th>\n",
       "      <th>...</th>\n",
       "      <th>Reso. Usage WhatsApp</th>\n",
       "      <th>Reso. Usage Twitter</th>\n",
       "      <th>Reso. Usage TikTok</th>\n",
       "      <th>Reso. Usage YouTube</th>\n",
       "      <th>poids</th>\n",
       "      <th>UC</th>\n",
       "      <th>age</th>\n",
       "      <th>insee</th>\n",
       "      <th>tranche_age</th>\n",
       "      <th>info_reseaux</th>\n",
       "    </tr>\n",
       "  </thead>\n",
       "  <tbody>\n",
       "    <tr>\n",
       "      <th>27868</th>\n",
       "      <td>2023</td>\n",
       "      <td>Une femme</td>\n",
       "      <td>Ile de France</td>\n",
       "      <td>Ile de France</td>\n",
       "      <td>Paris</td>\n",
       "      <td>Agglomération parisienne</td>\n",
       "      <td>Dans l'agglomération parisienne</td>\n",
       "      <td>Dans l'agglomération parisienne</td>\n",
       "      <td>...exercez actuellement une profession</td>\n",
       "      <td>Professions libérales</td>\n",
       "      <td>...</td>\n",
       "      <td>Plusieurs fois par jour</td>\n",
       "      <td>Jamais</td>\n",
       "      <td>Une fois par jour</td>\n",
       "      <td>Plusieurs fois par jour</td>\n",
       "      <td>1.238449</td>\n",
       "      <td>1250.0</td>\n",
       "      <td>28</td>\n",
       "      <td>75102.0</td>\n",
       "      <td>25-29</td>\n",
       "      <td>oui</td>\n",
       "    </tr>\n",
       "    <tr>\n",
       "      <th>27869</th>\n",
       "      <td>2023</td>\n",
       "      <td>Un homme</td>\n",
       "      <td>Sud Ouest</td>\n",
       "      <td>Aquitaine - Limousin - Poitou - Charente</td>\n",
       "      <td>Haute-Vienne</td>\n",
       "      <td>Une commune rurale, c'est à dire une ville de ...</td>\n",
       "      <td>En zone rurale</td>\n",
       "      <td>En zone rurale</td>\n",
       "      <td>...exercez actuellement une profession</td>\n",
       "      <td>Employé civil et agent de service de la foncti...</td>\n",
       "      <td>...</td>\n",
       "      <td>Jamais</td>\n",
       "      <td>Au moins une fois par semaine</td>\n",
       "      <td>Jamais</td>\n",
       "      <td>Plusieurs fois par jour</td>\n",
       "      <td>1.241331</td>\n",
       "      <td>1250.0</td>\n",
       "      <td>49</td>\n",
       "      <td>87130.0</td>\n",
       "      <td>45-49</td>\n",
       "      <td>oui</td>\n",
       "    </tr>\n",
       "    <tr>\n",
       "      <th>27870</th>\n",
       "      <td>2023</td>\n",
       "      <td>Un homme</td>\n",
       "      <td>Nord Ouest</td>\n",
       "      <td>Pays de la Loire</td>\n",
       "      <td>Sarthe</td>\n",
       "      <td>Une commune rurale, c'est à dire une ville de ...</td>\n",
       "      <td>En zone rurale</td>\n",
       "      <td>En zone rurale</td>\n",
       "      <td>...êtes retraité</td>\n",
       "      <td>Employé civil et agent de service de la foncti...</td>\n",
       "      <td>...</td>\n",
       "      <td>Jamais</td>\n",
       "      <td>Jamais</td>\n",
       "      <td>Jamais</td>\n",
       "      <td>Jamais</td>\n",
       "      <td>1.409993</td>\n",
       "      <td>1166.0</td>\n",
       "      <td>66</td>\n",
       "      <td>72189.0</td>\n",
       "      <td>65-69</td>\n",
       "      <td>non</td>\n",
       "    </tr>\n",
       "  </tbody>\n",
       "</table>\n",
       "<p>3 rows × 222 columns</p>\n",
       "</div>"
      ],
      "text/plain": [
       "      Vague  S1. genre   S3. Zone géo  \\\n",
       "27868  2023  Une femme  Ile de France   \n",
       "27869  2023   Un homme      Sud Ouest   \n",
       "27870  2023   Un homme     Nord Ouest   \n",
       "\n",
       "                                         Région   Département  \\\n",
       "27868                             Ile de France         Paris   \n",
       "27869  Aquitaine - Limousin - Poitou - Charente  Haute-Vienne   \n",
       "27870                          Pays de la Loire        Sarthe   \n",
       "\n",
       "                                      S7. Taille commune  \\\n",
       "27868                           Agglomération parisienne   \n",
       "27869  Une commune rurale, c'est à dire une ville de ...   \n",
       "27870  Une commune rurale, c'est à dire une ville de ...   \n",
       "\n",
       "                   S7b. Taille commune              S7c. Taille commune  \\\n",
       "27868  Dans l'agglomération parisienne  Dans l'agglomération parisienne   \n",
       "27869                   En zone rurale                   En zone rurale   \n",
       "27870                   En zone rurale                   En zone rurale   \n",
       "\n",
       "                S6. Situation professionnelle  \\\n",
       "27868  ...exercez actuellement une profession   \n",
       "27869  ...exercez actuellement une profession   \n",
       "27870                        ...êtes retraité   \n",
       "\n",
       "                                                 S5. CSP  ...  \\\n",
       "27868                              Professions libérales  ...   \n",
       "27869  Employé civil et agent de service de la foncti...  ...   \n",
       "27870  Employé civil et agent de service de la foncti...  ...   \n",
       "\n",
       "          Reso. Usage WhatsApp            Reso. Usage Twitter  \\\n",
       "27868  Plusieurs fois par jour                         Jamais   \n",
       "27869                   Jamais  Au moins une fois par semaine   \n",
       "27870                   Jamais                         Jamais   \n",
       "\n",
       "      Reso. Usage TikTok      Reso. Usage YouTube     poids      UC age  \\\n",
       "27868  Une fois par jour  Plusieurs fois par jour  1.238449  1250.0  28   \n",
       "27869             Jamais  Plusieurs fois par jour  1.241331  1250.0  49   \n",
       "27870             Jamais                   Jamais  1.409993  1166.0  66   \n",
       "\n",
       "         insee tranche_age info_reseaux  \n",
       "27868  75102.0       25-29          oui  \n",
       "27869  87130.0       45-49          oui  \n",
       "27870  72189.0       65-69          non  \n",
       "\n",
       "[3 rows x 222 columns]"
      ]
     },
     "execution_count": 288,
     "metadata": {},
     "output_type": "execute_result"
    }
   ],
   "source": [
    "# Filtre du DataFrame pour inclure uniquement les lignes où la colonne 'vague' est égale à 2023 :\n",
    "barometre_facteurs = barometre[\n",
    "    (barometre['Vague'] == '2023') & \n",
    "    (barometre['climatosceptique'].notna())]\n",
    "barometre_facteurs.head(3)"
   ]
  },
  {
   "cell_type": "code",
   "execution_count": 289,
   "metadata": {},
   "outputs": [
    {
     "data": {
      "text/html": [
       "<div>\n",
       "<style scoped>\n",
       "    .dataframe tbody tr th:only-of-type {\n",
       "        vertical-align: middle;\n",
       "    }\n",
       "\n",
       "    .dataframe tbody tr th {\n",
       "        vertical-align: top;\n",
       "    }\n",
       "\n",
       "    .dataframe thead th {\n",
       "        text-align: right;\n",
       "    }\n",
       "</style>\n",
       "<table border=\"1\" class=\"dataframe\">\n",
       "  <thead>\n",
       "    <tr style=\"text-align: right;\">\n",
       "      <th></th>\n",
       "      <th>tranche_age</th>\n",
       "      <th>climatosceptique</th>\n",
       "      <th>total_opinion</th>\n",
       "    </tr>\n",
       "  </thead>\n",
       "  <tbody>\n",
       "    <tr>\n",
       "      <th>0</th>\n",
       "      <td>15-19</td>\n",
       "      <td>climatofervent</td>\n",
       "      <td>89</td>\n",
       "    </tr>\n",
       "    <tr>\n",
       "      <th>1</th>\n",
       "      <td>15-19</td>\n",
       "      <td>climatosceptique</td>\n",
       "      <td>32</td>\n",
       "    </tr>\n",
       "    <tr>\n",
       "      <th>2</th>\n",
       "      <td>20-24</td>\n",
       "      <td>climatofervent</td>\n",
       "      <td>71</td>\n",
       "    </tr>\n",
       "  </tbody>\n",
       "</table>\n",
       "</div>"
      ],
      "text/plain": [
       "  tranche_age  climatosceptique  total_opinion\n",
       "0       15-19    climatofervent             89\n",
       "1       15-19  climatosceptique             32\n",
       "2       20-24    climatofervent             71"
      ]
     },
     "execution_count": 289,
     "metadata": {},
     "output_type": "execute_result"
    }
   ],
   "source": [
    "# Affichage du nombre de réponses par tranches d'age :\n",
    "barometre_facteurs_1 = barometre_facteurs.groupby(['tranche_age', 'climatosceptique'], observed = True).size().reset_index(name = 'total_opinion')\n",
    "barometre_facteurs_1.head(3)"
   ]
  },
  {
   "cell_type": "code",
   "execution_count": 290,
   "metadata": {},
   "outputs": [
    {
     "data": {
      "text/html": [
       "<div>\n",
       "<style scoped>\n",
       "    .dataframe tbody tr th:only-of-type {\n",
       "        vertical-align: middle;\n",
       "    }\n",
       "\n",
       "    .dataframe tbody tr th {\n",
       "        vertical-align: top;\n",
       "    }\n",
       "\n",
       "    .dataframe thead th {\n",
       "        text-align: right;\n",
       "    }\n",
       "</style>\n",
       "<table border=\"1\" class=\"dataframe\">\n",
       "  <thead>\n",
       "    <tr style=\"text-align: right;\">\n",
       "      <th></th>\n",
       "      <th>Vague</th>\n",
       "      <th>S1. genre</th>\n",
       "      <th>S3. Zone géo</th>\n",
       "      <th>Région</th>\n",
       "      <th>Département</th>\n",
       "      <th>S7. Taille commune</th>\n",
       "      <th>S7b. Taille commune</th>\n",
       "      <th>S7c. Taille commune</th>\n",
       "      <th>S6. Situation professionnelle</th>\n",
       "      <th>S5. CSP</th>\n",
       "      <th>...</th>\n",
       "      <th>Reso. Usage WhatsApp</th>\n",
       "      <th>Reso. Usage Twitter</th>\n",
       "      <th>Reso. Usage TikTok</th>\n",
       "      <th>Reso. Usage YouTube</th>\n",
       "      <th>poids</th>\n",
       "      <th>UC</th>\n",
       "      <th>age</th>\n",
       "      <th>insee</th>\n",
       "      <th>tranche_age</th>\n",
       "      <th>info_reseaux</th>\n",
       "    </tr>\n",
       "  </thead>\n",
       "  <tbody>\n",
       "    <tr>\n",
       "      <th>27868</th>\n",
       "      <td>2023</td>\n",
       "      <td>Une femme</td>\n",
       "      <td>Ile de France</td>\n",
       "      <td>Ile de France</td>\n",
       "      <td>Paris</td>\n",
       "      <td>Agglomération parisienne</td>\n",
       "      <td>Dans l'agglomération parisienne</td>\n",
       "      <td>Dans l'agglomération parisienne</td>\n",
       "      <td>...exercez actuellement une profession</td>\n",
       "      <td>Professions libérales</td>\n",
       "      <td>...</td>\n",
       "      <td>Plusieurs fois par jour</td>\n",
       "      <td>Jamais</td>\n",
       "      <td>Une fois par jour</td>\n",
       "      <td>Plusieurs fois par jour</td>\n",
       "      <td>1.238449</td>\n",
       "      <td>1250.0</td>\n",
       "      <td>28</td>\n",
       "      <td>75102.0</td>\n",
       "      <td>25-29</td>\n",
       "      <td>oui</td>\n",
       "    </tr>\n",
       "    <tr>\n",
       "      <th>27869</th>\n",
       "      <td>2023</td>\n",
       "      <td>Un homme</td>\n",
       "      <td>Sud Ouest</td>\n",
       "      <td>Aquitaine - Limousin - Poitou - Charente</td>\n",
       "      <td>Haute-Vienne</td>\n",
       "      <td>Une commune rurale, c'est à dire une ville de ...</td>\n",
       "      <td>En zone rurale</td>\n",
       "      <td>En zone rurale</td>\n",
       "      <td>...exercez actuellement une profession</td>\n",
       "      <td>Employé civil et agent de service de la foncti...</td>\n",
       "      <td>...</td>\n",
       "      <td>Jamais</td>\n",
       "      <td>Au moins une fois par semaine</td>\n",
       "      <td>Jamais</td>\n",
       "      <td>Plusieurs fois par jour</td>\n",
       "      <td>1.241331</td>\n",
       "      <td>1250.0</td>\n",
       "      <td>49</td>\n",
       "      <td>87130.0</td>\n",
       "      <td>45-49</td>\n",
       "      <td>oui</td>\n",
       "    </tr>\n",
       "    <tr>\n",
       "      <th>27871</th>\n",
       "      <td>2023</td>\n",
       "      <td>Une femme</td>\n",
       "      <td>Nord Ouest</td>\n",
       "      <td>Basse - Normandie - Haute - Normandie</td>\n",
       "      <td>Seine-Maritime</td>\n",
       "      <td>200 000 habitants et plus</td>\n",
       "      <td>Dans une agglomération de 100.000 habitants et...</td>\n",
       "      <td>Dans une agglomération de 200.000 habitants et...</td>\n",
       "      <td>...exercez actuellement une profession</td>\n",
       "      <td>Cadre de la fonction publique</td>\n",
       "      <td>...</td>\n",
       "      <td>Une fois par jour</td>\n",
       "      <td>Deux à trois fois par mois</td>\n",
       "      <td>Au moins une fois par semaine</td>\n",
       "      <td>Au moins une fois par semaine</td>\n",
       "      <td>0.569166</td>\n",
       "      <td>2833.0</td>\n",
       "      <td>37</td>\n",
       "      <td>76322.0</td>\n",
       "      <td>35-39</td>\n",
       "      <td>oui</td>\n",
       "    </tr>\n",
       "  </tbody>\n",
       "</table>\n",
       "<p>3 rows × 222 columns</p>\n",
       "</div>"
      ],
      "text/plain": [
       "      Vague  S1. genre   S3. Zone géo  \\\n",
       "27868  2023  Une femme  Ile de France   \n",
       "27869  2023   Un homme      Sud Ouest   \n",
       "27871  2023  Une femme     Nord Ouest   \n",
       "\n",
       "                                         Région     Département  \\\n",
       "27868                             Ile de France           Paris   \n",
       "27869  Aquitaine - Limousin - Poitou - Charente    Haute-Vienne   \n",
       "27871     Basse - Normandie - Haute - Normandie  Seine-Maritime   \n",
       "\n",
       "                                      S7. Taille commune  \\\n",
       "27868                           Agglomération parisienne   \n",
       "27869  Une commune rurale, c'est à dire une ville de ...   \n",
       "27871                          200 000 habitants et plus   \n",
       "\n",
       "                                     S7b. Taille commune  \\\n",
       "27868                    Dans l'agglomération parisienne   \n",
       "27869                                     En zone rurale   \n",
       "27871  Dans une agglomération de 100.000 habitants et...   \n",
       "\n",
       "                                     S7c. Taille commune  \\\n",
       "27868                    Dans l'agglomération parisienne   \n",
       "27869                                     En zone rurale   \n",
       "27871  Dans une agglomération de 200.000 habitants et...   \n",
       "\n",
       "                S6. Situation professionnelle  \\\n",
       "27868  ...exercez actuellement une profession   \n",
       "27869  ...exercez actuellement une profession   \n",
       "27871  ...exercez actuellement une profession   \n",
       "\n",
       "                                                 S5. CSP  ...  \\\n",
       "27868                              Professions libérales  ...   \n",
       "27869  Employé civil et agent de service de la foncti...  ...   \n",
       "27871                      Cadre de la fonction publique  ...   \n",
       "\n",
       "          Reso. Usage WhatsApp            Reso. Usage Twitter  \\\n",
       "27868  Plusieurs fois par jour                         Jamais   \n",
       "27869                   Jamais  Au moins une fois par semaine   \n",
       "27871        Une fois par jour     Deux à trois fois par mois   \n",
       "\n",
       "                  Reso. Usage TikTok            Reso. Usage YouTube     poids  \\\n",
       "27868              Une fois par jour        Plusieurs fois par jour  1.238449   \n",
       "27869                         Jamais        Plusieurs fois par jour  1.241331   \n",
       "27871  Au moins une fois par semaine  Au moins une fois par semaine  0.569166   \n",
       "\n",
       "           UC age    insee tranche_age info_reseaux  \n",
       "27868  1250.0  28  75102.0       25-29          oui  \n",
       "27869  1250.0  49  87130.0       45-49          oui  \n",
       "27871  2833.0  37  76322.0       35-39          oui  \n",
       "\n",
       "[3 rows x 222 columns]"
      ]
     },
     "execution_count": 290,
     "metadata": {},
     "output_type": "execute_result"
    }
   ],
   "source": [
    "# Filtre du DataFrame pour inclure uniquement les climatosceptiques\n",
    "barometre_facteur_filtre_2 = barometre_facteurs[barometre_facteurs['info_reseaux'] == 'oui']\n",
    "barometre_facteur_filtre_2.head(3)"
   ]
  },
  {
   "cell_type": "code",
   "execution_count": 291,
   "metadata": {},
   "outputs": [
    {
     "data": {
      "text/html": [
       "<div>\n",
       "<style scoped>\n",
       "    .dataframe tbody tr th:only-of-type {\n",
       "        vertical-align: middle;\n",
       "    }\n",
       "\n",
       "    .dataframe tbody tr th {\n",
       "        vertical-align: top;\n",
       "    }\n",
       "\n",
       "    .dataframe thead th {\n",
       "        text-align: right;\n",
       "    }\n",
       "</style>\n",
       "<table border=\"1\" class=\"dataframe\">\n",
       "  <thead>\n",
       "    <tr style=\"text-align: right;\">\n",
       "      <th></th>\n",
       "      <th>tranche_age</th>\n",
       "      <th>climatosceptique</th>\n",
       "      <th>total_utilisateurs</th>\n",
       "    </tr>\n",
       "  </thead>\n",
       "  <tbody>\n",
       "    <tr>\n",
       "      <th>0</th>\n",
       "      <td>15-19</td>\n",
       "      <td>climatofervent</td>\n",
       "      <td>71</td>\n",
       "    </tr>\n",
       "    <tr>\n",
       "      <th>1</th>\n",
       "      <td>15-19</td>\n",
       "      <td>climatosceptique</td>\n",
       "      <td>28</td>\n",
       "    </tr>\n",
       "    <tr>\n",
       "      <th>2</th>\n",
       "      <td>20-24</td>\n",
       "      <td>climatofervent</td>\n",
       "      <td>63</td>\n",
       "    </tr>\n",
       "  </tbody>\n",
       "</table>\n",
       "</div>"
      ],
      "text/plain": [
       "  tranche_age  climatosceptique  total_utilisateurs\n",
       "0       15-19    climatofervent                  71\n",
       "1       15-19  climatosceptique                  28\n",
       "2       20-24    climatofervent                  63"
      ]
     },
     "execution_count": 291,
     "metadata": {},
     "output_type": "execute_result"
    }
   ],
   "source": [
    "# Décompte du nombre de climatosceptiques par vague :\n",
    "barometre_facteurs_2 = barometre_facteur_filtre_2.groupby(['tranche_age', 'climatosceptique'], observed = True).size().reset_index(name='total_utilisateurs')\n",
    "barometre_facteurs_2.head(3)"
   ]
  },
  {
   "cell_type": "code",
   "execution_count": 292,
   "metadata": {},
   "outputs": [
    {
     "data": {
      "text/html": [
       "<div>\n",
       "<style scoped>\n",
       "    .dataframe tbody tr th:only-of-type {\n",
       "        vertical-align: middle;\n",
       "    }\n",
       "\n",
       "    .dataframe tbody tr th {\n",
       "        vertical-align: top;\n",
       "    }\n",
       "\n",
       "    .dataframe thead th {\n",
       "        text-align: right;\n",
       "    }\n",
       "</style>\n",
       "<table border=\"1\" class=\"dataframe\">\n",
       "  <thead>\n",
       "    <tr style=\"text-align: right;\">\n",
       "      <th></th>\n",
       "      <th>tranche_age</th>\n",
       "      <th>climatosceptique</th>\n",
       "      <th>total_opinion</th>\n",
       "      <th>total_utilisateurs</th>\n",
       "    </tr>\n",
       "  </thead>\n",
       "  <tbody>\n",
       "    <tr>\n",
       "      <th>0</th>\n",
       "      <td>15-19</td>\n",
       "      <td>climatofervent</td>\n",
       "      <td>89</td>\n",
       "      <td>71</td>\n",
       "    </tr>\n",
       "    <tr>\n",
       "      <th>1</th>\n",
       "      <td>15-19</td>\n",
       "      <td>climatosceptique</td>\n",
       "      <td>32</td>\n",
       "      <td>28</td>\n",
       "    </tr>\n",
       "    <tr>\n",
       "      <th>2</th>\n",
       "      <td>20-24</td>\n",
       "      <td>climatofervent</td>\n",
       "      <td>71</td>\n",
       "      <td>63</td>\n",
       "    </tr>\n",
       "  </tbody>\n",
       "</table>\n",
       "</div>"
      ],
      "text/plain": [
       "  tranche_age  climatosceptique  total_opinion  total_utilisateurs\n",
       "0       15-19    climatofervent             89                  71\n",
       "1       15-19  climatosceptique             32                  28\n",
       "2       20-24    climatofervent             71                  63"
      ]
     },
     "execution_count": 292,
     "metadata": {},
     "output_type": "execute_result"
    }
   ],
   "source": [
    "# Jointure des deux DataFrames sur les colonnes 'tranche_age' et tranche_age :\n",
    "barometre_reseaux = pd.merge(barometre_facteurs_1, barometre_facteurs_2, on=['tranche_age', 'climatosceptique'])\n",
    "barometre_reseaux.head(3)"
   ]
  },
  {
   "cell_type": "code",
   "execution_count": 293,
   "metadata": {},
   "outputs": [
    {
     "data": {
      "text/html": [
       "<div>\n",
       "<style scoped>\n",
       "    .dataframe tbody tr th:only-of-type {\n",
       "        vertical-align: middle;\n",
       "    }\n",
       "\n",
       "    .dataframe tbody tr th {\n",
       "        vertical-align: top;\n",
       "    }\n",
       "\n",
       "    .dataframe thead th {\n",
       "        text-align: right;\n",
       "    }\n",
       "</style>\n",
       "<table border=\"1\" class=\"dataframe\">\n",
       "  <thead>\n",
       "    <tr style=\"text-align: right;\">\n",
       "      <th></th>\n",
       "      <th>tranche_age</th>\n",
       "      <th>climatosceptique</th>\n",
       "      <th>total_opinion</th>\n",
       "      <th>total_utilisateurs</th>\n",
       "      <th>taux_actu_reseaux</th>\n",
       "    </tr>\n",
       "  </thead>\n",
       "  <tbody>\n",
       "    <tr>\n",
       "      <th>26</th>\n",
       "      <td>80-84</td>\n",
       "      <td>climatofervent</td>\n",
       "      <td>17</td>\n",
       "      <td>7</td>\n",
       "      <td>41.2</td>\n",
       "    </tr>\n",
       "    <tr>\n",
       "      <th>27</th>\n",
       "      <td>80-84</td>\n",
       "      <td>climatosceptique</td>\n",
       "      <td>3</td>\n",
       "      <td>1</td>\n",
       "      <td>33.3</td>\n",
       "    </tr>\n",
       "    <tr>\n",
       "      <th>28</th>\n",
       "      <td>85-89</td>\n",
       "      <td>climatofervent</td>\n",
       "      <td>1</td>\n",
       "      <td>1</td>\n",
       "      <td>100.0</td>\n",
       "    </tr>\n",
       "  </tbody>\n",
       "</table>\n",
       "</div>"
      ],
      "text/plain": [
       "   tranche_age  climatosceptique  total_opinion  total_utilisateurs  \\\n",
       "26       80-84    climatofervent             17                   7   \n",
       "27       80-84  climatosceptique              3                   1   \n",
       "28       85-89    climatofervent              1                   1   \n",
       "\n",
       "    taux_actu_reseaux  \n",
       "26               41.2  \n",
       "27               33.3  \n",
       "28              100.0  "
      ]
     },
     "execution_count": 293,
     "metadata": {},
     "output_type": "execute_result"
    }
   ],
   "source": [
    "# Calcul du taux de réponses par tranche d'age et opinions :\n",
    "barometre_reseaux['taux_actu_reseaux'] = barometre_reseaux['total_utilisateurs']*100 / barometre_reseaux['total_opinion']\n",
    "barometre_reseaux.tail(3).round(1)"
   ]
  },
  {
   "cell_type": "code",
   "execution_count": 294,
   "metadata": {},
   "outputs": [
    {
     "data": {
      "text/html": [
       "<div>\n",
       "<style scoped>\n",
       "    .dataframe tbody tr th:only-of-type {\n",
       "        vertical-align: middle;\n",
       "    }\n",
       "\n",
       "    .dataframe tbody tr th {\n",
       "        vertical-align: top;\n",
       "    }\n",
       "\n",
       "    .dataframe thead th {\n",
       "        text-align: right;\n",
       "    }\n",
       "</style>\n",
       "<table border=\"1\" class=\"dataframe\">\n",
       "  <thead>\n",
       "    <tr style=\"text-align: right;\">\n",
       "      <th></th>\n",
       "      <th>tranche_age</th>\n",
       "      <th>climatosceptique</th>\n",
       "      <th>total_opinion</th>\n",
       "      <th>total_utilisateurs</th>\n",
       "      <th>taux_actu_reseaux</th>\n",
       "    </tr>\n",
       "  </thead>\n",
       "  <tbody>\n",
       "    <tr>\n",
       "      <th>25</th>\n",
       "      <td>75-79</td>\n",
       "      <td>climatosceptique</td>\n",
       "      <td>35</td>\n",
       "      <td>21</td>\n",
       "      <td>60.0</td>\n",
       "    </tr>\n",
       "    <tr>\n",
       "      <th>26</th>\n",
       "      <td>80-84</td>\n",
       "      <td>climatofervent</td>\n",
       "      <td>17</td>\n",
       "      <td>7</td>\n",
       "      <td>41.2</td>\n",
       "    </tr>\n",
       "    <tr>\n",
       "      <th>27</th>\n",
       "      <td>80-84</td>\n",
       "      <td>climatosceptique</td>\n",
       "      <td>3</td>\n",
       "      <td>1</td>\n",
       "      <td>33.3</td>\n",
       "    </tr>\n",
       "  </tbody>\n",
       "</table>\n",
       "</div>"
      ],
      "text/plain": [
       "   tranche_age  climatosceptique  total_opinion  total_utilisateurs  \\\n",
       "25       75-79  climatosceptique             35                  21   \n",
       "26       80-84    climatofervent             17                   7   \n",
       "27       80-84  climatosceptique              3                   1   \n",
       "\n",
       "    taux_actu_reseaux  \n",
       "25               60.0  \n",
       "26               41.2  \n",
       "27               33.3  "
      ]
     },
     "execution_count": 294,
     "metadata": {},
     "output_type": "execute_result"
    }
   ],
   "source": [
    "# Suppression de la dernière ligne pour éviter les outliers : \n",
    "barometre_reseaux = barometre_reseaux.drop(barometre_reseaux.index[-1])\n",
    "barometre_reseaux.tail(3).round(1)"
   ]
  },
  {
   "cell_type": "code",
   "execution_count": null,
   "metadata": {},
   "outputs": [],
   "source": [
    "# Export du tableau au format csv :\n",
    "barometre_reseaux.to_csv(\"dataset-actu.csv\")"
   ]
  },
  {
   "cell_type": "markdown",
   "metadata": {},
   "source": [
    "### K. Matrice de nullité globale ###"
   ]
  },
  {
   "cell_type": "code",
   "execution_count": 296,
   "metadata": {},
   "outputs": [
    {
     "data": {
      "text/html": [
       "<div>\n",
       "<style scoped>\n",
       "    .dataframe tbody tr th:only-of-type {\n",
       "        vertical-align: middle;\n",
       "    }\n",
       "\n",
       "    .dataframe tbody tr th {\n",
       "        vertical-align: top;\n",
       "    }\n",
       "\n",
       "    .dataframe thead th {\n",
       "        text-align: right;\n",
       "    }\n",
       "</style>\n",
       "<table border=\"1\" class=\"dataframe\">\n",
       "  <thead>\n",
       "    <tr style=\"text-align: right;\">\n",
       "      <th></th>\n",
       "      <th>Vague</th>\n",
       "      <th>age</th>\n",
       "      <th>opinion</th>\n",
       "      <th>climatosceptique</th>\n",
       "      <th>Reso. Usage Instagram</th>\n",
       "      <th>Reso. Usage Facebook</th>\n",
       "      <th>Reso. Usage WhatsApp</th>\n",
       "      <th>Reso. Usage TikTok</th>\n",
       "      <th>Reso. Usage YouTube</th>\n",
       "    </tr>\n",
       "  </thead>\n",
       "  <tbody>\n",
       "    <tr>\n",
       "      <th>0</th>\n",
       "      <td>2000</td>\n",
       "      <td>68</td>\n",
       "      <td>NaN</td>\n",
       "      <td>climatofervent</td>\n",
       "      <td>NaN</td>\n",
       "      <td>NaN</td>\n",
       "      <td>NaN</td>\n",
       "      <td>NaN</td>\n",
       "      <td>NaN</td>\n",
       "    </tr>\n",
       "    <tr>\n",
       "      <th>1</th>\n",
       "      <td>2000</td>\n",
       "      <td>40</td>\n",
       "      <td>NaN</td>\n",
       "      <td>climatofervent</td>\n",
       "      <td>NaN</td>\n",
       "      <td>NaN</td>\n",
       "      <td>NaN</td>\n",
       "      <td>NaN</td>\n",
       "      <td>NaN</td>\n",
       "    </tr>\n",
       "    <tr>\n",
       "      <th>2</th>\n",
       "      <td>2000</td>\n",
       "      <td>34</td>\n",
       "      <td>NaN</td>\n",
       "      <td>climatofervent</td>\n",
       "      <td>NaN</td>\n",
       "      <td>NaN</td>\n",
       "      <td>NaN</td>\n",
       "      <td>NaN</td>\n",
       "      <td>NaN</td>\n",
       "    </tr>\n",
       "  </tbody>\n",
       "</table>\n",
       "</div>"
      ],
      "text/plain": [
       "  Vague  age opinion climatosceptique Reso. Usage Instagram  \\\n",
       "0  2000   68     NaN   climatofervent                   NaN   \n",
       "1  2000   40     NaN   climatofervent                   NaN   \n",
       "2  2000   34     NaN   climatofervent                   NaN   \n",
       "\n",
       "  Reso. Usage Facebook Reso. Usage WhatsApp Reso. Usage TikTok  \\\n",
       "0                  NaN                  NaN                NaN   \n",
       "1                  NaN                  NaN                NaN   \n",
       "2                  NaN                  NaN                NaN   \n",
       "\n",
       "  Reso. Usage YouTube  \n",
       "0                 NaN  \n",
       "1                 NaN  \n",
       "2                 NaN  "
      ]
     },
     "execution_count": 296,
     "metadata": {},
     "output_type": "execute_result"
    }
   ],
   "source": [
    "# Sélection des colonnes à afficher :\n",
    "filtre_nul = barometre[['Vague',\n",
    "                        'age',\n",
    "                        'opinion',\n",
    "                        'climatosceptique',\n",
    "                        'Reso. Usage Instagram',\n",
    "                        'Reso. Usage Facebook',\n",
    "                        'Reso. Usage WhatsApp',\n",
    "                        'Reso. Usage TikTok',\n",
    "                        'Reso. Usage YouTube']]\n",
    "filtre_nul.head(3)"
   ]
  },
  {
   "cell_type": "code",
   "execution_count": 297,
   "metadata": {},
   "outputs": [],
   "source": [
    "# Création du dictionnaire de noms de colonnes : \n",
    "nouveaux_noms = {\n",
    "    'Reso. Usage Instagram': 'Instagram',\n",
    "    'Reso. Usage Facebook': 'Facebook',\n",
    "    'Reso. Usage WhatsApp': 'WhatsApp',\n",
    "    'Reso. Usage TikTok': 'TikTok',\n",
    "    'Reso. Usage YouTube': 'YouTube'}"
   ]
  },
  {
   "cell_type": "code",
   "execution_count": 298,
   "metadata": {},
   "outputs": [],
   "source": [
    "# Création d'une copie du DataFrame :\n",
    "filtre_nul = filtre_nul.copy()"
   ]
  },
  {
   "cell_type": "code",
   "execution_count": 299,
   "metadata": {},
   "outputs": [
    {
     "data": {
      "text/html": [
       "<div>\n",
       "<style scoped>\n",
       "    .dataframe tbody tr th:only-of-type {\n",
       "        vertical-align: middle;\n",
       "    }\n",
       "\n",
       "    .dataframe tbody tr th {\n",
       "        vertical-align: top;\n",
       "    }\n",
       "\n",
       "    .dataframe thead th {\n",
       "        text-align: right;\n",
       "    }\n",
       "</style>\n",
       "<table border=\"1\" class=\"dataframe\">\n",
       "  <thead>\n",
       "    <tr style=\"text-align: right;\">\n",
       "      <th></th>\n",
       "      <th>Vague</th>\n",
       "      <th>age</th>\n",
       "      <th>opinion</th>\n",
       "      <th>climatosceptique</th>\n",
       "      <th>Instagram</th>\n",
       "      <th>Facebook</th>\n",
       "      <th>WhatsApp</th>\n",
       "      <th>TikTok</th>\n",
       "      <th>YouTube</th>\n",
       "    </tr>\n",
       "  </thead>\n",
       "  <tbody>\n",
       "    <tr>\n",
       "      <th>0</th>\n",
       "      <td>2000</td>\n",
       "      <td>68</td>\n",
       "      <td>NaN</td>\n",
       "      <td>climatofervent</td>\n",
       "      <td>NaN</td>\n",
       "      <td>NaN</td>\n",
       "      <td>NaN</td>\n",
       "      <td>NaN</td>\n",
       "      <td>NaN</td>\n",
       "    </tr>\n",
       "    <tr>\n",
       "      <th>1</th>\n",
       "      <td>2000</td>\n",
       "      <td>40</td>\n",
       "      <td>NaN</td>\n",
       "      <td>climatofervent</td>\n",
       "      <td>NaN</td>\n",
       "      <td>NaN</td>\n",
       "      <td>NaN</td>\n",
       "      <td>NaN</td>\n",
       "      <td>NaN</td>\n",
       "    </tr>\n",
       "    <tr>\n",
       "      <th>2</th>\n",
       "      <td>2000</td>\n",
       "      <td>34</td>\n",
       "      <td>NaN</td>\n",
       "      <td>climatofervent</td>\n",
       "      <td>NaN</td>\n",
       "      <td>NaN</td>\n",
       "      <td>NaN</td>\n",
       "      <td>NaN</td>\n",
       "      <td>NaN</td>\n",
       "    </tr>\n",
       "  </tbody>\n",
       "</table>\n",
       "</div>"
      ],
      "text/plain": [
       "  Vague  age opinion climatosceptique Instagram Facebook WhatsApp TikTok  \\\n",
       "0  2000   68     NaN   climatofervent       NaN      NaN      NaN    NaN   \n",
       "1  2000   40     NaN   climatofervent       NaN      NaN      NaN    NaN   \n",
       "2  2000   34     NaN   climatofervent       NaN      NaN      NaN    NaN   \n",
       "\n",
       "  YouTube  \n",
       "0     NaN  \n",
       "1     NaN  \n",
       "2     NaN  "
      ]
     },
     "execution_count": 299,
     "metadata": {},
     "output_type": "execute_result"
    }
   ],
   "source": [
    "# Changement des noms de colonnes :\n",
    "filtre_nul.rename(columns = nouveaux_noms, \n",
    "                  inplace = True)\n",
    "filtre_nul.head(3)"
   ]
  },
  {
   "cell_type": "code",
   "execution_count": 300,
   "metadata": {},
   "outputs": [
    {
     "data": {
      "text/plain": [
       "Vague                0.0\n",
       "age                  0.0\n",
       "opinion             95.1\n",
       "climatosceptique     2.8\n",
       "Instagram           94.8\n",
       "Facebook            94.8\n",
       "WhatsApp            94.8\n",
       "TikTok              94.8\n",
       "YouTube             94.8\n",
       "dtype: float64"
      ]
     },
     "execution_count": 300,
     "metadata": {},
     "output_type": "execute_result"
    }
   ],
   "source": [
    "# Calcul des taux de nullité :\n",
    "ratios_nul = filtre_nul.isnull().mean() * 100\n",
    "ratios_nul.round(1)"
   ]
  },
  {
   "cell_type": "code",
   "execution_count": 301,
   "metadata": {},
   "outputs": [
    {
     "data": {
      "text/plain": [
       "['Vague\\n(0.0%)',\n",
       " 'age\\n(0.0%)',\n",
       " 'opinion\\n(95.1%)',\n",
       " 'climatosceptique\\n(2.8%)',\n",
       " 'Instagram\\n(94.8%)',\n",
       " 'Facebook\\n(94.8%)',\n",
       " 'WhatsApp\\n(94.8%)',\n",
       " 'TikTok\\n(94.8%)',\n",
       " 'YouTube\\n(94.8%)']"
      ]
     },
     "execution_count": 301,
     "metadata": {},
     "output_type": "execute_result"
    }
   ],
   "source": [
    "# Préparation des étiquettes de données avec les taux de nullité :\n",
    "etiquettes_nul = [f'{col}\\n({ratios_nul[col]:.1f}%)' for col in filtre_nul.columns]\n",
    "etiquettes_nul"
   ]
  },
  {
   "cell_type": "code",
   "execution_count": 302,
   "metadata": {},
   "outputs": [
    {
     "data": {
      "image/png": "[encoded data removed]",
      "text/plain": [
       "<Figure size 1200x600 with 1 Axes>"
      ]
     },
     "metadata": {},
     "output_type": "display_data"
    }
   ],
   "source": [
    "# Création de la figure :\n",
    "fig, ax = plt.subplots(figsize = (12, 6))\n",
    "\n",
    "# Génération de la matrice de nullité :\n",
    "msno.matrix(filtre_nul, \n",
    "            ax = ax, \n",
    "            fontsize = 12,\n",
    "            sparkline = False)\n",
    "\n",
    "# Ajustement des étiquettes de colonnes pour inclure les pourcentages :\n",
    "ax.set_xticks(range(len(filtre_nul.columns)))\n",
    "ax.set_xticklabels(etiquettes_nul, \n",
    "                   rotation = 0, \n",
    "                   ha = 'center', \n",
    "                   fontsize = 12)\n",
    "\n",
    "# Affichage du graphique :\n",
    "plt.show()"
   ]
  },
  {
   "cell_type": "markdown",
   "metadata": {},
   "source": [
    "### L. Matrice de nullité 2023 ###"
   ]
  },
  {
   "cell_type": "code",
   "execution_count": 303,
   "metadata": {},
   "outputs": [
    {
     "data": {
      "text/html": [
       "<div>\n",
       "<style scoped>\n",
       "    .dataframe tbody tr th:only-of-type {\n",
       "        vertical-align: middle;\n",
       "    }\n",
       "\n",
       "    .dataframe tbody tr th {\n",
       "        vertical-align: top;\n",
       "    }\n",
       "\n",
       "    .dataframe thead th {\n",
       "        text-align: right;\n",
       "    }\n",
       "</style>\n",
       "<table border=\"1\" class=\"dataframe\">\n",
       "  <thead>\n",
       "    <tr style=\"text-align: right;\">\n",
       "      <th></th>\n",
       "      <th>Vague</th>\n",
       "      <th>age</th>\n",
       "      <th>opinion</th>\n",
       "      <th>climatosceptique</th>\n",
       "      <th>Instagram</th>\n",
       "      <th>Facebook</th>\n",
       "      <th>WhatsApp</th>\n",
       "      <th>TikTok</th>\n",
       "      <th>YouTube</th>\n",
       "    </tr>\n",
       "  </thead>\n",
       "  <tbody>\n",
       "    <tr>\n",
       "      <th>27868</th>\n",
       "      <td>2023</td>\n",
       "      <td>28</td>\n",
       "      <td>Activité humaine</td>\n",
       "      <td>climatofervent</td>\n",
       "      <td>Une fois par jour</td>\n",
       "      <td>Jamais</td>\n",
       "      <td>Plusieurs fois par jour</td>\n",
       "      <td>Une fois par jour</td>\n",
       "      <td>Plusieurs fois par jour</td>\n",
       "    </tr>\n",
       "    <tr>\n",
       "      <th>27869</th>\n",
       "      <td>2023</td>\n",
       "      <td>49</td>\n",
       "      <td>Activité humaine</td>\n",
       "      <td>climatofervent</td>\n",
       "      <td>Jamais</td>\n",
       "      <td>Plusieurs fois par jour</td>\n",
       "      <td>Jamais</td>\n",
       "      <td>Jamais</td>\n",
       "      <td>Plusieurs fois par jour</td>\n",
       "    </tr>\n",
       "    <tr>\n",
       "      <th>27870</th>\n",
       "      <td>2023</td>\n",
       "      <td>66</td>\n",
       "      <td>Phénomène naturel</td>\n",
       "      <td>climatosceptique</td>\n",
       "      <td>Jamais</td>\n",
       "      <td>Jamais</td>\n",
       "      <td>Jamais</td>\n",
       "      <td>Jamais</td>\n",
       "      <td>Jamais</td>\n",
       "    </tr>\n",
       "  </tbody>\n",
       "</table>\n",
       "</div>"
      ],
      "text/plain": [
       "      Vague  age            opinion  climatosceptique          Instagram  \\\n",
       "27868  2023   28   Activité humaine    climatofervent  Une fois par jour   \n",
       "27869  2023   49   Activité humaine    climatofervent             Jamais   \n",
       "27870  2023   66  Phénomène naturel  climatosceptique             Jamais   \n",
       "\n",
       "                      Facebook                 WhatsApp             TikTok  \\\n",
       "27868                   Jamais  Plusieurs fois par jour  Une fois par jour   \n",
       "27869  Plusieurs fois par jour                   Jamais             Jamais   \n",
       "27870                   Jamais                   Jamais             Jamais   \n",
       "\n",
       "                       YouTube  \n",
       "27868  Plusieurs fois par jour  \n",
       "27869  Plusieurs fois par jour  \n",
       "27870                   Jamais  "
      ]
     },
     "execution_count": 303,
     "metadata": {},
     "output_type": "execute_result"
    }
   ],
   "source": [
    "# Filtre des données pour 'Année' est égal à 2023 :\n",
    "filtre_nul_2023 = filtre_nul[filtre_nul['Vague'] == '2023']\n",
    "filtre_nul_2023.head(3)"
   ]
  },
  {
   "cell_type": "code",
   "execution_count": 304,
   "metadata": {},
   "outputs": [
    {
     "data": {
      "text/plain": [
       "Vague               0.0\n",
       "age                 0.0\n",
       "opinion             5.1\n",
       "climatosceptique    1.2\n",
       "Instagram           0.0\n",
       "Facebook            0.0\n",
       "WhatsApp            0.0\n",
       "TikTok              0.0\n",
       "YouTube             0.0\n",
       "dtype: float64"
      ]
     },
     "execution_count": 304,
     "metadata": {},
     "output_type": "execute_result"
    }
   ],
   "source": [
    "# Calcul des taux de nullité :\n",
    "ratios_nul_2023 = filtre_nul_2023.isnull().mean() * 100\n",
    "ratios_nul_2023.round(1)"
   ]
  },
  {
   "cell_type": "code",
   "execution_count": 305,
   "metadata": {},
   "outputs": [
    {
     "data": {
      "text/plain": [
       "['Vague\\n(0.0%)',\n",
       " 'age\\n(0.0%)',\n",
       " 'opinion\\n(5.1%)',\n",
       " 'climatosceptique\\n(1.2%)',\n",
       " 'Instagram\\n(0.0%)',\n",
       " 'Facebook\\n(0.0%)',\n",
       " 'WhatsApp\\n(0.0%)',\n",
       " 'TikTok\\n(0.0%)',\n",
       " 'YouTube\\n(0.0%)']"
      ]
     },
     "execution_count": 305,
     "metadata": {},
     "output_type": "execute_result"
    }
   ],
   "source": [
    "# Préparation des étiquettes de colonnes avec les taux de nullité :\n",
    "etiquettes_nul_2023 = [f'{col}\\n({ratios_nul_2023[col]:.1f}%)' for col in filtre_nul_2023.columns]\n",
    "etiquettes_nul_2023"
   ]
  },
  {
   "cell_type": "code",
   "execution_count": 306,
   "metadata": {},
   "outputs": [
    {
     "data": {
      "image/png": "[encoded data removed]",
      "text/plain": [
       "<Figure size 1200x600 with 1 Axes>"
      ]
     },
     "metadata": {},
     "output_type": "display_data"
    }
   ],
   "source": [
    "# Création de la figure :\n",
    "fig, ax = plt.subplots(figsize=(12, 6))\n",
    "\n",
    "# Génération de la matrice de nullité :\n",
    "msno.matrix(filtre_nul_2023, \n",
    "            ax = ax,\n",
    "            fontsize = 12,\n",
    "            sparkline = False)\n",
    "\n",
    "# Ajustement des étiquettes de colonnes pour inclure les pourcentages :\n",
    "ax.set_xticks(range(len(filtre_nul_2023.columns)))\n",
    "ax.set_xticklabels(etiquettes_nul_2023, \n",
    "                   rotation = 0, \n",
    "                   ha = 'center',\n",
    "                   fontsize = 12)\n",
    "\n",
    "# Affichage du graphique :\n",
    "plt.show()"
   ]
  },
  {
   "cell_type": "markdown",
   "metadata": {},
   "source": [
    "# III. Visualisation des données #"
   ]
  },
  {
   "cell_type": "markdown",
   "metadata": {},
   "source": [
    "### A. LINEPLOT (EVOLUTION DU CLIMATOSCEPTICISME AU FIL DU TEMPS) ###"
   ]
  },
  {
   "cell_type": "code",
   "execution_count": 307,
   "metadata": {},
   "outputs": [
    {
     "data": {
      "image/png": "[encoded data removed]",
      "text/plain": [
       "<Figure size 600x600 with 1 Axes>"
      ]
     },
     "metadata": {},
     "output_type": "display_data"
    }
   ],
   "source": [
    "# Création de la figure :\n",
    "fig, ax = plt.subplots(figsize=(6, 6))\n",
    "\n",
    "# Paramétrage du thème :\n",
    "sns.set()\n",
    "\n",
    "# Paramétrage du style de police des graphiques : \n",
    "plt.rcParams['font.family'] = \"EB Garamond\"\n",
    "plt.rcParams['font.size'] = 22\n",
    "\n",
    "# Tracé du graphique :\n",
    "sns.lineplot(data = barometre_tendance,\n",
    "            x = 'Vague',\n",
    "            y = 'taux_climatosceptiques',\n",
    "            marker ='o')\n",
    "\n",
    "# Personnaisation des étiquettes des axes :\n",
    "ax.set(xlabel = 'Date (en années)',\n",
    "       ylabel = 'Taux de climatosceptiques (en %)')\n",
    "\n",
    "# Affichage du taux moyen :\n",
    "ax.axhline(y = moyenne_taux_climatosceptiques,\n",
    "           label = 'Taux moyen de climatosceptiques',\n",
    "           linestyle = '--', \n",
    "           color = 'orange')\n",
    "\n",
    "# Affichage de la légende :\n",
    "ax.legend()\n",
    "plt.show()"
   ]
  },
  {
   "cell_type": "markdown",
   "metadata": {},
   "source": [
    "### B. RIDGEPLOT (DENSITE DE CLIMATOSCEPTIQUES EN FONCTION DE L'AGE ET DES ANNEES) ###"
   ]
  },
  {
   "cell_type": "code",
   "execution_count": 308,
   "metadata": {},
   "outputs": [
    {
     "data": {
      "text/html": [
       "<div>\n",
       "<style scoped>\n",
       "    .dataframe tbody tr th:only-of-type {\n",
       "        vertical-align: middle;\n",
       "    }\n",
       "\n",
       "    .dataframe tbody tr th {\n",
       "        vertical-align: top;\n",
       "    }\n",
       "\n",
       "    .dataframe thead th {\n",
       "        text-align: right;\n",
       "    }\n",
       "</style>\n",
       "<table border=\"1\" class=\"dataframe\">\n",
       "  <thead>\n",
       "    <tr style=\"text-align: right;\">\n",
       "      <th></th>\n",
       "      <th>Vague</th>\n",
       "      <th>S1. genre</th>\n",
       "      <th>S3. Zone géo</th>\n",
       "      <th>Région</th>\n",
       "      <th>Département</th>\n",
       "      <th>S7. Taille commune</th>\n",
       "      <th>S7b. Taille commune</th>\n",
       "      <th>S7c. Taille commune</th>\n",
       "      <th>S6. Situation professionnelle</th>\n",
       "      <th>S5. CSP</th>\n",
       "      <th>...</th>\n",
       "      <th>Reso. Usage WhatsApp</th>\n",
       "      <th>Reso. Usage Twitter</th>\n",
       "      <th>Reso. Usage TikTok</th>\n",
       "      <th>Reso. Usage YouTube</th>\n",
       "      <th>poids</th>\n",
       "      <th>UC</th>\n",
       "      <th>age</th>\n",
       "      <th>insee</th>\n",
       "      <th>tranche_age</th>\n",
       "      <th>info_reseaux</th>\n",
       "    </tr>\n",
       "  </thead>\n",
       "  <tbody>\n",
       "    <tr>\n",
       "      <th>5</th>\n",
       "      <td>2000</td>\n",
       "      <td>Une femme</td>\n",
       "      <td>Nord Ouest</td>\n",
       "      <td>Pays de la Loire</td>\n",
       "      <td>Loire-Atlantique</td>\n",
       "      <td>NaN</td>\n",
       "      <td>Dans une agglomération de 100.000 habitants et...</td>\n",
       "      <td>NaN</td>\n",
       "      <td>NaN</td>\n",
       "      <td>NaN</td>\n",
       "      <td>...</td>\n",
       "      <td>NaN</td>\n",
       "      <td>NaN</td>\n",
       "      <td>NaN</td>\n",
       "      <td>NaN</td>\n",
       "      <td>0.570370</td>\n",
       "      <td>NaN</td>\n",
       "      <td>28</td>\n",
       "      <td>NaN</td>\n",
       "      <td>25-29</td>\n",
       "      <td>NaN</td>\n",
       "    </tr>\n",
       "    <tr>\n",
       "      <th>8</th>\n",
       "      <td>2000</td>\n",
       "      <td>Une femme</td>\n",
       "      <td>Ile de France</td>\n",
       "      <td>Ile de France</td>\n",
       "      <td>Val-d'Oise</td>\n",
       "      <td>NaN</td>\n",
       "      <td>Dans l'agglomération parisienne</td>\n",
       "      <td>NaN</td>\n",
       "      <td>NaN</td>\n",
       "      <td>NaN</td>\n",
       "      <td>...</td>\n",
       "      <td>NaN</td>\n",
       "      <td>NaN</td>\n",
       "      <td>NaN</td>\n",
       "      <td>NaN</td>\n",
       "      <td>1.112676</td>\n",
       "      <td>NaN</td>\n",
       "      <td>51</td>\n",
       "      <td>NaN</td>\n",
       "      <td>50-54</td>\n",
       "      <td>NaN</td>\n",
       "    </tr>\n",
       "    <tr>\n",
       "      <th>10</th>\n",
       "      <td>2000</td>\n",
       "      <td>Une femme</td>\n",
       "      <td>Sud Est</td>\n",
       "      <td>Provence - Alpes - Côte d'Azur</td>\n",
       "      <td>Bouches-du-Rhône</td>\n",
       "      <td>NaN</td>\n",
       "      <td>Dans une agglomération de 100.000 habitants et...</td>\n",
       "      <td>NaN</td>\n",
       "      <td>NaN</td>\n",
       "      <td>NaN</td>\n",
       "      <td>...</td>\n",
       "      <td>NaN</td>\n",
       "      <td>NaN</td>\n",
       "      <td>NaN</td>\n",
       "      <td>NaN</td>\n",
       "      <td>1.112676</td>\n",
       "      <td>NaN</td>\n",
       "      <td>43</td>\n",
       "      <td>NaN</td>\n",
       "      <td>40-44</td>\n",
       "      <td>NaN</td>\n",
       "    </tr>\n",
       "  </tbody>\n",
       "</table>\n",
       "<p>3 rows × 222 columns</p>\n",
       "</div>"
      ],
      "text/plain": [
       "   Vague  S1. genre   S3. Zone géo                          Région  \\\n",
       "5   2000  Une femme     Nord Ouest                Pays de la Loire   \n",
       "8   2000  Une femme  Ile de France                   Ile de France   \n",
       "10  2000  Une femme        Sud Est  Provence - Alpes - Côte d'Azur   \n",
       "\n",
       "         Département S7. Taille commune  \\\n",
       "5   Loire-Atlantique                NaN   \n",
       "8         Val-d'Oise                NaN   \n",
       "10  Bouches-du-Rhône                NaN   \n",
       "\n",
       "                                  S7b. Taille commune S7c. Taille commune  \\\n",
       "5   Dans une agglomération de 100.000 habitants et...                 NaN   \n",
       "8                     Dans l'agglomération parisienne                 NaN   \n",
       "10  Dans une agglomération de 100.000 habitants et...                 NaN   \n",
       "\n",
       "   S6. Situation professionnelle S5. CSP  ... Reso. Usage WhatsApp  \\\n",
       "5                            NaN     NaN  ...                  NaN   \n",
       "8                            NaN     NaN  ...                  NaN   \n",
       "10                           NaN     NaN  ...                  NaN   \n",
       "\n",
       "   Reso. Usage Twitter Reso. Usage TikTok Reso. Usage YouTube     poids  UC  \\\n",
       "5                  NaN                NaN                 NaN  0.570370 NaN   \n",
       "8                  NaN                NaN                 NaN  1.112676 NaN   \n",
       "10                 NaN                NaN                 NaN  1.112676 NaN   \n",
       "\n",
       "   age insee tranche_age info_reseaux  \n",
       "5   28   NaN       25-29          NaN  \n",
       "8   51   NaN       50-54          NaN  \n",
       "10  43   NaN       40-44          NaN  \n",
       "\n",
       "[3 rows x 222 columns]"
      ]
     },
     "execution_count": 308,
     "metadata": {},
     "output_type": "execute_result"
    }
   ],
   "source": [
    "# Filtre des données pour ne conserver que les climatosceptiques :\n",
    "filtered_data = barometre[barometre['climatosceptique'] == 'climatosceptique']\n",
    "filtered_data.head(3)"
   ]
  },
  {
   "cell_type": "code",
   "execution_count": 309,
   "metadata": {},
   "outputs": [],
   "source": [
    "# Calcul du nombre de répondants par âge :\n",
    "age_counts = filtered_data.groupby('age').size().reset_index(name='count')"
   ]
  },
  {
   "cell_type": "code",
   "execution_count": 310,
   "metadata": {},
   "outputs": [
    {
     "data": {
      "text/html": [
       "<div>\n",
       "<style scoped>\n",
       "    .dataframe tbody tr th:only-of-type {\n",
       "        vertical-align: middle;\n",
       "    }\n",
       "\n",
       "    .dataframe tbody tr th {\n",
       "        vertical-align: top;\n",
       "    }\n",
       "\n",
       "    .dataframe thead th {\n",
       "        text-align: right;\n",
       "    }\n",
       "</style>\n",
       "<table border=\"1\" class=\"dataframe\">\n",
       "  <thead>\n",
       "    <tr style=\"text-align: right;\">\n",
       "      <th></th>\n",
       "      <th>Vague</th>\n",
       "      <th>S1. genre</th>\n",
       "      <th>S3. Zone géo</th>\n",
       "      <th>Région</th>\n",
       "      <th>Département</th>\n",
       "      <th>S7. Taille commune</th>\n",
       "      <th>S7b. Taille commune</th>\n",
       "      <th>S7c. Taille commune</th>\n",
       "      <th>S6. Situation professionnelle</th>\n",
       "      <th>S5. CSP</th>\n",
       "      <th>...</th>\n",
       "      <th>Reso. Usage Twitter</th>\n",
       "      <th>Reso. Usage TikTok</th>\n",
       "      <th>Reso. Usage YouTube</th>\n",
       "      <th>poids</th>\n",
       "      <th>UC</th>\n",
       "      <th>age</th>\n",
       "      <th>insee</th>\n",
       "      <th>tranche_age</th>\n",
       "      <th>info_reseaux</th>\n",
       "      <th>count</th>\n",
       "    </tr>\n",
       "  </thead>\n",
       "  <tbody>\n",
       "    <tr>\n",
       "      <th>0</th>\n",
       "      <td>2000</td>\n",
       "      <td>Une femme</td>\n",
       "      <td>Nord Ouest</td>\n",
       "      <td>Pays de la Loire</td>\n",
       "      <td>Loire-Atlantique</td>\n",
       "      <td>NaN</td>\n",
       "      <td>Dans une agglomération de 100.000 habitants et...</td>\n",
       "      <td>NaN</td>\n",
       "      <td>NaN</td>\n",
       "      <td>NaN</td>\n",
       "      <td>...</td>\n",
       "      <td>NaN</td>\n",
       "      <td>NaN</td>\n",
       "      <td>NaN</td>\n",
       "      <td>0.57037</td>\n",
       "      <td>NaN</td>\n",
       "      <td>28</td>\n",
       "      <td>NaN</td>\n",
       "      <td>25-29</td>\n",
       "      <td>NaN</td>\n",
       "      <td>122</td>\n",
       "    </tr>\n",
       "    <tr>\n",
       "      <th>0</th>\n",
       "      <td>2000</td>\n",
       "      <td>Une femme</td>\n",
       "      <td>Nord Ouest</td>\n",
       "      <td>Pays de la Loire</td>\n",
       "      <td>Loire-Atlantique</td>\n",
       "      <td>NaN</td>\n",
       "      <td>Dans une agglomération de 100.000 habitants et...</td>\n",
       "      <td>NaN</td>\n",
       "      <td>NaN</td>\n",
       "      <td>NaN</td>\n",
       "      <td>...</td>\n",
       "      <td>NaN</td>\n",
       "      <td>NaN</td>\n",
       "      <td>NaN</td>\n",
       "      <td>0.57037</td>\n",
       "      <td>NaN</td>\n",
       "      <td>28</td>\n",
       "      <td>NaN</td>\n",
       "      <td>25-29</td>\n",
       "      <td>NaN</td>\n",
       "      <td>122</td>\n",
       "    </tr>\n",
       "    <tr>\n",
       "      <th>0</th>\n",
       "      <td>2000</td>\n",
       "      <td>Une femme</td>\n",
       "      <td>Nord Ouest</td>\n",
       "      <td>Pays de la Loire</td>\n",
       "      <td>Loire-Atlantique</td>\n",
       "      <td>NaN</td>\n",
       "      <td>Dans une agglomération de 100.000 habitants et...</td>\n",
       "      <td>NaN</td>\n",
       "      <td>NaN</td>\n",
       "      <td>NaN</td>\n",
       "      <td>...</td>\n",
       "      <td>NaN</td>\n",
       "      <td>NaN</td>\n",
       "      <td>NaN</td>\n",
       "      <td>0.57037</td>\n",
       "      <td>NaN</td>\n",
       "      <td>28</td>\n",
       "      <td>NaN</td>\n",
       "      <td>25-29</td>\n",
       "      <td>NaN</td>\n",
       "      <td>122</td>\n",
       "    </tr>\n",
       "  </tbody>\n",
       "</table>\n",
       "<p>3 rows × 223 columns</p>\n",
       "</div>"
      ],
      "text/plain": [
       "  Vague  S1. genre S3. Zone géo            Région       Département  \\\n",
       "0  2000  Une femme   Nord Ouest  Pays de la Loire  Loire-Atlantique   \n",
       "0  2000  Une femme   Nord Ouest  Pays de la Loire  Loire-Atlantique   \n",
       "0  2000  Une femme   Nord Ouest  Pays de la Loire  Loire-Atlantique   \n",
       "\n",
       "  S7. Taille commune                                S7b. Taille commune  \\\n",
       "0                NaN  Dans une agglomération de 100.000 habitants et...   \n",
       "0                NaN  Dans une agglomération de 100.000 habitants et...   \n",
       "0                NaN  Dans une agglomération de 100.000 habitants et...   \n",
       "\n",
       "  S7c. Taille commune S6. Situation professionnelle S5. CSP  ...  \\\n",
       "0                 NaN                           NaN     NaN  ...   \n",
       "0                 NaN                           NaN     NaN  ...   \n",
       "0                 NaN                           NaN     NaN  ...   \n",
       "\n",
       "  Reso. Usage Twitter Reso. Usage TikTok Reso. Usage YouTube    poids  UC age  \\\n",
       "0                 NaN                NaN                 NaN  0.57037 NaN  28   \n",
       "0                 NaN                NaN                 NaN  0.57037 NaN  28   \n",
       "0                 NaN                NaN                 NaN  0.57037 NaN  28   \n",
       "\n",
       "  insee tranche_age info_reseaux count  \n",
       "0   NaN       25-29          NaN   122  \n",
       "0   NaN       25-29          NaN   122  \n",
       "0   NaN       25-29          NaN   122  \n",
       "\n",
       "[3 rows x 223 columns]"
      ]
     },
     "execution_count": 310,
     "metadata": {},
     "output_type": "execute_result"
    }
   ],
   "source": [
    "# Copie des âges en fonction du nombre de répondants pour pondération :\n",
    "weighted_data = filtered_data.copy()\n",
    "weighted_data = weighted_data.merge(age_counts, on='age')\n",
    "weighted_data = weighted_data.loc[weighted_data.index.repeat(weighted_data['count'])]\n",
    "weighted_data.head(3)"
   ]
  },
  {
   "cell_type": "code",
   "execution_count": 311,
   "metadata": {},
   "outputs": [
    {
     "name": "stderr",
     "output_type": "stream",
     "text": [
      "/Users/marion/Desktop/UE2/.venv/lib/python3.11/site-packages/seaborn/axisgrid.py:123: UserWarning: Tight layout not applied. tight_layout cannot make Axes height small enough to accommodate all Axes decorations.\n",
      "  self._figure.tight_layout(*args, **kwargs)\n",
      "/Users/marion/Desktop/UE2/.venv/lib/python3.11/site-packages/seaborn/axisgrid.py:123: UserWarning: Tight layout not applied. tight_layout cannot make Axes height small enough to accommodate all Axes decorations.\n",
      "  self._figure.tight_layout(*args, **kwargs)\n",
      "/Users/marion/Desktop/UE2/.venv/lib/python3.11/site-packages/seaborn/axisgrid.py:123: UserWarning: Tight layout not applied. tight_layout cannot make Axes height small enough to accommodate all Axes decorations.\n",
      "  self._figure.tight_layout(*args, **kwargs)\n",
      "/Users/marion/Desktop/UE2/.venv/lib/python3.11/site-packages/seaborn/axisgrid.py:123: UserWarning: Tight layout not applied. tight_layout cannot make Axes height small enough to accommodate all Axes decorations.\n",
      "  self._figure.tight_layout(*args, **kwargs)\n",
      "/Users/marion/Desktop/UE2/.venv/lib/python3.11/site-packages/seaborn/axisgrid.py:123: UserWarning: Tight layout not applied. tight_layout cannot make Axes height small enough to accommodate all Axes decorations.\n",
      "  self._figure.tight_layout(*args, **kwargs)\n"
     ]
    },
    {
     "data": {
      "image/png": "[encoded data removed]",
      "text/plain": [
       "<Figure size 750x1200 with 24 Axes>"
      ]
     },
     "metadata": {},
     "output_type": "display_data"
    }
   ],
   "source": [
    "# Paramétrage du thème :\n",
    "sns.set_theme(style=\"white\", \n",
    "              rc={\"axes.facecolor\": (0, 0, 0, 0)})\n",
    "\n",
    "# Paramétrage du style de police des graphiques : \n",
    "plt.rcParams['font.family'] = \"EB Garamond\"\n",
    "plt.rcParams['font.size'] = 14\n",
    "\n",
    "# Initialisation du FacetGrid :\n",
    "pal = sns.cubehelix_palette(25, \n",
    "                            rot = -.25,\n",
    "                            light=.7)\n",
    "g = sns.FacetGrid(weighted_data, \n",
    "                  row = \"Vague\", \n",
    "                  hue = \"Vague\", \n",
    "                  aspect = 15, \n",
    "                  height = .5, \n",
    "                  palette = pal)\n",
    "\n",
    "# Affichage des densités :\n",
    "g.map(sns.kdeplot, \n",
    "      \"age\",\n",
    "      bw_adjust = .5, \n",
    "      clip_on = False,\n",
    "      fill = True, \n",
    "      alpha = 0.9,\n",
    "      linewidth = 1.5)\n",
    "g.map(sns.kdeplot, \n",
    "      \"age\",\n",
    "      clip_on = False, \n",
    "      color = \"w\",\n",
    "      lw = 2,\n",
    "      bw_adjust = .5)\n",
    "\n",
    "# Affichage de la ligne de tracé :\n",
    "g.refline(y = 0,\n",
    "         linewidth = 2,\n",
    "         linestyle = \"-\",\n",
    "         color = None,\n",
    "         clip_on = False)\n",
    "\n",
    "# Affichage des étiquettes :\n",
    "def label(x, color, label):\n",
    "    ax = plt.gca()\n",
    "    ax.text(0.85, \n",
    "            0.1, \n",
    "            label, \n",
    "            fontweight = \"bold\",\n",
    "            color = color,\n",
    "            ha = \"left\",\n",
    "            va = \"center\",\n",
    "            transform = ax.transAxes)\n",
    "g.map(label, \"age\")\n",
    "\n",
    "# Ajustement des subplots :\n",
    "g.figure.subplots_adjust(hspace = -0.7)\n",
    "\n",
    "# Personnalisation des axes :\n",
    "g.set_titles(\"\")\n",
    "g.set(yticks = [],\n",
    "      xlabel = \"Age (en années)\", \n",
    "      ylabel = \"\")\n",
    "g.despine(bottom = True, \n",
    "          left = True)\n",
    "plt.xlabel(\"Age (en années)\", fontsize=16) \n",
    "\n",
    "# Affichage du tracé :\n",
    "plt.show()"
   ]
  },
  {
   "cell_type": "markdown",
   "metadata": {},
   "source": [
    "### C. BARPLOT 1 (DISTRIBUTION DES TYPES D'OPINION EN FONCTION DE L'AGE) ###"
   ]
  },
  {
   "cell_type": "code",
   "execution_count": 314,
   "metadata": {},
   "outputs": [
    {
     "data": {
      "image/png": "[encoded data removed]",
      "text/plain": [
       "<Figure size 1000x600 with 1 Axes>"
      ]
     },
     "metadata": {},
     "output_type": "display_data"
    }
   ],
   "source": [
    "# Création de la figure :\n",
    "fig, ax = plt.subplots(figsize=(10, 6))\n",
    "\n",
    "# Ajout du style Seaborn :\n",
    "sns.set()\n",
    "\n",
    "# Paramétrage du style de police du graphique : \n",
    "plt.rcParams['font.family'] = \"EB Garamond\"\n",
    "plt.rcParams['font.size'] = 16\n",
    "\n",
    "# Hiérarchisation des barres d'opinion :\n",
    "ordre_opinions = ['Activité humaine', 'Phénomène naturel', 'Absence de phénomène']\n",
    "\n",
    "# Ajustement de la largeur des barres :\n",
    "bar_width = 0.4 \n",
    "\n",
    "# Conversion de la colonne 'tranche_age' en numérique si elle est catégorielle :\n",
    "barometre_opinion['tranche_age_num'] = barometre_opinion['tranche_age'].cat.codes\n",
    "\n",
    "# Création du graphique pour chaque opinion avec un décalage manuel :\n",
    "for i, opinion in enumerate(ordre_opinions):\n",
    "    # Filtre des données pour l'opinion actuelle :\n",
    "    data_filtered = barometre_opinion[barometre_opinion['opinion'] == opinion]\n",
    "\n",
    "    # Décalage des barres (négatif pour la première, positif pour la dernière) :\n",
    "    offset = (i - 1) * (bar_width / 2)  \n",
    "\n",
    "    # Ajoutement des barres avec un décalage horizontal :\n",
    "    ax.bar(data_filtered['tranche_age_num'] + offset, \n",
    "           data_filtered['taux_opinion'], \n",
    "           width=bar_width,\n",
    "           label=opinion, \n",
    "           alpha=0.7, \n",
    "           color=sns.color_palette(\"viridis\", n_colors=len(ordre_opinions))[i])\n",
    "\n",
    "# Ajustement des étiquettes de l'axe x pour correspondre aux tranches d'âge d'origine :\n",
    "ax.set_xticks(np.arange(len(barometre_opinion['tranche_age'].cat.categories)))\n",
    "ax.set_xticklabels(barometre_opinion['tranche_age'].cat.categories)\n",
    "\n",
    "# Ajustement des limites de l'axe des y :\n",
    "plt.ylim(0, 100)\n",
    "\n",
    "# Ajout des titres aux axes x et y :\n",
    "ax.set_xlabel(\"Tranches d'âge (en années)\", fontsize=14)\n",
    "ax.set_ylabel('Taux de répondants (en %)', fontsize=14)\n",
    "\n",
    "# Personnalisation de la légende :\n",
    "legende_opinions = [\"Changement dû à l'activité humaine\", \n",
    "                    'Changement dû à un phénomène naturel', \n",
    "                    'Aucun changement constaté']\n",
    "\n",
    "# Modification du titre de la légende :\n",
    "ax.legend(title = \"Opinion sur l'origine du changement climatique\", \n",
    "          labels = legende_opinions)\n",
    "\n",
    "# Affichage du graphique :\n",
    "plt.show()"
   ]
  },
  {
   "cell_type": "markdown",
   "metadata": {},
   "source": [
    "### D. BARPLOT 2 (LIEN POTENTIEL ENTRE RESEAUX SOCIAUX ET CLIMATOSCEPTICISME) ###"
   ]
  },
  {
   "cell_type": "code",
   "execution_count": 315,
   "metadata": {},
   "outputs": [
    {
     "data": {
      "image/png": "[encoded data removed]",
      "text/plain": [
       "<Figure size 1000x600 with 1 Axes>"
      ]
     },
     "metadata": {},
     "output_type": "display_data"
    }
   ],
   "source": [
    "# Création de la figure :\n",
    "plt.figure(figsize=(10, 6))\n",
    "\n",
    "# Création du barplot :\n",
    "ax = sns.barplot(data = barometre_reseaux,\n",
    "                 x = 'tranche_age',\n",
    "                 y = 'taux_actu_reseaux',\n",
    "                 hue = 'climatosceptique',\n",
    "                 palette = 'viridis',\n",
    "                 alpha = 0.8)\n",
    "\n",
    "# Ajout des titres et étiquettes :\n",
    "\n",
    "ax.set_xlabel(\"Tranches d'âge (en années)\", \n",
    "              fontsize = 14)\n",
    "ax.set_ylabel(\"Taux de répondants (%)\", \n",
    "              fontsize = 14)\n",
    "\n",
    "# Ajout d'une légende personnalisée :\n",
    "plt.legend(title = 'Climatoscepticisme',\n",
    "           title_fontsize = '13',\n",
    "           fontsize='12')\n",
    "\n",
    "# Ajustement de l'apparence des barres :\n",
    "sns.despine()\n",
    "\n",
    "# Affichage du graphique :\n",
    "plt.show()"
   ]
  }
 ],
 "metadata": {
  "kernelspec": {
   "display_name": ".venv",
   "language": "python",
   "name": "python3"
  },
  "language_info": {
   "codemirror_mode": {
    "name": "ipython",
    "version": 3
   },
   "file_extension": ".py",
   "mimetype": "text/x-python",
   "name": "python",
   "nbconvert_exporter": "python",
   "pygments_lexer": "ipython3",
   "version": "3.11.5"
  }
 },
 "nbformat": 4,
 "nbformat_minor": 2
}
