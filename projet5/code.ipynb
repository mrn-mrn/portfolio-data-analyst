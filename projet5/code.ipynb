{
 "cells": [
  {
   "cell_type": "markdown",
   "metadata": {},
   "source": [
    "# TECHNIQUES DE VISUALISATION DE DONNEES"
   ]
  },
  {
   "cell_type": "markdown",
   "metadata": {},
   "source": [
    "### I. EXERCICE 1"
   ]
  },
  {
   "cell_type": "markdown",
   "metadata": {},
   "source": [
    "#### 1. Préparation des données"
   ]
  },
  {
   "cell_type": "code",
   "execution_count": 138,
   "metadata": {},
   "outputs": [],
   "source": [
    "# Import des bibliothèques :\n",
    "import numpy as np\n",
    "import matplotlib.pyplot as plt\n",
    "import pandas as pd\n",
    "import seaborn as sns\n",
    "import plotly.graph_objects as go\n",
    "import plotly.express as px\n",
    "import plotly.io as pio"
   ]
  },
  {
   "cell_type": "code",
   "execution_count": null,
   "metadata": {},
   "outputs": [],
   "source": [
    "# Import du fichier CSV :\n",
    "phd = pd.read_csv(\"dataset.csv\", \n",
    "                  sep = \",\",\n",
    "                  encoding = \"utf-8\",\n",
    "                  engine = \"python\",\n",
    "                  decimal = \",\")"
   ]
  },
  {
   "cell_type": "code",
   "execution_count": 140,
   "metadata": {},
   "outputs": [
    {
     "data": {
      "text/html": [
       "<div>\n",
       "<style scoped>\n",
       "    .dataframe tbody tr th:only-of-type {\n",
       "        vertical-align: middle;\n",
       "    }\n",
       "\n",
       "    .dataframe tbody tr th {\n",
       "        vertical-align: top;\n",
       "    }\n",
       "\n",
       "    .dataframe thead th {\n",
       "        text-align: right;\n",
       "    }\n",
       "</style>\n",
       "<table border=\"1\" class=\"dataframe\">\n",
       "  <thead>\n",
       "    <tr style=\"text-align: right;\">\n",
       "      <th></th>\n",
       "      <th>Unnamed: 0</th>\n",
       "      <th>Auteur</th>\n",
       "      <th>Identifiant auteur</th>\n",
       "      <th>Titre</th>\n",
       "      <th>Directeur de these</th>\n",
       "      <th>Directeur de these (nom prenom)</th>\n",
       "      <th>Identifiant directeur</th>\n",
       "      <th>Etablissement de soutenance</th>\n",
       "      <th>Identifiant etablissement</th>\n",
       "      <th>Discipline</th>\n",
       "      <th>...</th>\n",
       "      <th>Year</th>\n",
       "      <th>Langue de la these</th>\n",
       "      <th>Identifiant de la these</th>\n",
       "      <th>Accessible en ligne</th>\n",
       "      <th>Publication dans theses.fr</th>\n",
       "      <th>Mise a jour dans theses.fr</th>\n",
       "      <th>Discipline_prÃ©di</th>\n",
       "      <th>Genre</th>\n",
       "      <th>etablissement_rec</th>\n",
       "      <th>Langue_rec</th>\n",
       "    </tr>\n",
       "  </thead>\n",
       "  <tbody>\n",
       "    <tr>\n",
       "      <th>0</th>\n",
       "      <td>0</td>\n",
       "      <td>Saeed Al marri</td>\n",
       "      <td>NaN</td>\n",
       "      <td>Le credit documentaire et l'onopposabilite des...</td>\n",
       "      <td>Philippe Delebecque</td>\n",
       "      <td>Delebecque Philippe</td>\n",
       "      <td>29561248</td>\n",
       "      <td>Paris 1</td>\n",
       "      <td>27361802</td>\n",
       "      <td>Driot prive</td>\n",
       "      <td>...</td>\n",
       "      <td>NaN</td>\n",
       "      <td>na</td>\n",
       "      <td>s69480</td>\n",
       "      <td>non</td>\n",
       "      <td>26-01-12</td>\n",
       "      <td>26-01-12</td>\n",
       "      <td>Droit et Science Politique</td>\n",
       "      <td>male</td>\n",
       "      <td>Université Paris 1 - Panthéon Sorbonne</td>\n",
       "      <td>NaN</td>\n",
       "    </tr>\n",
       "    <tr>\n",
       "      <th>1</th>\n",
       "      <td>1</td>\n",
       "      <td>Andrea Ramazzotti</td>\n",
       "      <td>174423705</td>\n",
       "      <td>Application de la PGD a la resolution de probl...</td>\n",
       "      <td>Jean-Claude Grandidier,Marianne Beringhier</td>\n",
       "      <td>Grandidier Jean-Claude,Beringhier Marianne</td>\n",
       "      <td>715,441,511</td>\n",
       "      <td>Chasseneuil-du-Poitou, Ecole nationale superie...</td>\n",
       "      <td>28024400</td>\n",
       "      <td>Mecanique des solides, des materiaux, des stru...</td>\n",
       "      <td>...</td>\n",
       "      <td>NaN</td>\n",
       "      <td>na</td>\n",
       "      <td>s98826</td>\n",
       "      <td>non</td>\n",
       "      <td>22-11-13</td>\n",
       "      <td>22-11-13</td>\n",
       "      <td>Materiaux, Milieux et Chimie</td>\n",
       "      <td>female</td>\n",
       "      <td>École nationale supérieure de mécanique et d'a...</td>\n",
       "      <td>NaN</td>\n",
       "    </tr>\n",
       "    <tr>\n",
       "      <th>2</th>\n",
       "      <td>2</td>\n",
       "      <td>OLIVIER BODENREIDER</td>\n",
       "      <td>NaN</td>\n",
       "      <td>Conception d'un outil informatique d'etude des...</td>\n",
       "      <td>Francois Kohler</td>\n",
       "      <td>Kohler Francois</td>\n",
       "      <td>57030758</td>\n",
       "      <td>Nancy 1</td>\n",
       "      <td>NaN</td>\n",
       "      <td>Medecine</td>\n",
       "      <td>...</td>\n",
       "      <td>1993.0</td>\n",
       "      <td>fr</td>\n",
       "      <td>1993NAN19006</td>\n",
       "      <td>non</td>\n",
       "      <td>24-05-13</td>\n",
       "      <td>17-11-12</td>\n",
       "      <td>Medecine</td>\n",
       "      <td>male</td>\n",
       "      <td>Université de Lorraine</td>\n",
       "      <td>Français</td>\n",
       "    </tr>\n",
       "  </tbody>\n",
       "</table>\n",
       "<p>3 rows × 23 columns</p>\n",
       "</div>"
      ],
      "text/plain": [
       "   Unnamed: 0               Auteur Identifiant auteur  \\\n",
       "0           0       Saeed Al marri                NaN   \n",
       "1           1    Andrea Ramazzotti          174423705   \n",
       "2           2  OLIVIER BODENREIDER                NaN   \n",
       "\n",
       "                                               Titre  \\\n",
       "0  Le credit documentaire et l'onopposabilite des...   \n",
       "1  Application de la PGD a la resolution de probl...   \n",
       "2  Conception d'un outil informatique d'etude des...   \n",
       "\n",
       "                           Directeur de these  \\\n",
       "0                         Philippe Delebecque   \n",
       "1  Jean-Claude Grandidier,Marianne Beringhier   \n",
       "2                             Francois Kohler   \n",
       "\n",
       "              Directeur de these (nom prenom) Identifiant directeur  \\\n",
       "0                         Delebecque Philippe              29561248   \n",
       "1  Grandidier Jean-Claude,Beringhier Marianne           715,441,511   \n",
       "2                             Kohler Francois              57030758   \n",
       "\n",
       "                         Etablissement de soutenance  \\\n",
       "0                                            Paris 1   \n",
       "1  Chasseneuil-du-Poitou, Ecole nationale superie...   \n",
       "2                                            Nancy 1   \n",
       "\n",
       "  Identifiant etablissement  \\\n",
       "0                  27361802   \n",
       "1                  28024400   \n",
       "2                       NaN   \n",
       "\n",
       "                                          Discipline  ...    Year  \\\n",
       "0                                        Driot prive  ...     NaN   \n",
       "1  Mecanique des solides, des materiaux, des stru...  ...     NaN   \n",
       "2                                           Medecine  ...  1993.0   \n",
       "\n",
       "  Langue de la these Identifiant de la these  Accessible en ligne  \\\n",
       "0                 na                  s69480                  non   \n",
       "1                 na                  s98826                  non   \n",
       "2                 fr            1993NAN19006                  non   \n",
       "\n",
       "  Publication dans theses.fr Mise a jour dans theses.fr  \\\n",
       "0                   26-01-12                   26-01-12   \n",
       "1                   22-11-13                   22-11-13   \n",
       "2                   24-05-13                   17-11-12   \n",
       "\n",
       "              Discipline_prÃ©di   Genre  \\\n",
       "0    Droit et Science Politique    male   \n",
       "1  Materiaux, Milieux et Chimie  female   \n",
       "2                      Medecine    male   \n",
       "\n",
       "                                   etablissement_rec Langue_rec  \n",
       "0             Université Paris 1 - Panthéon Sorbonne        NaN  \n",
       "1  École nationale supérieure de mécanique et d'a...        NaN  \n",
       "2                             Université de Lorraine   Français  \n",
       "\n",
       "[3 rows x 23 columns]"
      ]
     },
     "execution_count": 140,
     "metadata": {},
     "output_type": "execute_result"
    }
   ],
   "source": [
    "# Affichage des premières lignes du dataset 'phd' :\n",
    "phd.head(3)"
   ]
  },
  {
   "cell_type": "code",
   "execution_count": 141,
   "metadata": {},
   "outputs": [
    {
     "name": "stdout",
     "output_type": "stream",
     "text": [
      "Index(['Unnamed: 0', 'Auteur', 'Identifiant auteur', 'Titre',\n",
      "       'Directeur de these', 'Directeur de these (nom prenom)',\n",
      "       'Identifiant directeur', 'Etablissement de soutenance',\n",
      "       'Identifiant etablissement', 'Discipline', 'Statut',\n",
      "       'Date de premiere inscription en doctorat', 'Date de soutenance',\n",
      "       'Year', 'Langue de la these', 'Identifiant de la these',\n",
      "       'Accessible en ligne', 'Publication dans theses.fr',\n",
      "       'Mise a jour dans theses.fr', 'Discipline_prÃ©di', 'Genre',\n",
      "       'etablissement_rec', 'Langue_rec'],\n",
      "      dtype='object')\n"
     ]
    }
   ],
   "source": [
    "# Affichage des noms des variables :\n",
    "print(phd.columns)"
   ]
  },
  {
   "cell_type": "code",
   "execution_count": 142,
   "metadata": {},
   "outputs": [],
   "source": [
    "# Changement des noms de colonnes :\n",
    "phd.rename(columns = {'Discipline_prÃ©di': 'Discipline_prédi', \n",
    "                      'Year': 'Année'}, \n",
    "                      inplace = True)"
   ]
  },
  {
   "cell_type": "code",
   "execution_count": 143,
   "metadata": {},
   "outputs": [
    {
     "data": {
      "text/plain": [
       "array(['Droit et Science Politique', 'Materiaux, Milieux et Chimie',\n",
       "       'Medecine', 'SHS', 'Biologie', 'Langues et Litteratures',\n",
       "       'Psychologie', 'Economie Gestion', 'Informatique',\n",
       "       \"Science de l'ingÃ©nieur\", 'Poubelle', \"Sciences de l'education\",\n",
       "       'MathÃ©matiques', 'Science de la Terre',\n",
       "       'Mathematiques et Informatique'], dtype=object)"
      ]
     },
     "execution_count": 143,
     "metadata": {},
     "output_type": "execute_result"
    }
   ],
   "source": [
    "# Affichage des valeurs uniques de la colonne 'Discipline_prédi\" :\n",
    "phd['Discipline_prédi'].unique()"
   ]
  },
  {
   "cell_type": "code",
   "execution_count": 144,
   "metadata": {},
   "outputs": [],
   "source": [
    "# Suppression des lignes contenant la valeur 'poubelle' :\n",
    "phd = phd[phd['Discipline_prédi'] != 'Poubelle']"
   ]
  },
  {
   "cell_type": "code",
   "execution_count": 145,
   "metadata": {},
   "outputs": [
    {
     "data": {
      "text/plain": [
       "0"
      ]
     },
     "execution_count": 145,
     "metadata": {},
     "output_type": "execute_result"
    }
   ],
   "source": [
    "# Décompte du nombre d'occurences de la donnée 'poubelle' dans la colonne 'Discipline_prédi' :\n",
    "count_poubelle = phd['Discipline_prédi'].value_counts().get('Poubelle', 0)\n",
    "count_poubelle"
   ]
  },
  {
   "cell_type": "code",
   "execution_count": 146,
   "metadata": {},
   "outputs": [],
   "source": [
    "# Remplacement de l'intitulé des colonnes :\n",
    "phd['Discipline_prédi'] = phd['Discipline_prédi'].replace({\"Science de l'ingÃ©nieur\": \"Sciences de l'Ingénieur\", \n",
    "                                                           \"MathÃ©matiques\": \"Mathématiques\",\n",
    "                                                           \"Medecine\":\"Médecine\",\n",
    "                                                           \"Langues et Litteratures\":\"Langues et Littérature\",\n",
    "                                                           \"Economie Gestion\": \"Economie et Gestion\",\n",
    "                                                           \"Sciences de l'education\":\"Sciences de l'Education\",\n",
    "                                                           \"SHS\":\"Sciences Humaines et Sociales\",\n",
    "                                                           \"Science de la Terre\":\"Sciences de la Terre\",\n",
    "                                                           \"Mathematiques et Informatique\":\"Mathématiques et Informatique\",\n",
    "                                                           \"Materiaux, Milieux et Chimie\":\"Matériaux, Milieux et Chimie\",\n",
    "                                                           \"Droit et Science Politique\":\"Droit et Sciences Politiques\"})"
   ]
  },
  {
   "cell_type": "code",
   "execution_count": 147,
   "metadata": {},
   "outputs": [
    {
     "data": {
      "text/plain": [
       "array(['Droit et Sciences Politiques', 'Matériaux, Milieux et Chimie',\n",
       "       'Médecine', 'Sciences Humaines et Sociales', 'Biologie',\n",
       "       'Langues et Littérature', 'Psychologie', 'Economie et Gestion',\n",
       "       'Informatique', \"Sciences de l'Ingénieur\",\n",
       "       \"Sciences de l'Education\", 'Mathématiques', 'Sciences de la Terre',\n",
       "       'Mathématiques et Informatique'], dtype=object)"
      ]
     },
     "execution_count": 147,
     "metadata": {},
     "output_type": "execute_result"
    }
   ],
   "source": [
    "# Affichage des valeurs uniques de la colonne 'Discipline_prédi\" :\n",
    "phd['Discipline_prédi'].unique()"
   ]
  },
  {
   "cell_type": "code",
   "execution_count": 148,
   "metadata": {},
   "outputs": [],
   "source": [
    "# Conversion des valeurs non numériques en 'NaN' pour la colonne 'Year' :\n",
    "phd['Année'] = pd.to_numeric(phd['Année'], errors = 'coerce')"
   ]
  },
  {
   "cell_type": "code",
   "execution_count": 149,
   "metadata": {},
   "outputs": [],
   "source": [
    "# Suppression des lignes où 'Année' est 'NaN' :\n",
    "phd = phd.dropna(subset = ['Année'])"
   ]
  },
  {
   "cell_type": "code",
   "execution_count": 150,
   "metadata": {},
   "outputs": [],
   "source": [
    "# Conversion des données de la colonne 'Année' en entiers :\n",
    "phd['Année'] = phd['Année'].astype(int)"
   ]
  },
  {
   "cell_type": "code",
   "execution_count": 151,
   "metadata": {},
   "outputs": [],
   "source": [
    "# Création du dataframe contenant les colonnes 'Année' et 'Discipline_prédi' :\n",
    "discipline = phd[['Année', 'Discipline_prédi']]"
   ]
  },
  {
   "cell_type": "code",
   "execution_count": 152,
   "metadata": {},
   "outputs": [],
   "source": [
    "# Filtre des données pour ne garder que les années entre 1985 et 2018 :\n",
    "discipline_85_18 = discipline[(discipline['Année'] >= 1985) & (discipline['Année'] <= 2018)]"
   ]
  },
  {
   "cell_type": "code",
   "execution_count": 153,
   "metadata": {},
   "outputs": [
    {
     "data": {
      "text/html": [
       "<div>\n",
       "<style scoped>\n",
       "    .dataframe tbody tr th:only-of-type {\n",
       "        vertical-align: middle;\n",
       "    }\n",
       "\n",
       "    .dataframe tbody tr th {\n",
       "        vertical-align: top;\n",
       "    }\n",
       "\n",
       "    .dataframe thead th {\n",
       "        text-align: right;\n",
       "    }\n",
       "</style>\n",
       "<table border=\"1\" class=\"dataframe\">\n",
       "  <thead>\n",
       "    <tr style=\"text-align: right;\">\n",
       "      <th></th>\n",
       "      <th>Année</th>\n",
       "      <th>Discipline_prédi</th>\n",
       "    </tr>\n",
       "  </thead>\n",
       "  <tbody>\n",
       "    <tr>\n",
       "      <th>2</th>\n",
       "      <td>1993</td>\n",
       "      <td>Médecine</td>\n",
       "    </tr>\n",
       "    <tr>\n",
       "      <th>5</th>\n",
       "      <td>2008</td>\n",
       "      <td>Droit et Sciences Politiques</td>\n",
       "    </tr>\n",
       "    <tr>\n",
       "      <th>6</th>\n",
       "      <td>2005</td>\n",
       "      <td>Droit et Sciences Politiques</td>\n",
       "    </tr>\n",
       "  </tbody>\n",
       "</table>\n",
       "</div>"
      ],
      "text/plain": [
       "   Année              Discipline_prédi\n",
       "2   1993                      Médecine\n",
       "5   2008  Droit et Sciences Politiques\n",
       "6   2005  Droit et Sciences Politiques"
      ]
     },
     "execution_count": 153,
     "metadata": {},
     "output_type": "execute_result"
    }
   ],
   "source": [
    "# Affichage du dataframe :\n",
    "discipline_85_18.head(3)"
   ]
  },
  {
   "cell_type": "code",
   "execution_count": 154,
   "metadata": {},
   "outputs": [
    {
     "data": {
      "text/html": [
       "<div>\n",
       "<style scoped>\n",
       "    .dataframe tbody tr th:only-of-type {\n",
       "        vertical-align: middle;\n",
       "    }\n",
       "\n",
       "    .dataframe tbody tr th {\n",
       "        vertical-align: top;\n",
       "    }\n",
       "\n",
       "    .dataframe thead th {\n",
       "        text-align: right;\n",
       "    }\n",
       "</style>\n",
       "<table border=\"1\" class=\"dataframe\">\n",
       "  <thead>\n",
       "    <tr style=\"text-align: right;\">\n",
       "      <th>Discipline_prédi</th>\n",
       "      <th>Biologie</th>\n",
       "      <th>Droit et Sciences Politiques</th>\n",
       "      <th>Economie et Gestion</th>\n",
       "      <th>Informatique</th>\n",
       "      <th>Langues et Littérature</th>\n",
       "      <th>Mathématiques</th>\n",
       "      <th>Mathématiques et Informatique</th>\n",
       "      <th>Matériaux, Milieux et Chimie</th>\n",
       "      <th>Médecine</th>\n",
       "      <th>Psychologie</th>\n",
       "      <th>Sciences Humaines et Sociales</th>\n",
       "      <th>Sciences de l'Education</th>\n",
       "      <th>Sciences de l'Ingénieur</th>\n",
       "      <th>Sciences de la Terre</th>\n",
       "    </tr>\n",
       "    <tr>\n",
       "      <th>Année</th>\n",
       "      <th></th>\n",
       "      <th></th>\n",
       "      <th></th>\n",
       "      <th></th>\n",
       "      <th></th>\n",
       "      <th></th>\n",
       "      <th></th>\n",
       "      <th></th>\n",
       "      <th></th>\n",
       "      <th></th>\n",
       "      <th></th>\n",
       "      <th></th>\n",
       "      <th></th>\n",
       "      <th></th>\n",
       "    </tr>\n",
       "  </thead>\n",
       "  <tbody>\n",
       "    <tr>\n",
       "      <th>1985</th>\n",
       "      <td>695</td>\n",
       "      <td>168</td>\n",
       "      <td>220</td>\n",
       "      <td>45</td>\n",
       "      <td>268</td>\n",
       "      <td>120</td>\n",
       "      <td>2</td>\n",
       "      <td>331</td>\n",
       "      <td>434</td>\n",
       "      <td>94</td>\n",
       "      <td>380</td>\n",
       "      <td>5</td>\n",
       "      <td>136</td>\n",
       "      <td>109</td>\n",
       "    </tr>\n",
       "    <tr>\n",
       "      <th>1986</th>\n",
       "      <td>967</td>\n",
       "      <td>400</td>\n",
       "      <td>390</td>\n",
       "      <td>69</td>\n",
       "      <td>415</td>\n",
       "      <td>331</td>\n",
       "      <td>1</td>\n",
       "      <td>635</td>\n",
       "      <td>364</td>\n",
       "      <td>239</td>\n",
       "      <td>863</td>\n",
       "      <td>1</td>\n",
       "      <td>244</td>\n",
       "      <td>243</td>\n",
       "    </tr>\n",
       "    <tr>\n",
       "      <th>1987</th>\n",
       "      <td>1716</td>\n",
       "      <td>413</td>\n",
       "      <td>413</td>\n",
       "      <td>101</td>\n",
       "      <td>646</td>\n",
       "      <td>766</td>\n",
       "      <td>8</td>\n",
       "      <td>1359</td>\n",
       "      <td>225</td>\n",
       "      <td>726</td>\n",
       "      <td>1069</td>\n",
       "      <td>3</td>\n",
       "      <td>367</td>\n",
       "      <td>626</td>\n",
       "    </tr>\n",
       "  </tbody>\n",
       "</table>\n",
       "</div>"
      ],
      "text/plain": [
       "Discipline_prédi  Biologie  Droit et Sciences Politiques  Economie et Gestion  \\\n",
       "Année                                                                           \n",
       "1985                   695                           168                  220   \n",
       "1986                   967                           400                  390   \n",
       "1987                  1716                           413                  413   \n",
       "\n",
       "Discipline_prédi  Informatique  Langues et Littérature  Mathématiques  \\\n",
       "Année                                                                   \n",
       "1985                        45                     268            120   \n",
       "1986                        69                     415            331   \n",
       "1987                       101                     646            766   \n",
       "\n",
       "Discipline_prédi  Mathématiques et Informatique  Matériaux, Milieux et Chimie  \\\n",
       "Année                                                                           \n",
       "1985                                          2                           331   \n",
       "1986                                          1                           635   \n",
       "1987                                          8                          1359   \n",
       "\n",
       "Discipline_prédi  Médecine  Psychologie  Sciences Humaines et Sociales  \\\n",
       "Année                                                                    \n",
       "1985                   434           94                            380   \n",
       "1986                   364          239                            863   \n",
       "1987                   225          726                           1069   \n",
       "\n",
       "Discipline_prédi  Sciences de l'Education  Sciences de l'Ingénieur  \\\n",
       "Année                                                                \n",
       "1985                                    5                      136   \n",
       "1986                                    1                      244   \n",
       "1987                                    3                      367   \n",
       "\n",
       "Discipline_prédi  Sciences de la Terre  \n",
       "Année                                   \n",
       "1985                               109  \n",
       "1986                               243  \n",
       "1987                               626  "
      ]
     },
     "execution_count": 154,
     "metadata": {},
     "output_type": "execute_result"
    }
   ],
   "source": [
    "# Comptabilisation des soutenances par année et par discipline :\n",
    "discipline_85_18_groupé = discipline_85_18.groupby(['Année', 'Discipline_prédi']).size().unstack(fill_value=0)\n",
    "discipline_85_18_groupé.head(3)"
   ]
  },
  {
   "cell_type": "markdown",
   "metadata": {},
   "source": [
    "#### 2. Stacked area plot"
   ]
  },
  {
   "cell_type": "code",
   "execution_count": 155,
   "metadata": {},
   "outputs": [
    {
     "data": {
      "image/png": "[encoded data removed]",
      "text/plain": [
       "<Figure size 640x480 with 1 Axes>"
      ]
     },
     "metadata": {},
     "output_type": "display_data"
    }
   ],
   "source": [
    "# Génération des couleurs à partir de la palette 'tab20' :\n",
    "colors = plt.cm.tab20.colors\n",
    "\n",
    "# Création du graphique :\n",
    "plt.stackplot(discipline_85_18_groupé.index, \n",
    "              discipline_85_18_groupé.T, \n",
    "              labels = discipline_85_18_groupé.columns, \n",
    "              colors = colors[:len(discipline_85_18_groupé.columns)])\n",
    "\n",
    "# Affichage de la légende :\n",
    "plt.legend(title = 'Discipline', \n",
    "           bbox_to_anchor = (1, 1.01), \n",
    "           loc = 'upper left')\n",
    "\n",
    "# Ajout du titre :\n",
    "plt.title('Distribution du nombre de soutenances par discipline et par année (1985 - 2018)',\n",
    "          fontsize = 12,\n",
    "          pad = 15)\n",
    "\n",
    "# Ajout des étiquettes aux axes x et y :\n",
    "plt.xlabel('Année')\n",
    "plt.ylabel('Nombre de soutenances')\n",
    "\n",
    "# Définition des limites de l'axe x :\n",
    "plt.xlim(min(discipline_85_18_groupé.index), \n",
    "         max(discipline_85_18_groupé.index))\n",
    "\n",
    "# Affichage du graphique :\n",
    "plt.show()"
   ]
  },
  {
   "cell_type": "markdown",
   "metadata": {},
   "source": [
    "#### 3. Stacked bar chart"
   ]
  },
  {
   "cell_type": "code",
   "execution_count": 156,
   "metadata": {},
   "outputs": [
    {
     "data": {
      "image/png": "[encoded data removed]",
      "text/plain": [
       "<Figure size 800x500 with 1 Axes>"
      ]
     },
     "metadata": {},
     "output_type": "display_data"
    }
   ],
   "source": [
    "# Création de la figure :\n",
    "fig, ax = plt.subplots(figsize = (8, 5))\n",
    "\n",
    "# Création du graphique :\n",
    "discipline_85_18_groupé.plot(kind = 'bar',\n",
    "                stacked = True, \n",
    "                colormap = 'tab20', \n",
    "                width = 0.9, \n",
    "                ax = ax)\n",
    "\n",
    "# Ajout du titre :\n",
    "ax.set_title('Distribution du nombre de soutenances par discipline et par année (1985 - 2018)', \n",
    "             fontsize = 12, \n",
    "             pad = 15)\n",
    "\n",
    "# Ajout des étiquettes :\n",
    "ax.set_xlabel('Année')\n",
    "ax.set_ylabel('Nombre de soutenances')\n",
    "\n",
    "# Ajustement des graduations :\n",
    "ticks = discipline_85_18_groupé.index[::5]\n",
    "ax.set_xticks(range(0, len(discipline_85_18_groupé.index), 5))\n",
    "ax.set_xticklabels(ticks, rotation = 0)\n",
    "\n",
    "# Affichage de la légende :\n",
    "ax.legend(title = 'Disciplines', \n",
    "          bbox_to_anchor = (1, 1.01), \n",
    "          loc = 'upper left')\n",
    "\n",
    "# Masque des bordures :\n",
    "ax.spines['top'].set_visible(False)\n",
    "ax.spines['right'].set_visible(False)\n",
    "\n",
    "# Affichage\n",
    "plt.show()"
   ]
  },
  {
   "cell_type": "markdown",
   "metadata": {},
   "source": [
    "### II. EXERCICE 2"
   ]
  },
  {
   "cell_type": "markdown",
   "metadata": {},
   "source": [
    "#### 1. Affichage de la grille de fond"
   ]
  },
  {
   "cell_type": "code",
   "execution_count": 157,
   "metadata": {},
   "outputs": [
    {
     "data": {
      "image/png": "[encoded data removed]",
      "text/plain": [
       "<Figure size 800x500 with 1 Axes>"
      ]
     },
     "metadata": {},
     "output_type": "display_data"
    }
   ],
   "source": [
    "# Création de la figure :\n",
    "fig, ax = plt.subplots(figsize = (8, 5))\n",
    "\n",
    "# Création du graphique :\n",
    "discipline_85_18_groupé.plot(kind = 'bar',\n",
    "                stacked = True, \n",
    "                colormap = 'tab20', \n",
    "                width = 0.9, \n",
    "                ax = ax)\n",
    "\n",
    "# Ajout du titre :\n",
    "ax.set_title('Distribution du nombre de soutenances par discipline et par année (1985 - 2018)', \n",
    "             fontsize = 12, \n",
    "             pad = 15)\n",
    "\n",
    "# Ajout des étiquettes :\n",
    "ax.set_xlabel('Année')\n",
    "ax.set_ylabel('Nombre de soutenances')\n",
    "\n",
    "# Ajustement des graduations :\n",
    "ticks = discipline_85_18_groupé.index[::5]\n",
    "ax.set_xticks(range(0, len(discipline_85_18_groupé.index), 5))\n",
    "ax.set_xticklabels(ticks, rotation = 0)\n",
    "\n",
    "# Ajout d'une grille de fond :\n",
    "ax.grid(axis = 'both',\n",
    "        which = 'both',\n",
    "        linestyle = '-',\n",
    "        linewidth = 0.5,\n",
    "        color = 'gray',\n",
    "        alpha = 0.3)\n",
    "\n",
    "# Ajustement de l'ordre des éléments :\n",
    "ax.set_axisbelow(True)\n",
    "\n",
    "# Affichage de la légende :\n",
    "ax.legend(title = 'Discipline', \n",
    "          bbox_to_anchor = (1, 1.01), \n",
    "          loc = 'upper left')\n",
    "\n",
    "# Masque des bordures :\n",
    "ax.spines['top'].set_visible(False)\n",
    "ax.spines['right'].set_visible(False)\n",
    "\n",
    "# Affichage de la figure :\n",
    "plt.show()"
   ]
  },
  {
   "cell_type": "markdown",
   "metadata": {},
   "source": [
    "#### 2. Modification de la transparence"
   ]
  },
  {
   "cell_type": "code",
   "execution_count": 158,
   "metadata": {},
   "outputs": [],
   "source": [
    "# Sélection des disciplines spécifiques :\n",
    "discipline_85_18_groupé_réduit = discipline_85_18_groupé[['Biologie', 'Mathématiques', 'Médecine']]"
   ]
  },
  {
   "cell_type": "code",
   "execution_count": 159,
   "metadata": {},
   "outputs": [],
   "source": [
    "# Transformation en format long pour seaborn (melt) :\n",
    "discipline_réduit = discipline_85_18_groupé_réduit.reset_index().melt(id_vars = ['Année'], \n",
    "                                                                      var_name = 'Discipline', \n",
    "                                                                      value_name = 'Nombre_soutenances')\n"
   ]
  },
  {
   "cell_type": "code",
   "execution_count": 160,
   "metadata": {},
   "outputs": [],
   "source": [
    "# Comptabilisation des soutenances par année et discipline :\n",
    "discipline_réduit = discipline_réduit.groupby(['Année', 'Discipline']).sum().reset_index()"
   ]
  },
  {
   "cell_type": "code",
   "execution_count": 161,
   "metadata": {},
   "outputs": [
    {
     "data": {
      "image/png": "[encoded data removed]",
      "text/plain": [
       "<Figure size 800x500 with 1 Axes>"
      ]
     },
     "metadata": {},
     "output_type": "display_data"
    }
   ],
   "source": [
    "# Création de la figure :\n",
    "fig, ax = plt.subplots(figsize=(8, 5))\n",
    "\n",
    "# Création de la liste des couleurs :\n",
    "palette = ['orchid', 'steelblue', 'greenyellow']\n",
    "\n",
    "# Création du graphique :\n",
    "sns.barplot(data = discipline_réduit, \n",
    "            x = 'Année', \n",
    "            y = 'Nombre_soutenances', \n",
    "            hue = 'Discipline', \n",
    "            palette = palette, \n",
    "            errorbar = None, \n",
    "            dodge = False, \n",
    "            alpha = 0.5, \n",
    "            hue_order = ['Biologie', 'Mathématiques', 'Médecine'],\n",
    "            width = 1.0, \n",
    "            ax = ax)\n",
    "\n",
    "# Ajout d'une bordure aux barres du graphique :\n",
    "for bar in ax.patches:\n",
    "    color = bar.get_facecolor()\n",
    "    bar.set_edgecolor(color)\n",
    "    bar.set_linewidth(1.5)\n",
    "\n",
    "# Affichage de la grille de fond :\n",
    "ax.grid(axis = 'both', \n",
    "        which = 'both', \n",
    "        linestyle = '-', \n",
    "        linewidth = 0.4, \n",
    "        color = 'gray', \n",
    "        alpha = 0.3)\n",
    "\n",
    "# Ajustement de l'ordre des éléments :\n",
    "ax.set_axisbelow(True)\n",
    "\n",
    "# Sélection des années à afficher :\n",
    "annees_range = range(1985, 2019, 5)\n",
    "\n",
    "# Ajustement des graduations sur l'axe x :\n",
    "xticks_pos = [i for i, year in enumerate(discipline_réduit['Année'].unique()) if year in annees_range]\n",
    "ax.set_xticks(xticks_pos)\n",
    "ax.set_xticklabels(annees_range, \n",
    "                   rotation = 0)\n",
    "\n",
    "# Ajout du titre au graphique :\n",
    "ax.set_title('Distribution du nombre de soutenances par discipline et par année (1985 - 2018)', \n",
    "             fontsize = 12, \n",
    "             pad = 15)\n",
    "\n",
    "# Ajout des étiquettes aux axes :\n",
    "ax.set_xlabel('Année')\n",
    "ax.set_ylabel('Nombre de soutenances')\n",
    "\n",
    "# Affichage de la légende :\n",
    "ax.legend(title = 'Discipline', \n",
    "          bbox_to_anchor = (1, 1.01), \n",
    "          loc = 'upper left')\n",
    "\n",
    "# Masque de la bordure du graphique :\n",
    "ax.spines['top'].set_visible(False)\n",
    "ax.spines['right'].set_visible(False)\n",
    "\n",
    "# Affichage du graphique :\n",
    "plt.show()"
   ]
  },
  {
   "cell_type": "markdown",
   "metadata": {},
   "source": [
    "### III. EXERCICE 3"
   ]
  },
  {
   "cell_type": "markdown",
   "metadata": {},
   "source": [
    "#### 1. Eloignement des étiquettes de graduations de l'axe des x"
   ]
  },
  {
   "cell_type": "code",
   "execution_count": 162,
   "metadata": {},
   "outputs": [],
   "source": [
    "# Sélection de la discipline 'Médecine' :\n",
    "discipline_medecine = discipline_85_18_groupé[['Médecine']]\n",
    "\n",
    "# Transformation en format long :\n",
    "discipline_medecine_long = discipline_medecine.reset_index().melt(id_vars = ['Année'], \n",
    "                                                                  var_name = 'Discipline', \n",
    "                                                                  value_name = 'Nombre_soutenances')"
   ]
  },
  {
   "cell_type": "code",
   "execution_count": 163,
   "metadata": {},
   "outputs": [
    {
     "data": {
      "image/png": "[encoded data removed]",
      "text/plain": [
       "<Figure size 800x500 with 1 Axes>"
      ]
     },
     "metadata": {},
     "output_type": "display_data"
    }
   ],
   "source": [
    "# Création de la figure :\n",
    "fig, ax = plt.subplots(figsize = (8, 5))\n",
    "\n",
    "# Création du graphique :\n",
    "ax = sns.barplot(data = discipline_medecine_long, \n",
    "                 x = 'Année', \n",
    "                 y = 'Nombre_soutenances', \n",
    "                 color = 'greenyellow',\n",
    "                 errorbar = None, \n",
    "                 dodge = False,\n",
    "                 width = 0.7)\n",
    "\n",
    "# Affichage de la grille de fond :\n",
    "ax.grid(axis = 'both', \n",
    "        which = 'both', \n",
    "        linestyle = '-', \n",
    "        linewidth = 0.4, \n",
    "        color = 'gray', \n",
    "        alpha = 0.3)\n",
    "\n",
    "# Ajustement de l'ordre des éléments :\n",
    "ax.set_axisbelow(True)\n",
    "\n",
    "# Sélection des années à afficher :\n",
    "annees_range = range(1985, 2019, 5)\n",
    "\n",
    "# Ajustement des graduations sur l'axe x :\n",
    "xticks_pos = [i for i, year in enumerate(discipline_réduit['Année'].unique()) if year in annees_range]\n",
    "ax.set_xticks(xticks_pos)\n",
    "ax.set_xticklabels(annees_range, \n",
    "                   rotation = 0)\n",
    "\n",
    "# Éloignement des étiquettes de l'axe des x :\n",
    "ax.tick_params(axis = 'x', \n",
    "               pad = 15)\n",
    "\n",
    "# Ajout du titre au graphique :\n",
    "plt.title('Distribution du nombre de soutenances en médecine par année (1985 - 1989)', \n",
    "          fontsize = 12, \n",
    "          pad = 15)\n",
    "\n",
    "# Ajout des étiquettes des axes :\n",
    "plt.xlabel('Année')\n",
    "plt.ylabel('Nombre de soutenances')\n",
    "\n",
    "# Masque de la bordure du graphique :\n",
    "ax.spines['top'].set_visible(False)\n",
    "ax.spines['right'].set_visible(False)\n",
    "\n",
    "# Affichage du graphique :\n",
    "plt.show()"
   ]
  },
  {
   "cell_type": "markdown",
   "metadata": {},
   "source": [
    "#### 2. Rotation des étiquettes des graduations de l'axe x"
   ]
  },
  {
   "cell_type": "code",
   "execution_count": 164,
   "metadata": {},
   "outputs": [
    {
     "data": {
      "image/png": "[encoded data removed]",
      "text/plain": [
       "<Figure size 800x500 with 1 Axes>"
      ]
     },
     "metadata": {},
     "output_type": "display_data"
    }
   ],
   "source": [
    "# Création de la figure :\n",
    "plt.figure(figsize = (8, 5))\n",
    "\n",
    "# Création du graphique :\n",
    "ax = sns.barplot(data = discipline_medecine_long, \n",
    "                 x = 'Année', \n",
    "                 y = 'Nombre_soutenances', \n",
    "                 color = 'greenyellow',\n",
    "                 errorbar = None, \n",
    "                 dodge = False,\n",
    "                 width = 0.7)\n",
    "\n",
    "# Affichage de la grille de fond :\n",
    "ax.grid(axis = 'both', \n",
    "        which = 'both', \n",
    "        linestyle = '-', \n",
    "        linewidth = 0.4, \n",
    "        color = 'gray', \n",
    "        alpha = 0.3)\n",
    "\n",
    "# Ajustement de l'ordre des éléments :\n",
    "ax.set_axisbelow(True)\n",
    "\n",
    "# Ajout du titre au graphique :\n",
    "plt.title('Distribution du nombre de soutenances en médecine par année (1985 - 2018)', \n",
    "          fontsize = 12, \n",
    "          pad = 15)\n",
    "\n",
    "# Ajout des étiquettes aux axes :\n",
    "plt.xlabel('Année')\n",
    "plt.ylabel('Nombre de soutenances')\n",
    "\n",
    "# Sélection des années à afficher :\n",
    "annees_range = range(1985, 2019, 5)\n",
    "\n",
    "# Ajustement des graduations sur l'axe des x :\n",
    "xticks_pos = [i for i, year in enumerate(discipline_réduit['Année'].unique()) if year in annees_range]\n",
    "ax.set_xticks(xticks_pos)\n",
    "ax.set_xticklabels(annees_range, \n",
    "                   rotation = 45)\n",
    "\n",
    "# Masque de la bordure du graphique :\n",
    "ax.spines['top'].set_visible(False)\n",
    "ax.spines['right'].set_visible(False)\n",
    "\n",
    "# Affichage du graphique :\n",
    "plt.show()"
   ]
  },
  {
   "cell_type": "markdown",
   "metadata": {},
   "source": [
    "### IV. EXERCICE 4"
   ]
  },
  {
   "cell_type": "markdown",
   "metadata": {},
   "source": [
    "#### 1. Changement de la police de caractère"
   ]
  },
  {
   "cell_type": "code",
   "execution_count": 165,
   "metadata": {},
   "outputs": [
    {
     "data": {
      "image/png": "[encoded data removed]",
      "text/plain": [
       "<Figure size 800x500 with 1 Axes>"
      ]
     },
     "metadata": {},
     "output_type": "display_data"
    }
   ],
   "source": [
    "# Changement de la police de caractère et de sa taille :\n",
    "plt.rcParams['font.family'] = \"EB Garamond\"\n",
    "plt.rcParams['font.size'] = 10\n",
    "\n",
    "# Création de la figure :\n",
    "plt.figure(figsize = (8, 5))\n",
    "\n",
    "# Création du graphique :\n",
    "ax = sns.barplot(data = discipline_medecine_long, \n",
    "                 x = 'Année', \n",
    "                 y = 'Nombre_soutenances', \n",
    "                 color = 'greenyellow',\n",
    "                 errorbar = None, \n",
    "                 dodge = False,\n",
    "                 width = 0.7)\n",
    "\n",
    "# Affichage de la grille de fond :\n",
    "ax.grid(axis = 'both', \n",
    "        which = 'both', \n",
    "        linestyle = '-', \n",
    "        linewidth = 0.4, \n",
    "        color = 'gray', \n",
    "        alpha = 0.3)\n",
    "\n",
    "# Ajustement de l'ordre des éléments :\n",
    "ax.set_axisbelow(True)\n",
    "\n",
    "# Changement de la taille de la police du titre du graphique :\n",
    "plt.title('Distribution du nombre de soutenances en médecine par année (1985 - 2018)', \n",
    "          fontsize = 13,\n",
    "          fontname = 'EB Garamond',\n",
    "          pad = 15)\n",
    "\n",
    "# Changement de la taille de la police des étiquettes de l'axe y :\n",
    "plt.xlabel('Année', \n",
    "           fontsize = 10, \n",
    "           fontname = 'EB Garamond')\n",
    "\n",
    "# Changement de la taille de la police des étiquettes de l'axe x :\n",
    "plt.ylabel('Nombre de soutenances', \n",
    "           fontsize = 10, \n",
    "           fontname = 'EB Garamond')\n",
    "\n",
    "# Sélection des années à afficher :\n",
    "annees_range = range(1985, 2019, 5)\n",
    "\n",
    "# Ajustement des graduations sur l'axe x :\n",
    "xticks_pos = [i for i, year in enumerate(discipline_réduit['Année'].unique()) if year in annees_range]\n",
    "ax.set_xticks(xticks_pos)\n",
    "ax.set_xticklabels(annees_range, \n",
    "                   fontsize = 9, \n",
    "                   fontname = 'EB Garamond')\n",
    "\n",
    "# Ajustement des graduations sur l'axe y :\n",
    "ax.tick_params(axis = 'y', \n",
    "               labelsize = 9)\n",
    "\n",
    "# Masque de la bordure du graphique :\n",
    "ax.spines['top'].set_visible(False)\n",
    "ax.spines['right'].set_visible(False)\n",
    "\n",
    "# Affichage du graphique :\n",
    "plt.show()"
   ]
  },
  {
   "cell_type": "markdown",
   "metadata": {},
   "source": [
    "#### 2. Réduction de la taille des marges"
   ]
  },
  {
   "cell_type": "code",
   "execution_count": null,
   "metadata": {},
   "outputs": [
    {
     "data": {
      "image/png": "[encoded data removed]",
      "text/plain": [
       "<Figure size 400x200 with 1 Axes>"
      ]
     },
     "metadata": {},
     "output_type": "display_data"
    }
   ],
   "source": [
    "# Changement de la police de caractère et de sa taille :\n",
    "plt.rcParams['font.family'] = \"EB Garamond\"\n",
    "plt.rcParams['font.size'] = 10\n",
    "\n",
    "# Création de la figure :\n",
    "plt.figure(figsize = (4, 2))\n",
    "\n",
    "# Création du graphique :\n",
    "ax = sns.barplot(data = discipline_medecine_long, \n",
    "                 x = 'Année', \n",
    "                 y = 'Nombre_soutenances', \n",
    "                 color = 'greenyellow',\n",
    "                 errorbar = None, \n",
    "                 dodge = False,\n",
    "                 width = 0.7)\n",
    "\n",
    "# Affichage de la grille de fond :\n",
    "ax.grid(axis = 'both', \n",
    "        which = 'both', \n",
    "        linestyle = '-', \n",
    "        linewidth = 0.4, \n",
    "        color = 'gray', \n",
    "        alpha = 0.3)\n",
    "\n",
    "# Ajustement de l'ordre des éléments :\n",
    "ax.set_axisbelow(True)\n",
    "\n",
    "# Changement de la taille de la police du titre du graphique :\n",
    "plt.title('Distribution du nombre de soutenances en médecine par année (1985 - 2018)', \n",
    "          fontsize = 13,\n",
    "          fontname = 'EB Garamond',\n",
    "          pad = 15)\n",
    "\n",
    "# Changement de la taille de la police des étiquettes de l'axe x :\n",
    "plt.xlabel('Année', \n",
    "           fontsize = 10, \n",
    "           fontname = 'EB Garamond')\n",
    "\n",
    "# Changement de la taille de la police des étiquettes de l'axe y :\n",
    "plt.ylabel('Nombre de soutenances', \n",
    "           fontsize = 10, \n",
    "           fontname = 'EB Garamond')\n",
    "\n",
    "# Sélection des années à afficher :\n",
    "annees_range = range(1985, 2019, 5)\n",
    "\n",
    "# Ajustement des graduations de l'axe x :\n",
    "xticks_pos = [i for i, year in enumerate(discipline_réduit['Année'].unique()) if year in annees_range]\n",
    "ax.set_xticks(xticks_pos)\n",
    "ax.set_xticklabels(annees_range, \n",
    "                   fontsize = 9, \n",
    "                   fontname = 'EB Garamond')\n",
    "\n",
    "# Ajustement des graduations de l'axe y :\n",
    "ax.tick_params(axis = 'y', \n",
    "               labelsize = 9)\n",
    "\n",
    "# Masque des bordures :\n",
    "ax.spines['top'].set_visible(False)\n",
    "ax.spines['right'].set_visible(False)\n",
    "\n",
    "# Ajustement des marges :\n",
    "plt.subplots_adjust(left = 0.1, \n",
    "                    right = 0.9, \n",
    "                    top = 0.9, \n",
    "                    bottom = 0.2)\n",
    "\n",
    "# Affichage du graphique :\n",
    "plt.show()"
   ]
  },
  {
   "cell_type": "markdown",
   "metadata": {},
   "source": [
    "### V. EXERCICE 5"
   ]
  },
  {
   "cell_type": "code",
   "execution_count": 167,
   "metadata": {},
   "outputs": [
    {
     "data": {
      "image/png": "[encoded data removed]",
      "text/plain": [
       "<Figure size 800x500 with 1 Axes>"
      ]
     },
     "metadata": {},
     "output_type": "display_data"
    }
   ],
   "source": [
    "# Changement de la police de caractère et de sa taille :\n",
    "plt.rcParams['font.family'] = \"EB Garamond\"\n",
    "plt.rcParams['font.size'] = 10\n",
    "\n",
    "# Création de la figure :\n",
    "plt.figure(figsize = (8, 5))\n",
    "\n",
    "# Création du graphique :\n",
    "ax = sns.barplot(data = discipline_medecine_long, \n",
    "                 x = 'Année', \n",
    "                 y = 'Nombre_soutenances', \n",
    "                 color = 'greenyellow',\n",
    "                 errorbar = None, \n",
    "                 dodge = False,\n",
    "                 width = 0.7)\n",
    "\n",
    "# Ajout d'une bordure aux barres du graphique :\n",
    "for bar in ax.patches:\n",
    "    color = bar.get_facecolor()\n",
    "    bar.set_edgecolor(color)\n",
    "    bar.set_linewidth(1.5)\n",
    "\n",
    "# Affichage de la grille de fond :\n",
    "ax.grid(axis = 'both', \n",
    "        which = 'both', \n",
    "        linestyle = '-', \n",
    "        linewidth = 0.4, \n",
    "        color = 'gray', \n",
    "        alpha = 0.3)\n",
    "\n",
    "# Ajustement de l'ordre des éléments :\n",
    "ax.set_axisbelow(True)\n",
    "\n",
    "# Changement de la taille de la police du titre du graphique :\n",
    "plt.title('Distribution du nombre de soutenances en médecine par année (1985 - 2018)', \n",
    "          fontsize = 13,\n",
    "          fontname = 'EB Garamond',\n",
    "          pad = 15)\n",
    "\n",
    "# Personnalisation de l'étiquette de l'axe x :\n",
    "plt.xlabel('Année', \n",
    "           fontsize = 10, \n",
    "           fontname = 'EB Garamond')\n",
    "\n",
    "# Personnalisation de l'étiqutte de l'axe y :\n",
    "plt.ylabel('Nombre de soutenances', \n",
    "           fontsize = 10, \n",
    "           fontname = 'EB Garamond')\n",
    "\n",
    "# Sélection des années à afficher :\n",
    "annees_range = range(1985, 2019, 5)\n",
    "\n",
    "# Ajustement des graduations de l'axe x :\n",
    "xticks_pos = [i for i, year in enumerate(discipline_réduit['Année'].unique()) if year in annees_range]\n",
    "ax.set_xticks(xticks_pos)\n",
    "ax.set_xticklabels(annees_range, \n",
    "                   fontsize = 9, \n",
    "                   fontname = 'EB Garamond')\n",
    "\n",
    "# Ajustement des graduations de l'axe y :\n",
    "ax.tick_params(axis = 'y', \n",
    "               labelsize = 9)\n",
    "\n",
    "# Application de l'échelle logarithmique sur l'axe y :\n",
    "ax.set_yscale('log')\n",
    "\n",
    "# Masque de la bordure du graphique :\n",
    "ax.spines['top'].set_visible(False)\n",
    "ax.spines['right'].set_visible(False)\n",
    "\n",
    "# Affichage du graphique :\n",
    "plt.show()"
   ]
  },
  {
   "cell_type": "markdown",
   "metadata": {},
   "source": [
    "### VI. EXERCICE 6"
   ]
  },
  {
   "cell_type": "markdown",
   "metadata": {},
   "source": [
    "#### 1. Ajout de la légende en haut à droite en dehors du graphique"
   ]
  },
  {
   "cell_type": "code",
   "execution_count": 168,
   "metadata": {},
   "outputs": [
    {
     "data": {
      "image/png": "[encoded data removed]",
      "text/plain": [
       "<Figure size 800x500 with 1 Axes>"
      ]
     },
     "metadata": {},
     "output_type": "display_data"
    }
   ],
   "source": [
    "# Changement de la police de caractère et de sa taille :\n",
    "plt.rcParams['font.family'] = \"EB Garamond\"\n",
    "plt.rcParams['font.size'] = 10\n",
    "\n",
    "# Création de la figure :\n",
    "fig, ax = plt.subplots(figsize = (8, 5))\n",
    "\n",
    "# Création de la liste des couleurs :\n",
    "palette = ['orchid', \n",
    "           'steelblue', \n",
    "           'greenyellow']\n",
    "\n",
    "# Création du graphique :\n",
    "sns.barplot(data = discipline_réduit, \n",
    "            x = 'Année', \n",
    "            y = 'Nombre_soutenances', \n",
    "            hue = 'Discipline', \n",
    "            palette = palette, \n",
    "            errorbar = None, \n",
    "            dodge = False, \n",
    "            alpha = 0.5, \n",
    "            hue_order = ['Biologie', \n",
    "                         'Mathématiques', \n",
    "                         'Médecine'],\n",
    "            width = 1.0, \n",
    "            ax = ax)\n",
    "\n",
    "# Ajout d'une bordure aux barres du graphique :\n",
    "for bar in ax.patches:\n",
    "    color = bar.get_facecolor()\n",
    "    bar.set_edgecolor(color)\n",
    "    bar.set_linewidth(1.5)\n",
    "\n",
    "# Affichage de la grille de fond :\n",
    "ax.grid(axis = 'both', \n",
    "        which = 'both', \n",
    "        linestyle = '-', \n",
    "        linewidth = 0.4, \n",
    "        color = 'gray', \n",
    "        alpha = 0.3)\n",
    "\n",
    "# Ajustement de l'ordre des éléments :\n",
    "ax.set_axisbelow(True)\n",
    "\n",
    "# Sélection des années à afficher :\n",
    "annees_range = range(1985, 2019, 5)\n",
    "\n",
    "# Ajustement des graduations sur l'axe x :\n",
    "xticks_pos = [i for i, \n",
    "              year in enumerate(discipline_réduit['Année'].unique()) if year in annees_range]\n",
    "ax.set_xticks(xticks_pos)\n",
    "ax.set_xticklabels(annees_range, \n",
    "                   rotation = 0)\n",
    "\n",
    "# Ajout du titre au graphique :\n",
    "ax.set_title('Distribution du nombre de soutenances par discipline et par année (1985 - 2018)', \n",
    "             fontsize = 13, \n",
    "             pad = 15)\n",
    "\n",
    "# Ajout des étiquettes aux axes :\n",
    "ax.set_xlabel('Année')\n",
    "ax.set_ylabel('Nombre de soutenances')\n",
    "\n",
    "# Affichage de la légende :\n",
    "ax.legend(title = 'Discipline',\n",
    "          bbox_to_anchor = (1.01, 1),\n",
    "          loc = 'upper left',\n",
    "          fontsize = 10,\n",
    "          title_fontsize = 12)\n",
    "\n",
    "# Masque de la bordure du graphique :\n",
    "ax.spines['top'].set_visible(False)\n",
    "ax.spines['right'].set_visible(False)\n",
    "\n",
    "# Affichage du graphique :\n",
    "plt.show()"
   ]
  },
  {
   "cell_type": "markdown",
   "metadata": {},
   "source": [
    "#### 2. Ajout de la légende en haut à droite sur le graphique"
   ]
  },
  {
   "cell_type": "code",
   "execution_count": 169,
   "metadata": {},
   "outputs": [
    {
     "data": {
      "image/png": "[encoded data removed]",
      "text/plain": [
       "<Figure size 800x500 with 1 Axes>"
      ]
     },
     "metadata": {},
     "output_type": "display_data"
    }
   ],
   "source": [
    "# Création de la figure :\n",
    "fig, ax = plt.subplots(figsize = (8, 5))\n",
    "\n",
    "# Liste des couleurs :\n",
    "palette = ['orchid', \n",
    "           'steelblue', \n",
    "           'greenyellow']\n",
    "\n",
    "# Création du graphique :\n",
    "sns.barplot(data = discipline_réduit, \n",
    "            x = 'Année', \n",
    "            y = 'Nombre_soutenances', \n",
    "            hue = 'Discipline', \n",
    "            palette = palette, \n",
    "            errorbar = None,\n",
    "            dodge = False,\n",
    "            alpha = 0.5,                       \n",
    "            hue_order = ['Biologie', \n",
    "                         'Mathématiques', \n",
    "                         'Médecine'],\n",
    "            width = 1.0,\n",
    "            ax = ax)\n",
    "\n",
    "# Ajout d'une bordure aux barres du graphique :\n",
    "for bar in ax.patches:\n",
    "    bar.set_edgecolor(bar.get_facecolor())\n",
    "    bar.set_linewidth(1.5)\n",
    "\n",
    "# Configuration de la grille de fond :\n",
    "ax.grid(axis = 'both', \n",
    "        which = 'both', \n",
    "        linestyle = '-', \n",
    "        linewidth = 0.4, \n",
    "        color = 'gray', \n",
    "        alpha = 0.3)\n",
    "\n",
    "# Ajustement de l'ordre des éléments :\n",
    "ax.set_axisbelow(True)\n",
    "\n",
    "# Sélection des années à afficher :\n",
    "annees_range = range(1985, 2019, 5)  \n",
    "\n",
    "# Ajustement des graduations sur l'axe x :\n",
    "xticks_pos = [i for i, year in enumerate(discipline_réduit['Année'].unique()) if year in annees_range]\n",
    "ax.set_xticks(xticks_pos)\n",
    "ax.set_xticklabels(annees_range, \n",
    "                   rotation = 0)\n",
    "\n",
    "# Ajout du titre au graphique :\n",
    "ax.set_title('Distribution du nombre de soutenances par discipline par année (1985 - 2018)', \n",
    "             fontsize = 13, \n",
    "             pad = 15)\n",
    "\n",
    "# Ajout des étiquettes aux axes :\n",
    "ax.set_xlabel('Année')\n",
    "ax.set_ylabel('Nombre de soutenances')\n",
    "\n",
    "# Définition de la limite de l'axe y :\n",
    "ax.set_ylim(0, 5000)\n",
    "\n",
    "# Masque de la bordure du graphique :\n",
    "ax.spines['top'].set_visible(False)\n",
    "ax.spines['right'].set_visible(False)\n",
    "\n",
    "# Affichage de la légende :\n",
    "ax.legend(title = 'Discipline',\n",
    "          bbox_to_anchor = (1, 1),\n",
    "          loc = 'upper right',\n",
    "          fontsize = 10,\n",
    "          title_fontsize = 12)\n",
    "\n",
    "# Affichage du graphique :\n",
    "plt.show()"
   ]
  },
  {
   "cell_type": "markdown",
   "metadata": {},
   "source": [
    "### VII. EXERCICE 7"
   ]
  },
  {
   "cell_type": "code",
   "execution_count": 170,
   "metadata": {},
   "outputs": [
    {
     "data": {
      "image/png": "[encoded data removed]",
      "text/plain": [
       "<Figure size 800x500 with 1 Axes>"
      ]
     },
     "metadata": {},
     "output_type": "display_data"
    }
   ],
   "source": [
    "# Création de la figure :\n",
    "fig, ax = plt.subplots(figsize=(8, 5))\n",
    "\n",
    "# Liste des couleurs :\n",
    "palette = ['orange', 'royalblue', 'firebrick']\n",
    "\n",
    "# Création du graphique :\n",
    "sns.barplot(data = discipline_réduit, \n",
    "            x = 'Année', \n",
    "            y = 'Nombre_soutenances', \n",
    "            hue = 'Discipline', \n",
    "            palette = palette, \n",
    "            errorbar = None, \n",
    "            dodge = False, \n",
    "            alpha = 0.5, \n",
    "            hue_order = ['Biologie', 'Mathématiques', 'Médecine'],\n",
    "            width = 1.0, \n",
    "            ax = ax)\n",
    "\n",
    "# Ajout d'une bordure aux barres du graphique :\n",
    "for bar in ax.patches:\n",
    "    color = bar.get_facecolor()\n",
    "    bar.set_edgecolor(color)\n",
    "    bar.set_linewidth(1.5)\n",
    "\n",
    "# Affichage de la grille de fond :\n",
    "ax.grid(axis = 'both', \n",
    "        which = 'both', \n",
    "        linestyle = '-', \n",
    "        linewidth = 0.4, \n",
    "        color = 'gray', \n",
    "        alpha = 0.3)\n",
    "\n",
    "# Ajustement de l'ordre des élémets :\n",
    "ax.set_axisbelow(True)\n",
    "\n",
    "# Sélection des années à afficher :\n",
    "annees_range = range(1985, 2019, 5)\n",
    "\n",
    "# Ajustement des graduations sur l'axe x :\n",
    "xticks_pos = [i for i, year in enumerate(discipline_réduit['Année'].unique()) if year in annees_range]\n",
    "ax.set_xticks(xticks_pos)\n",
    "ax.set_xticklabels(annees_range, \n",
    "                   rotation = 0)\n",
    "\n",
    "# Ajout du titre au graphique :\n",
    "ax.set_title('Distribution du nombre de soutenances par discipline par année (1985 - 2018)', \n",
    "             fontsize = 13, \n",
    "             pad = 15)\n",
    "\n",
    "# Ajout des étiquettes aux axes :\n",
    "ax.set_xlabel('Année')\n",
    "ax.set_ylabel('Nombre de soutenances')\n",
    "\n",
    "# Définition de la limite de l'axe y :\n",
    "ax.set_ylim(0, 5000)\n",
    "\n",
    "# Masque de la bordure du graphique :\n",
    "ax.spines['top'].set_visible(False)\n",
    "ax.spines['right'].set_visible(False)\n",
    "\n",
    "# Affichage de la légende :\n",
    "ax.legend(title = 'Disciplines', \n",
    "          bbox_to_anchor = (1, 1),\n",
    "          loc = 'upper right',\n",
    "          fontsize = 10,\n",
    "          title_fontsize = 11)\n",
    "\n",
    "# Affichage du graphique :\n",
    "plt.show()"
   ]
  },
  {
   "cell_type": "markdown",
   "metadata": {},
   "source": [
    "### VIII. EXERCICE 8"
   ]
  },
  {
   "cell_type": "code",
   "execution_count": 171,
   "metadata": {},
   "outputs": [
    {
     "data": {
      "image/png": "[encoded data removed]",
      "text/plain": [
       "<Figure size 800x500 with 1 Axes>"
      ]
     },
     "metadata": {},
     "output_type": "display_data"
    }
   ],
   "source": [
    "# Inversion de l'ordre des disciplines :\n",
    "discipline_inverted = discipline_85_18_groupé.iloc[:, ::-1]\n",
    "\n",
    "# Création de la figure :\n",
    "fig, ax = plt.subplots(figsize = (8, 5))\n",
    "\n",
    "# Création du graphique :\n",
    "discipline_inverted.plot(kind = 'bar',\n",
    "                         stacked = True,\n",
    "                         colormap = 'tab20',\n",
    "                         width = 0.9,\n",
    "                         ax = ax)\n",
    "\n",
    "# Ajout du titre :\n",
    "ax.set_title('Distribution du nombre de soutenances par type de discipline et par an (1985-2018)', \n",
    "             fontsize = 13, \n",
    "             pad = 15)\n",
    "\n",
    "# Ajout des étiquettes aux axes :\n",
    "ax.set_xlabel('Année')\n",
    "ax.set_ylabel('Nombre de soutenances')\n",
    "\n",
    "# Sélection et ajustement des graduations :\n",
    "ticks = discipline_inverted.index[::5]\n",
    "ax.set_xticks(range(0, len(discipline_inverted.index), 5))\n",
    "ax.set_xticklabels(ticks, rotation = 0)\n",
    "\n",
    "# Affichage de la légende :\n",
    "ax.legend(title = 'Discipline', \n",
    "          bbox_to_anchor = (1, 1.01), \n",
    "          loc = 'upper left')\n",
    "\n",
    "# Masque de la bordure du graphique :\n",
    "ax.spines['top'].set_visible(False)\n",
    "ax.spines['right'].set_visible(False)\n",
    "\n",
    "# Affichage du graphique :\n",
    "plt.show()"
   ]
  },
  {
   "cell_type": "markdown",
   "metadata": {},
   "source": [
    "### IX. EXERCICE 9"
   ]
  },
  {
   "cell_type": "markdown",
   "metadata": {},
   "source": [
    "#### 1. Création d'une figure avec slider"
   ]
  },
  {
   "cell_type": "code",
   "execution_count": 172,
   "metadata": {},
   "outputs": [
    {
     "data": {
      "text/html": [
       "<div>\n",
       "<style scoped>\n",
       "    .dataframe tbody tr th:only-of-type {\n",
       "        vertical-align: middle;\n",
       "    }\n",
       "\n",
       "    .dataframe tbody tr th {\n",
       "        vertical-align: top;\n",
       "    }\n",
       "\n",
       "    .dataframe thead th {\n",
       "        text-align: right;\n",
       "    }\n",
       "</style>\n",
       "<table border=\"1\" class=\"dataframe\">\n",
       "  <thead>\n",
       "    <tr style=\"text-align: right;\">\n",
       "      <th></th>\n",
       "      <th>Année</th>\n",
       "      <th>Discipline_prédi</th>\n",
       "    </tr>\n",
       "  </thead>\n",
       "  <tbody>\n",
       "    <tr>\n",
       "      <th>2</th>\n",
       "      <td>1993</td>\n",
       "      <td>Médecine</td>\n",
       "    </tr>\n",
       "    <tr>\n",
       "      <th>5</th>\n",
       "      <td>2008</td>\n",
       "      <td>Droit et Sciences Politiques</td>\n",
       "    </tr>\n",
       "    <tr>\n",
       "      <th>6</th>\n",
       "      <td>2005</td>\n",
       "      <td>Droit et Sciences Politiques</td>\n",
       "    </tr>\n",
       "  </tbody>\n",
       "</table>\n",
       "</div>"
      ],
      "text/plain": [
       "   Année              Discipline_prédi\n",
       "2   1993                      Médecine\n",
       "5   2008  Droit et Sciences Politiques\n",
       "6   2005  Droit et Sciences Politiques"
      ]
     },
     "execution_count": 172,
     "metadata": {},
     "output_type": "execute_result"
    }
   ],
   "source": [
    "# Affichage des premières lignes de 'discipline_85_18' :\n",
    "discipline_85_18.head(3)"
   ]
  },
  {
   "cell_type": "code",
   "execution_count": 173,
   "metadata": {},
   "outputs": [
    {
     "data": {
      "text/html": [
       "<div>\n",
       "<style scoped>\n",
       "    .dataframe tbody tr th:only-of-type {\n",
       "        vertical-align: middle;\n",
       "    }\n",
       "\n",
       "    .dataframe tbody tr th {\n",
       "        vertical-align: top;\n",
       "    }\n",
       "\n",
       "    .dataframe thead th {\n",
       "        text-align: right;\n",
       "    }\n",
       "</style>\n",
       "<table border=\"1\" class=\"dataframe\">\n",
       "  <thead>\n",
       "    <tr style=\"text-align: right;\">\n",
       "      <th></th>\n",
       "      <th>Année</th>\n",
       "      <th>Discipline_prédi</th>\n",
       "      <th>Nombre_de_soutenances</th>\n",
       "    </tr>\n",
       "  </thead>\n",
       "  <tbody>\n",
       "    <tr>\n",
       "      <th>0</th>\n",
       "      <td>1985</td>\n",
       "      <td>Biologie</td>\n",
       "      <td>695</td>\n",
       "    </tr>\n",
       "    <tr>\n",
       "      <th>1</th>\n",
       "      <td>1985</td>\n",
       "      <td>Droit et Sciences Politiques</td>\n",
       "      <td>168</td>\n",
       "    </tr>\n",
       "    <tr>\n",
       "      <th>2</th>\n",
       "      <td>1985</td>\n",
       "      <td>Economie et Gestion</td>\n",
       "      <td>220</td>\n",
       "    </tr>\n",
       "  </tbody>\n",
       "</table>\n",
       "</div>"
      ],
      "text/plain": [
       "   Année              Discipline_prédi  Nombre_de_soutenances\n",
       "0   1985                      Biologie                    695\n",
       "1   1985  Droit et Sciences Politiques                    168\n",
       "2   1985           Economie et Gestion                    220"
      ]
     },
     "execution_count": 173,
     "metadata": {},
     "output_type": "execute_result"
    }
   ],
   "source": [
    "# Comptabilisation des soutenances par année et par discipline :\n",
    "discipline_count = discipline_85_18.groupby(['Année', 'Discipline_prédi']).size().reset_index(name = 'Nombre_de_soutenances')\n",
    "discipline_count.head(3)"
   ]
  },
  {
   "cell_type": "code",
   "execution_count": 174,
   "metadata": {},
   "outputs": [
    {
     "data": {
      "text/html": [
       "<div>\n",
       "<style scoped>\n",
       "    .dataframe tbody tr th:only-of-type {\n",
       "        vertical-align: middle;\n",
       "    }\n",
       "\n",
       "    .dataframe tbody tr th {\n",
       "        vertical-align: top;\n",
       "    }\n",
       "\n",
       "    .dataframe thead th {\n",
       "        text-align: right;\n",
       "    }\n",
       "</style>\n",
       "<table border=\"1\" class=\"dataframe\">\n",
       "  <thead>\n",
       "    <tr style=\"text-align: right;\">\n",
       "      <th></th>\n",
       "      <th>Année</th>\n",
       "      <th>Type de discipline</th>\n",
       "      <th>Nombre de soutenances</th>\n",
       "    </tr>\n",
       "  </thead>\n",
       "  <tbody>\n",
       "    <tr>\n",
       "      <th>0</th>\n",
       "      <td>1985</td>\n",
       "      <td>Biologie</td>\n",
       "      <td>695</td>\n",
       "    </tr>\n",
       "    <tr>\n",
       "      <th>1</th>\n",
       "      <td>1985</td>\n",
       "      <td>Droit et Sciences Politiques</td>\n",
       "      <td>168</td>\n",
       "    </tr>\n",
       "    <tr>\n",
       "      <th>2</th>\n",
       "      <td>1985</td>\n",
       "      <td>Economie et Gestion</td>\n",
       "      <td>220</td>\n",
       "    </tr>\n",
       "  </tbody>\n",
       "</table>\n",
       "</div>"
      ],
      "text/plain": [
       "   Année            Type de discipline  Nombre de soutenances\n",
       "0   1985                      Biologie                    695\n",
       "1   1985  Droit et Sciences Politiques                    168\n",
       "2   1985           Economie et Gestion                    220"
      ]
     },
     "execution_count": 174,
     "metadata": {},
     "output_type": "execute_result"
    }
   ],
   "source": [
    "# Ajustement des titres de colonnes :\n",
    "discipline_count.columns = ['Année', 'Type de discipline', 'Nombre de soutenances']\n",
    "discipline_count.head(3)"
   ]
  },
  {
   "cell_type": "code",
   "execution_count": 175,
   "metadata": {},
   "outputs": [
    {
     "name": "stdout",
     "output_type": "stream",
     "text": [
      "La valeur maximale prise par la variable 'Nombre de soutenances' est 3926.\n"
     ]
    }
   ],
   "source": [
    "# Calcul de la valeur maximale de la colonne 'Nombre de soutenances' :\n",
    "valeur_max_1 = discipline_count['Nombre de soutenances'].max()\n",
    "print(f\"La valeur maximale prise par la variable 'Nombre de soutenances' est {valeur_max_1}.\")"
   ]
  },
  {
   "cell_type": "code",
   "execution_count": 176,
   "metadata": {},
   "outputs": [
    {
     "data": {
      "application/vnd.plotly.v1+json": {
       "config": {
        "plotlyServerURL": "https://plot.ly"
       },
       "data": [
        {
         "alignmentgroup": "True",
         "hovertemplate": "Année=1985<br>Type de discipline=%{x}<br>Nombre de soutenances=%{y}<extra></extra>",
         "legendgroup": "",
         "marker": {
          "color": "#636efa",
          "pattern": {
           "shape": ""
          }
         },
         "name": "",
         "offsetgroup": "",
         "orientation": "v",
         "showlegend": false,
         "textposition": "auto",
         "type": "bar",
         "x": [
          "Biologie",
          "Droit et Sciences Politiques",
          "Economie et Gestion",
          "Informatique",
          "Langues et Littérature",
          "Mathématiques",
          "Mathématiques et Informatique",
          "Matériaux, Milieux et Chimie",
          "Médecine",
          "Psychologie",
          "Sciences Humaines et Sociales",
          "Sciences de l'Education",
          "Sciences de l'Ingénieur",
          "Sciences de la Terre"
         ],
         "xaxis": "x",
         "y": [
          695,
          168,
          220,
          45,
          268,
          120,
          2,
          331,
          434,
          94,
          380,
          5,
          136,
          109
         ],
         "yaxis": "y"
        }
       ],
       "frames": [
        {
         "data": [
          {
           "alignmentgroup": "True",
           "hovertemplate": "Année=1985<br>Type de discipline=%{x}<br>Nombre de soutenances=%{y}<extra></extra>",
           "legendgroup": "",
           "marker": {
            "color": "#636efa",
            "pattern": {
             "shape": ""
            }
           },
           "name": "",
           "offsetgroup": "",
           "orientation": "v",
           "showlegend": false,
           "textposition": "auto",
           "type": "bar",
           "x": [
            "Biologie",
            "Droit et Sciences Politiques",
            "Economie et Gestion",
            "Informatique",
            "Langues et Littérature",
            "Mathématiques",
            "Mathématiques et Informatique",
            "Matériaux, Milieux et Chimie",
            "Médecine",
            "Psychologie",
            "Sciences Humaines et Sociales",
            "Sciences de l'Education",
            "Sciences de l'Ingénieur",
            "Sciences de la Terre"
           ],
           "xaxis": "x",
           "y": [
            695,
            168,
            220,
            45,
            268,
            120,
            2,
            331,
            434,
            94,
            380,
            5,
            136,
            109
           ],
           "yaxis": "y"
          }
         ],
         "name": "1985"
        },
        {
         "data": [
          {
           "alignmentgroup": "True",
           "hovertemplate": "Année=1986<br>Type de discipline=%{x}<br>Nombre de soutenances=%{y}<extra></extra>",
           "legendgroup": "",
           "marker": {
            "color": "#636efa",
            "pattern": {
             "shape": ""
            }
           },
           "name": "",
           "offsetgroup": "",
           "orientation": "v",
           "showlegend": false,
           "textposition": "auto",
           "type": "bar",
           "x": [
            "Biologie",
            "Droit et Sciences Politiques",
            "Economie et Gestion",
            "Informatique",
            "Langues et Littérature",
            "Mathématiques",
            "Mathématiques et Informatique",
            "Matériaux, Milieux et Chimie",
            "Médecine",
            "Psychologie",
            "Sciences Humaines et Sociales",
            "Sciences de l'Education",
            "Sciences de l'Ingénieur",
            "Sciences de la Terre"
           ],
           "xaxis": "x",
           "y": [
            967,
            400,
            390,
            69,
            415,
            331,
            1,
            635,
            364,
            239,
            863,
            1,
            244,
            243
           ],
           "yaxis": "y"
          }
         ],
         "name": "1986"
        },
        {
         "data": [
          {
           "alignmentgroup": "True",
           "hovertemplate": "Année=1987<br>Type de discipline=%{x}<br>Nombre de soutenances=%{y}<extra></extra>",
           "legendgroup": "",
           "marker": {
            "color": "#636efa",
            "pattern": {
             "shape": ""
            }
           },
           "name": "",
           "offsetgroup": "",
           "orientation": "v",
           "showlegend": false,
           "textposition": "auto",
           "type": "bar",
           "x": [
            "Biologie",
            "Droit et Sciences Politiques",
            "Economie et Gestion",
            "Informatique",
            "Langues et Littérature",
            "Mathématiques",
            "Mathématiques et Informatique",
            "Matériaux, Milieux et Chimie",
            "Médecine",
            "Psychologie",
            "Sciences Humaines et Sociales",
            "Sciences de l'Education",
            "Sciences de l'Ingénieur",
            "Sciences de la Terre"
           ],
           "xaxis": "x",
           "y": [
            1716,
            413,
            413,
            101,
            646,
            766,
            8,
            1359,
            225,
            726,
            1069,
            3,
            367,
            626
           ],
           "yaxis": "y"
          }
         ],
         "name": "1987"
        },
        {
         "data": [
          {
           "alignmentgroup": "True",
           "hovertemplate": "Année=1988<br>Type de discipline=%{x}<br>Nombre de soutenances=%{y}<extra></extra>",
           "legendgroup": "",
           "marker": {
            "color": "#636efa",
            "pattern": {
             "shape": ""
            }
           },
           "name": "",
           "offsetgroup": "",
           "orientation": "v",
           "showlegend": false,
           "textposition": "auto",
           "type": "bar",
           "x": [
            "Biologie",
            "Droit et Sciences Politiques",
            "Economie et Gestion",
            "Informatique",
            "Langues et Littérature",
            "Mathématiques",
            "Mathématiques et Informatique",
            "Matériaux, Milieux et Chimie",
            "Médecine",
            "Psychologie",
            "Sciences Humaines et Sociales",
            "Sciences de l'Education",
            "Sciences de l'Ingénieur",
            "Sciences de la Terre"
           ],
           "xaxis": "x",
           "y": [
            1815,
            374,
            332,
            121,
            457,
            610,
            12,
            1233,
            3736,
            688,
            868,
            6,
            340,
            453
           ],
           "yaxis": "y"
          }
         ],
         "name": "1988"
        },
        {
         "data": [
          {
           "alignmentgroup": "True",
           "hovertemplate": "Année=1989<br>Type de discipline=%{x}<br>Nombre de soutenances=%{y}<extra></extra>",
           "legendgroup": "",
           "marker": {
            "color": "#636efa",
            "pattern": {
             "shape": ""
            }
           },
           "name": "",
           "offsetgroup": "",
           "orientation": "v",
           "showlegend": false,
           "textposition": "auto",
           "type": "bar",
           "x": [
            "Biologie",
            "Droit et Sciences Politiques",
            "Economie et Gestion",
            "Informatique",
            "Langues et Littérature",
            "Mathématiques",
            "Mathématiques et Informatique",
            "Matériaux, Milieux et Chimie",
            "Médecine",
            "Psychologie",
            "Sciences Humaines et Sociales",
            "Sciences de l'Education",
            "Sciences de l'Ingénieur",
            "Sciences de la Terre"
           ],
           "xaxis": "x",
           "y": [
            1649,
            378,
            281,
            144,
            415,
            723,
            10,
            1405,
            3926,
            647,
            701,
            6,
            399,
            415
           ],
           "yaxis": "y"
          }
         ],
         "name": "1989"
        },
        {
         "data": [
          {
           "alignmentgroup": "True",
           "hovertemplate": "Année=1990<br>Type de discipline=%{x}<br>Nombre de soutenances=%{y}<extra></extra>",
           "legendgroup": "",
           "marker": {
            "color": "#636efa",
            "pattern": {
             "shape": ""
            }
           },
           "name": "",
           "offsetgroup": "",
           "orientation": "v",
           "showlegend": false,
           "textposition": "auto",
           "type": "bar",
           "x": [
            "Biologie",
            "Droit et Sciences Politiques",
            "Economie et Gestion",
            "Informatique",
            "Langues et Littérature",
            "Mathématiques",
            "Mathématiques et Informatique",
            "Matériaux, Milieux et Chimie",
            "Médecine",
            "Psychologie",
            "Sciences Humaines et Sociales",
            "Sciences de l'Education",
            "Sciences de l'Ingénieur",
            "Sciences de la Terre"
           ],
           "xaxis": "x",
           "y": [
            1750,
            370,
            239,
            176,
            457,
            761,
            3,
            1409,
            3581,
            662,
            657,
            6,
            516,
            423
           ],
           "yaxis": "y"
          }
         ],
         "name": "1990"
        },
        {
         "data": [
          {
           "alignmentgroup": "True",
           "hovertemplate": "Année=1991<br>Type de discipline=%{x}<br>Nombre de soutenances=%{y}<extra></extra>",
           "legendgroup": "",
           "marker": {
            "color": "#636efa",
            "pattern": {
             "shape": ""
            }
           },
           "name": "",
           "offsetgroup": "",
           "orientation": "v",
           "showlegend": false,
           "textposition": "auto",
           "type": "bar",
           "x": [
            "Biologie",
            "Droit et Sciences Politiques",
            "Economie et Gestion",
            "Informatique",
            "Langues et Littérature",
            "Mathématiques",
            "Mathématiques et Informatique",
            "Matériaux, Milieux et Chimie",
            "Médecine",
            "Psychologie",
            "Sciences Humaines et Sociales",
            "Sciences de l'Education",
            "Sciences de l'Ingénieur",
            "Sciences de la Terre"
           ],
           "xaxis": "x",
           "y": [
            1719,
            384,
            293,
            130,
            463,
            845,
            6,
            1522,
            3050,
            746,
            761,
            7,
            513,
            392
           ],
           "yaxis": "y"
          }
         ],
         "name": "1991"
        },
        {
         "data": [
          {
           "alignmentgroup": "True",
           "hovertemplate": "Année=1992<br>Type de discipline=%{x}<br>Nombre de soutenances=%{y}<extra></extra>",
           "legendgroup": "",
           "marker": {
            "color": "#636efa",
            "pattern": {
             "shape": ""
            }
           },
           "name": "",
           "offsetgroup": "",
           "orientation": "v",
           "showlegend": false,
           "textposition": "auto",
           "type": "bar",
           "x": [
            "Biologie",
            "Droit et Sciences Politiques",
            "Economie et Gestion",
            "Informatique",
            "Langues et Littérature",
            "Mathématiques",
            "Mathématiques et Informatique",
            "Matériaux, Milieux et Chimie",
            "Médecine",
            "Psychologie",
            "Sciences Humaines et Sociales",
            "Sciences de l'Education",
            "Sciences de l'Ingénieur",
            "Sciences de la Terre"
           ],
           "xaxis": "x",
           "y": [
            1975,
            381,
            365,
            195,
            525,
            913,
            6,
            1724,
            3323,
            830,
            809,
            10,
            598,
            411
           ],
           "yaxis": "y"
          }
         ],
         "name": "1992"
        },
        {
         "data": [
          {
           "alignmentgroup": "True",
           "hovertemplate": "Année=1993<br>Type de discipline=%{x}<br>Nombre de soutenances=%{y}<extra></extra>",
           "legendgroup": "",
           "marker": {
            "color": "#636efa",
            "pattern": {
             "shape": ""
            }
           },
           "name": "",
           "offsetgroup": "",
           "orientation": "v",
           "showlegend": false,
           "textposition": "auto",
           "type": "bar",
           "x": [
            "Biologie",
            "Droit et Sciences Politiques",
            "Economie et Gestion",
            "Informatique",
            "Langues et Littérature",
            "Mathématiques",
            "Mathématiques et Informatique",
            "Matériaux, Milieux et Chimie",
            "Médecine",
            "Psychologie",
            "Sciences Humaines et Sociales",
            "Sciences de l'Education",
            "Sciences de l'Ingénieur",
            "Sciences de la Terre"
           ],
           "xaxis": "x",
           "y": [
            2048,
            435,
            370,
            197,
            564,
            971,
            7,
            1762,
            3061,
            883,
            976,
            19,
            614,
            400
           ],
           "yaxis": "y"
          }
         ],
         "name": "1993"
        },
        {
         "data": [
          {
           "alignmentgroup": "True",
           "hovertemplate": "Année=1994<br>Type de discipline=%{x}<br>Nombre de soutenances=%{y}<extra></extra>",
           "legendgroup": "",
           "marker": {
            "color": "#636efa",
            "pattern": {
             "shape": ""
            }
           },
           "name": "",
           "offsetgroup": "",
           "orientation": "v",
           "showlegend": false,
           "textposition": "auto",
           "type": "bar",
           "x": [
            "Biologie",
            "Droit et Sciences Politiques",
            "Economie et Gestion",
            "Informatique",
            "Langues et Littérature",
            "Mathématiques",
            "Mathématiques et Informatique",
            "Matériaux, Milieux et Chimie",
            "Médecine",
            "Psychologie",
            "Sciences Humaines et Sociales",
            "Sciences de l'Education",
            "Sciences de l'Ingénieur",
            "Sciences de la Terre"
           ],
           "xaxis": "x",
           "y": [
            2147,
            531,
            420,
            214,
            703,
            1054,
            6,
            1853,
            2867,
            888,
            1128,
            30,
            729,
            418
           ],
           "yaxis": "y"
          }
         ],
         "name": "1994"
        },
        {
         "data": [
          {
           "alignmentgroup": "True",
           "hovertemplate": "Année=1995<br>Type de discipline=%{x}<br>Nombre de soutenances=%{y}<extra></extra>",
           "legendgroup": "",
           "marker": {
            "color": "#636efa",
            "pattern": {
             "shape": ""
            }
           },
           "name": "",
           "offsetgroup": "",
           "orientation": "v",
           "showlegend": false,
           "textposition": "auto",
           "type": "bar",
           "x": [
            "Biologie",
            "Droit et Sciences Politiques",
            "Economie et Gestion",
            "Informatique",
            "Langues et Littérature",
            "Mathématiques",
            "Mathématiques et Informatique",
            "Matériaux, Milieux et Chimie",
            "Médecine",
            "Psychologie",
            "Sciences Humaines et Sociales",
            "Sciences de l'Education",
            "Sciences de l'Ingénieur",
            "Sciences de la Terre"
           ],
           "xaxis": "x",
           "y": [
            2139,
            492,
            374,
            231,
            695,
            996,
            5,
            1818,
            765,
            874,
            1000,
            20,
            706,
            451
           ],
           "yaxis": "y"
          }
         ],
         "name": "1995"
        },
        {
         "data": [
          {
           "alignmentgroup": "True",
           "hovertemplate": "Année=1996<br>Type de discipline=%{x}<br>Nombre de soutenances=%{y}<extra></extra>",
           "legendgroup": "",
           "marker": {
            "color": "#636efa",
            "pattern": {
             "shape": ""
            }
           },
           "name": "",
           "offsetgroup": "",
           "orientation": "v",
           "showlegend": false,
           "textposition": "auto",
           "type": "bar",
           "x": [
            "Biologie",
            "Droit et Sciences Politiques",
            "Economie et Gestion",
            "Informatique",
            "Langues et Littérature",
            "Mathématiques",
            "Mathématiques et Informatique",
            "Matériaux, Milieux et Chimie",
            "Médecine",
            "Psychologie",
            "Sciences Humaines et Sociales",
            "Sciences de l'Education",
            "Sciences de l'Ingénieur",
            "Sciences de la Terre"
           ],
           "xaxis": "x",
           "y": [
            2113,
            575,
            451,
            253,
            709,
            1117,
            14,
            2043,
            673,
            925,
            1122,
            7,
            851,
            497
           ],
           "yaxis": "y"
          }
         ],
         "name": "1996"
        },
        {
         "data": [
          {
           "alignmentgroup": "True",
           "hovertemplate": "Année=1997<br>Type de discipline=%{x}<br>Nombre de soutenances=%{y}<extra></extra>",
           "legendgroup": "",
           "marker": {
            "color": "#636efa",
            "pattern": {
             "shape": ""
            }
           },
           "name": "",
           "offsetgroup": "",
           "orientation": "v",
           "showlegend": false,
           "textposition": "auto",
           "type": "bar",
           "x": [
            "Biologie",
            "Droit et Sciences Politiques",
            "Economie et Gestion",
            "Informatique",
            "Langues et Littérature",
            "Mathématiques",
            "Mathématiques et Informatique",
            "Matériaux, Milieux et Chimie",
            "Médecine",
            "Psychologie",
            "Sciences Humaines et Sociales",
            "Sciences de l'Education",
            "Sciences de l'Ingénieur",
            "Sciences de la Terre"
           ],
           "xaxis": "x",
           "y": [
            2425,
            595,
            565,
            275,
            686,
            973,
            5,
            2014,
            654,
            951,
            1204,
            12,
            772,
            532
           ],
           "yaxis": "y"
          }
         ],
         "name": "1997"
        },
        {
         "data": [
          {
           "alignmentgroup": "True",
           "hovertemplate": "Année=1998<br>Type de discipline=%{x}<br>Nombre de soutenances=%{y}<extra></extra>",
           "legendgroup": "",
           "marker": {
            "color": "#636efa",
            "pattern": {
             "shape": ""
            }
           },
           "name": "",
           "offsetgroup": "",
           "orientation": "v",
           "showlegend": false,
           "textposition": "auto",
           "type": "bar",
           "x": [
            "Biologie",
            "Droit et Sciences Politiques",
            "Economie et Gestion",
            "Informatique",
            "Langues et Littérature",
            "Mathématiques",
            "Mathématiques et Informatique",
            "Matériaux, Milieux et Chimie",
            "Médecine",
            "Psychologie",
            "Sciences Humaines et Sociales",
            "Sciences de l'Education",
            "Sciences de l'Ingénieur",
            "Sciences de la Terre"
           ],
           "xaxis": "x",
           "y": [
            2589,
            659,
            503,
            218,
            583,
            736,
            6,
            1898,
            557,
            995,
            1139,
            15,
            710,
            408
           ],
           "yaxis": "y"
          }
         ],
         "name": "1998"
        },
        {
         "data": [
          {
           "alignmentgroup": "True",
           "hovertemplate": "Année=1999<br>Type de discipline=%{x}<br>Nombre de soutenances=%{y}<extra></extra>",
           "legendgroup": "",
           "marker": {
            "color": "#636efa",
            "pattern": {
             "shape": ""
            }
           },
           "name": "",
           "offsetgroup": "",
           "orientation": "v",
           "showlegend": false,
           "textposition": "auto",
           "type": "bar",
           "x": [
            "Biologie",
            "Droit et Sciences Politiques",
            "Economie et Gestion",
            "Informatique",
            "Langues et Littérature",
            "Mathématiques",
            "Mathématiques et Informatique",
            "Matériaux, Milieux et Chimie",
            "Médecine",
            "Psychologie",
            "Sciences Humaines et Sociales",
            "Sciences de l'Education",
            "Sciences de l'Ingénieur",
            "Sciences de la Terre"
           ],
           "xaxis": "x",
           "y": [
            3326,
            700,
            480,
            218,
            666,
            305,
            8,
            1796,
            571,
            692,
            1224,
            10,
            648,
            334
           ],
           "yaxis": "y"
          }
         ],
         "name": "1999"
        },
        {
         "data": [
          {
           "alignmentgroup": "True",
           "hovertemplate": "Année=2000<br>Type de discipline=%{x}<br>Nombre de soutenances=%{y}<extra></extra>",
           "legendgroup": "",
           "marker": {
            "color": "#636efa",
            "pattern": {
             "shape": ""
            }
           },
           "name": "",
           "offsetgroup": "",
           "orientation": "v",
           "showlegend": false,
           "textposition": "auto",
           "type": "bar",
           "x": [
            "Biologie",
            "Droit et Sciences Politiques",
            "Economie et Gestion",
            "Informatique",
            "Langues et Littérature",
            "Mathématiques",
            "Mathématiques et Informatique",
            "Matériaux, Milieux et Chimie",
            "Médecine",
            "Psychologie",
            "Sciences Humaines et Sociales",
            "Sciences de l'Education",
            "Sciences de l'Ingénieur",
            "Sciences de la Terre"
           ],
           "xaxis": "x",
           "y": [
            3260,
            865,
            627,
            250,
            710,
            256,
            9,
            1757,
            520,
            251,
            1418,
            16,
            612,
            302
           ],
           "yaxis": "y"
          }
         ],
         "name": "2000"
        },
        {
         "data": [
          {
           "alignmentgroup": "True",
           "hovertemplate": "Année=2001<br>Type de discipline=%{x}<br>Nombre de soutenances=%{y}<extra></extra>",
           "legendgroup": "",
           "marker": {
            "color": "#636efa",
            "pattern": {
             "shape": ""
            }
           },
           "name": "",
           "offsetgroup": "",
           "orientation": "v",
           "showlegend": false,
           "textposition": "auto",
           "type": "bar",
           "x": [
            "Biologie",
            "Droit et Sciences Politiques",
            "Economie et Gestion",
            "Informatique",
            "Langues et Littérature",
            "Mathématiques",
            "Mathématiques et Informatique",
            "Matériaux, Milieux et Chimie",
            "Médecine",
            "Psychologie",
            "Sciences Humaines et Sociales",
            "Sciences de l'Education",
            "Sciences de l'Ingénieur",
            "Sciences de la Terre"
           ],
           "xaxis": "x",
           "y": [
            2703,
            699,
            515,
            303,
            628,
            296,
            32,
            1741,
            209,
            152,
            1142,
            18,
            689,
            339
           ],
           "yaxis": "y"
          }
         ],
         "name": "2001"
        },
        {
         "data": [
          {
           "alignmentgroup": "True",
           "hovertemplate": "Année=2002<br>Type de discipline=%{x}<br>Nombre de soutenances=%{y}<extra></extra>",
           "legendgroup": "",
           "marker": {
            "color": "#636efa",
            "pattern": {
             "shape": ""
            }
           },
           "name": "",
           "offsetgroup": "",
           "orientation": "v",
           "showlegend": false,
           "textposition": "auto",
           "type": "bar",
           "x": [
            "Biologie",
            "Droit et Sciences Politiques",
            "Economie et Gestion",
            "Informatique",
            "Langues et Littérature",
            "Mathématiques",
            "Mathématiques et Informatique",
            "Matériaux, Milieux et Chimie",
            "Médecine",
            "Psychologie",
            "Sciences Humaines et Sociales",
            "Sciences de l'Education",
            "Sciences de l'Ingénieur",
            "Sciences de la Terre"
           ],
           "xaxis": "x",
           "y": [
            2394,
            715,
            453,
            354,
            672,
            281,
            50,
            1779,
            102,
            173,
            1177,
            23,
            837,
            385
           ],
           "yaxis": "y"
          }
         ],
         "name": "2002"
        },
        {
         "data": [
          {
           "alignmentgroup": "True",
           "hovertemplate": "Année=2003<br>Type de discipline=%{x}<br>Nombre de soutenances=%{y}<extra></extra>",
           "legendgroup": "",
           "marker": {
            "color": "#636efa",
            "pattern": {
             "shape": ""
            }
           },
           "name": "",
           "offsetgroup": "",
           "orientation": "v",
           "showlegend": false,
           "textposition": "auto",
           "type": "bar",
           "x": [
            "Biologie",
            "Droit et Sciences Politiques",
            "Economie et Gestion",
            "Informatique",
            "Langues et Littérature",
            "Mathématiques",
            "Mathématiques et Informatique",
            "Matériaux, Milieux et Chimie",
            "Médecine",
            "Psychologie",
            "Sciences Humaines et Sociales",
            "Sciences de l'Education",
            "Sciences de l'Ingénieur",
            "Sciences de la Terre"
           ],
           "xaxis": "x",
           "y": [
            2554,
            699,
            485,
            403,
            713,
            307,
            27,
            1772,
            83,
            168,
            1354,
            22,
            883,
            385
           ],
           "yaxis": "y"
          }
         ],
         "name": "2003"
        },
        {
         "data": [
          {
           "alignmentgroup": "True",
           "hovertemplate": "Année=2004<br>Type de discipline=%{x}<br>Nombre de soutenances=%{y}<extra></extra>",
           "legendgroup": "",
           "marker": {
            "color": "#636efa",
            "pattern": {
             "shape": ""
            }
           },
           "name": "",
           "offsetgroup": "",
           "orientation": "v",
           "showlegend": false,
           "textposition": "auto",
           "type": "bar",
           "x": [
            "Biologie",
            "Droit et Sciences Politiques",
            "Economie et Gestion",
            "Informatique",
            "Langues et Littérature",
            "Mathématiques",
            "Mathématiques et Informatique",
            "Matériaux, Milieux et Chimie",
            "Médecine",
            "Psychologie",
            "Sciences Humaines et Sociales",
            "Sciences de l'Education",
            "Sciences de l'Ingénieur",
            "Sciences de la Terre"
           ],
           "xaxis": "x",
           "y": [
            2599,
            792,
            493,
            467,
            683,
            309,
            39,
            1906,
            119,
            199,
            1368,
            30,
            881,
            363
           ],
           "yaxis": "y"
          }
         ],
         "name": "2004"
        },
        {
         "data": [
          {
           "alignmentgroup": "True",
           "hovertemplate": "Année=2005<br>Type de discipline=%{x}<br>Nombre de soutenances=%{y}<extra></extra>",
           "legendgroup": "",
           "marker": {
            "color": "#636efa",
            "pattern": {
             "shape": ""
            }
           },
           "name": "",
           "offsetgroup": "",
           "orientation": "v",
           "showlegend": false,
           "textposition": "auto",
           "type": "bar",
           "x": [
            "Biologie",
            "Droit et Sciences Politiques",
            "Economie et Gestion",
            "Informatique",
            "Langues et Littérature",
            "Mathématiques",
            "Mathématiques et Informatique",
            "Matériaux, Milieux et Chimie",
            "Médecine",
            "Psychologie",
            "Sciences Humaines et Sociales",
            "Sciences de l'Education",
            "Sciences de l'Ingénieur",
            "Sciences de la Terre"
           ],
           "xaxis": "x",
           "y": [
            2602,
            727,
            506,
            547,
            619,
            343,
            69,
            2035,
            98,
            159,
            1374,
            30,
            1006,
            442
           ],
           "yaxis": "y"
          }
         ],
         "name": "2005"
        },
        {
         "data": [
          {
           "alignmentgroup": "True",
           "hovertemplate": "Année=2006<br>Type de discipline=%{x}<br>Nombre de soutenances=%{y}<extra></extra>",
           "legendgroup": "",
           "marker": {
            "color": "#636efa",
            "pattern": {
             "shape": ""
            }
           },
           "name": "",
           "offsetgroup": "",
           "orientation": "v",
           "showlegend": false,
           "textposition": "auto",
           "type": "bar",
           "x": [
            "Biologie",
            "Droit et Sciences Politiques",
            "Economie et Gestion",
            "Informatique",
            "Langues et Littérature",
            "Mathématiques",
            "Mathématiques et Informatique",
            "Matériaux, Milieux et Chimie",
            "Médecine",
            "Psychologie",
            "Sciences Humaines et Sociales",
            "Sciences de l'Education",
            "Sciences de l'Ingénieur",
            "Sciences de la Terre"
           ],
           "xaxis": "x",
           "y": [
            2804,
            743,
            537,
            561,
            679,
            355,
            45,
            2023,
            84,
            176,
            1452,
            36,
            1047,
            432
           ],
           "yaxis": "y"
          }
         ],
         "name": "2006"
        },
        {
         "data": [
          {
           "alignmentgroup": "True",
           "hovertemplate": "Année=2007<br>Type de discipline=%{x}<br>Nombre de soutenances=%{y}<extra></extra>",
           "legendgroup": "",
           "marker": {
            "color": "#636efa",
            "pattern": {
             "shape": ""
            }
           },
           "name": "",
           "offsetgroup": "",
           "orientation": "v",
           "showlegend": false,
           "textposition": "auto",
           "type": "bar",
           "x": [
            "Biologie",
            "Droit et Sciences Politiques",
            "Economie et Gestion",
            "Informatique",
            "Langues et Littérature",
            "Mathématiques",
            "Mathématiques et Informatique",
            "Matériaux, Milieux et Chimie",
            "Médecine",
            "Psychologie",
            "Sciences Humaines et Sociales",
            "Sciences de l'Education",
            "Sciences de l'Ingénieur",
            "Sciences de la Terre"
           ],
           "xaxis": "x",
           "y": [
            3056,
            745,
            631,
            565,
            716,
            341,
            63,
            2224,
            105,
            191,
            1513,
            33,
            1081,
            429
           ],
           "yaxis": "y"
          }
         ],
         "name": "2007"
        },
        {
         "data": [
          {
           "alignmentgroup": "True",
           "hovertemplate": "Année=2008<br>Type de discipline=%{x}<br>Nombre de soutenances=%{y}<extra></extra>",
           "legendgroup": "",
           "marker": {
            "color": "#636efa",
            "pattern": {
             "shape": ""
            }
           },
           "name": "",
           "offsetgroup": "",
           "orientation": "v",
           "showlegend": false,
           "textposition": "auto",
           "type": "bar",
           "x": [
            "Biologie",
            "Droit et Sciences Politiques",
            "Economie et Gestion",
            "Informatique",
            "Langues et Littérature",
            "Mathématiques",
            "Mathématiques et Informatique",
            "Matériaux, Milieux et Chimie",
            "Médecine",
            "Psychologie",
            "Sciences Humaines et Sociales",
            "Sciences de l'Education",
            "Sciences de l'Ingénieur",
            "Sciences de la Terre"
           ],
           "xaxis": "x",
           "y": [
            3036,
            761,
            655,
            625,
            703,
            336,
            46,
            2228,
            105,
            220,
            1515,
            38,
            1118,
            465
           ],
           "yaxis": "y"
          }
         ],
         "name": "2008"
        },
        {
         "data": [
          {
           "alignmentgroup": "True",
           "hovertemplate": "Année=2009<br>Type de discipline=%{x}<br>Nombre de soutenances=%{y}<extra></extra>",
           "legendgroup": "",
           "marker": {
            "color": "#636efa",
            "pattern": {
             "shape": ""
            }
           },
           "name": "",
           "offsetgroup": "",
           "orientation": "v",
           "showlegend": false,
           "textposition": "auto",
           "type": "bar",
           "x": [
            "Biologie",
            "Droit et Sciences Politiques",
            "Economie et Gestion",
            "Informatique",
            "Langues et Littérature",
            "Mathématiques",
            "Mathématiques et Informatique",
            "Matériaux, Milieux et Chimie",
            "Médecine",
            "Psychologie",
            "Sciences Humaines et Sociales",
            "Sciences de l'Education",
            "Sciences de l'Ingénieur",
            "Sciences de la Terre"
           ],
           "xaxis": "x",
           "y": [
            3151,
            744,
            689,
            624,
            711,
            352,
            21,
            2203,
            98,
            216,
            1562,
            39,
            1167,
            458
           ],
           "yaxis": "y"
          }
         ],
         "name": "2009"
        },
        {
         "data": [
          {
           "alignmentgroup": "True",
           "hovertemplate": "Année=2010<br>Type de discipline=%{x}<br>Nombre de soutenances=%{y}<extra></extra>",
           "legendgroup": "",
           "marker": {
            "color": "#636efa",
            "pattern": {
             "shape": ""
            }
           },
           "name": "",
           "offsetgroup": "",
           "orientation": "v",
           "showlegend": false,
           "textposition": "auto",
           "type": "bar",
           "x": [
            "Biologie",
            "Droit et Sciences Politiques",
            "Economie et Gestion",
            "Informatique",
            "Langues et Littérature",
            "Mathématiques",
            "Mathématiques et Informatique",
            "Matériaux, Milieux et Chimie",
            "Médecine",
            "Psychologie",
            "Sciences Humaines et Sociales",
            "Sciences de l'Education",
            "Sciences de l'Ingénieur",
            "Sciences de la Terre"
           ],
           "xaxis": "x",
           "y": [
            3179,
            821,
            753,
            717,
            697,
            399,
            27,
            2288,
            111,
            227,
            1664,
            30,
            1139,
            455
           ],
           "yaxis": "y"
          }
         ],
         "name": "2010"
        },
        {
         "data": [
          {
           "alignmentgroup": "True",
           "hovertemplate": "Année=2011<br>Type de discipline=%{x}<br>Nombre de soutenances=%{y}<extra></extra>",
           "legendgroup": "",
           "marker": {
            "color": "#636efa",
            "pattern": {
             "shape": ""
            }
           },
           "name": "",
           "offsetgroup": "",
           "orientation": "v",
           "showlegend": false,
           "textposition": "auto",
           "type": "bar",
           "x": [
            "Biologie",
            "Droit et Sciences Politiques",
            "Economie et Gestion",
            "Informatique",
            "Langues et Littérature",
            "Mathématiques",
            "Mathématiques et Informatique",
            "Matériaux, Milieux et Chimie",
            "Médecine",
            "Psychologie",
            "Sciences Humaines et Sociales",
            "Sciences de l'Education",
            "Sciences de l'Ingénieur",
            "Sciences de la Terre"
           ],
           "xaxis": "x",
           "y": [
            3094,
            850,
            806,
            752,
            769,
            433,
            10,
            2371,
            124,
            308,
            1775,
            40,
            1328,
            454
           ],
           "yaxis": "y"
          }
         ],
         "name": "2011"
        },
        {
         "data": [
          {
           "alignmentgroup": "True",
           "hovertemplate": "Année=2012<br>Type de discipline=%{x}<br>Nombre de soutenances=%{y}<extra></extra>",
           "legendgroup": "",
           "marker": {
            "color": "#636efa",
            "pattern": {
             "shape": ""
            }
           },
           "name": "",
           "offsetgroup": "",
           "orientation": "v",
           "showlegend": false,
           "textposition": "auto",
           "type": "bar",
           "x": [
            "Biologie",
            "Droit et Sciences Politiques",
            "Economie et Gestion",
            "Informatique",
            "Langues et Littérature",
            "Mathématiques",
            "Mathématiques et Informatique",
            "Matériaux, Milieux et Chimie",
            "Médecine",
            "Psychologie",
            "Sciences Humaines et Sociales",
            "Sciences de l'Education",
            "Sciences de l'Ingénieur",
            "Sciences de la Terre"
           ],
           "xaxis": "x",
           "y": [
            3369,
            882,
            747,
            763,
            744,
            478,
            14,
            2751,
            122,
            281,
            1859,
            36,
            1454,
            466
           ],
           "yaxis": "y"
          }
         ],
         "name": "2012"
        },
        {
         "data": [
          {
           "alignmentgroup": "True",
           "hovertemplate": "Année=2013<br>Type de discipline=%{x}<br>Nombre de soutenances=%{y}<extra></extra>",
           "legendgroup": "",
           "marker": {
            "color": "#636efa",
            "pattern": {
             "shape": ""
            }
           },
           "name": "",
           "offsetgroup": "",
           "orientation": "v",
           "showlegend": false,
           "textposition": "auto",
           "type": "bar",
           "x": [
            "Biologie",
            "Droit et Sciences Politiques",
            "Economie et Gestion",
            "Informatique",
            "Langues et Littérature",
            "Mathématiques",
            "Mathématiques et Informatique",
            "Matériaux, Milieux et Chimie",
            "Médecine",
            "Psychologie",
            "Sciences Humaines et Sociales",
            "Sciences de l'Education",
            "Sciences de l'Ingénieur",
            "Sciences de la Terre"
           ],
           "xaxis": "x",
           "y": [
            3392,
            881,
            746,
            876,
            691,
            489,
            18,
            2708,
            118,
            241,
            1776,
            40,
            1397,
            475
           ],
           "yaxis": "y"
          }
         ],
         "name": "2013"
        },
        {
         "data": [
          {
           "alignmentgroup": "True",
           "hovertemplate": "Année=2014<br>Type de discipline=%{x}<br>Nombre de soutenances=%{y}<extra></extra>",
           "legendgroup": "",
           "marker": {
            "color": "#636efa",
            "pattern": {
             "shape": ""
            }
           },
           "name": "",
           "offsetgroup": "",
           "orientation": "v",
           "showlegend": false,
           "textposition": "auto",
           "type": "bar",
           "x": [
            "Biologie",
            "Droit et Sciences Politiques",
            "Economie et Gestion",
            "Informatique",
            "Langues et Littérature",
            "Mathématiques",
            "Mathématiques et Informatique",
            "Matériaux, Milieux et Chimie",
            "Médecine",
            "Psychologie",
            "Sciences Humaines et Sociales",
            "Sciences de l'Education",
            "Sciences de l'Ingénieur",
            "Sciences de la Terre"
           ],
           "xaxis": "x",
           "y": [
            3128,
            902,
            772,
            809,
            666,
            455,
            30,
            2557,
            78,
            257,
            1755,
            40,
            1305,
            453
           ],
           "yaxis": "y"
          }
         ],
         "name": "2014"
        },
        {
         "data": [
          {
           "alignmentgroup": "True",
           "hovertemplate": "Année=2015<br>Type de discipline=%{x}<br>Nombre de soutenances=%{y}<extra></extra>",
           "legendgroup": "",
           "marker": {
            "color": "#636efa",
            "pattern": {
             "shape": ""
            }
           },
           "name": "",
           "offsetgroup": "",
           "orientation": "v",
           "showlegend": false,
           "textposition": "auto",
           "type": "bar",
           "x": [
            "Biologie",
            "Droit et Sciences Politiques",
            "Economie et Gestion",
            "Informatique",
            "Langues et Littérature",
            "Mathématiques",
            "Mathématiques et Informatique",
            "Matériaux, Milieux et Chimie",
            "Médecine",
            "Psychologie",
            "Sciences Humaines et Sociales",
            "Sciences de l'Education",
            "Sciences de l'Ingénieur",
            "Sciences de la Terre"
           ],
           "xaxis": "x",
           "y": [
            3086,
            795,
            677,
            774,
            611,
            453,
            29,
            2544,
            76,
            319,
            1760,
            35,
            1384,
            460
           ],
           "yaxis": "y"
          }
         ],
         "name": "2015"
        },
        {
         "data": [
          {
           "alignmentgroup": "True",
           "hovertemplate": "Année=2016<br>Type de discipline=%{x}<br>Nombre de soutenances=%{y}<extra></extra>",
           "legendgroup": "",
           "marker": {
            "color": "#636efa",
            "pattern": {
             "shape": ""
            }
           },
           "name": "",
           "offsetgroup": "",
           "orientation": "v",
           "showlegend": false,
           "textposition": "auto",
           "type": "bar",
           "x": [
            "Biologie",
            "Droit et Sciences Politiques",
            "Economie et Gestion",
            "Informatique",
            "Langues et Littérature",
            "Mathématiques",
            "Mathématiques et Informatique",
            "Matériaux, Milieux et Chimie",
            "Médecine",
            "Psychologie",
            "Sciences Humaines et Sociales",
            "Sciences de l'Education",
            "Sciences de l'Ingénieur",
            "Sciences de la Terre"
           ],
           "xaxis": "x",
           "y": [
            3273,
            731,
            709,
            712,
            656,
            449,
            33,
            2452,
            83,
            278,
            1668,
            52,
            1337,
            506
           ],
           "yaxis": "y"
          }
         ],
         "name": "2016"
        },
        {
         "data": [
          {
           "alignmentgroup": "True",
           "hovertemplate": "Année=2017<br>Type de discipline=%{x}<br>Nombre de soutenances=%{y}<extra></extra>",
           "legendgroup": "",
           "marker": {
            "color": "#636efa",
            "pattern": {
             "shape": ""
            }
           },
           "name": "",
           "offsetgroup": "",
           "orientation": "v",
           "showlegend": false,
           "textposition": "auto",
           "type": "bar",
           "x": [
            "Biologie",
            "Droit et Sciences Politiques",
            "Economie et Gestion",
            "Informatique",
            "Langues et Littérature",
            "Mathématiques",
            "Mathématiques et Informatique",
            "Matériaux, Milieux et Chimie",
            "Médecine",
            "Psychologie",
            "Sciences Humaines et Sociales",
            "Sciences de l'Education",
            "Sciences de l'Ingénieur",
            "Sciences de la Terre"
           ],
           "xaxis": "x",
           "y": [
            3194,
            751,
            692,
            771,
            650,
            396,
            75,
            2544,
            123,
            270,
            1691,
            44,
            1416,
            464
           ],
           "yaxis": "y"
          }
         ],
         "name": "2017"
        },
        {
         "data": [
          {
           "alignmentgroup": "True",
           "hovertemplate": "Année=2018<br>Type de discipline=%{x}<br>Nombre de soutenances=%{y}<extra></extra>",
           "legendgroup": "",
           "marker": {
            "color": "#636efa",
            "pattern": {
             "shape": ""
            }
           },
           "name": "",
           "offsetgroup": "",
           "orientation": "v",
           "showlegend": false,
           "textposition": "auto",
           "type": "bar",
           "x": [
            "Biologie",
            "Droit et Sciences Politiques",
            "Economie et Gestion",
            "Informatique",
            "Langues et Littérature",
            "Mathématiques",
            "Mathématiques et Informatique",
            "Matériaux, Milieux et Chimie",
            "Médecine",
            "Psychologie",
            "Sciences Humaines et Sociales",
            "Sciences de l'Education",
            "Sciences de l'Ingénieur",
            "Sciences de la Terre"
           ],
           "xaxis": "x",
           "y": [
            3245,
            701,
            635,
            777,
            593,
            462,
            40,
            2469,
            151,
            256,
            1525,
            45,
            1396,
            471
           ],
           "yaxis": "y"
          }
         ],
         "name": "2018"
        }
       ],
       "layout": {
        "barmode": "relative",
        "font": {
         "family": "EB Garamond",
         "size": 13
        },
        "height": 700,
        "hoverlabel": {
         "font": {
          "family": "EB Garamond",
          "size": 12
         }
        },
        "legend": {
         "tracegroupgap": 0
        },
        "sliders": [
         {
          "active": 0,
          "currentvalue": {
           "font": {
            "size": 12
           },
           "prefix": "Année : ",
           "visible": true,
           "xanchor": "left"
          },
          "len": 0.9,
          "pad": {
           "b": 10,
           "t": 150
          },
          "steps": [
           {
            "args": [
             [
              "1985"
             ],
             {
              "frame": {
               "duration": 300,
               "redraw": true
              },
              "mode": "immediate",
              "transition": {
               "duration": 300
              }
             }
            ],
            "label": "1985",
            "method": "animate"
           },
           {
            "args": [
             [
              "1986"
             ],
             {
              "frame": {
               "duration": 300,
               "redraw": true
              },
              "mode": "immediate",
              "transition": {
               "duration": 300
              }
             }
            ],
            "label": "1986",
            "method": "animate"
           },
           {
            "args": [
             [
              "1987"
             ],
             {
              "frame": {
               "duration": 300,
               "redraw": true
              },
              "mode": "immediate",
              "transition": {
               "duration": 300
              }
             }
            ],
            "label": "1987",
            "method": "animate"
           },
           {
            "args": [
             [
              "1988"
             ],
             {
              "frame": {
               "duration": 300,
               "redraw": true
              },
              "mode": "immediate",
              "transition": {
               "duration": 300
              }
             }
            ],
            "label": "1988",
            "method": "animate"
           },
           {
            "args": [
             [
              "1989"
             ],
             {
              "frame": {
               "duration": 300,
               "redraw": true
              },
              "mode": "immediate",
              "transition": {
               "duration": 300
              }
             }
            ],
            "label": "1989",
            "method": "animate"
           },
           {
            "args": [
             [
              "1990"
             ],
             {
              "frame": {
               "duration": 300,
               "redraw": true
              },
              "mode": "immediate",
              "transition": {
               "duration": 300
              }
             }
            ],
            "label": "1990",
            "method": "animate"
           },
           {
            "args": [
             [
              "1991"
             ],
             {
              "frame": {
               "duration": 300,
               "redraw": true
              },
              "mode": "immediate",
              "transition": {
               "duration": 300
              }
             }
            ],
            "label": "1991",
            "method": "animate"
           },
           {
            "args": [
             [
              "1992"
             ],
             {
              "frame": {
               "duration": 300,
               "redraw": true
              },
              "mode": "immediate",
              "transition": {
               "duration": 300
              }
             }
            ],
            "label": "1992",
            "method": "animate"
           },
           {
            "args": [
             [
              "1993"
             ],
             {
              "frame": {
               "duration": 300,
               "redraw": true
              },
              "mode": "immediate",
              "transition": {
               "duration": 300
              }
             }
            ],
            "label": "1993",
            "method": "animate"
           },
           {
            "args": [
             [
              "1994"
             ],
             {
              "frame": {
               "duration": 300,
               "redraw": true
              },
              "mode": "immediate",
              "transition": {
               "duration": 300
              }
             }
            ],
            "label": "1994",
            "method": "animate"
           },
           {
            "args": [
             [
              "1995"
             ],
             {
              "frame": {
               "duration": 300,
               "redraw": true
              },
              "mode": "immediate",
              "transition": {
               "duration": 300
              }
             }
            ],
            "label": "1995",
            "method": "animate"
           },
           {
            "args": [
             [
              "1996"
             ],
             {
              "frame": {
               "duration": 300,
               "redraw": true
              },
              "mode": "immediate",
              "transition": {
               "duration": 300
              }
             }
            ],
            "label": "1996",
            "method": "animate"
           },
           {
            "args": [
             [
              "1997"
             ],
             {
              "frame": {
               "duration": 300,
               "redraw": true
              },
              "mode": "immediate",
              "transition": {
               "duration": 300
              }
             }
            ],
            "label": "1997",
            "method": "animate"
           },
           {
            "args": [
             [
              "1998"
             ],
             {
              "frame": {
               "duration": 300,
               "redraw": true
              },
              "mode": "immediate",
              "transition": {
               "duration": 300
              }
             }
            ],
            "label": "1998",
            "method": "animate"
           },
           {
            "args": [
             [
              "1999"
             ],
             {
              "frame": {
               "duration": 300,
               "redraw": true
              },
              "mode": "immediate",
              "transition": {
               "duration": 300
              }
             }
            ],
            "label": "1999",
            "method": "animate"
           },
           {
            "args": [
             [
              "2000"
             ],
             {
              "frame": {
               "duration": 300,
               "redraw": true
              },
              "mode": "immediate",
              "transition": {
               "duration": 300
              }
             }
            ],
            "label": "2000",
            "method": "animate"
           },
           {
            "args": [
             [
              "2001"
             ],
             {
              "frame": {
               "duration": 300,
               "redraw": true
              },
              "mode": "immediate",
              "transition": {
               "duration": 300
              }
             }
            ],
            "label": "2001",
            "method": "animate"
           },
           {
            "args": [
             [
              "2002"
             ],
             {
              "frame": {
               "duration": 300,
               "redraw": true
              },
              "mode": "immediate",
              "transition": {
               "duration": 300
              }
             }
            ],
            "label": "2002",
            "method": "animate"
           },
           {
            "args": [
             [
              "2003"
             ],
             {
              "frame": {
               "duration": 300,
               "redraw": true
              },
              "mode": "immediate",
              "transition": {
               "duration": 300
              }
             }
            ],
            "label": "2003",
            "method": "animate"
           },
           {
            "args": [
             [
              "2004"
             ],
             {
              "frame": {
               "duration": 300,
               "redraw": true
              },
              "mode": "immediate",
              "transition": {
               "duration": 300
              }
             }
            ],
            "label": "2004",
            "method": "animate"
           },
           {
            "args": [
             [
              "2005"
             ],
             {
              "frame": {
               "duration": 300,
               "redraw": true
              },
              "mode": "immediate",
              "transition": {
               "duration": 300
              }
             }
            ],
            "label": "2005",
            "method": "animate"
           },
           {
            "args": [
             [
              "2006"
             ],
             {
              "frame": {
               "duration": 300,
               "redraw": true
              },
              "mode": "immediate",
              "transition": {
               "duration": 300
              }
             }
            ],
            "label": "2006",
            "method": "animate"
           },
           {
            "args": [
             [
              "2007"
             ],
             {
              "frame": {
               "duration": 300,
               "redraw": true
              },
              "mode": "immediate",
              "transition": {
               "duration": 300
              }
             }
            ],
            "label": "2007",
            "method": "animate"
           },
           {
            "args": [
             [
              "2008"
             ],
             {
              "frame": {
               "duration": 300,
               "redraw": true
              },
              "mode": "immediate",
              "transition": {
               "duration": 300
              }
             }
            ],
            "label": "2008",
            "method": "animate"
           },
           {
            "args": [
             [
              "2009"
             ],
             {
              "frame": {
               "duration": 300,
               "redraw": true
              },
              "mode": "immediate",
              "transition": {
               "duration": 300
              }
             }
            ],
            "label": "2009",
            "method": "animate"
           },
           {
            "args": [
             [
              "2010"
             ],
             {
              "frame": {
               "duration": 300,
               "redraw": true
              },
              "mode": "immediate",
              "transition": {
               "duration": 300
              }
             }
            ],
            "label": "2010",
            "method": "animate"
           },
           {
            "args": [
             [
              "2011"
             ],
             {
              "frame": {
               "duration": 300,
               "redraw": true
              },
              "mode": "immediate",
              "transition": {
               "duration": 300
              }
             }
            ],
            "label": "2011",
            "method": "animate"
           },
           {
            "args": [
             [
              "2012"
             ],
             {
              "frame": {
               "duration": 300,
               "redraw": true
              },
              "mode": "immediate",
              "transition": {
               "duration": 300
              }
             }
            ],
            "label": "2012",
            "method": "animate"
           },
           {
            "args": [
             [
              "2013"
             ],
             {
              "frame": {
               "duration": 300,
               "redraw": true
              },
              "mode": "immediate",
              "transition": {
               "duration": 300
              }
             }
            ],
            "label": "2013",
            "method": "animate"
           },
           {
            "args": [
             [
              "2014"
             ],
             {
              "frame": {
               "duration": 300,
               "redraw": true
              },
              "mode": "immediate",
              "transition": {
               "duration": 300
              }
             }
            ],
            "label": "2014",
            "method": "animate"
           },
           {
            "args": [
             [
              "2015"
             ],
             {
              "frame": {
               "duration": 300,
               "redraw": true
              },
              "mode": "immediate",
              "transition": {
               "duration": 300
              }
             }
            ],
            "label": "2015",
            "method": "animate"
           },
           {
            "args": [
             [
              "2016"
             ],
             {
              "frame": {
               "duration": 300,
               "redraw": true
              },
              "mode": "immediate",
              "transition": {
               "duration": 300
              }
             }
            ],
            "label": "2016",
            "method": "animate"
           },
           {
            "args": [
             [
              "2017"
             ],
             {
              "frame": {
               "duration": 300,
               "redraw": true
              },
              "mode": "immediate",
              "transition": {
               "duration": 300
              }
             }
            ],
            "label": "2017",
            "method": "animate"
           },
           {
            "args": [
             [
              "2018"
             ],
             {
              "frame": {
               "duration": 300,
               "redraw": true
              },
              "mode": "immediate",
              "transition": {
               "duration": 300
              }
             }
            ],
            "label": "2018",
            "method": "animate"
           }
          ],
          "x": 0.1,
          "xanchor": "left",
          "y": 0,
          "yanchor": "top"
         }
        ],
        "template": {
         "data": {
          "bar": [
           {
            "error_x": {
             "color": "#2a3f5f"
            },
            "error_y": {
             "color": "#2a3f5f"
            },
            "marker": {
             "line": {
              "color": "#E5ECF6",
              "width": 0.5
             },
             "pattern": {
              "fillmode": "overlay",
              "size": 10,
              "solidity": 0.2
             }
            },
            "type": "bar"
           }
          ],
          "barpolar": [
           {
            "marker": {
             "line": {
              "color": "#E5ECF6",
              "width": 0.5
             },
             "pattern": {
              "fillmode": "overlay",
              "size": 10,
              "solidity": 0.2
             }
            },
            "type": "barpolar"
           }
          ],
          "carpet": [
           {
            "aaxis": {
             "endlinecolor": "#2a3f5f",
             "gridcolor": "white",
             "linecolor": "white",
             "minorgridcolor": "white",
             "startlinecolor": "#2a3f5f"
            },
            "baxis": {
             "endlinecolor": "#2a3f5f",
             "gridcolor": "white",
             "linecolor": "white",
             "minorgridcolor": "white",
             "startlinecolor": "#2a3f5f"
            },
            "type": "carpet"
           }
          ],
          "choropleth": [
           {
            "colorbar": {
             "outlinewidth": 0,
             "ticks": ""
            },
            "type": "choropleth"
           }
          ],
          "contour": [
           {
            "colorbar": {
             "outlinewidth": 0,
             "ticks": ""
            },
            "colorscale": [
             [
              0,
              "#0d0887"
             ],
             [
              0.1111111111111111,
              "#46039f"
             ],
             [
              0.2222222222222222,
              "#7201a8"
             ],
             [
              0.3333333333333333,
              "#9c179e"
             ],
             [
              0.4444444444444444,
              "#bd3786"
             ],
             [
              0.5555555555555556,
              "#d8576b"
             ],
             [
              0.6666666666666666,
              "#ed7953"
             ],
             [
              0.7777777777777778,
              "#fb9f3a"
             ],
             [
              0.8888888888888888,
              "#fdca26"
             ],
             [
              1,
              "#f0f921"
             ]
            ],
            "type": "contour"
           }
          ],
          "contourcarpet": [
           {
            "colorbar": {
             "outlinewidth": 0,
             "ticks": ""
            },
            "type": "contourcarpet"
           }
          ],
          "heatmap": [
           {
            "colorbar": {
             "outlinewidth": 0,
             "ticks": ""
            },
            "colorscale": [
             [
              0,
              "#0d0887"
             ],
             [
              0.1111111111111111,
              "#46039f"
             ],
             [
              0.2222222222222222,
              "#7201a8"
             ],
             [
              0.3333333333333333,
              "#9c179e"
             ],
             [
              0.4444444444444444,
              "#bd3786"
             ],
             [
              0.5555555555555556,
              "#d8576b"
             ],
             [
              0.6666666666666666,
              "#ed7953"
             ],
             [
              0.7777777777777778,
              "#fb9f3a"
             ],
             [
              0.8888888888888888,
              "#fdca26"
             ],
             [
              1,
              "#f0f921"
             ]
            ],
            "type": "heatmap"
           }
          ],
          "heatmapgl": [
           {
            "colorbar": {
             "outlinewidth": 0,
             "ticks": ""
            },
            "colorscale": [
             [
              0,
              "#0d0887"
             ],
             [
              0.1111111111111111,
              "#46039f"
             ],
             [
              0.2222222222222222,
              "#7201a8"
             ],
             [
              0.3333333333333333,
              "#9c179e"
             ],
             [
              0.4444444444444444,
              "#bd3786"
             ],
             [
              0.5555555555555556,
              "#d8576b"
             ],
             [
              0.6666666666666666,
              "#ed7953"
             ],
             [
              0.7777777777777778,
              "#fb9f3a"
             ],
             [
              0.8888888888888888,
              "#fdca26"
             ],
             [
              1,
              "#f0f921"
             ]
            ],
            "type": "heatmapgl"
           }
          ],
          "histogram": [
           {
            "marker": {
             "pattern": {
              "fillmode": "overlay",
              "size": 10,
              "solidity": 0.2
             }
            },
            "type": "histogram"
           }
          ],
          "histogram2d": [
           {
            "colorbar": {
             "outlinewidth": 0,
             "ticks": ""
            },
            "colorscale": [
             [
              0,
              "#0d0887"
             ],
             [
              0.1111111111111111,
              "#46039f"
             ],
             [
              0.2222222222222222,
              "#7201a8"
             ],
             [
              0.3333333333333333,
              "#9c179e"
             ],
             [
              0.4444444444444444,
              "#bd3786"
             ],
             [
              0.5555555555555556,
              "#d8576b"
             ],
             [
              0.6666666666666666,
              "#ed7953"
             ],
             [
              0.7777777777777778,
              "#fb9f3a"
             ],
             [
              0.8888888888888888,
              "#fdca26"
             ],
             [
              1,
              "#f0f921"
             ]
            ],
            "type": "histogram2d"
           }
          ],
          "histogram2dcontour": [
           {
            "colorbar": {
             "outlinewidth": 0,
             "ticks": ""
            },
            "colorscale": [
             [
              0,
              "#0d0887"
             ],
             [
              0.1111111111111111,
              "#46039f"
             ],
             [
              0.2222222222222222,
              "#7201a8"
             ],
             [
              0.3333333333333333,
              "#9c179e"
             ],
             [
              0.4444444444444444,
              "#bd3786"
             ],
             [
              0.5555555555555556,
              "#d8576b"
             ],
             [
              0.6666666666666666,
              "#ed7953"
             ],
             [
              0.7777777777777778,
              "#fb9f3a"
             ],
             [
              0.8888888888888888,
              "#fdca26"
             ],
             [
              1,
              "#f0f921"
             ]
            ],
            "type": "histogram2dcontour"
           }
          ],
          "mesh3d": [
           {
            "colorbar": {
             "outlinewidth": 0,
             "ticks": ""
            },
            "type": "mesh3d"
           }
          ],
          "parcoords": [
           {
            "line": {
             "colorbar": {
              "outlinewidth": 0,
              "ticks": ""
             }
            },
            "type": "parcoords"
           }
          ],
          "pie": [
           {
            "automargin": true,
            "type": "pie"
           }
          ],
          "scatter": [
           {
            "fillpattern": {
             "fillmode": "overlay",
             "size": 10,
             "solidity": 0.2
            },
            "type": "scatter"
           }
          ],
          "scatter3d": [
           {
            "line": {
             "colorbar": {
              "outlinewidth": 0,
              "ticks": ""
             }
            },
            "marker": {
             "colorbar": {
              "outlinewidth": 0,
              "ticks": ""
             }
            },
            "type": "scatter3d"
           }
          ],
          "scattercarpet": [
           {
            "marker": {
             "colorbar": {
              "outlinewidth": 0,
              "ticks": ""
             }
            },
            "type": "scattercarpet"
           }
          ],
          "scattergeo": [
           {
            "marker": {
             "colorbar": {
              "outlinewidth": 0,
              "ticks": ""
             }
            },
            "type": "scattergeo"
           }
          ],
          "scattergl": [
           {
            "marker": {
             "colorbar": {
              "outlinewidth": 0,
              "ticks": ""
             }
            },
            "type": "scattergl"
           }
          ],
          "scattermapbox": [
           {
            "marker": {
             "colorbar": {
              "outlinewidth": 0,
              "ticks": ""
             }
            },
            "type": "scattermapbox"
           }
          ],
          "scatterpolar": [
           {
            "marker": {
             "colorbar": {
              "outlinewidth": 0,
              "ticks": ""
             }
            },
            "type": "scatterpolar"
           }
          ],
          "scatterpolargl": [
           {
            "marker": {
             "colorbar": {
              "outlinewidth": 0,
              "ticks": ""
             }
            },
            "type": "scatterpolargl"
           }
          ],
          "scatterternary": [
           {
            "marker": {
             "colorbar": {
              "outlinewidth": 0,
              "ticks": ""
             }
            },
            "type": "scatterternary"
           }
          ],
          "surface": [
           {
            "colorbar": {
             "outlinewidth": 0,
             "ticks": ""
            },
            "colorscale": [
             [
              0,
              "#0d0887"
             ],
             [
              0.1111111111111111,
              "#46039f"
             ],
             [
              0.2222222222222222,
              "#7201a8"
             ],
             [
              0.3333333333333333,
              "#9c179e"
             ],
             [
              0.4444444444444444,
              "#bd3786"
             ],
             [
              0.5555555555555556,
              "#d8576b"
             ],
             [
              0.6666666666666666,
              "#ed7953"
             ],
             [
              0.7777777777777778,
              "#fb9f3a"
             ],
             [
              0.8888888888888888,
              "#fdca26"
             ],
             [
              1,
              "#f0f921"
             ]
            ],
            "type": "surface"
           }
          ],
          "table": [
           {
            "cells": {
             "fill": {
              "color": "#EBF0F8"
             },
             "line": {
              "color": "white"
             }
            },
            "header": {
             "fill": {
              "color": "#C8D4E3"
             },
             "line": {
              "color": "white"
             }
            },
            "type": "table"
           }
          ]
         },
         "layout": {
          "annotationdefaults": {
           "arrowcolor": "#2a3f5f",
           "arrowhead": 0,
           "arrowwidth": 1
          },
          "autotypenumbers": "strict",
          "coloraxis": {
           "colorbar": {
            "outlinewidth": 0,
            "ticks": ""
           }
          },
          "colorscale": {
           "diverging": [
            [
             0,
             "#8e0152"
            ],
            [
             0.1,
             "#c51b7d"
            ],
            [
             0.2,
             "#de77ae"
            ],
            [
             0.3,
             "#f1b6da"
            ],
            [
             0.4,
             "#fde0ef"
            ],
            [
             0.5,
             "#f7f7f7"
            ],
            [
             0.6,
             "#e6f5d0"
            ],
            [
             0.7,
             "#b8e186"
            ],
            [
             0.8,
             "#7fbc41"
            ],
            [
             0.9,
             "#4d9221"
            ],
            [
             1,
             "#276419"
            ]
           ],
           "sequential": [
            [
             0,
             "#0d0887"
            ],
            [
             0.1111111111111111,
             "#46039f"
            ],
            [
             0.2222222222222222,
             "#7201a8"
            ],
            [
             0.3333333333333333,
             "#9c179e"
            ],
            [
             0.4444444444444444,
             "#bd3786"
            ],
            [
             0.5555555555555556,
             "#d8576b"
            ],
            [
             0.6666666666666666,
             "#ed7953"
            ],
            [
             0.7777777777777778,
             "#fb9f3a"
            ],
            [
             0.8888888888888888,
             "#fdca26"
            ],
            [
             1,
             "#f0f921"
            ]
           ],
           "sequentialminus": [
            [
             0,
             "#0d0887"
            ],
            [
             0.1111111111111111,
             "#46039f"
            ],
            [
             0.2222222222222222,
             "#7201a8"
            ],
            [
             0.3333333333333333,
             "#9c179e"
            ],
            [
             0.4444444444444444,
             "#bd3786"
            ],
            [
             0.5555555555555556,
             "#d8576b"
            ],
            [
             0.6666666666666666,
             "#ed7953"
            ],
            [
             0.7777777777777778,
             "#fb9f3a"
            ],
            [
             0.8888888888888888,
             "#fdca26"
            ],
            [
             1,
             "#f0f921"
            ]
           ]
          },
          "colorway": [
           "#636efa",
           "#EF553B",
           "#00cc96",
           "#ab63fa",
           "#FFA15A",
           "#19d3f3",
           "#FF6692",
           "#B6E880",
           "#FF97FF",
           "#FECB52"
          ],
          "font": {
           "color": "#2a3f5f"
          },
          "geo": {
           "bgcolor": "white",
           "lakecolor": "white",
           "landcolor": "#E5ECF6",
           "showlakes": true,
           "showland": true,
           "subunitcolor": "white"
          },
          "hoverlabel": {
           "align": "left"
          },
          "hovermode": "closest",
          "mapbox": {
           "style": "light"
          },
          "paper_bgcolor": "white",
          "plot_bgcolor": "#E5ECF6",
          "polar": {
           "angularaxis": {
            "gridcolor": "white",
            "linecolor": "white",
            "ticks": ""
           },
           "bgcolor": "#E5ECF6",
           "radialaxis": {
            "gridcolor": "white",
            "linecolor": "white",
            "ticks": ""
           }
          },
          "scene": {
           "xaxis": {
            "backgroundcolor": "#E5ECF6",
            "gridcolor": "white",
            "gridwidth": 2,
            "linecolor": "white",
            "showbackground": true,
            "ticks": "",
            "zerolinecolor": "white"
           },
           "yaxis": {
            "backgroundcolor": "#E5ECF6",
            "gridcolor": "white",
            "gridwidth": 2,
            "linecolor": "white",
            "showbackground": true,
            "ticks": "",
            "zerolinecolor": "white"
           },
           "zaxis": {
            "backgroundcolor": "#E5ECF6",
            "gridcolor": "white",
            "gridwidth": 2,
            "linecolor": "white",
            "showbackground": true,
            "ticks": "",
            "zerolinecolor": "white"
           }
          },
          "shapedefaults": {
           "line": {
            "color": "#2a3f5f"
           }
          },
          "ternary": {
           "aaxis": {
            "gridcolor": "white",
            "linecolor": "white",
            "ticks": ""
           },
           "baxis": {
            "gridcolor": "white",
            "linecolor": "white",
            "ticks": ""
           },
           "bgcolor": "#E5ECF6",
           "caxis": {
            "gridcolor": "white",
            "linecolor": "white",
            "ticks": ""
           }
          },
          "title": {
           "x": 0.05
          },
          "xaxis": {
           "automargin": true,
           "gridcolor": "white",
           "linecolor": "white",
           "ticks": "",
           "title": {
            "standoff": 15
           },
           "zerolinecolor": "white",
           "zerolinewidth": 2
          },
          "yaxis": {
           "automargin": true,
           "gridcolor": "white",
           "linecolor": "white",
           "ticks": "",
           "title": {
            "standoff": 15
           },
           "zerolinecolor": "white",
           "zerolinewidth": 2
          }
         }
        },
        "title": {
         "text": "Distribution du nombre de soutenances par type de discipline et par an (1985-2018)",
         "x": 0.5
        },
        "updatemenus": [
         {
          "buttons": [
           {
            "args": [
             null,
             {
              "frame": {
               "duration": 500,
               "redraw": true
              },
              "fromcurrent": true,
              "mode": "immediate",
              "transition": {
               "duration": 500,
               "easing": "linear"
              }
             }
            ],
            "label": "&#9654;",
            "method": "animate"
           },
           {
            "args": [
             [
              null
             ],
             {
              "frame": {
               "duration": 0,
               "redraw": true
              },
              "fromcurrent": true,
              "mode": "immediate",
              "transition": {
               "duration": 0,
               "easing": "linear"
              }
             }
            ],
            "label": "&#9724;",
            "method": "animate"
           }
          ],
          "direction": "left",
          "pad": {
           "r": 10,
           "t": 70
          },
          "showactive": false,
          "type": "buttons",
          "x": 0.1,
          "xanchor": "right",
          "y": 0,
          "yanchor": "top"
         }
        ],
        "width": 1000,
        "xaxis": {
         "anchor": "y",
         "domain": [
          0,
          1
         ],
         "title": {
          "text": "Type de discipline"
         }
        },
        "yaxis": {
         "anchor": "x",
         "domain": [
          0,
          1
         ],
         "range": [
          0,
          3976
         ],
         "title": {
          "text": "Nombre de soutenances"
         }
        }
       }
      }
     },
     "metadata": {},
     "output_type": "display_data"
    }
   ],
   "source": [
    "# Création de la figure :\n",
    "fig1 = px.bar(data_frame = discipline_count,\n",
    "              y = 'Nombre de soutenances',\n",
    "              x = 'Type de discipline',\n",
    "              animation_frame = 'Année',\n",
    "              title = \"Distribution du nombre de soutenances par type de discipline et par an (1985-2018)\")\n",
    "\n",
    "# Définition des étapes du slider :\n",
    "steps = [{'args': [[str(année)], \n",
    "                   {'frame': {'duration': 300, \n",
    "                              'redraw': True},\n",
    "                    'mode': 'immediate',\n",
    "                    'transition': {'duration': 300}}],\n",
    "          'label': str(année),\n",
    "          'method': 'animate'}\n",
    "          for année in discipline_count['Année'].unique()]\n",
    "\n",
    "# Configuration du slider :\n",
    "slider = {'currentvalue': {'font': {'size': 12},\n",
    "                           'visible': True,\n",
    "                           'xanchor': 'left',\n",
    "                           'prefix': 'Année : '},\n",
    "          'steps': steps,\n",
    "          'pad' : {'t':150}}\n",
    "\n",
    "# Actualisation de la mise en page :\n",
    "fig1.update_layout(sliders = [slider],\n",
    "                   xaxis_title = \"Type de discipline\",\n",
    "                   yaxis_title = \"Nombre de soutenances\",\n",
    "                   title_x = 0.5,\n",
    "                   font = dict(family = \"EB Garamond\",\n",
    "                               size = 13),\n",
    "                   height = 700,\n",
    "                   width = 1000,\n",
    "                   hoverlabel = dict(font = dict(family = \"EB Garamond\", \n",
    "                                                 size = 12)))\n",
    "\n",
    "# Actualisation des limites de l'axe y : \n",
    "fig1.update_yaxes(range = [0, valeur_max_1 + 50])\n",
    "\n",
    "# Affichage de la figure :\n",
    "fig1.show()"
   ]
  },
  {
   "cell_type": "markdown",
   "metadata": {},
   "source": [
    "#### 2. Création d'une figure avec selector"
   ]
  },
  {
   "cell_type": "code",
   "execution_count": 177,
   "metadata": {},
   "outputs": [],
   "source": [
    "# Filtre des données pour l'année 2015 :\n",
    "discipline_count_2015 = discipline_count[discipline_count['Année'] == 2015]"
   ]
  },
  {
   "cell_type": "code",
   "execution_count": 178,
   "metadata": {},
   "outputs": [
    {
     "data": {
      "text/html": [
       "<div>\n",
       "<style scoped>\n",
       "    .dataframe tbody tr th:only-of-type {\n",
       "        vertical-align: middle;\n",
       "    }\n",
       "\n",
       "    .dataframe tbody tr th {\n",
       "        vertical-align: top;\n",
       "    }\n",
       "\n",
       "    .dataframe thead th {\n",
       "        text-align: right;\n",
       "    }\n",
       "</style>\n",
       "<table border=\"1\" class=\"dataframe\">\n",
       "  <thead>\n",
       "    <tr style=\"text-align: right;\">\n",
       "      <th></th>\n",
       "      <th>Année</th>\n",
       "      <th>Type de discipline</th>\n",
       "      <th>Nombre de soutenances</th>\n",
       "    </tr>\n",
       "  </thead>\n",
       "  <tbody>\n",
       "    <tr>\n",
       "      <th>420</th>\n",
       "      <td>2015</td>\n",
       "      <td>Biologie</td>\n",
       "      <td>3086</td>\n",
       "    </tr>\n",
       "    <tr>\n",
       "      <th>421</th>\n",
       "      <td>2015</td>\n",
       "      <td>Droit et Sciences Politiques</td>\n",
       "      <td>795</td>\n",
       "    </tr>\n",
       "    <tr>\n",
       "      <th>422</th>\n",
       "      <td>2015</td>\n",
       "      <td>Economie et Gestion</td>\n",
       "      <td>677</td>\n",
       "    </tr>\n",
       "  </tbody>\n",
       "</table>\n",
       "</div>"
      ],
      "text/plain": [
       "     Année            Type de discipline  Nombre de soutenances\n",
       "420   2015                      Biologie                   3086\n",
       "421   2015  Droit et Sciences Politiques                    795\n",
       "422   2015           Economie et Gestion                    677"
      ]
     },
     "execution_count": 178,
     "metadata": {},
     "output_type": "execute_result"
    }
   ],
   "source": [
    "# Affichage des données filtrées :\n",
    "discipline_count_2015.head(3)"
   ]
  },
  {
   "cell_type": "code",
   "execution_count": 179,
   "metadata": {},
   "outputs": [
    {
     "name": "stdout",
     "output_type": "stream",
     "text": [
      "La valeur maximale prise par la variable 'Nombre de soutenances' est 3086.\n"
     ]
    }
   ],
   "source": [
    "# Affichage de la valeur maximale de la colonne 'Nombre de soutenances' :\n",
    "valeur_max_2 = discipline_count_2015['Nombre de soutenances'].max()\n",
    "print(f\"La valeur maximale prise par la variable 'Nombre de soutenances' est {valeur_max_2}.\")"
   ]
  },
  {
   "cell_type": "code",
   "execution_count": 180,
   "metadata": {},
   "outputs": [
    {
     "data": {
      "application/vnd.plotly.v1+json": {
       "config": {
        "plotlyServerURL": "https://plot.ly"
       },
       "data": [
        {
         "alignmentgroup": "True",
         "hovertemplate": "Type de discipline=%{x}<br>Nombre de soutenances=%{y}<extra></extra>",
         "legendgroup": "",
         "marker": {
          "color": "#636efa",
          "pattern": {
           "shape": ""
          }
         },
         "name": "",
         "offsetgroup": "",
         "orientation": "v",
         "showlegend": false,
         "textposition": "auto",
         "type": "bar",
         "x": [
          "Biologie",
          "Droit et Sciences Politiques",
          "Economie et Gestion",
          "Informatique",
          "Langues et Littérature",
          "Mathématiques",
          "Mathématiques et Informatique",
          "Matériaux, Milieux et Chimie",
          "Médecine",
          "Psychologie",
          "Sciences Humaines et Sociales",
          "Sciences de l'Education",
          "Sciences de l'Ingénieur",
          "Sciences de la Terre"
         ],
         "xaxis": "x",
         "y": [
          3086,
          795,
          677,
          774,
          611,
          453,
          29,
          2544,
          76,
          319,
          1760,
          35,
          1384,
          460
         ],
         "yaxis": "y"
        }
       ],
       "layout": {
        "barmode": "relative",
        "font": {
         "family": "EB Garamond",
         "size": 13
        },
        "height": 500,
        "hoverlabel": {
         "font": {
          "family": "EB Garamond",
          "size": 13
         }
        },
        "legend": {
         "tracegroupgap": 0
        },
        "margin": {
         "t": 60
        },
        "template": {
         "data": {
          "bar": [
           {
            "error_x": {
             "color": "#2a3f5f"
            },
            "error_y": {
             "color": "#2a3f5f"
            },
            "marker": {
             "line": {
              "color": "#E5ECF6",
              "width": 0.5
             },
             "pattern": {
              "fillmode": "overlay",
              "size": 10,
              "solidity": 0.2
             }
            },
            "type": "bar"
           }
          ],
          "barpolar": [
           {
            "marker": {
             "line": {
              "color": "#E5ECF6",
              "width": 0.5
             },
             "pattern": {
              "fillmode": "overlay",
              "size": 10,
              "solidity": 0.2
             }
            },
            "type": "barpolar"
           }
          ],
          "carpet": [
           {
            "aaxis": {
             "endlinecolor": "#2a3f5f",
             "gridcolor": "white",
             "linecolor": "white",
             "minorgridcolor": "white",
             "startlinecolor": "#2a3f5f"
            },
            "baxis": {
             "endlinecolor": "#2a3f5f",
             "gridcolor": "white",
             "linecolor": "white",
             "minorgridcolor": "white",
             "startlinecolor": "#2a3f5f"
            },
            "type": "carpet"
           }
          ],
          "choropleth": [
           {
            "colorbar": {
             "outlinewidth": 0,
             "ticks": ""
            },
            "type": "choropleth"
           }
          ],
          "contour": [
           {
            "colorbar": {
             "outlinewidth": 0,
             "ticks": ""
            },
            "colorscale": [
             [
              0,
              "#0d0887"
             ],
             [
              0.1111111111111111,
              "#46039f"
             ],
             [
              0.2222222222222222,
              "#7201a8"
             ],
             [
              0.3333333333333333,
              "#9c179e"
             ],
             [
              0.4444444444444444,
              "#bd3786"
             ],
             [
              0.5555555555555556,
              "#d8576b"
             ],
             [
              0.6666666666666666,
              "#ed7953"
             ],
             [
              0.7777777777777778,
              "#fb9f3a"
             ],
             [
              0.8888888888888888,
              "#fdca26"
             ],
             [
              1,
              "#f0f921"
             ]
            ],
            "type": "contour"
           }
          ],
          "contourcarpet": [
           {
            "colorbar": {
             "outlinewidth": 0,
             "ticks": ""
            },
            "type": "contourcarpet"
           }
          ],
          "heatmap": [
           {
            "colorbar": {
             "outlinewidth": 0,
             "ticks": ""
            },
            "colorscale": [
             [
              0,
              "#0d0887"
             ],
             [
              0.1111111111111111,
              "#46039f"
             ],
             [
              0.2222222222222222,
              "#7201a8"
             ],
             [
              0.3333333333333333,
              "#9c179e"
             ],
             [
              0.4444444444444444,
              "#bd3786"
             ],
             [
              0.5555555555555556,
              "#d8576b"
             ],
             [
              0.6666666666666666,
              "#ed7953"
             ],
             [
              0.7777777777777778,
              "#fb9f3a"
             ],
             [
              0.8888888888888888,
              "#fdca26"
             ],
             [
              1,
              "#f0f921"
             ]
            ],
            "type": "heatmap"
           }
          ],
          "heatmapgl": [
           {
            "colorbar": {
             "outlinewidth": 0,
             "ticks": ""
            },
            "colorscale": [
             [
              0,
              "#0d0887"
             ],
             [
              0.1111111111111111,
              "#46039f"
             ],
             [
              0.2222222222222222,
              "#7201a8"
             ],
             [
              0.3333333333333333,
              "#9c179e"
             ],
             [
              0.4444444444444444,
              "#bd3786"
             ],
             [
              0.5555555555555556,
              "#d8576b"
             ],
             [
              0.6666666666666666,
              "#ed7953"
             ],
             [
              0.7777777777777778,
              "#fb9f3a"
             ],
             [
              0.8888888888888888,
              "#fdca26"
             ],
             [
              1,
              "#f0f921"
             ]
            ],
            "type": "heatmapgl"
           }
          ],
          "histogram": [
           {
            "marker": {
             "pattern": {
              "fillmode": "overlay",
              "size": 10,
              "solidity": 0.2
             }
            },
            "type": "histogram"
           }
          ],
          "histogram2d": [
           {
            "colorbar": {
             "outlinewidth": 0,
             "ticks": ""
            },
            "colorscale": [
             [
              0,
              "#0d0887"
             ],
             [
              0.1111111111111111,
              "#46039f"
             ],
             [
              0.2222222222222222,
              "#7201a8"
             ],
             [
              0.3333333333333333,
              "#9c179e"
             ],
             [
              0.4444444444444444,
              "#bd3786"
             ],
             [
              0.5555555555555556,
              "#d8576b"
             ],
             [
              0.6666666666666666,
              "#ed7953"
             ],
             [
              0.7777777777777778,
              "#fb9f3a"
             ],
             [
              0.8888888888888888,
              "#fdca26"
             ],
             [
              1,
              "#f0f921"
             ]
            ],
            "type": "histogram2d"
           }
          ],
          "histogram2dcontour": [
           {
            "colorbar": {
             "outlinewidth": 0,
             "ticks": ""
            },
            "colorscale": [
             [
              0,
              "#0d0887"
             ],
             [
              0.1111111111111111,
              "#46039f"
             ],
             [
              0.2222222222222222,
              "#7201a8"
             ],
             [
              0.3333333333333333,
              "#9c179e"
             ],
             [
              0.4444444444444444,
              "#bd3786"
             ],
             [
              0.5555555555555556,
              "#d8576b"
             ],
             [
              0.6666666666666666,
              "#ed7953"
             ],
             [
              0.7777777777777778,
              "#fb9f3a"
             ],
             [
              0.8888888888888888,
              "#fdca26"
             ],
             [
              1,
              "#f0f921"
             ]
            ],
            "type": "histogram2dcontour"
           }
          ],
          "mesh3d": [
           {
            "colorbar": {
             "outlinewidth": 0,
             "ticks": ""
            },
            "type": "mesh3d"
           }
          ],
          "parcoords": [
           {
            "line": {
             "colorbar": {
              "outlinewidth": 0,
              "ticks": ""
             }
            },
            "type": "parcoords"
           }
          ],
          "pie": [
           {
            "automargin": true,
            "type": "pie"
           }
          ],
          "scatter": [
           {
            "fillpattern": {
             "fillmode": "overlay",
             "size": 10,
             "solidity": 0.2
            },
            "type": "scatter"
           }
          ],
          "scatter3d": [
           {
            "line": {
             "colorbar": {
              "outlinewidth": 0,
              "ticks": ""
             }
            },
            "marker": {
             "colorbar": {
              "outlinewidth": 0,
              "ticks": ""
             }
            },
            "type": "scatter3d"
           }
          ],
          "scattercarpet": [
           {
            "marker": {
             "colorbar": {
              "outlinewidth": 0,
              "ticks": ""
             }
            },
            "type": "scattercarpet"
           }
          ],
          "scattergeo": [
           {
            "marker": {
             "colorbar": {
              "outlinewidth": 0,
              "ticks": ""
             }
            },
            "type": "scattergeo"
           }
          ],
          "scattergl": [
           {
            "marker": {
             "colorbar": {
              "outlinewidth": 0,
              "ticks": ""
             }
            },
            "type": "scattergl"
           }
          ],
          "scattermapbox": [
           {
            "marker": {
             "colorbar": {
              "outlinewidth": 0,
              "ticks": ""
             }
            },
            "type": "scattermapbox"
           }
          ],
          "scatterpolar": [
           {
            "marker": {
             "colorbar": {
              "outlinewidth": 0,
              "ticks": ""
             }
            },
            "type": "scatterpolar"
           }
          ],
          "scatterpolargl": [
           {
            "marker": {
             "colorbar": {
              "outlinewidth": 0,
              "ticks": ""
             }
            },
            "type": "scatterpolargl"
           }
          ],
          "scatterternary": [
           {
            "marker": {
             "colorbar": {
              "outlinewidth": 0,
              "ticks": ""
             }
            },
            "type": "scatterternary"
           }
          ],
          "surface": [
           {
            "colorbar": {
             "outlinewidth": 0,
             "ticks": ""
            },
            "colorscale": [
             [
              0,
              "#0d0887"
             ],
             [
              0.1111111111111111,
              "#46039f"
             ],
             [
              0.2222222222222222,
              "#7201a8"
             ],
             [
              0.3333333333333333,
              "#9c179e"
             ],
             [
              0.4444444444444444,
              "#bd3786"
             ],
             [
              0.5555555555555556,
              "#d8576b"
             ],
             [
              0.6666666666666666,
              "#ed7953"
             ],
             [
              0.7777777777777778,
              "#fb9f3a"
             ],
             [
              0.8888888888888888,
              "#fdca26"
             ],
             [
              1,
              "#f0f921"
             ]
            ],
            "type": "surface"
           }
          ],
          "table": [
           {
            "cells": {
             "fill": {
              "color": "#EBF0F8"
             },
             "line": {
              "color": "white"
             }
            },
            "header": {
             "fill": {
              "color": "#C8D4E3"
             },
             "line": {
              "color": "white"
             }
            },
            "type": "table"
           }
          ]
         },
         "layout": {
          "annotationdefaults": {
           "arrowcolor": "#2a3f5f",
           "arrowhead": 0,
           "arrowwidth": 1
          },
          "autotypenumbers": "strict",
          "coloraxis": {
           "colorbar": {
            "outlinewidth": 0,
            "ticks": ""
           }
          },
          "colorscale": {
           "diverging": [
            [
             0,
             "#8e0152"
            ],
            [
             0.1,
             "#c51b7d"
            ],
            [
             0.2,
             "#de77ae"
            ],
            [
             0.3,
             "#f1b6da"
            ],
            [
             0.4,
             "#fde0ef"
            ],
            [
             0.5,
             "#f7f7f7"
            ],
            [
             0.6,
             "#e6f5d0"
            ],
            [
             0.7,
             "#b8e186"
            ],
            [
             0.8,
             "#7fbc41"
            ],
            [
             0.9,
             "#4d9221"
            ],
            [
             1,
             "#276419"
            ]
           ],
           "sequential": [
            [
             0,
             "#0d0887"
            ],
            [
             0.1111111111111111,
             "#46039f"
            ],
            [
             0.2222222222222222,
             "#7201a8"
            ],
            [
             0.3333333333333333,
             "#9c179e"
            ],
            [
             0.4444444444444444,
             "#bd3786"
            ],
            [
             0.5555555555555556,
             "#d8576b"
            ],
            [
             0.6666666666666666,
             "#ed7953"
            ],
            [
             0.7777777777777778,
             "#fb9f3a"
            ],
            [
             0.8888888888888888,
             "#fdca26"
            ],
            [
             1,
             "#f0f921"
            ]
           ],
           "sequentialminus": [
            [
             0,
             "#0d0887"
            ],
            [
             0.1111111111111111,
             "#46039f"
            ],
            [
             0.2222222222222222,
             "#7201a8"
            ],
            [
             0.3333333333333333,
             "#9c179e"
            ],
            [
             0.4444444444444444,
             "#bd3786"
            ],
            [
             0.5555555555555556,
             "#d8576b"
            ],
            [
             0.6666666666666666,
             "#ed7953"
            ],
            [
             0.7777777777777778,
             "#fb9f3a"
            ],
            [
             0.8888888888888888,
             "#fdca26"
            ],
            [
             1,
             "#f0f921"
            ]
           ]
          },
          "colorway": [
           "#636efa",
           "#EF553B",
           "#00cc96",
           "#ab63fa",
           "#FFA15A",
           "#19d3f3",
           "#FF6692",
           "#B6E880",
           "#FF97FF",
           "#FECB52"
          ],
          "font": {
           "color": "#2a3f5f"
          },
          "geo": {
           "bgcolor": "white",
           "lakecolor": "white",
           "landcolor": "#E5ECF6",
           "showlakes": true,
           "showland": true,
           "subunitcolor": "white"
          },
          "hoverlabel": {
           "align": "left"
          },
          "hovermode": "closest",
          "mapbox": {
           "style": "light"
          },
          "paper_bgcolor": "white",
          "plot_bgcolor": "#E5ECF6",
          "polar": {
           "angularaxis": {
            "gridcolor": "white",
            "linecolor": "white",
            "ticks": ""
           },
           "bgcolor": "#E5ECF6",
           "radialaxis": {
            "gridcolor": "white",
            "linecolor": "white",
            "ticks": ""
           }
          },
          "scene": {
           "xaxis": {
            "backgroundcolor": "#E5ECF6",
            "gridcolor": "white",
            "gridwidth": 2,
            "linecolor": "white",
            "showbackground": true,
            "ticks": "",
            "zerolinecolor": "white"
           },
           "yaxis": {
            "backgroundcolor": "#E5ECF6",
            "gridcolor": "white",
            "gridwidth": 2,
            "linecolor": "white",
            "showbackground": true,
            "ticks": "",
            "zerolinecolor": "white"
           },
           "zaxis": {
            "backgroundcolor": "#E5ECF6",
            "gridcolor": "white",
            "gridwidth": 2,
            "linecolor": "white",
            "showbackground": true,
            "ticks": "",
            "zerolinecolor": "white"
           }
          },
          "shapedefaults": {
           "line": {
            "color": "#2a3f5f"
           }
          },
          "ternary": {
           "aaxis": {
            "gridcolor": "white",
            "linecolor": "white",
            "ticks": ""
           },
           "baxis": {
            "gridcolor": "white",
            "linecolor": "white",
            "ticks": ""
           },
           "bgcolor": "#E5ECF6",
           "caxis": {
            "gridcolor": "white",
            "linecolor": "white",
            "ticks": ""
           }
          },
          "title": {
           "x": 0.05
          },
          "xaxis": {
           "automargin": true,
           "gridcolor": "white",
           "linecolor": "white",
           "ticks": "",
           "title": {
            "standoff": 15
           },
           "zerolinecolor": "white",
           "zerolinewidth": 2
          },
          "yaxis": {
           "automargin": true,
           "gridcolor": "white",
           "linecolor": "white",
           "ticks": "",
           "title": {
            "standoff": 15
           },
           "zerolinecolor": "white",
           "zerolinewidth": 2
          }
         }
        },
        "title": {
         "font": {
          "size": 18
         },
         "text": "Distribution du nombre de soutenances par type de discipline (2015)",
         "x": 0.5
        },
        "updatemenus": [
         {
          "active": 0,
          "buttons": [
           {
            "args": [
             {
              "type": "bar"
             }
            ],
            "label": "Barplot",
            "method": "update"
           },
           {
            "args": [
             {
              "mode": "markers",
              "type": "scatter"
             }
            ],
            "label": "Scatterplot",
            "method": "update"
           }
          ],
          "direction": "down",
          "showactive": true,
          "type": "buttons",
          "x": 1.01,
          "xanchor": "left",
          "y": 1,
          "yanchor": "top"
         }
        ],
        "width": 800,
        "xaxis": {
         "anchor": "y",
         "domain": [
          0,
          1
         ],
         "title": {
          "text": "Type de discipline"
         }
        },
        "yaxis": {
         "anchor": "x",
         "domain": [
          0,
          1
         ],
         "range": [
          0,
          3136
         ],
         "title": {
          "text": "Nombre de soutenances"
         }
        }
       }
      }
     },
     "metadata": {},
     "output_type": "display_data"
    }
   ],
   "source": [
    "# Création de la figure :\n",
    "fig2 = px.bar(data_frame = discipline_count_2015,\n",
    "              y = 'Nombre de soutenances',\n",
    "              x = 'Type de discipline')\n",
    "\n",
    "# Actualisation des limites de l'axe y :\n",
    "fig2.update_yaxes(range = [0, valeur_max_2 + 50])\n",
    "\n",
    "# Création des boutons de sélection :\n",
    "my_buttons = [{'label': \"Barplot\",\n",
    "               'method': \"update\",\n",
    "               'args': [{\"type\": \"bar\"}]},\n",
    "              {'label': \"Scatterplot\",\n",
    "               'method': \"update\",\n",
    "               'args': [{'type': \"scatter\", \n",
    "                         'mode': 'markers'}]}]\n",
    "\n",
    "# Ajout des boutons à la figure :\n",
    "fig2.update_layout(updatemenus = [{'type': 'buttons',\n",
    "                                   'direction': 'down',\n",
    "                                   'x': 1.01,\n",
    "                                   'y': 1,\n",
    "                                   'xanchor': 'left',\n",
    "                                   'yanchor': 'top',\n",
    "                                   'showactive': True,\n",
    "                                   'active': 0,\n",
    "                                   'buttons': my_buttons}],\n",
    "                   hoverlabel = dict(font = dict(family = \"EB Garamond\", \n",
    "                                                 size = 13)),\n",
    "                   font = dict(family = \"EB Garamond\", \n",
    "                               size = 13),\n",
    "                   title = dict(text = \"Distribution du nombre de soutenances par type de discipline (2015)\", \n",
    "                                font = dict(size = 18)),\n",
    "                   title_x = 0.5,\n",
    "                   height = 500,\n",
    "                   width = 800)\n",
    "\n",
    "# Affichage de la figure :\n",
    "fig2.show()"
   ]
  },
  {
   "cell_type": "markdown",
   "metadata": {},
   "source": [
    "#### 3. Enregistrement des widgets au format html"
   ]
  },
  {
   "cell_type": "code",
   "execution_count": 181,
   "metadata": {},
   "outputs": [],
   "source": [
    "# Exporter la figure au format HTML\n",
    "pio.write_html(fig1,\n",
    "               file = \"graphique_slider.html\",\n",
    "               auto_open = True)"
   ]
  },
  {
   "cell_type": "code",
   "execution_count": 182,
   "metadata": {},
   "outputs": [],
   "source": [
    "# Exporter la figure au format HTML\n",
    "pio.write_html(fig2,\n",
    "               file = \"graphique_selector.html\",\n",
    "               auto_open = True)"
   ]
  }
 ],
 "metadata": {
  "kernelspec": {
   "display_name": ".venv",
   "language": "python",
   "name": "python3"
  },
  "language_info": {
   "codemirror_mode": {
    "name": "ipython",
    "version": 3
   },
   "file_extension": ".py",
   "mimetype": "text/x-python",
   "name": "python",
   "nbconvert_exporter": "python",
   "pygments_lexer": "ipython3",
   "version": "3.13.0"
  }
 },
 "nbformat": 4,
 "nbformat_minor": 2
}
