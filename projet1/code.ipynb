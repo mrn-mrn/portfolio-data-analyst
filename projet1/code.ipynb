{
 "cells": [
  {
   "cell_type": "markdown",
   "metadata": {},
   "source": [
    "## MANIPULATION ET PRETRAITEMENT DE DONNEES ##"
   ]
  },
  {
   "cell_type": "markdown",
   "metadata": {},
   "source": [
    "### I. PRESENTATION DES DONNEES ###"
   ]
  },
  {
   "cell_type": "markdown",
   "metadata": {},
   "source": [
    "##### 1. Import des bibliothèques et du jeu de données #####"
   ]
  },
  {
   "cell_type": "code",
   "execution_count": 143,
   "metadata": {},
   "outputs": [],
   "source": [
    "# Import des bibliothèques :\n",
    "import pandas as pd\n",
    "import missingno as msno\n",
    "import matplotlib.pyplot as plt\n",
    "import matplotlib.patches as mpatches\n",
    "import seaborn as sns"
   ]
  },
  {
   "cell_type": "code",
   "execution_count": null,
   "metadata": {},
   "outputs": [],
   "source": [
    "# Import du jeu de données au format csv :\n",
    "phd = pd.read_csv('dataset.csv', sep = ',', encoding='utf-8', engine='python')"
   ]
  },
  {
   "cell_type": "markdown",
   "metadata": {},
   "source": [
    "##### 2. Informations sur les données #####"
   ]
  },
  {
   "cell_type": "markdown",
   "metadata": {},
   "source": [
    "_a. Nombre de lignes_"
   ]
  },
  {
   "cell_type": "code",
   "execution_count": 145,
   "metadata": {},
   "outputs": [
    {
     "name": "stdout",
     "output_type": "stream",
     "text": [
      "Dans le jeu de données, il y a 448047 lignes et 23 colonnes\n"
     ]
    }
   ],
   "source": [
    "# Affichage du nombre de lignes du tableau :\n",
    "rows, cols = phd.shape\n",
    "print(f\"Dans le jeu de données, il y a {rows} lignes et {cols} colonnes\")"
   ]
  },
  {
   "cell_type": "markdown",
   "metadata": {},
   "source": [
    " _b. Premières lignes du tableau_ "
   ]
  },
  {
   "cell_type": "code",
   "execution_count": 146,
   "metadata": {},
   "outputs": [
    {
     "data": {
      "text/html": [
       "<div>\n",
       "<style scoped>\n",
       "    .dataframe tbody tr th:only-of-type {\n",
       "        vertical-align: middle;\n",
       "    }\n",
       "\n",
       "    .dataframe tbody tr th {\n",
       "        vertical-align: top;\n",
       "    }\n",
       "\n",
       "    .dataframe thead th {\n",
       "        text-align: right;\n",
       "    }\n",
       "</style>\n",
       "<table border=\"1\" class=\"dataframe\">\n",
       "  <thead>\n",
       "    <tr style=\"text-align: right;\">\n",
       "      <th></th>\n",
       "      <th>Unnamed: 0</th>\n",
       "      <th>Auteur</th>\n",
       "      <th>Identifiant auteur</th>\n",
       "      <th>Titre</th>\n",
       "      <th>Directeur de these</th>\n",
       "      <th>Directeur de these (nom prenom)</th>\n",
       "      <th>Identifiant directeur</th>\n",
       "      <th>Etablissement de soutenance</th>\n",
       "      <th>Identifiant etablissement</th>\n",
       "      <th>Discipline</th>\n",
       "      <th>...</th>\n",
       "      <th>Year</th>\n",
       "      <th>Langue de la these</th>\n",
       "      <th>Identifiant de la these</th>\n",
       "      <th>Accessible en ligne</th>\n",
       "      <th>Publication dans theses.fr</th>\n",
       "      <th>Mise a jour dans theses.fr</th>\n",
       "      <th>Discipline_prÃ©di</th>\n",
       "      <th>Genre</th>\n",
       "      <th>etablissement_rec</th>\n",
       "      <th>Langue_rec</th>\n",
       "    </tr>\n",
       "  </thead>\n",
       "  <tbody>\n",
       "    <tr>\n",
       "      <th>0</th>\n",
       "      <td>0</td>\n",
       "      <td>Saeed Al marri</td>\n",
       "      <td>NaN</td>\n",
       "      <td>Le credit documentaire et l'onopposabilite des...</td>\n",
       "      <td>Philippe Delebecque</td>\n",
       "      <td>Delebecque Philippe</td>\n",
       "      <td>29561248</td>\n",
       "      <td>Paris 1</td>\n",
       "      <td>27361802</td>\n",
       "      <td>Driot prive</td>\n",
       "      <td>...</td>\n",
       "      <td>NaN</td>\n",
       "      <td>na</td>\n",
       "      <td>s69480</td>\n",
       "      <td>non</td>\n",
       "      <td>26-01-12</td>\n",
       "      <td>26-01-12</td>\n",
       "      <td>Droit et Science Politique</td>\n",
       "      <td>male</td>\n",
       "      <td>Université Paris 1 - Panthéon Sorbonne</td>\n",
       "      <td>NaN</td>\n",
       "    </tr>\n",
       "    <tr>\n",
       "      <th>1</th>\n",
       "      <td>1</td>\n",
       "      <td>Andrea Ramazzotti</td>\n",
       "      <td>174423705</td>\n",
       "      <td>Application de la PGD a la resolution de probl...</td>\n",
       "      <td>Jean-Claude Grandidier,Marianne Beringhier</td>\n",
       "      <td>Grandidier Jean-Claude,Beringhier Marianne</td>\n",
       "      <td>715,441,511</td>\n",
       "      <td>Chasseneuil-du-Poitou, Ecole nationale superie...</td>\n",
       "      <td>28024400</td>\n",
       "      <td>Mecanique des solides, des materiaux, des stru...</td>\n",
       "      <td>...</td>\n",
       "      <td>NaN</td>\n",
       "      <td>na</td>\n",
       "      <td>s98826</td>\n",
       "      <td>non</td>\n",
       "      <td>22-11-13</td>\n",
       "      <td>22-11-13</td>\n",
       "      <td>Materiaux, Milieux et Chimie</td>\n",
       "      <td>female</td>\n",
       "      <td>École nationale supérieure de mécanique et d'a...</td>\n",
       "      <td>NaN</td>\n",
       "    </tr>\n",
       "    <tr>\n",
       "      <th>2</th>\n",
       "      <td>2</td>\n",
       "      <td>OLIVIER BODENREIDER</td>\n",
       "      <td>NaN</td>\n",
       "      <td>Conception d'un outil informatique d'etude des...</td>\n",
       "      <td>Francois Kohler</td>\n",
       "      <td>Kohler Francois</td>\n",
       "      <td>57030758</td>\n",
       "      <td>Nancy 1</td>\n",
       "      <td>NaN</td>\n",
       "      <td>Medecine</td>\n",
       "      <td>...</td>\n",
       "      <td>1993.0</td>\n",
       "      <td>fr</td>\n",
       "      <td>1993NAN19006</td>\n",
       "      <td>non</td>\n",
       "      <td>24-05-13</td>\n",
       "      <td>17-11-12</td>\n",
       "      <td>Medecine</td>\n",
       "      <td>male</td>\n",
       "      <td>Université de Lorraine</td>\n",
       "      <td>Français</td>\n",
       "    </tr>\n",
       "  </tbody>\n",
       "</table>\n",
       "<p>3 rows × 23 columns</p>\n",
       "</div>"
      ],
      "text/plain": [
       "   Unnamed: 0               Auteur Identifiant auteur  \\\n",
       "0           0       Saeed Al marri                NaN   \n",
       "1           1    Andrea Ramazzotti          174423705   \n",
       "2           2  OLIVIER BODENREIDER                NaN   \n",
       "\n",
       "                                               Titre  \\\n",
       "0  Le credit documentaire et l'onopposabilite des...   \n",
       "1  Application de la PGD a la resolution de probl...   \n",
       "2  Conception d'un outil informatique d'etude des...   \n",
       "\n",
       "                           Directeur de these  \\\n",
       "0                         Philippe Delebecque   \n",
       "1  Jean-Claude Grandidier,Marianne Beringhier   \n",
       "2                             Francois Kohler   \n",
       "\n",
       "              Directeur de these (nom prenom) Identifiant directeur  \\\n",
       "0                         Delebecque Philippe              29561248   \n",
       "1  Grandidier Jean-Claude,Beringhier Marianne           715,441,511   \n",
       "2                             Kohler Francois              57030758   \n",
       "\n",
       "                         Etablissement de soutenance  \\\n",
       "0                                            Paris 1   \n",
       "1  Chasseneuil-du-Poitou, Ecole nationale superie...   \n",
       "2                                            Nancy 1   \n",
       "\n",
       "  Identifiant etablissement  \\\n",
       "0                  27361802   \n",
       "1                  28024400   \n",
       "2                       NaN   \n",
       "\n",
       "                                          Discipline  ...    Year  \\\n",
       "0                                        Driot prive  ...     NaN   \n",
       "1  Mecanique des solides, des materiaux, des stru...  ...     NaN   \n",
       "2                                           Medecine  ...  1993.0   \n",
       "\n",
       "  Langue de la these Identifiant de la these  Accessible en ligne  \\\n",
       "0                 na                  s69480                  non   \n",
       "1                 na                  s98826                  non   \n",
       "2                 fr            1993NAN19006                  non   \n",
       "\n",
       "  Publication dans theses.fr Mise a jour dans theses.fr  \\\n",
       "0                   26-01-12                   26-01-12   \n",
       "1                   22-11-13                   22-11-13   \n",
       "2                   24-05-13                   17-11-12   \n",
       "\n",
       "              Discipline_prÃ©di   Genre  \\\n",
       "0    Droit et Science Politique    male   \n",
       "1  Materiaux, Milieux et Chimie  female   \n",
       "2                      Medecine    male   \n",
       "\n",
       "                                   etablissement_rec Langue_rec  \n",
       "0             Université Paris 1 - Panthéon Sorbonne        NaN  \n",
       "1  École nationale supérieure de mécanique et d'a...        NaN  \n",
       "2                             Université de Lorraine   Français  \n",
       "\n",
       "[3 rows x 23 columns]"
      ]
     },
     "execution_count": 146,
     "metadata": {},
     "output_type": "execute_result"
    }
   ],
   "source": [
    "# Affichage des premières lignes du tableau :\n",
    "phd.head(3)"
   ]
  },
  {
   "cell_type": "markdown",
   "metadata": {},
   "source": [
    "_c. Summary des variables_"
   ]
  },
  {
   "cell_type": "code",
   "execution_count": 147,
   "metadata": {},
   "outputs": [
    {
     "data": {
      "text/plain": [
       "Index(['Unnamed: 0', 'Auteur', 'Identifiant auteur', 'Titre',\n",
       "       'Directeur de these', 'Directeur de these (nom prenom)',\n",
       "       'Identifiant directeur', 'Etablissement de soutenance',\n",
       "       'Identifiant etablissement', 'Discipline', 'Statut',\n",
       "       'Date de premiere inscription en doctorat', 'Date de soutenance',\n",
       "       'Year', 'Langue de la these', 'Identifiant de la these',\n",
       "       'Accessible en ligne', 'Publication dans theses.fr',\n",
       "       'Mise a jour dans theses.fr', 'Discipline_prÃ©di', 'Genre',\n",
       "       'etablissement_rec', 'Langue_rec'],\n",
       "      dtype='object')"
      ]
     },
     "execution_count": 147,
     "metadata": {},
     "output_type": "execute_result"
    }
   ],
   "source": [
    "# Création du summary des variables :\n",
    "phd.columns"
   ]
  },
  {
   "cell_type": "markdown",
   "metadata": {},
   "source": [
    "_d. Nature des variables_ "
   ]
  },
  {
   "cell_type": "code",
   "execution_count": 148,
   "metadata": {},
   "outputs": [
    {
     "name": "stdout",
     "output_type": "stream",
     "text": [
      "<class 'pandas.core.frame.DataFrame'>\n",
      "RangeIndex: 448047 entries, 0 to 448046\n",
      "Data columns (total 23 columns):\n",
      " #   Column                                    Non-Null Count   Dtype  \n",
      "---  ------                                    --------------   -----  \n",
      " 0   Unnamed: 0                                448047 non-null  int64  \n",
      " 1   Auteur                                    448047 non-null  object \n",
      " 2   Identifiant auteur                        317700 non-null  object \n",
      " 3   Titre                                     448040 non-null  object \n",
      " 4   Directeur de these                        448034 non-null  object \n",
      " 5   Directeur de these (nom prenom)           448034 non-null  object \n",
      " 6   Identifiant directeur                     448047 non-null  object \n",
      " 7   Etablissement de soutenance               448046 non-null  object \n",
      " 8   Identifiant etablissement                 430965 non-null  object \n",
      " 9   Discipline                                448047 non-null  object \n",
      " 10  Statut                                    448047 non-null  object \n",
      " 11  Date de premiere inscription en doctorat  64331 non-null   object \n",
      " 12  Date de soutenance                        390961 non-null  object \n",
      " 13  Year                                      390961 non-null  float64\n",
      " 14  Langue de la these                        448047 non-null  object \n",
      " 15  Identifiant de la these                   448047 non-null  object \n",
      " 16  Accessible en ligne                       448047 non-null  object \n",
      " 17  Publication dans theses.fr                448047 non-null  object \n",
      " 18  Mise a jour dans theses.fr                447870 non-null  object \n",
      " 19  Discipline_prÃ©di                         448047 non-null  object \n",
      " 20  Genre                                     448047 non-null  object \n",
      " 21  etablissement_rec                         444973 non-null  object \n",
      " 22  Langue_rec                                383927 non-null  object \n",
      "dtypes: float64(1), int64(1), object(21)\n",
      "memory usage: 78.6+ MB\n",
      "None\n"
     ]
    }
   ],
   "source": [
    "# Identification de la nature des différentes variables\n",
    "print(phd.info())"
   ]
  },
  {
   "cell_type": "code",
   "execution_count": 149,
   "metadata": {},
   "outputs": [
    {
     "data": {
      "text/html": [
       "<div>\n",
       "<style scoped>\n",
       "    .dataframe tbody tr th:only-of-type {\n",
       "        vertical-align: middle;\n",
       "    }\n",
       "\n",
       "    .dataframe tbody tr th {\n",
       "        vertical-align: top;\n",
       "    }\n",
       "\n",
       "    .dataframe thead th {\n",
       "        text-align: right;\n",
       "    }\n",
       "</style>\n",
       "<table border=\"1\" class=\"dataframe\">\n",
       "  <thead>\n",
       "    <tr style=\"text-align: right;\">\n",
       "      <th></th>\n",
       "      <th>Auteur</th>\n",
       "      <th>Identifiant auteur</th>\n",
       "      <th>Titre</th>\n",
       "      <th>Directeur de these</th>\n",
       "      <th>Directeur de these (nom prenom)</th>\n",
       "      <th>Identifiant directeur</th>\n",
       "      <th>Etablissement de soutenance</th>\n",
       "      <th>Identifiant etablissement</th>\n",
       "      <th>Discipline</th>\n",
       "      <th>Statut</th>\n",
       "      <th>...</th>\n",
       "      <th>Date de soutenance</th>\n",
       "      <th>Langue de la these</th>\n",
       "      <th>Identifiant de la these</th>\n",
       "      <th>Accessible en ligne</th>\n",
       "      <th>Publication dans theses.fr</th>\n",
       "      <th>Mise a jour dans theses.fr</th>\n",
       "      <th>Discipline_prÃ©di</th>\n",
       "      <th>Genre</th>\n",
       "      <th>etablissement_rec</th>\n",
       "      <th>Langue_rec</th>\n",
       "    </tr>\n",
       "  </thead>\n",
       "  <tbody>\n",
       "    <tr>\n",
       "      <th>count</th>\n",
       "      <td>448047</td>\n",
       "      <td>317700</td>\n",
       "      <td>448040</td>\n",
       "      <td>448034</td>\n",
       "      <td>448034</td>\n",
       "      <td>448047</td>\n",
       "      <td>448046</td>\n",
       "      <td>430965</td>\n",
       "      <td>448047</td>\n",
       "      <td>448047</td>\n",
       "      <td>...</td>\n",
       "      <td>390961</td>\n",
       "      <td>448047</td>\n",
       "      <td>448047</td>\n",
       "      <td>448047</td>\n",
       "      <td>448047</td>\n",
       "      <td>447870</td>\n",
       "      <td>448047</td>\n",
       "      <td>448047</td>\n",
       "      <td>444973</td>\n",
       "      <td>383927</td>\n",
       "    </tr>\n",
       "    <tr>\n",
       "      <th>unique</th>\n",
       "      <td>430273</td>\n",
       "      <td>313771</td>\n",
       "      <td>446816</td>\n",
       "      <td>159019</td>\n",
       "      <td>159021</td>\n",
       "      <td>98906</td>\n",
       "      <td>567</td>\n",
       "      <td>572</td>\n",
       "      <td>24262</td>\n",
       "      <td>2</td>\n",
       "      <td>...</td>\n",
       "      <td>3991</td>\n",
       "      <td>206</td>\n",
       "      <td>447567</td>\n",
       "      <td>2</td>\n",
       "      <td>2765</td>\n",
       "      <td>2633</td>\n",
       "      <td>15</td>\n",
       "      <td>6</td>\n",
       "      <td>110</td>\n",
       "      <td>4</td>\n",
       "    </tr>\n",
       "    <tr>\n",
       "      <th>top</th>\n",
       "      <td>Nicolas Martin</td>\n",
       "      <td>,</td>\n",
       "      <td>#NAME?</td>\n",
       "      <td>Directeur de these inconnu</td>\n",
       "      <td>Directeur de these inconnu</td>\n",
       "      <td>na</td>\n",
       "      <td>Paris 6</td>\n",
       "      <td>27787087</td>\n",
       "      <td>Medecine</td>\n",
       "      <td>soutenue</td>\n",
       "      <td>...</td>\n",
       "      <td>01-01-94</td>\n",
       "      <td>fr</td>\n",
       "      <td>s177556</td>\n",
       "      <td>non</td>\n",
       "      <td>24-05-13</td>\n",
       "      <td>07-07-20</td>\n",
       "      <td>Biologie</td>\n",
       "      <td>male</td>\n",
       "      <td>Sorbonne Université</td>\n",
       "      <td>Français</td>\n",
       "    </tr>\n",
       "    <tr>\n",
       "      <th>freq</th>\n",
       "      <td>16</td>\n",
       "      <td>462</td>\n",
       "      <td>17</td>\n",
       "      <td>713</td>\n",
       "      <td>713</td>\n",
       "      <td>49488</td>\n",
       "      <td>21201</td>\n",
       "      <td>20926</td>\n",
       "      <td>25914</td>\n",
       "      <td>381360</td>\n",
       "      <td>...</td>\n",
       "      <td>12991</td>\n",
       "      <td>334443</td>\n",
       "      <td>8</td>\n",
       "      <td>347699</td>\n",
       "      <td>205882</td>\n",
       "      <td>61846</td>\n",
       "      <td>100207</td>\n",
       "      <td>207639</td>\n",
       "      <td>33498</td>\n",
       "      <td>334443</td>\n",
       "    </tr>\n",
       "  </tbody>\n",
       "</table>\n",
       "<p>4 rows × 21 columns</p>\n",
       "</div>"
      ],
      "text/plain": [
       "                Auteur Identifiant auteur   Titre          Directeur de these  \\\n",
       "count           448047             317700  448040                      448034   \n",
       "unique          430273             313771  446816                      159019   \n",
       "top     Nicolas Martin                  ,  #NAME?  Directeur de these inconnu   \n",
       "freq                16                462      17                         713   \n",
       "\n",
       "       Directeur de these (nom prenom) Identifiant directeur  \\\n",
       "count                           448034                448047   \n",
       "unique                          159021                 98906   \n",
       "top         Directeur de these inconnu                    na   \n",
       "freq                               713                 49488   \n",
       "\n",
       "       Etablissement de soutenance Identifiant etablissement Discipline  \\\n",
       "count                       448046                    430965     448047   \n",
       "unique                         567                       572      24262   \n",
       "top                        Paris 6                  27787087   Medecine   \n",
       "freq                         21201                     20926      25914   \n",
       "\n",
       "          Statut  ... Date de soutenance Langue de la these  \\\n",
       "count     448047  ...             390961             448047   \n",
       "unique         2  ...               3991                206   \n",
       "top     soutenue  ...           01-01-94                 fr   \n",
       "freq      381360  ...              12991             334443   \n",
       "\n",
       "       Identifiant de la these Accessible en ligne Publication dans theses.fr  \\\n",
       "count                   448047              448047                     448047   \n",
       "unique                  447567                   2                       2765   \n",
       "top                    s177556                 non                   24-05-13   \n",
       "freq                         8              347699                     205882   \n",
       "\n",
       "       Mise a jour dans theses.fr Discipline_prÃ©di   Genre  \\\n",
       "count                      447870            448047  448047   \n",
       "unique                       2633                15       6   \n",
       "top                      07-07-20          Biologie    male   \n",
       "freq                        61846            100207  207639   \n",
       "\n",
       "          etablissement_rec Langue_rec  \n",
       "count                444973     383927  \n",
       "unique                  110          4  \n",
       "top     Sorbonne Université   Français  \n",
       "freq                  33498     334443  \n",
       "\n",
       "[4 rows x 21 columns]"
      ]
     },
     "execution_count": 149,
     "metadata": {},
     "output_type": "execute_result"
    }
   ],
   "source": [
    "# Présentation d'un résumé statistique es différentes variables :\n",
    "phd.describe(include = 'object')"
   ]
  },
  {
   "cell_type": "markdown",
   "metadata": {},
   "source": [
    "### II. DONNEES MANQUANTES ###"
   ]
  },
  {
   "cell_type": "markdown",
   "metadata": {},
   "source": [
    "##### 1. Matrice de nullité ####"
   ]
  },
  {
   "cell_type": "code",
   "execution_count": 150,
   "metadata": {},
   "outputs": [],
   "source": [
    "# Paramétrage du style de police des graphiques : \n",
    "plt.rcParams['font.family'] = \"EB Garamond\"\n",
    "plt.rcParams['font.size'] = 12"
   ]
  },
  {
   "cell_type": "code",
   "execution_count": 151,
   "metadata": {},
   "outputs": [],
   "source": [
    "# Calcul du taux de nullité moyen par colonne :\n",
    "taux_nullité = (phd.isnull().mean() * 100).round(1)"
   ]
  },
  {
   "cell_type": "code",
   "execution_count": 152,
   "metadata": {},
   "outputs": [],
   "source": [
    "# Classement des taux de nullité moyens par ordre décroissant :\n",
    "taux_nullité_décroissant = taux_nullité.sort_values(ascending = False)"
   ]
  },
  {
   "cell_type": "code",
   "execution_count": 153,
   "metadata": {},
   "outputs": [
    {
     "name": "stdout",
     "output_type": "stream",
     "text": [
      "Date de premiere inscription en doctorat    85.6\n",
      "Identifiant auteur                          29.1\n",
      "Langue_rec                                  14.3\n",
      "Year                                        12.7\n",
      "Date de soutenance                          12.7\n",
      "Identifiant etablissement                    3.8\n",
      "etablissement_rec                            0.7\n",
      "Langue de la these                           0.0\n",
      "Genre                                        0.0\n",
      "Discipline_prÃ©di                            0.0\n",
      "Mise a jour dans theses.fr                   0.0\n",
      "Publication dans theses.fr                   0.0\n",
      "Accessible en ligne                          0.0\n",
      "Identifiant de la these                      0.0\n",
      "Titre                                        0.0\n",
      "Directeur de these                           0.0\n",
      "Auteur                                       0.0\n",
      "Statut                                       0.0\n",
      "Discipline                                   0.0\n",
      "Etablissement de soutenance                  0.0\n",
      "Identifiant directeur                        0.0\n",
      "Directeur de these (nom prenom)              0.0\n",
      "Unnamed: 0                                   0.0\n",
      "dtype: float64\n"
     ]
    }
   ],
   "source": [
    "# Classement des colonnes par taux de nullité moyen décroissant :\n",
    "print(taux_nullité_décroissant)"
   ]
  },
  {
   "cell_type": "code",
   "execution_count": 154,
   "metadata": {},
   "outputs": [
    {
     "data": {
      "image/png": "[encoded data removed]",
      "text/plain": [
       "<Figure size 1000x600 with 1 Axes>"
      ]
     },
     "metadata": {},
     "output_type": "display_data"
    }
   ],
   "source": [
    "# Réorganisation des colonnes du tableau par taux de nullité moyen décroissant :\n",
    "phd = phd[taux_nullité_décroissant.index]\n",
    "\n",
    "# Création de la figure :\n",
    "fig, ax = plt.subplots(figsize=(10, 6))\n",
    "\n",
    "# Création de la matrice de nullité : \n",
    "msno.matrix(phd, ax = ax, sparkline = False)\n",
    "\n",
    "# création de la liste des étiquettes avec les taux de nullité moyens :\n",
    "labels = [f\"{col} ({rate:.1f}%)\" for col, rate in zip(taux_nullité_décroissant.index, taux_nullité_décroissant)]\n",
    "\n",
    "# Affichage des étiquettes de l'axe des abscisses :\n",
    "plt.gca().set_xticklabels(labels, rotation=60, fontsize = 10)\n",
    "\n",
    "# Définition des positions des graduations sur l'axe des ordonnées :\n",
    "positions_grad = [0, 50000, 100000, 150000, 200000, 250000, 300000, 350000, 400000, 450000]\n",
    "plt.gca().set_yticks(positions_grad)\n",
    "\n",
    "# Affichage des étiquettes de l'axe des ordonnées :\n",
    "etiquettes_grad = ['0', '50k', '100k', '150k', '200k', '250k', '300k', '350k', '400k', '450k']\n",
    "plt.gca().set_yticklabels(etiquettes_grad, \n",
    "                          rotation=0, \n",
    "                          fontsize = 10)\n",
    "\n",
    "# Ajout de l'étiquette de l'axe des y : \n",
    "plt.ylabel(\"Observations\", fontsize = 10)\n",
    "\n",
    "# Ajout des graduations sur l'axe des y :\n",
    "plt.yticks([0, 100000, 200000, 300000, 400000], color = 'r')\n",
    "\n",
    "# Calcul des pourcentages de données manquantes et non manquantes :\n",
    "total_cellules = phd.shape[0] * phd.shape[1]\n",
    "cellules_manquantes = phd.isnull().sum().sum()\n",
    "pourcentage_manquant = (cellules_manquantes / total_cellules) * 100\n",
    "pourcentage_non_manquant = 100 - pourcentage_manquant\n",
    "\n",
    "# Affichage de la grille :\n",
    "plt.grid(which='major', \n",
    "         axis = 'y', \n",
    "         color = 'r', \n",
    "         linestyle = '--')\n",
    "\n",
    "# Définition des annotations pour la légende :\n",
    "gray_patch = mpatches.Patch(color = 'dimgray', \n",
    "                            label = f\"Données présentes ({pourcentage_non_manquant:.1f}%)\")\n",
    "white_patch = mpatches.Patch(color = 'white',\n",
    "                             label = f\"Données manquantes ({pourcentage_manquant:.1f}%)\")\n",
    "plt.legend(handles = [gray_patch, white_patch])\n",
    "\n",
    "# Affichage du graphique :\n",
    "plt.show()"
   ]
  },
  {
   "cell_type": "markdown",
   "metadata": {},
   "source": [
    "#### 2. Heatmap ####"
   ]
  },
  {
   "cell_type": "code",
   "execution_count": 155,
   "metadata": {},
   "outputs": [
    {
     "data": {
      "text/plain": [
       "0     enCours\n",
       "1     enCours\n",
       "2    soutenue\n",
       "Name: Statut, dtype: object"
      ]
     },
     "execution_count": 155,
     "metadata": {},
     "output_type": "execute_result"
    }
   ],
   "source": [
    "# Affichage des premières lignes du tableau :\n",
    "phd['Statut'].head(3)"
   ]
  },
  {
   "cell_type": "code",
   "execution_count": 274,
   "metadata": {},
   "outputs": [
    {
     "data": {
      "image/png": "[encoded data removed]",
      "text/plain": [
       "<Figure size 640x480 with 2 Axes>"
      ]
     },
     "metadata": {},
     "output_type": "display_data"
    }
   ],
   "source": [
    "# Définition des étiquettes des axes :\n",
    "etiquettes_x = phd['Statut'].unique()\n",
    "etiquettes_y = taux_nullité_décroissant.index[:7]\n",
    "\n",
    "# Création de la matrice :\n",
    "matrice_taux_nullite = pd.DataFrame(0.0, \n",
    "                                    index = etiquettes_y, \n",
    "                                    columns = etiquettes_x)\n",
    "\n",
    "# Ajout des taux de nullité pour chaque combinaison de statut et colonne :\n",
    "for col in etiquettes_y:\n",
    "    for statut in etiquettes_x:\n",
    "        # Filtre du DataFrame pour le statut actuel :\n",
    "        df_filtre = phd[phd['Statut'] == statut]\n",
    "        # Calcul du taux de valeurs nulles pour la colonne actuelle dans le statut filtré :\n",
    "        taux_null = df_filtre[col].isnull().mean()\n",
    "        # Conversion de taux_null en float si nécessaire :\n",
    "        taux_null = float(taux_null)\n",
    "        # Assignation du taux de valeurs nulles à la matrice :\n",
    "        matrice_taux_nullite.loc[col, statut] = float(taux_null)\n",
    "\n",
    "# Création de la heatmap avec Seaborn :\n",
    "sns.heatmap(matrice_taux_nullite, \n",
    "            annot = True,\n",
    "            linewidths =.5,\n",
    "            cmap = \"YlGnBu\")\n",
    "\n",
    "# Obtention de l'axe actuel :\n",
    "ax = plt.gca()\n",
    "\n",
    "# Ajout des titres des axes :\n",
    "ax.set_xlabel('Statut de la thèse',\n",
    "              fontsize = 12)\n",
    "ax.set_ylabel(\"variables avec le plus haut taux de valeurs absentes\",\n",
    "              fontsize = 12)\n",
    "\n",
    "# Affichage de la heatmap :\n",
    "plt.show()"
   ]
  },
  {
   "cell_type": "markdown",
   "metadata": {},
   "source": [
    "#### 3. Matrice de nullité filtrée ####"
   ]
  },
  {
   "cell_type": "code",
   "execution_count": 157,
   "metadata": {},
   "outputs": [
    {
     "data": {
      "image/png": "[encoded data removed]",
      "text/plain": [
       "<Figure size 1000x600 with 1 Axes>"
      ]
     },
     "metadata": {},
     "output_type": "display_data"
    }
   ],
   "source": [
    "# Tri des colonnes par taux de nullité moyen décroissant :\n",
    "phd = phd[taux_nullité_décroissant.index]\n",
    "\n",
    "# Création de la figure :\n",
    "fig, ax = plt.subplots(figsize=(10, 6))\n",
    "\n",
    "# Tri des données par la première colonne ('Date de premiere inscription en doctorat') :\n",
    "phd_triés = phd.sort_values('Date de premiere inscription en doctorat')\n",
    "\n",
    "# Création de la matrice de nullité avec les données triées :\n",
    "msno.matrix(phd_triés, ax = ax, sparkline = False)\n",
    "\n",
    "# Création des étiquettes pour l'axe des abscisses :\n",
    "labels = [f\"{col} ({rate:.1f}%)\" for col, rate in zip(taux_nullité_décroissant.index, taux_nullité_décroissant)]\n",
    "\n",
    "# Rotation et taille des étiquettes de l'axe des abscisses :\n",
    "plt.gca().set_xticklabels(labels, rotation = 60, fontsize = 10)\n",
    "\n",
    "# Définition des positions des graduations sur l'axe des ordonnées :\n",
    "positions_grad = [0, 50000, 100000, 150000, 200000, 250000, 300000, 350000, 400000, 450000]\n",
    "plt.gca().set_yticks(positions_grad)\n",
    "\n",
    "# Étiquettes des graduations sur l'axe des ordonnées :\n",
    "etiquettes_grad = ['0', '50k', '100k', '150k', '200k', '250k', '300k', '350k', '400k', '450k']\n",
    "plt.gca().set_yticklabels(etiquettes_grad, rotation = 0, fontsize = 10)\n",
    "\n",
    "# Ajout du label de l'axe des ordonnées :\n",
    "plt.ylabel(\"Observations\", fontsize = 10)\n",
    "\n",
    "# Personnalisation des graduations sur l'axe des y :\n",
    "plt.yticks([0, 100000, 200000, 300000, 400000], color = 'r')\n",
    "\n",
    "# Calcul des pourcentages de données manquantes et non manquantes :\n",
    "total_cells = phd.shape[0] * phd.shape[1]\n",
    "missing_cells = phd.isnull().sum().sum()\n",
    "percent_missing = (missing_cells / total_cells) * 100\n",
    "percent_non_missing = 100 - percent_missing\n",
    "\n",
    "# Affichage de la grille :\n",
    "plt.grid(which = 'major',\n",
    "         axis = 'y', \n",
    "         color = 'r',\n",
    "         linestyle = '--')\n",
    "\n",
    "# Définition des annotations pour la légende :\n",
    "gray_patch = mpatches.Patch(color='dimgray', label=f\"Données présentes ({percent_non_missing:.1f}%)\")\n",
    "white_patch = mpatches.Patch(color='white', label=f\"Données manquantes ({percent_missing:.1f}%)\")\n",
    "plt.legend(handles=[gray_patch, white_patch])\n",
    "\n",
    "# Affichage du graphique :\n",
    "plt.show()"
   ]
  },
  {
   "cell_type": "markdown",
   "metadata": {},
   "source": [
    "#### 4. Dendrogramme des données manquantes ####"
   ]
  },
  {
   "cell_type": "code",
   "execution_count": 277,
   "metadata": {},
   "outputs": [
    {
     "data": {
      "image/png": "[encoded data removed]",
      "text/plain": [
       "<Figure size 1000x400 with 1 Axes>"
      ]
     },
     "metadata": {},
     "output_type": "display_data"
    }
   ],
   "source": [
    "# Création du tableau filtré : \n",
    "Liste_correlations = phd[['Date de premiere inscription en doctorat',\n",
    "                          'Identifiant auteur',\n",
    "                          'Langue_rec',\n",
    "                          'Year',\n",
    "                          'Date de soutenance',\n",
    "                          'Identifiant etablissement',\n",
    "                          'etablissement_rec']]\n",
    "\n",
    "# Création du dendrogramme :\n",
    "msno.dendrogram(Liste_correlations)\n",
    "\n",
    "# Personnalisation du dendrogramme :\n",
    "plt.xlabel('Variables', fontsize = 10) \n",
    "plt.ylabel('Distance', fontsize = 10)  \n",
    "plt.xticks(rotation = 45, fontsize = 10)  \n",
    "plt.yticks(fontsize = 10)\n",
    "\n",
    "# Changement de la taille de la figure :\n",
    "plt.gcf().set_size_inches(10, 4)\n",
    "\n",
    "# Affichage du graphique :\n",
    "plt.show()"
   ]
  },
  {
   "cell_type": "markdown",
   "metadata": {},
   "source": [
    "### III. PRINCIPAUX PROBLEMES DETECTES ###"
   ]
  },
  {
   "cell_type": "markdown",
   "metadata": {},
   "source": [
    "##### 1. Nombre de soutenances par mois #####"
   ]
  },
  {
   "cell_type": "markdown",
   "metadata": {},
   "source": [
    "_a. Ajout de colonnes au tableau_"
   ]
  },
  {
   "cell_type": "code",
   "execution_count": 279,
   "metadata": {},
   "outputs": [
    {
     "name": "stdout",
     "output_type": "stream",
     "text": [
      "   Jour de soutenance Mois de soutenance  Année de soutenance\n",
      "0                   0            inconnu                    0\n",
      "1                   0            inconnu                    0\n",
      "2                   1            janvier                 1993\n"
     ]
    }
   ],
   "source": [
    "# Conversion des données de la colonne \"Date de soutenance\" au format date :\n",
    "phd['Date de soutenance'] = pd.to_datetime(phd['Date de soutenance'], errors = 'coerce')\n",
    "\n",
    "# Ajout d'une colonne \"jour de soutenance\" au tableau phd :\n",
    "phd['Jour de soutenance'] = phd['Date de soutenance'].dt.day.fillna(0).astype(int)\n",
    "\n",
    "# Ajout d'une colonne \"mois de soutenance\" au tableau phd :\n",
    "phd['Mois de soutenance'] = phd['Date de soutenance'].dt.month.fillna(0).astype(int)\n",
    "\n",
    "# Ajout d'une colonne \"année de soutenance\" au tableau phd :\n",
    "phd['Année de soutenance'] = phd['Date de soutenance'].dt.year.fillna(0).astype(int)\n",
    "\n",
    "# Création du dictionnaire des mois de l'année :\n",
    "mois_dict = {                  \n",
    "    1 : 'janvier', \n",
    "    2 : 'février', \n",
    "    3 : 'mars', \n",
    "    4 : 'avril',\n",
    "    5 : 'mai', \n",
    "    6 : 'juin', \n",
    "    7 : 'juillet', \n",
    "    8 : 'août',\n",
    "    9 : 'septembre', \n",
    "    10 : 'octobre', \n",
    "    11 : 'novembre', \n",
    "    12 : 'décembre'}\n",
    "\n",
    "# Définition de l'ordre des mois :\n",
    "mois_ordonnés = ['janvier', \n",
    "                 'février', \n",
    "                 'mars', \n",
    "                 'avril', \n",
    "                 'mai', \n",
    "                 'juin', \n",
    "                 'juillet', \n",
    "                 'août', \n",
    "                 'septembre', \n",
    "                 'octobre', \n",
    "                 'novembre', \n",
    "                 'décembre']\n",
    "\n",
    "# Définition de l'ordre des années :\n",
    "années_ordonnées = list(map(str, range(2005, 2019)))\n",
    "\n",
    "# Remplacement des valeurs numériques représentant les mois de l'année par des noms\n",
    "phd['Mois de soutenance'] = phd['Mois de soutenance'].map(mois_dict).fillna('inconnu')\n",
    "\n",
    "# Conversion des séries en DataFrames :\n",
    "phd_jour_soutenance = phd[['Jour de soutenance']]\n",
    "phd_mois_soutenance = phd[['Mois de soutenance']]\n",
    "phd_année_soutenance = phd[['Année de soutenance']]\n",
    "\n",
    "# Affichage du tableau phd avec les trois colonnes en plus :\n",
    "print(phd.iloc[ : 3, -3 : ])"
   ]
  },
  {
   "cell_type": "markdown",
   "metadata": {},
   "source": [
    "_b. Définition de la période_"
   ]
  },
  {
   "cell_type": "code",
   "execution_count": 219,
   "metadata": {},
   "outputs": [
    {
     "name": "stdout",
     "output_type": "stream",
     "text": [
      "  Mois de soutenance  Année de soutenance\n",
      "2            janvier                 1993\n",
      "5           novembre                 2008\n",
      "6            janvier                 2005\n"
     ]
    }
   ],
   "source": [
    "# Définition de la période pour filtrer les données :\n",
    "date_début = '1984-01-01'\n",
    "date_fin = '2018-12-31'\n",
    "\n",
    "# Création d'un nouveau dataframe filtré sur la période précisée :\n",
    "Filtre = (phd['Date de soutenance'] >= date_début) & (phd['Date de soutenance'] <= date_fin)\n",
    "phd_1984_2018 = phd.loc[Filtre]\n",
    "\n",
    "# Affichage des deux dernières colonnes du tableau :\n",
    "print(phd_1984_2018.iloc[ : 3, -2 : ])"
   ]
  },
  {
   "cell_type": "markdown",
   "metadata": {},
   "source": [
    "_c. distribution du mois de soutenance, entre 1984 et 2018_"
   ]
  },
  {
   "cell_type": "code",
   "execution_count": 220,
   "metadata": {},
   "outputs": [
    {
     "data": {
      "image/png": "[encoded data removed]",
      "text/plain": [
       "<Figure size 600x600 with 1 Axes>"
      ]
     },
     "metadata": {},
     "output_type": "display_data"
    }
   ],
   "source": [
    "# Configuration du style :\n",
    "plt.rcParams['font.family'] = \"EB Garamond\"\n",
    "plt.rcParams['font.size'] = 12\n",
    "\n",
    "# Configuration de la taille de la figure :\n",
    "plt.figure(figsize = (6, 6))\n",
    "\n",
    "# Création du graphique de distribution :\n",
    "sns.countplot(data = phd_1984_2018,\n",
    "              x = 'Mois de soutenance',\n",
    "              order = mois_ordonnés)\n",
    "\n",
    "# Personnalisation des étiquettes du tracé :\n",
    "plt.xticks(rotation = 60)\n",
    "\n",
    "# Ajout des titres aux axes :\n",
    "plt.xlabel('Mois de soutenance') \n",
    "plt.ylabel('Nombre de soutenances')  \n",
    "\n",
    "# Affichage du tracé :\n",
    "plt.show()\n"
   ]
  },
  {
   "cell_type": "markdown",
   "metadata": {},
   "source": [
    "##### 2. Nombre de soutenances par mois en fonction des années #####"
   ]
  },
  {
   "cell_type": "markdown",
   "metadata": {},
   "source": [
    "_a. Création du filtre temporel_"
   ]
  },
  {
   "cell_type": "code",
   "execution_count": 162,
   "metadata": {},
   "outputs": [
    {
     "name": "stdout",
     "output_type": "stream",
     "text": [
      "  Mois de soutenance  Année de soutenance\n",
      "5           novembre                 2008\n",
      "6            janvier                 2005\n",
      "7               août                 2009\n"
     ]
    }
   ],
   "source": [
    "# Définition de la période pour filtrer les données :\n",
    "date_début_revu = '2005-01-01'\n",
    "date_fin_revu = '2018-12-31'\n",
    "\n",
    "# Création d'un nouveau dataframe filtré sur la période précisée :\n",
    "Filtre_revu = (phd_1984_2018['Date de soutenance'] >= date_début_revu) & (phd_1984_2018['Date de soutenance'] <= date_fin_revu)\n",
    "phd_2005_2018 = phd_1984_2018.loc[Filtre_revu]\n",
    "\n",
    "# Affichage du tableau :\n",
    "print(phd_2005_2018.iloc[ : 3, -2 : ])\n",
    "\n",
    "plt.show()"
   ]
  },
  {
   "cell_type": "markdown",
   "metadata": {},
   "source": [
    "_b. Calcul des proportions de soutenances par mois et par années_"
   ]
  },
  {
   "cell_type": "code",
   "execution_count": 281,
   "metadata": {},
   "outputs": [
    {
     "data": {
      "image/png": "[encoded data removed]",
      "text/plain": [
       "<Figure size 1200x1200 with 14 Axes>"
      ]
     },
     "metadata": {},
     "output_type": "display_data"
    }
   ],
   "source": [
    "# Configuration du style du graphique :\n",
    "plt.rcParams['font.family'] = \"EB Garamond\"\n",
    "plt.rcParams['font.size'] = 12\n",
    "\n",
    "# Création du graphique :\n",
    "g = sns.FacetGrid(phd_2005_2018, \n",
    "                  col = 'Année de soutenance',\n",
    "                  col_wrap = 4,\n",
    "                  row_order = années_ordonnées)\n",
    "    \n",
    "g.map(sns.countplot,\n",
    "          'Mois de soutenance',\n",
    "          order = mois_ordonnés)\n",
    "\n",
    "# Modification des titres des sous-graphiques :\n",
    "g.set_titles(\"{col_name}\")\n",
    "\n",
    "# Ajout de l'étiquette de l'axe des y :\n",
    "g.set_axis_labels(\"Mois de soutenance\", \"Nombre de soutenances\")\n",
    "\n",
    "# Rotation et taille des labels de l'axe x :\n",
    "for ax in g.axes.flat:\n",
    "    ax.tick_params(axis = 'x', \n",
    "                   labelrotation = 90, \n",
    "                   labelsize = 12)\n",
    "\n",
    "# Affichage du graphique :\n",
    "plt.show()"
   ]
  },
  {
   "cell_type": "markdown",
   "metadata": {},
   "source": [
    "##### 3. Proportion de thèses soutenues au fil des mois #####"
   ]
  },
  {
   "cell_type": "markdown",
   "metadata": {},
   "source": [
    "_a. Extraction des données nécessaires à la création d'une base intermédiaire_"
   ]
  },
  {
   "cell_type": "code",
   "execution_count": 164,
   "metadata": {},
   "outputs": [
    {
     "data": {
      "text/plain": [
       "Mois de soutenance\n",
       "janvier      287704\n",
       "inconnu       57086\n",
       "décembre      18293\n",
       "novembre      17075\n",
       "septembre     12869\n",
       "octobre       11197\n",
       "juin          10411\n",
       "mai            6948\n",
       "mars           6878\n",
       "avril          5547\n",
       "février        5085\n",
       "juillet        5046\n",
       "août           3908\n",
       "Name: count, dtype: int64"
      ]
     },
     "execution_count": 164,
     "metadata": {},
     "output_type": "execute_result"
    }
   ],
   "source": [
    "# Calcul du total des soutenances par mois :\n",
    "soutenances_total = phd['Mois de soutenance'].value_counts()\n",
    "\n",
    "# Affichage du tableau avec le nombre de soutenances par mois :\n",
    "soutenances_total"
   ]
  },
  {
   "cell_type": "code",
   "execution_count": 282,
   "metadata": {},
   "outputs": [
    {
     "name": "stdout",
     "output_type": "stream",
     "text": [
      "Mois de soutenance\n",
      "janvier      64.2\n",
      "inconnu      12.7\n",
      "décembre      4.1\n",
      "novembre      3.8\n",
      "septembre     2.9\n",
      "octobre       2.5\n",
      "juin          2.3\n",
      "mai           1.6\n",
      "mars          1.5\n",
      "avril         1.2\n",
      "février       1.1\n",
      "juillet       1.1\n",
      "août          0.9\n",
      "Name: proportion, dtype: float64\n"
     ]
    }
   ],
   "source": [
    "# Calcul de la proportion moyenne de soutenances par mois :\n",
    "soutenance_prop = phd['Mois de soutenance'].value_counts(normalize = True) * 100\n",
    "\n",
    "# Arrondi à un chiffre après la virgule :\n",
    "soutenance_prop_arrondi = soutenance_prop.round(1)\n",
    "\n",
    "# Affichage du tableau comportant les mois de soutenance et les proportions associées :\n",
    "print(soutenance_prop_arrondi)"
   ]
  },
  {
   "cell_type": "code",
   "execution_count": 284,
   "metadata": {},
   "outputs": [
    {
     "name": "stdout",
     "output_type": "stream",
     "text": [
      "Le total des taux de soutenance mensuels est égal à  99.9 %.\n"
     ]
    }
   ],
   "source": [
    "# Affichage de la proportion de soutenances globale :\n",
    "print('Le total des taux de soutenance mensuels est égal à ', soutenance_prop_arrondi.sum().round(1), \"%.\")"
   ]
  },
  {
   "cell_type": "markdown",
   "metadata": {},
   "source": [
    "_b. Création du dataframe intermédiaire_"
   ]
  },
  {
   "cell_type": "code",
   "execution_count": 285,
   "metadata": {},
   "outputs": [
    {
     "data": {
      "text/html": [
       "<div>\n",
       "<style scoped>\n",
       "    .dataframe tbody tr th:only-of-type {\n",
       "        vertical-align: middle;\n",
       "    }\n",
       "\n",
       "    .dataframe tbody tr th {\n",
       "        vertical-align: top;\n",
       "    }\n",
       "\n",
       "    .dataframe thead th {\n",
       "        text-align: right;\n",
       "    }\n",
       "</style>\n",
       "<table border=\"1\" class=\"dataframe\">\n",
       "  <thead>\n",
       "    <tr style=\"text-align: right;\">\n",
       "      <th></th>\n",
       "      <th>Mois</th>\n",
       "      <th>Proportion (%)</th>\n",
       "    </tr>\n",
       "  </thead>\n",
       "  <tbody>\n",
       "    <tr>\n",
       "      <th>0</th>\n",
       "      <td>janvier</td>\n",
       "      <td>64.2</td>\n",
       "    </tr>\n",
       "    <tr>\n",
       "      <th>1</th>\n",
       "      <td>inconnu</td>\n",
       "      <td>12.7</td>\n",
       "    </tr>\n",
       "    <tr>\n",
       "      <th>2</th>\n",
       "      <td>décembre</td>\n",
       "      <td>4.1</td>\n",
       "    </tr>\n",
       "    <tr>\n",
       "      <th>3</th>\n",
       "      <td>novembre</td>\n",
       "      <td>3.8</td>\n",
       "    </tr>\n",
       "    <tr>\n",
       "      <th>4</th>\n",
       "      <td>septembre</td>\n",
       "      <td>2.9</td>\n",
       "    </tr>\n",
       "    <tr>\n",
       "      <th>5</th>\n",
       "      <td>octobre</td>\n",
       "      <td>2.5</td>\n",
       "    </tr>\n",
       "    <tr>\n",
       "      <th>6</th>\n",
       "      <td>juin</td>\n",
       "      <td>2.3</td>\n",
       "    </tr>\n",
       "    <tr>\n",
       "      <th>7</th>\n",
       "      <td>mai</td>\n",
       "      <td>1.6</td>\n",
       "    </tr>\n",
       "    <tr>\n",
       "      <th>8</th>\n",
       "      <td>mars</td>\n",
       "      <td>1.5</td>\n",
       "    </tr>\n",
       "    <tr>\n",
       "      <th>9</th>\n",
       "      <td>avril</td>\n",
       "      <td>1.2</td>\n",
       "    </tr>\n",
       "    <tr>\n",
       "      <th>10</th>\n",
       "      <td>février</td>\n",
       "      <td>1.1</td>\n",
       "    </tr>\n",
       "    <tr>\n",
       "      <th>11</th>\n",
       "      <td>juillet</td>\n",
       "      <td>1.1</td>\n",
       "    </tr>\n",
       "    <tr>\n",
       "      <th>12</th>\n",
       "      <td>août</td>\n",
       "      <td>0.9</td>\n",
       "    </tr>\n",
       "  </tbody>\n",
       "</table>\n",
       "</div>"
      ],
      "text/plain": [
       "         Mois  Proportion (%)\n",
       "0     janvier            64.2\n",
       "1     inconnu            12.7\n",
       "2    décembre             4.1\n",
       "3    novembre             3.8\n",
       "4   septembre             2.9\n",
       "5     octobre             2.5\n",
       "6        juin             2.3\n",
       "7         mai             1.6\n",
       "8        mars             1.5\n",
       "9       avril             1.2\n",
       "10    février             1.1\n",
       "11    juillet             1.1\n",
       "12       août             0.9"
      ]
     },
     "execution_count": 285,
     "metadata": {},
     "output_type": "execute_result"
    }
   ],
   "source": [
    "# Mois de soutenance et leurs proportions :\n",
    "mois = soutenance_prop_arrondi.index.tolist()\n",
    "proportions = soutenance_prop_arrondi.tolist()\n",
    "\n",
    "# Création du DataFrame :\n",
    "df_soutenances_prop = pd.DataFrame({\n",
    "     'Mois': mois,\n",
    "     'Proportion (%)': proportions\n",
    "})\n",
    "\n",
    "# Affichage du DataFrame :\n",
    "df_soutenances_prop"
   ]
  },
  {
   "cell_type": "markdown",
   "metadata": {},
   "source": [
    "_c. Création du graphique_"
   ]
  },
  {
   "cell_type": "code",
   "execution_count": 296,
   "metadata": {},
   "outputs": [
    {
     "data": {
      "image/png": "[encoded data removed]",
      "text/plain": [
       "<Figure size 600x600 with 1 Axes>"
      ]
     },
     "metadata": {},
     "output_type": "display_data"
    }
   ],
   "source": [
    "# Configuration de la police du graphique :\n",
    "plt.rcParams['font.family'] = \"EB Garamond\"\n",
    "plt.rcParams['font.size'] = 12\n",
    "\n",
    "# Configuration de la taille de la figure :\n",
    "plt.figure(figsize = (6, 6))\n",
    "\n",
    "# Création du graphique :\n",
    "g = sns.barplot(\n",
    "    data = df_soutenances_prop,\n",
    "    x = 'Mois',\n",
    "    y = 'Proportion (%)',\n",
    "    order = mois_ordonnés)\n",
    "\n",
    "# Ajout de l'étiquette de l'axe des y :\n",
    "g.set(xlabel=\"Mois\", ylabel=\"Proportion de soutenances (en %)\")\n",
    "\n",
    "# Ajout d'une rotation des étiquettes de l'axe des x :\n",
    "plt.xticks(rotation = 60)\n",
    "\n",
    "# Affichage du graphique :\n",
    "plt.show()"
   ]
  },
  {
   "cell_type": "markdown",
   "metadata": {},
   "source": [
    "##### 4. Proportion de thèses soutenues au 1er janvier #####"
   ]
  },
  {
   "cell_type": "markdown",
   "metadata": {},
   "source": [
    "_a. Définition de la période_"
   ]
  },
  {
   "cell_type": "code",
   "execution_count": 223,
   "metadata": {},
   "outputs": [
    {
     "data": {
      "text/html": [
       "<div>\n",
       "<style scoped>\n",
       "    .dataframe tbody tr th:only-of-type {\n",
       "        vertical-align: middle;\n",
       "    }\n",
       "\n",
       "    .dataframe tbody tr th {\n",
       "        vertical-align: top;\n",
       "    }\n",
       "\n",
       "    .dataframe thead th {\n",
       "        text-align: right;\n",
       "    }\n",
       "</style>\n",
       "<table border=\"1\" class=\"dataframe\">\n",
       "  <thead>\n",
       "    <tr style=\"text-align: right;\">\n",
       "      <th></th>\n",
       "      <th>Jour de soutenance</th>\n",
       "      <th>Mois de soutenance</th>\n",
       "      <th>Année de soutenance</th>\n",
       "      <th>Date de soutenance</th>\n",
       "    </tr>\n",
       "  </thead>\n",
       "  <tbody>\n",
       "    <tr>\n",
       "      <th>2</th>\n",
       "      <td>1</td>\n",
       "      <td>janvier</td>\n",
       "      <td>1993</td>\n",
       "      <td>1993-01-01</td>\n",
       "    </tr>\n",
       "    <tr>\n",
       "      <th>79</th>\n",
       "      <td>1</td>\n",
       "      <td>janvier</td>\n",
       "      <td>2015</td>\n",
       "      <td>2015-01-01</td>\n",
       "    </tr>\n",
       "    <tr>\n",
       "      <th>134</th>\n",
       "      <td>1</td>\n",
       "      <td>janvier</td>\n",
       "      <td>2015</td>\n",
       "      <td>2015-01-01</td>\n",
       "    </tr>\n",
       "  </tbody>\n",
       "</table>\n",
       "</div>"
      ],
      "text/plain": [
       "     Jour de soutenance Mois de soutenance  Année de soutenance  \\\n",
       "2                     1            janvier                 1993   \n",
       "79                    1            janvier                 2015   \n",
       "134                   1            janvier                 2015   \n",
       "\n",
       "    Date de soutenance  \n",
       "2           1993-01-01  \n",
       "79          2015-01-01  \n",
       "134         2015-01-01  "
      ]
     },
     "execution_count": 223,
     "metadata": {},
     "output_type": "execute_result"
    }
   ],
   "source": [
    "# Définition de la période pour filtrer les données :\n",
    "jour_soutenance = 1\n",
    "mois_soutenance = 'janvier'\n",
    "\n",
    "# Création d'un nouveau dataframe filtré sur la période précisée :\n",
    "Filtre_date = (phd_1984_2018['Mois de soutenance'] == mois_soutenance) & (phd_1984_2018['Jour de soutenance'] == jour_soutenance)\n",
    "phd_jan_01 = phd_1984_2018.loc[Filtre_date]\n",
    "\n",
    "# Affichage du tableau :\n",
    "phd_jan_01.iloc[ : 10, -3 : ].join(phd_jan_01['Date de soutenance']).head(3)"
   ]
  },
  {
   "cell_type": "markdown",
   "metadata": {},
   "source": [
    "_b. Création du dataframe_"
   ]
  },
  {
   "cell_type": "code",
   "execution_count": 224,
   "metadata": {},
   "outputs": [
    {
     "data": {
      "text/html": [
       "<div>\n",
       "<style scoped>\n",
       "    .dataframe tbody tr th:only-of-type {\n",
       "        vertical-align: middle;\n",
       "    }\n",
       "\n",
       "    .dataframe tbody tr th {\n",
       "        vertical-align: top;\n",
       "    }\n",
       "\n",
       "    .dataframe thead th {\n",
       "        text-align: right;\n",
       "    }\n",
       "</style>\n",
       "<table border=\"1\" class=\"dataframe\">\n",
       "  <thead>\n",
       "    <tr style=\"text-align: right;\">\n",
       "      <th></th>\n",
       "      <th>Année de soutenance</th>\n",
       "      <th>Jour de soutenance</th>\n",
       "    </tr>\n",
       "  </thead>\n",
       "  <tbody>\n",
       "    <tr>\n",
       "      <th>0</th>\n",
       "      <td>1984</td>\n",
       "      <td>6</td>\n",
       "    </tr>\n",
       "    <tr>\n",
       "      <th>1</th>\n",
       "      <td>1985</td>\n",
       "      <td>3007</td>\n",
       "    </tr>\n",
       "    <tr>\n",
       "      <th>2</th>\n",
       "      <td>1986</td>\n",
       "      <td>5162</td>\n",
       "    </tr>\n",
       "  </tbody>\n",
       "</table>\n",
       "</div>"
      ],
      "text/plain": [
       "   Année de soutenance  Jour de soutenance\n",
       "0                 1984                   6\n",
       "1                 1985                3007\n",
       "2                 1986                5162"
      ]
     },
     "execution_count": 224,
     "metadata": {},
     "output_type": "execute_result"
    }
   ],
   "source": [
    "# Création du DataFrame avec le nombre de soutenances par années :\n",
    "total_soutenances_par_années = pd.DataFrame(phd_1984_2018.groupby(\"Année de soutenance\")[\"Jour de soutenance\"].count().reset_index())\n",
    "total_soutenances_par_années.head(3)"
   ]
  },
  {
   "cell_type": "code",
   "execution_count": 225,
   "metadata": {},
   "outputs": [
    {
     "data": {
      "text/html": [
       "<div>\n",
       "<style scoped>\n",
       "    .dataframe tbody tr th:only-of-type {\n",
       "        vertical-align: middle;\n",
       "    }\n",
       "\n",
       "    .dataframe tbody tr th {\n",
       "        vertical-align: top;\n",
       "    }\n",
       "\n",
       "    .dataframe thead th {\n",
       "        text-align: right;\n",
       "    }\n",
       "</style>\n",
       "<table border=\"1\" class=\"dataframe\">\n",
       "  <thead>\n",
       "    <tr style=\"text-align: right;\">\n",
       "      <th></th>\n",
       "      <th>Année de soutenance</th>\n",
       "      <th>Jour de soutenance</th>\n",
       "    </tr>\n",
       "  </thead>\n",
       "  <tbody>\n",
       "    <tr>\n",
       "      <th>0</th>\n",
       "      <td>1984</td>\n",
       "      <td>6</td>\n",
       "    </tr>\n",
       "    <tr>\n",
       "      <th>1</th>\n",
       "      <td>1985</td>\n",
       "      <td>3007</td>\n",
       "    </tr>\n",
       "    <tr>\n",
       "      <th>2</th>\n",
       "      <td>1986</td>\n",
       "      <td>5162</td>\n",
       "    </tr>\n",
       "  </tbody>\n",
       "</table>\n",
       "</div>"
      ],
      "text/plain": [
       "   Année de soutenance  Jour de soutenance\n",
       "0                 1984                   6\n",
       "1                 1985                3007\n",
       "2                 1986                5162"
      ]
     },
     "execution_count": 225,
     "metadata": {},
     "output_type": "execute_result"
    }
   ],
   "source": [
    "# Création du dataframe avec le nombre de soutenances faites le 1ER janvier :\n",
    "total_soutenances_01_01_par_années = pd.DataFrame(phd_jan_01.groupby(\"Année de soutenance\")[\"Jour de soutenance\"].count().reset_index())\n",
    "total_soutenances_01_01_par_années.head(3)"
   ]
  },
  {
   "cell_type": "code",
   "execution_count": 226,
   "metadata": {},
   "outputs": [
    {
     "data": {
      "text/html": [
       "<div>\n",
       "<style scoped>\n",
       "    .dataframe tbody tr th:only-of-type {\n",
       "        vertical-align: middle;\n",
       "    }\n",
       "\n",
       "    .dataframe tbody tr th {\n",
       "        vertical-align: top;\n",
       "    }\n",
       "\n",
       "    .dataframe thead th {\n",
       "        text-align: right;\n",
       "    }\n",
       "</style>\n",
       "<table border=\"1\" class=\"dataframe\">\n",
       "  <thead>\n",
       "    <tr style=\"text-align: right;\">\n",
       "      <th></th>\n",
       "      <th>Année de soutenance</th>\n",
       "      <th>Jour de soutenance_x</th>\n",
       "      <th>Jour de soutenance_y</th>\n",
       "    </tr>\n",
       "  </thead>\n",
       "  <tbody>\n",
       "    <tr>\n",
       "      <th>0</th>\n",
       "      <td>1984</td>\n",
       "      <td>6</td>\n",
       "      <td>6</td>\n",
       "    </tr>\n",
       "    <tr>\n",
       "      <th>1</th>\n",
       "      <td>1985</td>\n",
       "      <td>3007</td>\n",
       "      <td>3007</td>\n",
       "    </tr>\n",
       "    <tr>\n",
       "      <th>2</th>\n",
       "      <td>1986</td>\n",
       "      <td>5162</td>\n",
       "      <td>5162</td>\n",
       "    </tr>\n",
       "  </tbody>\n",
       "</table>\n",
       "</div>"
      ],
      "text/plain": [
       "   Année de soutenance  Jour de soutenance_x  Jour de soutenance_y\n",
       "0                 1984                     6                     6\n",
       "1                 1985                  3007                  3007\n",
       "2                 1986                  5162                  5162"
      ]
     },
     "execution_count": 226,
     "metadata": {},
     "output_type": "execute_result"
    }
   ],
   "source": [
    "# Fusion des deux dataframes : \n",
    "phd_total_soutenances_fusion= pd.merge(total_soutenances_par_années, \n",
    "                                       total_soutenances_01_01_par_années, \n",
    "                                       on=\"Année de soutenance\")\n",
    "\n",
    "phd_total_soutenances_fusion.head(3)"
   ]
  },
  {
   "cell_type": "code",
   "execution_count": 227,
   "metadata": {},
   "outputs": [
    {
     "data": {
      "text/html": [
       "<div>\n",
       "<style scoped>\n",
       "    .dataframe tbody tr th:only-of-type {\n",
       "        vertical-align: middle;\n",
       "    }\n",
       "\n",
       "    .dataframe tbody tr th {\n",
       "        vertical-align: top;\n",
       "    }\n",
       "\n",
       "    .dataframe thead th {\n",
       "        text-align: right;\n",
       "    }\n",
       "</style>\n",
       "<table border=\"1\" class=\"dataframe\">\n",
       "  <thead>\n",
       "    <tr style=\"text-align: right;\">\n",
       "      <th></th>\n",
       "      <th>Année de soutenance</th>\n",
       "      <th>Total Soutenances</th>\n",
       "      <th>Total Soutenances 01-01</th>\n",
       "    </tr>\n",
       "  </thead>\n",
       "  <tbody>\n",
       "    <tr>\n",
       "      <th>0</th>\n",
       "      <td>1984</td>\n",
       "      <td>6</td>\n",
       "      <td>6</td>\n",
       "    </tr>\n",
       "    <tr>\n",
       "      <th>1</th>\n",
       "      <td>1985</td>\n",
       "      <td>3007</td>\n",
       "      <td>3007</td>\n",
       "    </tr>\n",
       "    <tr>\n",
       "      <th>2</th>\n",
       "      <td>1986</td>\n",
       "      <td>5162</td>\n",
       "      <td>5162</td>\n",
       "    </tr>\n",
       "  </tbody>\n",
       "</table>\n",
       "</div>"
      ],
      "text/plain": [
       "   Année de soutenance  Total Soutenances  Total Soutenances 01-01\n",
       "0                 1984                  6                        6\n",
       "1                 1985               3007                     3007\n",
       "2                 1986               5162                     5162"
      ]
     },
     "execution_count": 227,
     "metadata": {},
     "output_type": "execute_result"
    }
   ],
   "source": [
    "# Changement du nom des deux dernières colonnes du tableau :\n",
    "phd_total_soutenances_fusion = phd_total_soutenances_fusion.rename(columns={\n",
    "    'Jour de soutenance_x': 'Total Soutenances',\n",
    "    'Jour de soutenance_y': 'Total Soutenances 01-01'\n",
    "})\n",
    "\n",
    "phd_total_soutenances_fusion.head(3)"
   ]
  },
  {
   "cell_type": "code",
   "execution_count": 228,
   "metadata": {},
   "outputs": [
    {
     "data": {
      "text/html": [
       "<div>\n",
       "<style scoped>\n",
       "    .dataframe tbody tr th:only-of-type {\n",
       "        vertical-align: middle;\n",
       "    }\n",
       "\n",
       "    .dataframe tbody tr th {\n",
       "        vertical-align: top;\n",
       "    }\n",
       "\n",
       "    .dataframe thead th {\n",
       "        text-align: right;\n",
       "    }\n",
       "</style>\n",
       "<table border=\"1\" class=\"dataframe\">\n",
       "  <thead>\n",
       "    <tr style=\"text-align: right;\">\n",
       "      <th></th>\n",
       "      <th>Année de soutenance</th>\n",
       "      <th>Total Soutenances</th>\n",
       "      <th>Total Soutenances 01-01</th>\n",
       "      <th>Proportion soutenances 01-01</th>\n",
       "    </tr>\n",
       "  </thead>\n",
       "  <tbody>\n",
       "    <tr>\n",
       "      <th>0</th>\n",
       "      <td>1984</td>\n",
       "      <td>6</td>\n",
       "      <td>6</td>\n",
       "      <td>100.0</td>\n",
       "    </tr>\n",
       "    <tr>\n",
       "      <th>1</th>\n",
       "      <td>1985</td>\n",
       "      <td>3007</td>\n",
       "      <td>3007</td>\n",
       "      <td>100.0</td>\n",
       "    </tr>\n",
       "    <tr>\n",
       "      <th>2</th>\n",
       "      <td>1986</td>\n",
       "      <td>5162</td>\n",
       "      <td>5162</td>\n",
       "      <td>100.0</td>\n",
       "    </tr>\n",
       "  </tbody>\n",
       "</table>\n",
       "</div>"
      ],
      "text/plain": [
       "   Année de soutenance  Total Soutenances  Total Soutenances 01-01  \\\n",
       "0                 1984                  6                        6   \n",
       "1                 1985               3007                     3007   \n",
       "2                 1986               5162                     5162   \n",
       "\n",
       "   Proportion soutenances 01-01  \n",
       "0                         100.0  \n",
       "1                         100.0  \n",
       "2                         100.0  "
      ]
     },
     "execution_count": 228,
     "metadata": {},
     "output_type": "execute_result"
    }
   ],
   "source": [
    "# Ajout d'une colonne proportion :\n",
    "phd_total_soutenances_fusion['Proportion soutenances 01-01'] = phd_total_soutenances_fusion['Total Soutenances 01-01'] * 100 / phd_total_soutenances_fusion[\"Total Soutenances\"]\n",
    "\n",
    "# Impression du total des soutenances :\n",
    "phd_total_soutenances_fusion.head(3)"
   ]
  },
  {
   "cell_type": "markdown",
   "metadata": {},
   "source": [
    "_c. Création du graphique_"
   ]
  },
  {
   "cell_type": "code",
   "execution_count": 229,
   "metadata": {},
   "outputs": [
    {
     "data": {
      "image/png": "[encoded data removed]",
      "text/plain": [
       "<Figure size 600x600 with 1 Axes>"
      ]
     },
     "metadata": {},
     "output_type": "display_data"
    }
   ],
   "source": [
    "# Configuration du style :\n",
    "plt.rcParams['font.family'] = \"EB Garamond\"\n",
    "plt.rcParams['font.size'] = 12\n",
    "\n",
    "# Configuration de la taille de la figure :\n",
    "plt.figure(figsize=(6, 6))\n",
    "\n",
    "# Création du tracé linéaire :\n",
    "sns.lineplot(data = phd_total_soutenances_fusion, \n",
    "             x = \"Année de soutenance\", \n",
    "             y = \"Proportion soutenances 01-01\")\n",
    "\n",
    "# Ajout des titres aux axes :\n",
    "plt.xlabel(\"Années de soutenance\")\n",
    "plt.ylabel(\"Proportion de soutenances le 1er janvier (en %)\")\n",
    "\n",
    "# Affichage du tracé linéaire :\n",
    "plt.show()"
   ]
  },
  {
   "cell_type": "markdown",
   "metadata": {},
   "source": [
    "##### 5. Proportion de thèses soutenues en dehors du 1er janvier, au fil des mois #####"
   ]
  },
  {
   "cell_type": "markdown",
   "metadata": {},
   "source": [
    "_a. Création du filtre_"
   ]
  },
  {
   "cell_type": "code",
   "execution_count": 175,
   "metadata": {},
   "outputs": [
    {
     "data": {
      "text/html": [
       "<div>\n",
       "<style scoped>\n",
       "    .dataframe tbody tr th:only-of-type {\n",
       "        vertical-align: middle;\n",
       "    }\n",
       "\n",
       "    .dataframe tbody tr th {\n",
       "        vertical-align: top;\n",
       "    }\n",
       "\n",
       "    .dataframe thead th {\n",
       "        text-align: right;\n",
       "    }\n",
       "</style>\n",
       "<table border=\"1\" class=\"dataframe\">\n",
       "  <thead>\n",
       "    <tr style=\"text-align: right;\">\n",
       "      <th></th>\n",
       "      <th>Jour de soutenance</th>\n",
       "      <th>Mois de soutenance</th>\n",
       "      <th>Année de soutenance</th>\n",
       "      <th>Date de soutenance</th>\n",
       "    </tr>\n",
       "  </thead>\n",
       "  <tbody>\n",
       "    <tr>\n",
       "      <th>5</th>\n",
       "      <td>24</td>\n",
       "      <td>novembre</td>\n",
       "      <td>2008</td>\n",
       "      <td>2008-11-24</td>\n",
       "    </tr>\n",
       "    <tr>\n",
       "      <th>6</th>\n",
       "      <td>7</td>\n",
       "      <td>janvier</td>\n",
       "      <td>2005</td>\n",
       "      <td>2005-01-07</td>\n",
       "    </tr>\n",
       "    <tr>\n",
       "      <th>7</th>\n",
       "      <td>12</td>\n",
       "      <td>août</td>\n",
       "      <td>2009</td>\n",
       "      <td>2009-08-12</td>\n",
       "    </tr>\n",
       "    <tr>\n",
       "      <th>8</th>\n",
       "      <td>1</td>\n",
       "      <td>octobre</td>\n",
       "      <td>2013</td>\n",
       "      <td>2013-10-01</td>\n",
       "    </tr>\n",
       "    <tr>\n",
       "      <th>9</th>\n",
       "      <td>24</td>\n",
       "      <td>juin</td>\n",
       "      <td>2011</td>\n",
       "      <td>2011-06-24</td>\n",
       "    </tr>\n",
       "    <tr>\n",
       "      <th>10</th>\n",
       "      <td>26</td>\n",
       "      <td>novembre</td>\n",
       "      <td>2010</td>\n",
       "      <td>2010-11-26</td>\n",
       "    </tr>\n",
       "    <tr>\n",
       "      <th>14</th>\n",
       "      <td>20</td>\n",
       "      <td>décembre</td>\n",
       "      <td>2007</td>\n",
       "      <td>2007-12-20</td>\n",
       "    </tr>\n",
       "    <tr>\n",
       "      <th>15</th>\n",
       "      <td>10</td>\n",
       "      <td>juin</td>\n",
       "      <td>2011</td>\n",
       "      <td>2011-06-10</td>\n",
       "    </tr>\n",
       "    <tr>\n",
       "      <th>16</th>\n",
       "      <td>31</td>\n",
       "      <td>août</td>\n",
       "      <td>2012</td>\n",
       "      <td>2012-08-31</td>\n",
       "    </tr>\n",
       "    <tr>\n",
       "      <th>22</th>\n",
       "      <td>12</td>\n",
       "      <td>septembre</td>\n",
       "      <td>2010</td>\n",
       "      <td>2010-09-12</td>\n",
       "    </tr>\n",
       "  </tbody>\n",
       "</table>\n",
       "</div>"
      ],
      "text/plain": [
       "    Jour de soutenance Mois de soutenance  Année de soutenance  \\\n",
       "5                   24           novembre                 2008   \n",
       "6                    7            janvier                 2005   \n",
       "7                   12               août                 2009   \n",
       "8                    1            octobre                 2013   \n",
       "9                   24               juin                 2011   \n",
       "10                  26           novembre                 2010   \n",
       "14                  20           décembre                 2007   \n",
       "15                  10               juin                 2011   \n",
       "16                  31               août                 2012   \n",
       "22                  12          septembre                 2010   \n",
       "\n",
       "   Date de soutenance  \n",
       "5          2008-11-24  \n",
       "6          2005-01-07  \n",
       "7          2009-08-12  \n",
       "8          2013-10-01  \n",
       "9          2011-06-24  \n",
       "10         2010-11-26  \n",
       "14         2007-12-20  \n",
       "15         2011-06-10  \n",
       "16         2012-08-31  \n",
       "22         2010-09-12  "
      ]
     },
     "execution_count": 175,
     "metadata": {},
     "output_type": "execute_result"
    }
   ],
   "source": [
    "# Création du filtre :\n",
    "jour_soutenance = 1\n",
    "mois_soutenance = 'janvier'\n",
    "\n",
    "# Création d'un nouveau dataframe filtré en dehors des dates précisée :\n",
    "Filtre_hors_01_01 = (phd_1984_2018['Mois de soutenance'].str.lower() != 'janvier') | (phd_1984_2018['Jour de soutenance'] != 1)\n",
    "phd_hors_01_01 = phd_1984_2018.loc[Filtre_hors_01_01]\n",
    "\n",
    "# Affichage du tableau :\n",
    "phd_hors_01_01.iloc[ : 10, -3 : ].join(phd_hors_01_01['Date de soutenance'])"
   ]
  },
  {
   "cell_type": "markdown",
   "metadata": {},
   "source": [
    "_b. Création du dataframe_"
   ]
  },
  {
   "cell_type": "code",
   "execution_count": 230,
   "metadata": {},
   "outputs": [
    {
     "data": {
      "text/html": [
       "<div>\n",
       "<style scoped>\n",
       "    .dataframe tbody tr th:only-of-type {\n",
       "        vertical-align: middle;\n",
       "    }\n",
       "\n",
       "    .dataframe tbody tr th {\n",
       "        vertical-align: top;\n",
       "    }\n",
       "\n",
       "    .dataframe thead th {\n",
       "        text-align: right;\n",
       "    }\n",
       "</style>\n",
       "<table border=\"1\" class=\"dataframe\">\n",
       "  <thead>\n",
       "    <tr style=\"text-align: right;\">\n",
       "      <th></th>\n",
       "      <th>Mois de soutenance</th>\n",
       "      <th>Jour de soutenance</th>\n",
       "    </tr>\n",
       "  </thead>\n",
       "  <tbody>\n",
       "    <tr>\n",
       "      <th>0</th>\n",
       "      <td>août</td>\n",
       "      <td>3496</td>\n",
       "    </tr>\n",
       "    <tr>\n",
       "      <th>1</th>\n",
       "      <td>avril</td>\n",
       "      <td>4880</td>\n",
       "    </tr>\n",
       "    <tr>\n",
       "      <th>2</th>\n",
       "      <td>décembre</td>\n",
       "      <td>16611</td>\n",
       "    </tr>\n",
       "  </tbody>\n",
       "</table>\n",
       "</div>"
      ],
      "text/plain": [
       "  Mois de soutenance  Jour de soutenance\n",
       "0               août                3496\n",
       "1              avril                4880\n",
       "2           décembre               16611"
      ]
     },
     "execution_count": 230,
     "metadata": {},
     "output_type": "execute_result"
    }
   ],
   "source": [
    "# Création du Dataframe avec le nombre de soutenances par mois entre 1984 et 2018, en dehors du 1ER janvier :\n",
    "total_soutenances_hors_01_01_par_mois = pd.DataFrame(phd_hors_01_01.groupby(\"Mois de soutenance\")[\"Jour de soutenance\"].count().reset_index())\n",
    "total_soutenances_hors_01_01_par_mois.head(3)"
   ]
  },
  {
   "cell_type": "code",
   "execution_count": 231,
   "metadata": {},
   "outputs": [
    {
     "data": {
      "text/html": [
       "<div>\n",
       "<style scoped>\n",
       "    .dataframe tbody tr th:only-of-type {\n",
       "        vertical-align: middle;\n",
       "    }\n",
       "\n",
       "    .dataframe tbody tr th {\n",
       "        vertical-align: top;\n",
       "    }\n",
       "\n",
       "    .dataframe thead th {\n",
       "        text-align: right;\n",
       "    }\n",
       "</style>\n",
       "<table border=\"1\" class=\"dataframe\">\n",
       "  <thead>\n",
       "    <tr style=\"text-align: right;\">\n",
       "      <th></th>\n",
       "      <th>Mois de soutenance</th>\n",
       "      <th>Jour de soutenance</th>\n",
       "    </tr>\n",
       "  </thead>\n",
       "  <tbody>\n",
       "    <tr>\n",
       "      <th>0</th>\n",
       "      <td>août</td>\n",
       "      <td>3496</td>\n",
       "    </tr>\n",
       "    <tr>\n",
       "      <th>1</th>\n",
       "      <td>avril</td>\n",
       "      <td>4880</td>\n",
       "    </tr>\n",
       "    <tr>\n",
       "      <th>2</th>\n",
       "      <td>décembre</td>\n",
       "      <td>16611</td>\n",
       "    </tr>\n",
       "  </tbody>\n",
       "</table>\n",
       "</div>"
      ],
      "text/plain": [
       "  Mois de soutenance  Jour de soutenance\n",
       "0               août                3496\n",
       "1              avril                4880\n",
       "2           décembre               16611"
      ]
     },
     "execution_count": 231,
     "metadata": {},
     "output_type": "execute_result"
    }
   ],
   "source": [
    "# Création du Dataframe avec le nombre de soutenances par mois entre 1984 et 2018 :\n",
    "total_soutenances_par_mois = pd.DataFrame(phd_1984_2018.groupby(\"Mois de soutenance\")[\"Jour de soutenance\"].count().reset_index())\n",
    "total_soutenances_par_mois.head(3)"
   ]
  },
  {
   "cell_type": "code",
   "execution_count": 232,
   "metadata": {},
   "outputs": [
    {
     "data": {
      "text/html": [
       "<div>\n",
       "<style scoped>\n",
       "    .dataframe tbody tr th:only-of-type {\n",
       "        vertical-align: middle;\n",
       "    }\n",
       "\n",
       "    .dataframe tbody tr th {\n",
       "        vertical-align: top;\n",
       "    }\n",
       "\n",
       "    .dataframe thead th {\n",
       "        text-align: right;\n",
       "    }\n",
       "</style>\n",
       "<table border=\"1\" class=\"dataframe\">\n",
       "  <thead>\n",
       "    <tr style=\"text-align: right;\">\n",
       "      <th></th>\n",
       "      <th>Mois de soutenance</th>\n",
       "      <th>Jour de soutenance_x</th>\n",
       "      <th>Jour de soutenance_y</th>\n",
       "    </tr>\n",
       "  </thead>\n",
       "  <tbody>\n",
       "    <tr>\n",
       "      <th>0</th>\n",
       "      <td>août</td>\n",
       "      <td>3496</td>\n",
       "      <td>3496</td>\n",
       "    </tr>\n",
       "    <tr>\n",
       "      <th>1</th>\n",
       "      <td>avril</td>\n",
       "      <td>4880</td>\n",
       "      <td>4880</td>\n",
       "    </tr>\n",
       "    <tr>\n",
       "      <th>2</th>\n",
       "      <td>décembre</td>\n",
       "      <td>16611</td>\n",
       "      <td>16611</td>\n",
       "    </tr>\n",
       "  </tbody>\n",
       "</table>\n",
       "</div>"
      ],
      "text/plain": [
       "  Mois de soutenance  Jour de soutenance_x  Jour de soutenance_y\n",
       "0               août                  3496                  3496\n",
       "1              avril                  4880                  4880\n",
       "2           décembre                 16611                 16611"
      ]
     },
     "execution_count": 232,
     "metadata": {},
     "output_type": "execute_result"
    }
   ],
   "source": [
    "# Création du DataFrame fusionné :\n",
    "total_soutenances_hors_01_01_fusion = pd.merge(total_soutenances_hors_01_01_par_mois, \n",
    "         total_soutenances_par_mois, \n",
    "         on = \"Mois de soutenance\")\n",
    "\n",
    "total_soutenances_hors_01_01_fusion.head(3)"
   ]
  },
  {
   "cell_type": "code",
   "execution_count": 233,
   "metadata": {},
   "outputs": [
    {
     "data": {
      "text/html": [
       "<div>\n",
       "<style scoped>\n",
       "    .dataframe tbody tr th:only-of-type {\n",
       "        vertical-align: middle;\n",
       "    }\n",
       "\n",
       "    .dataframe tbody tr th {\n",
       "        vertical-align: top;\n",
       "    }\n",
       "\n",
       "    .dataframe thead th {\n",
       "        text-align: right;\n",
       "    }\n",
       "</style>\n",
       "<table border=\"1\" class=\"dataframe\">\n",
       "  <thead>\n",
       "    <tr style=\"text-align: right;\">\n",
       "      <th></th>\n",
       "      <th>Mois de soutenance</th>\n",
       "      <th>Total Soutenances hors 01-01</th>\n",
       "      <th>Total Soutenances</th>\n",
       "    </tr>\n",
       "  </thead>\n",
       "  <tbody>\n",
       "    <tr>\n",
       "      <th>0</th>\n",
       "      <td>août</td>\n",
       "      <td>3496</td>\n",
       "      <td>3496</td>\n",
       "    </tr>\n",
       "    <tr>\n",
       "      <th>1</th>\n",
       "      <td>avril</td>\n",
       "      <td>4880</td>\n",
       "      <td>4880</td>\n",
       "    </tr>\n",
       "    <tr>\n",
       "      <th>2</th>\n",
       "      <td>décembre</td>\n",
       "      <td>16611</td>\n",
       "      <td>16611</td>\n",
       "    </tr>\n",
       "  </tbody>\n",
       "</table>\n",
       "</div>"
      ],
      "text/plain": [
       "  Mois de soutenance  Total Soutenances hors 01-01  Total Soutenances\n",
       "0               août                          3496               3496\n",
       "1              avril                          4880               4880\n",
       "2           décembre                         16611              16611"
      ]
     },
     "execution_count": 233,
     "metadata": {},
     "output_type": "execute_result"
    }
   ],
   "source": [
    "# Changement des noms des deux dernières colonnes du tableau :\n",
    "total_soutenances_hors_01_01_final = total_soutenances_hors_01_01_fusion.rename(columns={\n",
    "    'Jour de soutenance_x': 'Total Soutenances hors 01-01',\n",
    "    'Jour de soutenance_y': 'Total Soutenances'\n",
    "})\n",
    "\n",
    "# Affichage du dataframe contenant le total des soutenances par mois en dehors du 1er janvier :\n",
    "total_soutenances_hors_01_01_final.head(3)"
   ]
  },
  {
   "cell_type": "code",
   "execution_count": 235,
   "metadata": {},
   "outputs": [
    {
     "data": {
      "text/html": [
       "<div>\n",
       "<style scoped>\n",
       "    .dataframe tbody tr th:only-of-type {\n",
       "        vertical-align: middle;\n",
       "    }\n",
       "\n",
       "    .dataframe tbody tr th {\n",
       "        vertical-align: top;\n",
       "    }\n",
       "\n",
       "    .dataframe thead th {\n",
       "        text-align: right;\n",
       "    }\n",
       "</style>\n",
       "<table border=\"1\" class=\"dataframe\">\n",
       "  <thead>\n",
       "    <tr style=\"text-align: right;\">\n",
       "      <th></th>\n",
       "      <th>Mois de soutenance</th>\n",
       "      <th>Total Soutenances hors 01-01</th>\n",
       "      <th>Total Soutenances</th>\n",
       "      <th>Proportion soutenances</th>\n",
       "    </tr>\n",
       "  </thead>\n",
       "  <tbody>\n",
       "    <tr>\n",
       "      <th>0</th>\n",
       "      <td>août</td>\n",
       "      <td>3496</td>\n",
       "      <td>3496</td>\n",
       "      <td>3.6</td>\n",
       "    </tr>\n",
       "    <tr>\n",
       "      <th>1</th>\n",
       "      <td>avril</td>\n",
       "      <td>4880</td>\n",
       "      <td>4880</td>\n",
       "      <td>5.0</td>\n",
       "    </tr>\n",
       "    <tr>\n",
       "      <th>2</th>\n",
       "      <td>décembre</td>\n",
       "      <td>16611</td>\n",
       "      <td>16611</td>\n",
       "      <td>16.9</td>\n",
       "    </tr>\n",
       "  </tbody>\n",
       "</table>\n",
       "</div>"
      ],
      "text/plain": [
       "  Mois de soutenance  Total Soutenances hors 01-01  Total Soutenances  \\\n",
       "0               août                          3496               3496   \n",
       "1              avril                          4880               4880   \n",
       "2           décembre                         16611              16611   \n",
       "\n",
       "   Proportion soutenances  \n",
       "0                     3.6  \n",
       "1                     5.0  \n",
       "2                    16.9  "
      ]
     },
     "execution_count": 235,
     "metadata": {},
     "output_type": "execute_result"
    }
   ],
   "source": [
    "# Ajout d'une colonne proportion :\n",
    "total_soutenances_hors_01_01_final['Proportion soutenances'] = total_soutenances_hors_01_01_final['Total Soutenances hors 01-01'] * 100 / total_soutenances_hors_01_01_final[\"Total Soutenances hors 01-01\"].sum()\n",
    "total_soutenances_hors_01_01_final['Proportion soutenances']  = total_soutenances_hors_01_01_final['Proportion soutenances'].round(1)\n",
    "\n",
    "# Impression du total des soutenances :\n",
    "total_soutenances_hors_01_01_final.head(3)\n",
    "\n"
   ]
  },
  {
   "cell_type": "code",
   "execution_count": 236,
   "metadata": {},
   "outputs": [
    {
     "name": "stdout",
     "output_type": "stream",
     "text": [
      "le total de la colonne \"proportion soutenances\" est égal à  100.1\n"
     ]
    }
   ],
   "source": [
    "# Impression du total des proportions :\n",
    "print('le total de la colonne \"proportion soutenances\" est égal à ', total_soutenances_hors_01_01_final['Proportion soutenances'].sum())"
   ]
  },
  {
   "cell_type": "markdown",
   "metadata": {},
   "source": [
    "_c. Création du graphique_"
   ]
  },
  {
   "cell_type": "code",
   "execution_count": 237,
   "metadata": {},
   "outputs": [
    {
     "data": {
      "image/png": "[encoded data removed]",
      "text/plain": [
       "<Figure size 600x600 with 1 Axes>"
      ]
     },
     "metadata": {},
     "output_type": "display_data"
    }
   ],
   "source": [
    "# Configuration du style :\n",
    "plt.rcParams['font.family'] = \"EB Garamond\"\n",
    "plt.rcParams['font.size'] = 12\n",
    "\n",
    "# Configuration de la taille de la figure :\n",
    "plt.figure(figsize = (6, 6))\n",
    "           \n",
    "# Création du graphique :\n",
    "sns.barplot(data = total_soutenances_hors_01_01_final, \n",
    "             x = \"Mois de soutenance\", \n",
    "             y = \"Proportion soutenances\",\n",
    "             order = mois_ordonnés)\n",
    "\n",
    "plt.ylabel('Proportion de soutenances (en %)')\n",
    "\n",
    "# Rotation des étiquettes de l'axe des x :\n",
    "plt.xticks(rotation = 60)\n",
    "\n",
    "# Affichage du tracé linéaire :\n",
    "plt.show()"
   ]
  },
  {
   "cell_type": "markdown",
   "metadata": {},
   "source": [
    "##### 6. Détection des homonymes ches les noms d'auteurs #####"
   ]
  },
  {
   "cell_type": "markdown",
   "metadata": {},
   "source": [
    "_a. Création du filtre_"
   ]
  },
  {
   "cell_type": "code",
   "execution_count": 182,
   "metadata": {},
   "outputs": [
    {
     "data": {
      "text/html": [
       "<div>\n",
       "<style scoped>\n",
       "    .dataframe tbody tr th:only-of-type {\n",
       "        vertical-align: middle;\n",
       "    }\n",
       "\n",
       "    .dataframe tbody tr th {\n",
       "        vertical-align: top;\n",
       "    }\n",
       "\n",
       "    .dataframe thead th {\n",
       "        text-align: right;\n",
       "    }\n",
       "</style>\n",
       "<table border=\"1\" class=\"dataframe\">\n",
       "  <thead>\n",
       "    <tr style=\"text-align: right;\">\n",
       "      <th></th>\n",
       "      <th>Date de premiere inscription en doctorat</th>\n",
       "      <th>Identifiant auteur</th>\n",
       "      <th>Langue_rec</th>\n",
       "      <th>Year</th>\n",
       "      <th>Date de soutenance</th>\n",
       "      <th>Identifiant etablissement</th>\n",
       "      <th>etablissement_rec</th>\n",
       "      <th>Langue de la these</th>\n",
       "      <th>Genre</th>\n",
       "      <th>Discipline_prÃ©di</th>\n",
       "      <th>...</th>\n",
       "      <th>Auteur</th>\n",
       "      <th>Statut</th>\n",
       "      <th>Discipline</th>\n",
       "      <th>Etablissement de soutenance</th>\n",
       "      <th>Identifiant directeur</th>\n",
       "      <th>Directeur de these (nom prenom)</th>\n",
       "      <th>Unnamed: 0</th>\n",
       "      <th>Jour de soutenance</th>\n",
       "      <th>Mois de soutenance</th>\n",
       "      <th>Année de soutenance</th>\n",
       "    </tr>\n",
       "  </thead>\n",
       "  <tbody>\n",
       "    <tr>\n",
       "      <th>61310</th>\n",
       "      <td>NaN</td>\n",
       "      <td>203208145</td>\n",
       "      <td>Français</td>\n",
       "      <td>2017.0</td>\n",
       "      <td>2017-01-16</td>\n",
       "      <td>19077990X</td>\n",
       "      <td>USPC</td>\n",
       "      <td>fr</td>\n",
       "      <td>female</td>\n",
       "      <td>SHS</td>\n",
       "      <td>...</td>\n",
       "      <td>Cecile Martin</td>\n",
       "      <td>soutenue</td>\n",
       "      <td>Etudes cinematographiques et audiovisuelles</td>\n",
       "      <td>Sorbonne Paris Cite</td>\n",
       "      <td>34210393</td>\n",
       "      <td>Jullier Laurent</td>\n",
       "      <td>61310</td>\n",
       "      <td>16</td>\n",
       "      <td>janvier</td>\n",
       "      <td>2017</td>\n",
       "    </tr>\n",
       "    <tr>\n",
       "      <th>167180</th>\n",
       "      <td>NaN</td>\n",
       "      <td>81323557</td>\n",
       "      <td>Français</td>\n",
       "      <td>2000.0</td>\n",
       "      <td>2000-01-01</td>\n",
       "      <td>26387859</td>\n",
       "      <td>AgroParisTech</td>\n",
       "      <td>fr</td>\n",
       "      <td>female</td>\n",
       "      <td>Biologie</td>\n",
       "      <td>...</td>\n",
       "      <td>Cecile Martin</td>\n",
       "      <td>soutenue</td>\n",
       "      <td>Sciences biologiques fondamentales et applique...</td>\n",
       "      <td>Institut national agronomique Paris-Grignon</td>\n",
       "      <td>na</td>\n",
       "      <td>LOSSOUARN JEAN</td>\n",
       "      <td>167180</td>\n",
       "      <td>1</td>\n",
       "      <td>janvier</td>\n",
       "      <td>2000</td>\n",
       "    </tr>\n",
       "    <tr>\n",
       "      <th>267945</th>\n",
       "      <td>NaN</td>\n",
       "      <td>179423568</td>\n",
       "      <td>Français</td>\n",
       "      <td>2014.0</td>\n",
       "      <td>2014-01-24</td>\n",
       "      <td>27787109</td>\n",
       "      <td>Université Paris sciences et lettres</td>\n",
       "      <td>fr</td>\n",
       "      <td>female</td>\n",
       "      <td>Economie Gestion</td>\n",
       "      <td>...</td>\n",
       "      <td>Cecile Martin</td>\n",
       "      <td>soutenue</td>\n",
       "      <td>Sciences economiques</td>\n",
       "      <td>Paris 9</td>\n",
       "      <td>29736889</td>\n",
       "      <td>Dormont Brigitte</td>\n",
       "      <td>267945</td>\n",
       "      <td>24</td>\n",
       "      <td>janvier</td>\n",
       "      <td>2014</td>\n",
       "    </tr>\n",
       "  </tbody>\n",
       "</table>\n",
       "<p>3 rows × 26 columns</p>\n",
       "</div>"
      ],
      "text/plain": [
       "       Date de premiere inscription en doctorat Identifiant auteur Langue_rec  \\\n",
       "61310                                       NaN          203208145   Français   \n",
       "167180                                      NaN           81323557   Français   \n",
       "267945                                      NaN          179423568   Français   \n",
       "\n",
       "          Year Date de soutenance Identifiant etablissement  \\\n",
       "61310   2017.0         2017-01-16                 19077990X   \n",
       "167180  2000.0         2000-01-01                  26387859   \n",
       "267945  2014.0         2014-01-24                  27787109   \n",
       "\n",
       "                           etablissement_rec Langue de la these   Genre  \\\n",
       "61310                                   USPC                 fr  female   \n",
       "167180                         AgroParisTech                 fr  female   \n",
       "267945  Université Paris sciences et lettres                 fr  female   \n",
       "\n",
       "       Discipline_prÃ©di  ...         Auteur    Statut  \\\n",
       "61310                SHS  ...  Cecile Martin  soutenue   \n",
       "167180          Biologie  ...  Cecile Martin  soutenue   \n",
       "267945  Economie Gestion  ...  Cecile Martin  soutenue   \n",
       "\n",
       "                                               Discipline  \\\n",
       "61310         Etudes cinematographiques et audiovisuelles   \n",
       "167180  Sciences biologiques fondamentales et applique...   \n",
       "267945                               Sciences economiques   \n",
       "\n",
       "                        Etablissement de soutenance Identifiant directeur  \\\n",
       "61310                           Sorbonne Paris Cite              34210393   \n",
       "167180  Institut national agronomique Paris-Grignon                    na   \n",
       "267945                                      Paris 9              29736889   \n",
       "\n",
       "       Directeur de these (nom prenom) Unnamed: 0 Jour de soutenance  \\\n",
       "61310                  Jullier Laurent      61310                 16   \n",
       "167180                  LOSSOUARN JEAN     167180                  1   \n",
       "267945                Dormont Brigitte     267945                 24   \n",
       "\n",
       "       Mois de soutenance Année de soutenance  \n",
       "61310             janvier                2017  \n",
       "167180            janvier                2000  \n",
       "267945            janvier                2014  \n",
       "\n",
       "[3 rows x 26 columns]"
      ]
     },
     "execution_count": 182,
     "metadata": {},
     "output_type": "execute_result"
    }
   ],
   "source": [
    "# Création du filtre sur les noms d'auteurs comprenant \"Cécile Martin\" :\n",
    "filtre_homonymes = phd_1984_2018[phd_1984_2018['Auteur'] == 'Cecile Martin']\n",
    "filtre_homonymes.head(3)"
   ]
  },
  {
   "cell_type": "code",
   "execution_count": 238,
   "metadata": {},
   "outputs": [
    {
     "data": {
      "text/plain": [
       "(7, 26)"
      ]
     },
     "execution_count": 238,
     "metadata": {},
     "output_type": "execute_result"
    }
   ],
   "source": [
    "# Affichage du nombre de lignes :\n",
    "filtre_homonymes.shape"
   ]
  },
  {
   "cell_type": "markdown",
   "metadata": {},
   "source": [
    "_b. Affichage des valeurs uniques d'une sélection de variables_"
   ]
  },
  {
   "cell_type": "code",
   "execution_count": 246,
   "metadata": {},
   "outputs": [
    {
     "name": "stdout",
     "output_type": "stream",
     "text": [
      "-> valeurs uniques sur \"Directeur de these (nom prenom)\" =  ['Jullier Laurent' 'LOSSOUARN JEAN' 'Dormont Brigitte' 'Antonini Gerard'\n",
      " 'Mironneau Jean' 'Briand Yves' 'Vautherin Dominique']\n",
      "Nombre de valeurs uniques : 7\n",
      "- - - - - - - - - - - - - - - - - - - - - - - - - - - - - - \n",
      "-> valeurs uniques sur \"Identifiant etablissement\" =  ['19077990X' '26387859' '27787109' '26570564' '26403005' '26403102'\n",
      " '26404664']\n",
      "Nombre de valeurs uniques : 7\n",
      "- - - - - - - - - - - - - - - - - - - - - - - - - - - - - - \n",
      "-> valeurs uniques sur \"Date de soutenance\" =  <DatetimeArray>\n",
      "['2017-01-16 00:00:00', '2000-01-01 00:00:00', '2014-01-24 00:00:00',\n",
      " '2001-01-01 00:00:00', '1991-01-01 00:00:00', '1994-01-01 00:00:00',\n",
      " '1989-01-01 00:00:00']\n",
      "Length: 7, dtype: datetime64[ns]\n",
      "Nombre de valeurs uniques : 7\n",
      "- - - - - - - - - - - - - - - - - - - - - - - - - - - - - - \n",
      "-> valeurs uniques sur \"etablissement_rec\" =  ['USPC' 'AgroParisTech' 'Université Paris sciences et lettres'\n",
      " 'Université de technologie de Compiègne' 'Université de Bordeaux'\n",
      " 'Université Clermont Auvergne' 'Université Paris-Saclay']\n",
      "Nombre de valeurs uniques : 7\n",
      "- - - - - - - - - - - - - - - - - - - - - - - - - - - - - - \n",
      "-> valeurs uniques sur \"Identifiant de la these\" =  ['2017USPCA018' '2000INAP0034' '2014PA090003' '2001COMP1380'\n",
      " '1991BOR22005' '1994CLF21651' '1989PA112163']\n",
      "Nombre de valeurs uniques : 7\n",
      "- - - - - - - - - - - - - - - - - - - - - - - - - - - - - - \n",
      "-> valeurs uniques sur \"Titre\" =  [\"L'invention de l'ecran. De l'ecran de cheminee aux ecrans connectes interactifs. Enjeux communicationnels et culturels dans le contexte de la globalisation\"\n",
      " \"Systeme laitier et filiere lait au mexique : contraintes de developpement, strategies d'acteurs, enjeux de leur coevolution. cas de la cienega de chapala, jalisco\"\n",
      " 'Concurrence, prix et qualite de la prise en charge en EHPAD en France : Analyses micro-econometriques'\n",
      " 'Modelisation et criteres de combustibilite en incineration combinee de dechets menagers et de dechets industriels banals'\n",
      " \"Caracterisation electrophysiologique et pharmacologique des canaux ioniques : sodium, calcium, actives par l'ATP, des cellules myometriales, effets de la gestation et de l'ocytocine\"\n",
      " \"Influence du ph ruminal sur la digestion des parois vegetales, en relation avec les modifications de l'activite fibrolytique de l'ecosysteme microbien\"\n",
      " \"Deposition d'energie par production de paires dans les collisions nucleaires ultrarelativistes\"]\n",
      "Nombre de valeurs uniques : 7\n",
      "- - - - - - - - - - - - - - - - - - - - - - - - - - - - - - \n",
      "-> valeurs uniques sur \"Etablissement de soutenance\" =  ['Sorbonne Paris Cite' 'Institut national agronomique Paris-Grignon'\n",
      " 'Paris 9' 'Compiegne' 'Bordeaux 2' 'Clermont-Ferrand 2' 'Paris 11']\n",
      "Nombre de valeurs uniques : 7\n",
      "- - - - - - - - - - - - - - - - - - - - - - - - - - - - - - \n",
      "-> valeurs uniques sur \"Langue_rec\" =  ['Français' 'Bilingue']\n",
      "Nombre de valeurs uniques : 2\n",
      "- - - - - - - - - - - - - - - - - - - - - - - - - - - - - - \n"
     ]
    }
   ],
   "source": [
    "# Contenu des colonnes complètes qui n'ont pas de valeurs uniques :\n",
    "columns = [\n",
    "    'Directeur de these (nom prenom)',\n",
    "    'Identifiant etablissement',\n",
    "    'Date de soutenance',\n",
    "    'etablissement_rec',\n",
    "    'Identifiant de la these', \n",
    "    'Titre', \n",
    "    'Etablissement de soutenance', \n",
    "    'Langue_rec']\n",
    "\n",
    "for column in columns:\n",
    "    unique_values = filtre_homonymes[column].unique()\n",
    "    print(f'-> valeurs uniques sur \"{column}\" = ', unique_values[:10])  # Afficher les 10 premières valeurs uniques\n",
    "    print(f'Nombre de valeurs uniques : {len(unique_values)}')  # Afficher le nombre de valeurs uniques\n",
    "    print('- ' * 30)"
   ]
  },
  {
   "cell_type": "markdown",
   "metadata": {},
   "source": [
    "_b. Affichage du tableau filtré sur Cécile Martin_"
   ]
  },
  {
   "cell_type": "code",
   "execution_count": 185,
   "metadata": {},
   "outputs": [
    {
     "data": {
      "text/html": [
       "<div>\n",
       "<style scoped>\n",
       "    .dataframe tbody tr th:only-of-type {\n",
       "        vertical-align: middle;\n",
       "    }\n",
       "\n",
       "    .dataframe tbody tr th {\n",
       "        vertical-align: top;\n",
       "    }\n",
       "\n",
       "    .dataframe thead th {\n",
       "        text-align: right;\n",
       "    }\n",
       "</style>\n",
       "<table border=\"1\" class=\"dataframe\">\n",
       "  <thead>\n",
       "    <tr style=\"text-align: right;\">\n",
       "      <th></th>\n",
       "      <th>Identifiant auteur</th>\n",
       "      <th>Discipline_prÃ©di</th>\n",
       "      <th>Discipline</th>\n",
       "      <th>Etablissement de soutenance</th>\n",
       "      <th>Mise a jour dans theses.fr</th>\n",
       "      <th>Publication dans theses.fr</th>\n",
       "    </tr>\n",
       "  </thead>\n",
       "  <tbody>\n",
       "    <tr>\n",
       "      <th>61310</th>\n",
       "      <td>203208145</td>\n",
       "      <td>SHS</td>\n",
       "      <td>Etudes cinematographiques et audiovisuelles</td>\n",
       "      <td>Sorbonne Paris Cite</td>\n",
       "      <td>03-10-17</td>\n",
       "      <td>26-09-11</td>\n",
       "    </tr>\n",
       "    <tr>\n",
       "      <th>167180</th>\n",
       "      <td>81323557</td>\n",
       "      <td>Biologie</td>\n",
       "      <td>Sciences biologiques fondamentales et applique...</td>\n",
       "      <td>Institut national agronomique Paris-Grignon</td>\n",
       "      <td>10-12-19</td>\n",
       "      <td>08-07-17</td>\n",
       "    </tr>\n",
       "    <tr>\n",
       "      <th>267945</th>\n",
       "      <td>179423568</td>\n",
       "      <td>Economie Gestion</td>\n",
       "      <td>Sciences economiques</td>\n",
       "      <td>Paris 9</td>\n",
       "      <td>05-12-17</td>\n",
       "      <td>26-09-11</td>\n",
       "    </tr>\n",
       "    <tr>\n",
       "      <th>410631</th>\n",
       "      <td>81323557</td>\n",
       "      <td>Science de l'ingÃ©nieur</td>\n",
       "      <td>Genie des procedes industriels</td>\n",
       "      <td>Compiegne</td>\n",
       "      <td>08-07-20</td>\n",
       "      <td>24-05-13</td>\n",
       "    </tr>\n",
       "    <tr>\n",
       "      <th>415174</th>\n",
       "      <td>81323557</td>\n",
       "      <td>Biologie</td>\n",
       "      <td>Neurosciences</td>\n",
       "      <td>Bordeaux 2</td>\n",
       "      <td>07-07-20</td>\n",
       "      <td>24-05-13</td>\n",
       "    </tr>\n",
       "    <tr>\n",
       "      <th>426754</th>\n",
       "      <td>81323557</td>\n",
       "      <td>Psychologie</td>\n",
       "      <td>Sciences biologiques et fondamentales applique...</td>\n",
       "      <td>Clermont-Ferrand 2</td>\n",
       "      <td>07-07-20</td>\n",
       "      <td>24-05-13</td>\n",
       "    </tr>\n",
       "    <tr>\n",
       "      <th>432473</th>\n",
       "      <td>182118703</td>\n",
       "      <td>Materiaux, Milieux et Chimie</td>\n",
       "      <td>Physique</td>\n",
       "      <td>Paris 11</td>\n",
       "      <td>07-07-20</td>\n",
       "      <td>26-09-11</td>\n",
       "    </tr>\n",
       "  </tbody>\n",
       "</table>\n",
       "</div>"
      ],
      "text/plain": [
       "       Identifiant auteur             Discipline_prÃ©di  \\\n",
       "61310           203208145                           SHS   \n",
       "167180           81323557                      Biologie   \n",
       "267945          179423568              Economie Gestion   \n",
       "410631           81323557       Science de l'ingÃ©nieur   \n",
       "415174           81323557                      Biologie   \n",
       "426754           81323557                   Psychologie   \n",
       "432473          182118703  Materiaux, Milieux et Chimie   \n",
       "\n",
       "                                               Discipline  \\\n",
       "61310         Etudes cinematographiques et audiovisuelles   \n",
       "167180  Sciences biologiques fondamentales et applique...   \n",
       "267945                               Sciences economiques   \n",
       "410631                     Genie des procedes industriels   \n",
       "415174                                      Neurosciences   \n",
       "426754  Sciences biologiques et fondamentales applique...   \n",
       "432473                                           Physique   \n",
       "\n",
       "                        Etablissement de soutenance  \\\n",
       "61310                           Sorbonne Paris Cite   \n",
       "167180  Institut national agronomique Paris-Grignon   \n",
       "267945                                      Paris 9   \n",
       "410631                                    Compiegne   \n",
       "415174                                   Bordeaux 2   \n",
       "426754                           Clermont-Ferrand 2   \n",
       "432473                                     Paris 11   \n",
       "\n",
       "       Mise a jour dans theses.fr Publication dans theses.fr  \n",
       "61310                    03-10-17                   26-09-11  \n",
       "167180                   10-12-19                   08-07-17  \n",
       "267945                   05-12-17                   26-09-11  \n",
       "410631                   08-07-20                   24-05-13  \n",
       "415174                   07-07-20                   24-05-13  \n",
       "426754                   07-07-20                   24-05-13  \n",
       "432473                   07-07-20                   26-09-11  "
      ]
     },
     "execution_count": 185,
     "metadata": {},
     "output_type": "execute_result"
    }
   ],
   "source": [
    "# Sélection des colonnes :\n",
    "filtre_homonymes_selection_colonnes = filtre_homonymes [[\n",
    "                        'Identifiant auteur',\n",
    "                        'Discipline_prÃ©di',\n",
    "                        'Discipline',\n",
    "                        'Etablissement de soutenance',\n",
    "                        'Mise a jour dans theses.fr',\n",
    "                        'Publication dans theses.fr'\n",
    "]]\n",
    "\n",
    "filtre_homonymes_selection_colonnes.head(7)"
   ]
  },
  {
   "cell_type": "markdown",
   "metadata": {},
   "source": [
    "_d. Affichage d'une sélection de titres_"
   ]
  },
  {
   "cell_type": "code",
   "execution_count": 248,
   "metadata": {},
   "outputs": [
    {
     "data": {
      "text/plain": [
       "array([\"L'invention de l'ecran. De l'ecran de cheminee aux ecrans connectes interactifs. Enjeux communicationnels et culturels dans le contexte de la globalisation\",\n",
       "       \"Systeme laitier et filiere lait au mexique : contraintes de developpement, strategies d'acteurs, enjeux de leur coevolution. cas de la cienega de chapala, jalisco\",\n",
       "       'Concurrence, prix et qualite de la prise en charge en EHPAD en France : Analyses micro-econometriques',\n",
       "       'Modelisation et criteres de combustibilite en incineration combinee de dechets menagers et de dechets industriels banals',\n",
       "       \"Caracterisation electrophysiologique et pharmacologique des canaux ioniques : sodium, calcium, actives par l'ATP, des cellules myometriales, effets de la gestation et de l'ocytocine\",\n",
       "       \"Influence du ph ruminal sur la digestion des parois vegetales, en relation avec les modifications de l'activite fibrolytique de l'ecosysteme microbien\",\n",
       "       \"Deposition d'energie par production de paires dans les collisions nucleaires ultrarelativistes\"],\n",
       "      dtype=object)"
      ]
     },
     "execution_count": 248,
     "metadata": {},
     "output_type": "execute_result"
    }
   ],
   "source": [
    "# Extraction des titres pour l'identifiant auteur 81323557 :\n",
    "filtre_homonymes_selection_colonnes = filtre_homonymes ['Titre'].unique()\n",
    "filtre_homonymes_selection_colonnes"
   ]
  },
  {
   "cell_type": "markdown",
   "metadata": {},
   "source": [
    "### IV. OUTLIERS ET RESULTATS ANORMAUX ###"
   ]
  },
  {
   "cell_type": "markdown",
   "metadata": {},
   "source": [
    "#### 1. Détection d'outliers chez les directeurs de thèses ####"
   ]
  },
  {
   "cell_type": "markdown",
   "metadata": {},
   "source": [
    "_a. Création d'un nouveau dataframe_"
   ]
  },
  {
   "cell_type": "code",
   "execution_count": 187,
   "metadata": {},
   "outputs": [
    {
     "data": {
      "text/html": [
       "<div>\n",
       "<style scoped>\n",
       "    .dataframe tbody tr th:only-of-type {\n",
       "        vertical-align: middle;\n",
       "    }\n",
       "\n",
       "    .dataframe tbody tr th {\n",
       "        vertical-align: top;\n",
       "    }\n",
       "\n",
       "    .dataframe thead th {\n",
       "        text-align: right;\n",
       "    }\n",
       "</style>\n",
       "<table border=\"1\" class=\"dataframe\">\n",
       "  <thead>\n",
       "    <tr style=\"text-align: right;\">\n",
       "      <th></th>\n",
       "      <th>Directeur de these</th>\n",
       "      <th>Directeur de these (nom prenom)</th>\n",
       "    </tr>\n",
       "  </thead>\n",
       "  <tbody>\n",
       "    <tr>\n",
       "      <th>2</th>\n",
       "      <td>Francois Kohler</td>\n",
       "      <td>Kohler Francois</td>\n",
       "    </tr>\n",
       "    <tr>\n",
       "      <th>5</th>\n",
       "      <td>Edmond Jouve</td>\n",
       "      <td>Jouve Edmond</td>\n",
       "    </tr>\n",
       "    <tr>\n",
       "      <th>6</th>\n",
       "      <td>Pierre Comte</td>\n",
       "      <td>Comte Pierre</td>\n",
       "    </tr>\n",
       "  </tbody>\n",
       "</table>\n",
       "</div>"
      ],
      "text/plain": [
       "  Directeur de these Directeur de these (nom prenom)\n",
       "2    Francois Kohler                 Kohler Francois\n",
       "5       Edmond Jouve                    Jouve Edmond\n",
       "6       Pierre Comte                    Comte Pierre"
      ]
     },
     "execution_count": 187,
     "metadata": {},
     "output_type": "execute_result"
    }
   ],
   "source": [
    "# Création d'une ligne par directeur de thèse en ajoutant la colonne nom/prénom :\n",
    "phd_directeurs = phd_1984_2018[['Directeur de these', 'Directeur de these (nom prenom)']]\n",
    "phd_directeurs.head(3)"
   ]
  },
  {
   "cell_type": "code",
   "execution_count": 188,
   "metadata": {},
   "outputs": [
    {
     "data": {
      "text/html": [
       "<div>\n",
       "<style scoped>\n",
       "    .dataframe tbody tr th:only-of-type {\n",
       "        vertical-align: middle;\n",
       "    }\n",
       "\n",
       "    .dataframe tbody tr th {\n",
       "        vertical-align: top;\n",
       "    }\n",
       "\n",
       "    .dataframe thead th {\n",
       "        text-align: right;\n",
       "    }\n",
       "</style>\n",
       "<table border=\"1\" class=\"dataframe\">\n",
       "  <thead>\n",
       "    <tr style=\"text-align: right;\">\n",
       "      <th></th>\n",
       "      <th>Directeur de these</th>\n",
       "      <th>Directeur de these (nom prenom)</th>\n",
       "      <th>nombre de thèses</th>\n",
       "    </tr>\n",
       "  </thead>\n",
       "  <tbody>\n",
       "    <tr>\n",
       "      <th>2</th>\n",
       "      <td>Francois Kohler</td>\n",
       "      <td>Kohler Francois</td>\n",
       "      <td>13.0</td>\n",
       "    </tr>\n",
       "    <tr>\n",
       "      <th>5</th>\n",
       "      <td>Edmond Jouve</td>\n",
       "      <td>Jouve Edmond</td>\n",
       "      <td>46.0</td>\n",
       "    </tr>\n",
       "    <tr>\n",
       "      <th>6</th>\n",
       "      <td>Pierre Comte</td>\n",
       "      <td>Comte Pierre</td>\n",
       "      <td>2.0</td>\n",
       "    </tr>\n",
       "  </tbody>\n",
       "</table>\n",
       "</div>"
      ],
      "text/plain": [
       "  Directeur de these Directeur de these (nom prenom)  nombre de thèses\n",
       "2    Francois Kohler                 Kohler Francois              13.0\n",
       "5       Edmond Jouve                    Jouve Edmond              46.0\n",
       "6       Pierre Comte                    Comte Pierre               2.0"
      ]
     },
     "execution_count": 188,
     "metadata": {},
     "output_type": "execute_result"
    }
   ],
   "source": [
    "# Création d'une copie du tableau ainsi généré :\n",
    "phd_directeurs = phd_directeurs.copy()\n",
    "\n",
    "# Ajout d'une colonne pour le décompte des thèses par directeurs :\n",
    "phd_directeurs['nombre de thèses'] = phd_1984_2018.groupby('Directeur de these (nom prenom)') ['Identifiant de la these'].transform('count')\n",
    "\n",
    "# Impression du tableau :\n",
    "phd_directeurs.head(3)"
   ]
  },
  {
   "cell_type": "markdown",
   "metadata": {},
   "source": [
    "_b. Tri et nettoyage du nouveau tableau obtenu_"
   ]
  },
  {
   "cell_type": "code",
   "execution_count": 189,
   "metadata": {},
   "outputs": [
    {
     "data": {
      "text/html": [
       "<div>\n",
       "<style scoped>\n",
       "    .dataframe tbody tr th:only-of-type {\n",
       "        vertical-align: middle;\n",
       "    }\n",
       "\n",
       "    .dataframe tbody tr th {\n",
       "        vertical-align: top;\n",
       "    }\n",
       "\n",
       "    .dataframe thead th {\n",
       "        text-align: right;\n",
       "    }\n",
       "</style>\n",
       "<table border=\"1\" class=\"dataframe\">\n",
       "  <thead>\n",
       "    <tr style=\"text-align: right;\">\n",
       "      <th></th>\n",
       "      <th>Directeur de these</th>\n",
       "      <th>Directeur de these (nom prenom)</th>\n",
       "      <th>nombre de thèses</th>\n",
       "    </tr>\n",
       "  </thead>\n",
       "  <tbody>\n",
       "    <tr>\n",
       "      <th>167416</th>\n",
       "      <td>Directeur de these inconnu</td>\n",
       "      <td>Directeur de these inconnu</td>\n",
       "      <td>711.0</td>\n",
       "    </tr>\n",
       "    <tr>\n",
       "      <th>220967</th>\n",
       "      <td>Directeur de these inconnu</td>\n",
       "      <td>Directeur de these inconnu</td>\n",
       "      <td>711.0</td>\n",
       "    </tr>\n",
       "    <tr>\n",
       "      <th>446782</th>\n",
       "      <td>Directeur de these inconnu</td>\n",
       "      <td>Directeur de these inconnu</td>\n",
       "      <td>711.0</td>\n",
       "    </tr>\n",
       "  </tbody>\n",
       "</table>\n",
       "</div>"
      ],
      "text/plain": [
       "                Directeur de these Directeur de these (nom prenom)  \\\n",
       "167416  Directeur de these inconnu      Directeur de these inconnu   \n",
       "220967  Directeur de these inconnu      Directeur de these inconnu   \n",
       "446782  Directeur de these inconnu      Directeur de these inconnu   \n",
       "\n",
       "        nombre de thèses  \n",
       "167416             711.0  \n",
       "220967             711.0  \n",
       "446782             711.0  "
      ]
     },
     "execution_count": 189,
     "metadata": {},
     "output_type": "execute_result"
    }
   ],
   "source": [
    "# Tri des valeurs de la colonne \"nombre de thèses\" par ordre décroissant :\n",
    "phd_directeurs_décroissant = phd_directeurs.sort_values('nombre de thèses', \n",
    "                                                         ascending = False)\n",
    "\n",
    "# Impression d'un extrait du tableau :\n",
    "phd_directeurs_décroissant.head(3)"
   ]
  },
  {
   "cell_type": "code",
   "execution_count": 190,
   "metadata": {},
   "outputs": [
    {
     "data": {
      "text/html": [
       "<div>\n",
       "<style scoped>\n",
       "    .dataframe tbody tr th:only-of-type {\n",
       "        vertical-align: middle;\n",
       "    }\n",
       "\n",
       "    .dataframe tbody tr th {\n",
       "        vertical-align: top;\n",
       "    }\n",
       "\n",
       "    .dataframe thead th {\n",
       "        text-align: right;\n",
       "    }\n",
       "</style>\n",
       "<table border=\"1\" class=\"dataframe\">\n",
       "  <thead>\n",
       "    <tr style=\"text-align: right;\">\n",
       "      <th></th>\n",
       "      <th>Directeur de these</th>\n",
       "      <th>Directeur de these (nom prenom)</th>\n",
       "      <th>nombre de thèses</th>\n",
       "    </tr>\n",
       "  </thead>\n",
       "  <tbody>\n",
       "    <tr>\n",
       "      <th>167416</th>\n",
       "      <td>Directeur de these inconnu</td>\n",
       "      <td>Directeur de these inconnu</td>\n",
       "      <td>711.0</td>\n",
       "    </tr>\n",
       "    <tr>\n",
       "      <th>223163</th>\n",
       "      <td>Jean-Michel Scherrmann</td>\n",
       "      <td>Scherrmann Jean-Michel</td>\n",
       "      <td>208.0</td>\n",
       "    </tr>\n",
       "    <tr>\n",
       "      <th>243898</th>\n",
       "      <td>Francois-Paul Blanc</td>\n",
       "      <td>Blanc Francois-Paul</td>\n",
       "      <td>201.0</td>\n",
       "    </tr>\n",
       "  </tbody>\n",
       "</table>\n",
       "</div>"
      ],
      "text/plain": [
       "                Directeur de these Directeur de these (nom prenom)  \\\n",
       "167416  Directeur de these inconnu      Directeur de these inconnu   \n",
       "223163      Jean-Michel Scherrmann          Scherrmann Jean-Michel   \n",
       "243898         Francois-Paul Blanc             Blanc Francois-Paul   \n",
       "\n",
       "        nombre de thèses  \n",
       "167416             711.0  \n",
       "223163             208.0  \n",
       "243898             201.0  "
      ]
     },
     "execution_count": 190,
     "metadata": {},
     "output_type": "execute_result"
    }
   ],
   "source": [
    "# Suppression des doublons de lignes par directeurs :\n",
    "phd_directeurs_décroissant_unique = phd_directeurs_décroissant.drop_duplicates(subset = ['Directeur de these (nom prenom)'], \n",
    "                                                                               keep = 'first')\n",
    "\n",
    "# Affichage du début du tableau :\n",
    "phd_directeurs_décroissant_unique.head(3)"
   ]
  },
  {
   "cell_type": "code",
   "execution_count": 191,
   "metadata": {},
   "outputs": [
    {
     "data": {
      "text/html": [
       "<div>\n",
       "<style scoped>\n",
       "    .dataframe tbody tr th:only-of-type {\n",
       "        vertical-align: middle;\n",
       "    }\n",
       "\n",
       "    .dataframe tbody tr th {\n",
       "        vertical-align: top;\n",
       "    }\n",
       "\n",
       "    .dataframe thead th {\n",
       "        text-align: right;\n",
       "    }\n",
       "</style>\n",
       "<table border=\"1\" class=\"dataframe\">\n",
       "  <thead>\n",
       "    <tr style=\"text-align: right;\">\n",
       "      <th></th>\n",
       "      <th>Directeur de these</th>\n",
       "      <th>Directeur de these (nom prenom)</th>\n",
       "      <th>nombre de thèses</th>\n",
       "    </tr>\n",
       "  </thead>\n",
       "  <tbody>\n",
       "    <tr>\n",
       "      <th>223163</th>\n",
       "      <td>Jean-Michel Scherrmann</td>\n",
       "      <td>Scherrmann Jean-Michel</td>\n",
       "      <td>208.0</td>\n",
       "    </tr>\n",
       "    <tr>\n",
       "      <th>243898</th>\n",
       "      <td>Francois-Paul Blanc</td>\n",
       "      <td>Blanc Francois-Paul</td>\n",
       "      <td>201.0</td>\n",
       "    </tr>\n",
       "    <tr>\n",
       "      <th>217715</th>\n",
       "      <td>Pierre Brunel</td>\n",
       "      <td>Brunel Pierre</td>\n",
       "      <td>195.0</td>\n",
       "    </tr>\n",
       "  </tbody>\n",
       "</table>\n",
       "</div>"
      ],
      "text/plain": [
       "            Directeur de these Directeur de these (nom prenom)  \\\n",
       "223163  Jean-Michel Scherrmann          Scherrmann Jean-Michel   \n",
       "243898     Francois-Paul Blanc             Blanc Francois-Paul   \n",
       "217715           Pierre Brunel                   Brunel Pierre   \n",
       "\n",
       "        nombre de thèses  \n",
       "223163             208.0  \n",
       "243898             201.0  \n",
       "217715             195.0  "
      ]
     },
     "execution_count": 191,
     "metadata": {},
     "output_type": "execute_result"
    }
   ],
   "source": [
    "# Suppression de la première ligne du tableau :\n",
    "phd_directeurs_décroissant_unique_nettoyée = phd_directeurs_décroissant_unique.drop(phd_directeurs_décroissant_unique.index[0])\n",
    "\n",
    "# Impression du début du tableau :\n",
    "phd_directeurs_décroissant_unique_nettoyée.head(3)"
   ]
  },
  {
   "cell_type": "markdown",
   "metadata": {},
   "source": [
    "_c. Analyse du nombre de thèses par directeurs_"
   ]
  },
  {
   "cell_type": "code",
   "execution_count": 192,
   "metadata": {},
   "outputs": [
    {
     "data": {
      "text/html": [
       "<div>\n",
       "<style scoped>\n",
       "    .dataframe tbody tr th:only-of-type {\n",
       "        vertical-align: middle;\n",
       "    }\n",
       "\n",
       "    .dataframe tbody tr th {\n",
       "        vertical-align: top;\n",
       "    }\n",
       "\n",
       "    .dataframe thead th {\n",
       "        text-align: right;\n",
       "    }\n",
       "</style>\n",
       "<table border=\"1\" class=\"dataframe\">\n",
       "  <thead>\n",
       "    <tr style=\"text-align: right;\">\n",
       "      <th></th>\n",
       "      <th>Directeur de these</th>\n",
       "      <th>Directeur de these (nom prenom)</th>\n",
       "    </tr>\n",
       "  </thead>\n",
       "  <tbody>\n",
       "    <tr>\n",
       "      <th>count</th>\n",
       "      <td>129091</td>\n",
       "      <td>129091</td>\n",
       "    </tr>\n",
       "    <tr>\n",
       "      <th>unique</th>\n",
       "      <td>129078</td>\n",
       "      <td>129091</td>\n",
       "    </tr>\n",
       "    <tr>\n",
       "      <th>top</th>\n",
       "      <td>Herve Pingaud</td>\n",
       "      <td>Scherrmann Jean-Michel</td>\n",
       "    </tr>\n",
       "    <tr>\n",
       "      <th>freq</th>\n",
       "      <td>2</td>\n",
       "      <td>1</td>\n",
       "    </tr>\n",
       "  </tbody>\n",
       "</table>\n",
       "</div>"
      ],
      "text/plain": [
       "       Directeur de these Directeur de these (nom prenom)\n",
       "count              129091                          129091\n",
       "unique             129078                          129091\n",
       "top         Herve Pingaud          Scherrmann Jean-Michel\n",
       "freq                    2                               1"
      ]
     },
     "execution_count": 192,
     "metadata": {},
     "output_type": "execute_result"
    }
   ],
   "source": [
    "# Impression des statistiques du tableau :\n",
    "phd_directeurs_décroissant_unique_nettoyée.describe(include = 'object')"
   ]
  },
  {
   "cell_type": "code",
   "execution_count": 193,
   "metadata": {},
   "outputs": [
    {
     "name": "stdout",
     "output_type": "stream",
     "text": [
      "Le nombre de directeurs de thèse différents est égal à  129092\n"
     ]
    }
   ],
   "source": [
    "# Calcul du nombre de directeurs de thèse :\n",
    "Nombre_de_directeurs_de_thèse = phd_directeurs_décroissant_unique_nettoyée.shape[0]\n",
    "\n",
    "# Affichage du résultat :\n",
    "print(\"Le nombre de directeurs de thèse différents est égal à \", Nombre_de_directeurs_de_thèse)"
   ]
  },
  {
   "cell_type": "code",
   "execution_count": 194,
   "metadata": {},
   "outputs": [
    {
     "data": {
      "text/html": [
       "<div>\n",
       "<style scoped>\n",
       "    .dataframe tbody tr th:only-of-type {\n",
       "        vertical-align: middle;\n",
       "    }\n",
       "\n",
       "    .dataframe tbody tr th {\n",
       "        vertical-align: top;\n",
       "    }\n",
       "\n",
       "    .dataframe thead th {\n",
       "        text-align: right;\n",
       "    }\n",
       "</style>\n",
       "<table border=\"1\" class=\"dataframe\">\n",
       "  <thead>\n",
       "    <tr style=\"text-align: right;\">\n",
       "      <th></th>\n",
       "      <th>nombre de thèses</th>\n",
       "    </tr>\n",
       "  </thead>\n",
       "  <tbody>\n",
       "    <tr>\n",
       "      <th>count</th>\n",
       "      <td>129091.0</td>\n",
       "    </tr>\n",
       "    <tr>\n",
       "      <th>mean</th>\n",
       "      <td>2.9</td>\n",
       "    </tr>\n",
       "    <tr>\n",
       "      <th>std</th>\n",
       "      <td>5.2</td>\n",
       "    </tr>\n",
       "    <tr>\n",
       "      <th>min</th>\n",
       "      <td>1.0</td>\n",
       "    </tr>\n",
       "    <tr>\n",
       "      <th>25%</th>\n",
       "      <td>1.0</td>\n",
       "    </tr>\n",
       "    <tr>\n",
       "      <th>50%</th>\n",
       "      <td>1.0</td>\n",
       "    </tr>\n",
       "    <tr>\n",
       "      <th>75%</th>\n",
       "      <td>3.0</td>\n",
       "    </tr>\n",
       "    <tr>\n",
       "      <th>max</th>\n",
       "      <td>208.0</td>\n",
       "    </tr>\n",
       "  </tbody>\n",
       "</table>\n",
       "</div>"
      ],
      "text/plain": [
       "       nombre de thèses\n",
       "count          129091.0\n",
       "mean                2.9\n",
       "std                 5.2\n",
       "min                 1.0\n",
       "25%                 1.0\n",
       "50%                 1.0\n",
       "75%                 3.0\n",
       "max               208.0"
      ]
     },
     "execution_count": 194,
     "metadata": {},
     "output_type": "execute_result"
    }
   ],
   "source": [
    "# Affichage des statistiques récapitulatives du nouveau dataframe : \n",
    "phd_directeurs_décroissant_unique_nettoyée.describe().round(1)"
   ]
  },
  {
   "cell_type": "code",
   "execution_count": 251,
   "metadata": {},
   "outputs": [
    {
     "name": "stdout",
     "output_type": "stream",
     "text": [
      "Il y a  91541  numéros d'identifiant de directeurs différents dans le dataframe.\n",
      "Ces valeurs sont  ['57030758' '26941848' 'na' ... '313,599,221' '171444167' '704,488,921']\n"
     ]
    }
   ],
   "source": [
    "# Filtre du dataframe phd_1984_2018 en excluant les lignes avec 'nom de directeur inconnu' :\n",
    "phd_1984_2018_sans_directeur_thèse_inconnu = phd_1984_2018[phd_1984_2018['Directeur de these (nom prenom)'] != 'Directeur de these inconnu']\n",
    "\n",
    "# Calcul du nombre de valeurs uniques dans la colonne 'Référence Auteur' :\n",
    "nombre_valeurs_uniques_identifiants_directeurs = phd_1984_2018_sans_directeur_thèse_inconnu['Identifiant directeur'].nunique()\n",
    "print('Il y a ', nombre_valeurs_uniques_identifiants_directeurs, \" numéros d'identifiant de directeurs différents dans le dataframe.\")\n",
    "\n",
    "# Affichage des valeurs uniques :\n",
    "nombre_valeurs_uniques_identifiants_directeurs = phd_1984_2018_sans_directeur_thèse_inconnu['Identifiant directeur'].unique()\n",
    "print('Ces valeurs sont ', nombre_valeurs_uniques_identifiants_directeurs)"
   ]
  },
  {
   "cell_type": "code",
   "execution_count": 252,
   "metadata": {},
   "outputs": [
    {
     "data": {
      "text/plain": [
       "Identifiant directeur\n",
       "na          18432\n",
       "1             875\n",
       "3             658\n",
       "7             622\n",
       "8             521\n",
       "6             486\n",
       "2             423\n",
       "9             239\n",
       "59375140      208\n",
       "26730774      205\n",
       "Name: count, dtype: int64"
      ]
     },
     "execution_count": 252,
     "metadata": {},
     "output_type": "execute_result"
    }
   ],
   "source": [
    "# Affichage des valeurs les plus courantes et leur nombre :\n",
    "phd_1984_2018_sans_directeur_thèse_inconnu['Identifiant directeur'].value_counts().head(10)"
   ]
  },
  {
   "cell_type": "code",
   "execution_count": 256,
   "metadata": {},
   "outputs": [
    {
     "name": "stdout",
     "output_type": "stream",
     "text": [
      "Identifiant directeur\n",
      "na          20.1\n",
      "1            1.0\n",
      "3            0.7\n",
      "7            0.7\n",
      "8            0.6\n",
      "6            0.5\n",
      "2            0.5\n",
      "9            0.3\n",
      "59375140     0.2\n",
      "26730774     0.2\n",
      "Name: count, dtype: float64\n"
     ]
    }
   ],
   "source": [
    "# Affichage des valeurs les plus courantes et leur proportion :\n",
    "proportion_identifiants = phd_1984_2018_sans_directeur_thèse_inconnu['Identifiant directeur'].value_counts() * 100 / 91541\n",
    "print(proportion_identifiants.head(10).round(1))"
   ]
  },
  {
   "cell_type": "markdown",
   "metadata": {},
   "source": [
    "_d. Détection des directeurs de thèse qui ont plusieurs identifiants_"
   ]
  },
  {
   "cell_type": "code",
   "execution_count": 257,
   "metadata": {},
   "outputs": [
    {
     "data": {
      "text/html": [
       "<div>\n",
       "<style scoped>\n",
       "    .dataframe tbody tr th:only-of-type {\n",
       "        vertical-align: middle;\n",
       "    }\n",
       "\n",
       "    .dataframe tbody tr th {\n",
       "        vertical-align: top;\n",
       "    }\n",
       "\n",
       "    .dataframe thead th {\n",
       "        text-align: right;\n",
       "    }\n",
       "</style>\n",
       "<table border=\"1\" class=\"dataframe\">\n",
       "  <thead>\n",
       "    <tr style=\"text-align: right;\">\n",
       "      <th></th>\n",
       "      <th>Directeur de these</th>\n",
       "      <th>Directeur de these (nom prenom)</th>\n",
       "      <th>nombre de thèses</th>\n",
       "      <th>nombre_identifiants</th>\n",
       "    </tr>\n",
       "  </thead>\n",
       "  <tbody>\n",
       "    <tr>\n",
       "      <th>223163</th>\n",
       "      <td>Jean-Michel Scherrmann</td>\n",
       "      <td>Scherrmann Jean-Michel</td>\n",
       "      <td>208.0</td>\n",
       "      <td>1.0</td>\n",
       "    </tr>\n",
       "    <tr>\n",
       "      <th>243898</th>\n",
       "      <td>Francois-Paul Blanc</td>\n",
       "      <td>Blanc Francois-Paul</td>\n",
       "      <td>201.0</td>\n",
       "      <td>1.0</td>\n",
       "    </tr>\n",
       "    <tr>\n",
       "      <th>217715</th>\n",
       "      <td>Pierre Brunel</td>\n",
       "      <td>Brunel Pierre</td>\n",
       "      <td>195.0</td>\n",
       "      <td>3.0</td>\n",
       "    </tr>\n",
       "  </tbody>\n",
       "</table>\n",
       "</div>"
      ],
      "text/plain": [
       "            Directeur de these Directeur de these (nom prenom)  \\\n",
       "223163  Jean-Michel Scherrmann          Scherrmann Jean-Michel   \n",
       "243898     Francois-Paul Blanc             Blanc Francois-Paul   \n",
       "217715           Pierre Brunel                   Brunel Pierre   \n",
       "\n",
       "        nombre de thèses  nombre_identifiants  \n",
       "223163             208.0                  1.0  \n",
       "243898             201.0                  1.0  \n",
       "217715             195.0                  3.0  "
      ]
     },
     "execution_count": 257,
     "metadata": {},
     "output_type": "execute_result"
    }
   ],
   "source": [
    "# Ajout d'une colonne avec le nombre d'identifiants par personne :\n",
    "phd_directeurs_décroissant_unique_nettoyée['nombre_identifiants'] = phd_1984_2018_sans_directeur_thèse_inconnu.groupby('Directeur de these (nom prenom)')['Identifiant directeur'].transform('nunique')\n",
    "\n",
    "# Suppression des doublons sur les noms de directeurs de thèse :\n",
    "phd_directeurs_décroissant_unique_nettoyée_identifiant = phd_directeurs_décroissant_unique_nettoyée.drop_duplicates(subset = ['Directeur de these (nom prenom)'])\n",
    "\n",
    "# Affichage du dataframe final :\n",
    "phd_directeurs_décroissant_unique_nettoyée_identifiant.head(3)"
   ]
  },
  {
   "cell_type": "code",
   "execution_count": 258,
   "metadata": {},
   "outputs": [
    {
     "name": "stdout",
     "output_type": "stream",
     "text": [
      "Le nombre de directeurs ayant plusieurs identifiants est de  3612 .\n",
      "Soit une proportion totale de  2.8 %.\n"
     ]
    }
   ],
   "source": [
    "# Décompte du nombre de lignes où \"nombre_identifiants\" > 1 :\n",
    "count = phd_directeurs_décroissant_unique_nettoyée_identifiant[phd_directeurs_décroissant_unique_nettoyée_identifiant['nombre_identifiants'] > 1].shape[0]\n",
    "print(\"Le nombre de directeurs ayant plusieurs identifiants est de \", count, \".\")\n",
    "\n",
    "# Affichage de la proportion de directeurs de thèse qui ont \"nombre_identifiants\" > 1 :\n",
    "proportion = count * 100 / Nombre_de_directeurs_de_thèse\n",
    "print (\"Soit une proportion totale de \", round(proportion, 1), \"%.\")"
   ]
  },
  {
   "cell_type": "markdown",
   "metadata": {},
   "source": [
    "##### 2. Le cas Scherrmann Jean-Michel #####"
   ]
  },
  {
   "cell_type": "code",
   "execution_count": 199,
   "metadata": {},
   "outputs": [
    {
     "data": {
      "text/html": [
       "<div>\n",
       "<style scoped>\n",
       "    .dataframe tbody tr th:only-of-type {\n",
       "        vertical-align: middle;\n",
       "    }\n",
       "\n",
       "    .dataframe tbody tr th {\n",
       "        vertical-align: top;\n",
       "    }\n",
       "\n",
       "    .dataframe thead th {\n",
       "        text-align: right;\n",
       "    }\n",
       "</style>\n",
       "<table border=\"1\" class=\"dataframe\">\n",
       "  <thead>\n",
       "    <tr style=\"text-align: right;\">\n",
       "      <th></th>\n",
       "      <th>Date de premiere inscription en doctorat</th>\n",
       "      <th>Identifiant auteur</th>\n",
       "      <th>Langue_rec</th>\n",
       "      <th>Year</th>\n",
       "      <th>Date de soutenance</th>\n",
       "      <th>Identifiant etablissement</th>\n",
       "      <th>etablissement_rec</th>\n",
       "      <th>Langue de la these</th>\n",
       "      <th>Genre</th>\n",
       "      <th>Discipline_prÃ©di</th>\n",
       "      <th>...</th>\n",
       "      <th>Auteur</th>\n",
       "      <th>Statut</th>\n",
       "      <th>Discipline</th>\n",
       "      <th>Etablissement de soutenance</th>\n",
       "      <th>Identifiant directeur</th>\n",
       "      <th>Directeur de these (nom prenom)</th>\n",
       "      <th>Unnamed: 0</th>\n",
       "      <th>Jour de soutenance</th>\n",
       "      <th>Mois de soutenance</th>\n",
       "      <th>Année de soutenance</th>\n",
       "    </tr>\n",
       "  </thead>\n",
       "  <tbody>\n",
       "    <tr>\n",
       "      <th>90404</th>\n",
       "      <td>NaN</td>\n",
       "      <td>158089014</td>\n",
       "      <td>Anglais</td>\n",
       "      <td>2011.0</td>\n",
       "      <td>2011-01-01</td>\n",
       "      <td>26404788</td>\n",
       "      <td>Université de Paris</td>\n",
       "      <td>en</td>\n",
       "      <td>male</td>\n",
       "      <td>Biologie</td>\n",
       "      <td>...</td>\n",
       "      <td>Ramzi Shawahna</td>\n",
       "      <td>soutenue</td>\n",
       "      <td>Pharmacologie cellulaire et moleculaire</td>\n",
       "      <td>Paris 5</td>\n",
       "      <td>59375140</td>\n",
       "      <td>Scherrmann Jean-Michel</td>\n",
       "      <td>90404</td>\n",
       "      <td>1</td>\n",
       "      <td>janvier</td>\n",
       "      <td>2011</td>\n",
       "    </tr>\n",
       "    <tr>\n",
       "      <th>91594</th>\n",
       "      <td>NaN</td>\n",
       "      <td>NaN</td>\n",
       "      <td>Français</td>\n",
       "      <td>2001.0</td>\n",
       "      <td>2001-01-01</td>\n",
       "      <td>NaN</td>\n",
       "      <td>Université de Paris</td>\n",
       "      <td>fr</td>\n",
       "      <td>female</td>\n",
       "      <td>Biologie</td>\n",
       "      <td>...</td>\n",
       "      <td>Leonor Vignol</td>\n",
       "      <td>soutenue</td>\n",
       "      <td>Pharmacie</td>\n",
       "      <td>Paris 5</td>\n",
       "      <td>59375140</td>\n",
       "      <td>Scherrmann Jean-Michel</td>\n",
       "      <td>91594</td>\n",
       "      <td>1</td>\n",
       "      <td>janvier</td>\n",
       "      <td>2001</td>\n",
       "    </tr>\n",
       "    <tr>\n",
       "      <th>97951</th>\n",
       "      <td>NaN</td>\n",
       "      <td>97663662</td>\n",
       "      <td>Français</td>\n",
       "      <td>2005.0</td>\n",
       "      <td>2005-01-01</td>\n",
       "      <td>26404788</td>\n",
       "      <td>Université de Paris</td>\n",
       "      <td>fr</td>\n",
       "      <td>female</td>\n",
       "      <td>Biologie</td>\n",
       "      <td>...</td>\n",
       "      <td>Anne J. Moulin Paccaly</td>\n",
       "      <td>soutenue</td>\n",
       "      <td>Pharmacie</td>\n",
       "      <td>Paris 5</td>\n",
       "      <td>59375140</td>\n",
       "      <td>Scherrmann Jean-Michel</td>\n",
       "      <td>97951</td>\n",
       "      <td>1</td>\n",
       "      <td>janvier</td>\n",
       "      <td>2005</td>\n",
       "    </tr>\n",
       "  </tbody>\n",
       "</table>\n",
       "<p>3 rows × 26 columns</p>\n",
       "</div>"
      ],
      "text/plain": [
       "      Date de premiere inscription en doctorat Identifiant auteur Langue_rec  \\\n",
       "90404                                      NaN          158089014    Anglais   \n",
       "91594                                      NaN                NaN   Français   \n",
       "97951                                      NaN           97663662   Français   \n",
       "\n",
       "         Year Date de soutenance Identifiant etablissement  \\\n",
       "90404  2011.0         2011-01-01                  26404788   \n",
       "91594  2001.0         2001-01-01                       NaN   \n",
       "97951  2005.0         2005-01-01                  26404788   \n",
       "\n",
       "         etablissement_rec Langue de la these   Genre Discipline_prÃ©di  ...  \\\n",
       "90404  Université de Paris                 en    male          Biologie  ...   \n",
       "91594  Université de Paris                 fr  female          Biologie  ...   \n",
       "97951  Université de Paris                 fr  female          Biologie  ...   \n",
       "\n",
       "                       Auteur    Statut  \\\n",
       "90404          Ramzi Shawahna  soutenue   \n",
       "91594           Leonor Vignol  soutenue   \n",
       "97951  Anne J. Moulin Paccaly  soutenue   \n",
       "\n",
       "                                    Discipline Etablissement de soutenance  \\\n",
       "90404  Pharmacologie cellulaire et moleculaire                     Paris 5   \n",
       "91594                                Pharmacie                     Paris 5   \n",
       "97951                                Pharmacie                     Paris 5   \n",
       "\n",
       "      Identifiant directeur Directeur de these (nom prenom) Unnamed: 0  \\\n",
       "90404              59375140          Scherrmann Jean-Michel      90404   \n",
       "91594              59375140          Scherrmann Jean-Michel      91594   \n",
       "97951              59375140          Scherrmann Jean-Michel      97951   \n",
       "\n",
       "      Jour de soutenance Mois de soutenance Année de soutenance  \n",
       "90404                  1            janvier                2011  \n",
       "91594                  1            janvier                2001  \n",
       "97951                  1            janvier                2005  \n",
       "\n",
       "[3 rows x 26 columns]"
      ]
     },
     "execution_count": 199,
     "metadata": {},
     "output_type": "execute_result"
    }
   ],
   "source": [
    "# Filtre du tableau sur Schermann Jean-Michel :\n",
    "phd_1984_2018_SJM = phd_1984_2018[phd_1984_2018['Directeur de these (nom prenom)'] == 'Scherrmann Jean-Michel']\n",
    "phd_1984_2018_SJM.head(3)"
   ]
  },
  {
   "cell_type": "code",
   "execution_count": 259,
   "metadata": {},
   "outputs": [
    {
     "data": {
      "text/html": [
       "<div>\n",
       "<style scoped>\n",
       "    .dataframe tbody tr th:only-of-type {\n",
       "        vertical-align: middle;\n",
       "    }\n",
       "\n",
       "    .dataframe tbody tr th {\n",
       "        vertical-align: top;\n",
       "    }\n",
       "\n",
       "    .dataframe thead th {\n",
       "        text-align: right;\n",
       "    }\n",
       "</style>\n",
       "<table border=\"1\" class=\"dataframe\">\n",
       "  <thead>\n",
       "    <tr style=\"text-align: right;\">\n",
       "      <th></th>\n",
       "      <th>Identifiant etablissement</th>\n",
       "      <th>etablissement_rec</th>\n",
       "      <th>Discipline_prÃ©di</th>\n",
       "      <th>Discipline</th>\n",
       "      <th>Etablissement de soutenance</th>\n",
       "    </tr>\n",
       "  </thead>\n",
       "  <tbody>\n",
       "    <tr>\n",
       "      <th>90404</th>\n",
       "      <td>26404788</td>\n",
       "      <td>Université de Paris</td>\n",
       "      <td>Biologie</td>\n",
       "      <td>Pharmacologie cellulaire et moleculaire</td>\n",
       "      <td>Paris 5</td>\n",
       "    </tr>\n",
       "    <tr>\n",
       "      <th>91594</th>\n",
       "      <td>NaN</td>\n",
       "      <td>Université de Paris</td>\n",
       "      <td>Biologie</td>\n",
       "      <td>Pharmacie</td>\n",
       "      <td>Paris 5</td>\n",
       "    </tr>\n",
       "    <tr>\n",
       "      <th>97951</th>\n",
       "      <td>26404788</td>\n",
       "      <td>Université de Paris</td>\n",
       "      <td>Biologie</td>\n",
       "      <td>Pharmacie</td>\n",
       "      <td>Paris 5</td>\n",
       "    </tr>\n",
       "  </tbody>\n",
       "</table>\n",
       "</div>"
      ],
      "text/plain": [
       "      Identifiant etablissement    etablissement_rec Discipline_prÃ©di  \\\n",
       "90404                  26404788  Université de Paris          Biologie   \n",
       "91594                       NaN  Université de Paris          Biologie   \n",
       "97951                  26404788  Université de Paris          Biologie   \n",
       "\n",
       "                                    Discipline Etablissement de soutenance  \n",
       "90404  Pharmacologie cellulaire et moleculaire                     Paris 5  \n",
       "91594                                Pharmacie                     Paris 5  \n",
       "97951                                Pharmacie                     Paris 5  "
      ]
     },
     "execution_count": 259,
     "metadata": {},
     "output_type": "execute_result"
    }
   ],
   "source": [
    "# Affichage du dataframe avec les colonnes concernées :\n",
    "phd_1984_2018_SJM_filtré = phd_1984_2018_SJM[['Identifiant etablissement',\n",
    "                                             'etablissement_rec',\n",
    "                                             'Discipline_prÃ©di',\n",
    "                                             'Discipline',\n",
    "                                             'Etablissement de soutenance']]\n",
    "\n",
    "# Affichage du tableau :\n",
    "phd_1984_2018_SJM_filtré.head(3)"
   ]
  },
  {
   "cell_type": "code",
   "execution_count": 201,
   "metadata": {},
   "outputs": [
    {
     "name": "stdout",
     "output_type": "stream",
     "text": [
      "['Paris 5' 'Paris 6']\n"
     ]
    }
   ],
   "source": [
    "# Affichage des valeurs uniques de la colonne \"Etablissement de soutenance\" :\n",
    "print(phd_1984_2018_SJM_filtré['Etablissement de soutenance'].unique())"
   ]
  },
  {
   "cell_type": "code",
   "execution_count": 260,
   "metadata": {},
   "outputs": [
    {
     "name": "stdout",
     "output_type": "stream",
     "text": [
      "['Pharmacologie cellulaire et moleculaire' 'Pharmacie'\n",
      " 'Sciences medicales'\n",
      " 'Sciences biologiques et fondamentales appliquees. Psychologie'\n",
      " 'Pharmacie. Pharmacocinetique' 'Pharmacocinetique' 'Pharmacie clinique'\n",
      " 'Pharmacie. Pharmacie clinique et pharmacocinetique clinique'\n",
      " 'Pharmacocinetique, Radiopharmacie' 'Pharmacie. Toxicologie' 'Medecine']\n"
     ]
    }
   ],
   "source": [
    "# Affichage des valeurs uniques de la colonne \"Discipline\" :\n",
    "print(phd_1984_2018_SJM_filtré['Discipline'].unique())"
   ]
  },
  {
   "cell_type": "code",
   "execution_count": 203,
   "metadata": {},
   "outputs": [
    {
     "name": "stdout",
     "output_type": "stream",
     "text": [
      "['Biologie' 'Psychologie' 'Medecine']\n"
     ]
    }
   ],
   "source": [
    "# Affichage des valeurs uniques de la colonne \"Discipline_prÃ©di\" :\n",
    "print(phd_1984_2018_SJM_filtré['Discipline_prÃ©di'].unique())"
   ]
  },
  {
   "cell_type": "code",
   "execution_count": 204,
   "metadata": {},
   "outputs": [
    {
     "name": "stdout",
     "output_type": "stream",
     "text": [
      "['Université de Paris' 'Sorbonne Université']\n"
     ]
    }
   ],
   "source": [
    "# Affichage des valeurs uniques de la colonne \"etablissement_rec\" :\n",
    "print(phd_1984_2018_SJM_filtré['etablissement_rec'].unique())"
   ]
  },
  {
   "cell_type": "code",
   "execution_count": 205,
   "metadata": {},
   "outputs": [
    {
     "name": "stdout",
     "output_type": "stream",
     "text": [
      "['26404788' nan '27787087']\n"
     ]
    }
   ],
   "source": [
    "# Affichage des valeurs uniques de la colonne \"Identifiant etablissement\" :\n",
    "print(phd_1984_2018_SJM_filtré['Identifiant etablissement'].unique())"
   ]
  },
  {
   "cell_type": "markdown",
   "metadata": {},
   "source": [
    "### V. OBTENTION DE RESULTATS PRELIMINAIRES ###"
   ]
  },
  {
   "cell_type": "markdown",
   "metadata": {},
   "source": [
    "##### 1. Nombre de soutenances pas années et par langues #####"
   ]
  },
  {
   "cell_type": "markdown",
   "metadata": {},
   "source": [
    "_a. Création d'une nouvelle variable : language_rec_"
   ]
  },
  {
   "cell_type": "code",
   "execution_count": 206,
   "metadata": {},
   "outputs": [
    {
     "name": "stdout",
     "output_type": "stream",
     "text": [
      "['fr' 'na' 'en' 'ro' 'es' 'de' 'FR' 'zh' 'bs' 'it' 'co' 'fren' 'enfr'\n",
      " 'enzh' 'pt' 'frensl' 'fres' 'zhen' 'esen' 'itfr' 'frel' 'cs' 'frpten'\n",
      " 'hu' 'enfrde' 'esenfr' 'frpl' 'elfr' 'frhu' 'frar' 'itfren' 'frit' 'frzh'\n",
      " 'enfrzh' 'frvi' 'frenes' 'ru' 'defr' 'pl' 'bg' 'frkm' 'kkenfr' 'frcs'\n",
      " 'ptfren' 'el' 'enfreu' 'pten' 'frpt' 'esfr' 'ptfr' 'rufr' 'br' 'cafr'\n",
      " 'sr' 'enru' 'ensl' 'frde' 'frja' 'frla' 'ar' 'ca' 'fraf' 'eu' 'enesfr'\n",
      " 'freu' 'rofr' 'frgrc' 'enpt' 'encsfr' 'he' 'enptfr' 'enit' 'fresen'\n",
      " 'enpl' 'sv' 'eufr' 'enfrpt' 'frbr' 'ukfren' 'frruen' 'arfr' 'hyfrru'\n",
      " 'csfrsk' 'frhe' 'frru' 'brfr' 'akfr' 'zhfr' 'frms' 'enfrpl' 'frmn'\n",
      " 'enfrit' 'envi' 'frro' 'frfy' 'frsl' 'enfres' 'frqu' 'as' 'frln' 'frenpt'\n",
      " 'abfr' 'uk' 'roen' 'plen' 'frenzh' 'frendees' 'enfrcs' 'itzh' 'cofr'\n",
      " 'frtch' 'eufres' 'ja' 'enbo' 'frsa' 'itfrhe' 'froc' 'frkmsa' 'hyfr'\n",
      " 'zhfrit' 'nl' 'nlen' 'csfr' 'enesfrca' 'enar' 'amfr' 'frtr' 'frsakm'\n",
      " 'enarfr' 'itlafr' 'frff' 'itfrla' 'sq' 'entr' 'deenfr' 'itla' 'enro'\n",
      " 'plfr' 'endefr' 'ptenfr' 'enes' 'frka' 'fafr' 'akes' 'frmg' 'elenfr'\n",
      " 'csenfr' 'sqfr' 'zhenfr' 'ee' 'bgenfr' 'frfr' 'enfrsk' 'encs' 'enfrro'\n",
      " 'fris' 'bgfr' 'frgl' 'frko' 'enhu' 'deenfrit' 'azfr' 'fritla' 'enth'\n",
      " 'frth' 'arenfrit' 'frfa' 'frty' 'eo' 'frid' 'frsv' 'aefr' 'csfrla'\n",
      " 'enfrhu' 'zhfrug' 'myfr' 'enfrja' 'deen' 'amarfr' 'aafr' 'frsi' 'enla'\n",
      " 'frlaptes' 'ares' 'arenfr' 'frnv' 'enitfr' 'frplen' 'ad' 'enfrvi' 'ab'\n",
      " 'frhi' 'fritlaoc' 'am' 'enfrru' 'frukr' 'hy' 'enzhfr' 'enfrar' 'et' 'id'\n",
      " 'cafres' 'frruuk' 'fi' 'nlenfr']\n"
     ]
    }
   ],
   "source": [
    "# Affichage des valeurs uniques de la colonne \"Langue de la these\" :\n",
    "print(phd_1984_2018['Langue de la these'].unique())"
   ]
  },
  {
   "cell_type": "code",
   "execution_count": 262,
   "metadata": {},
   "outputs": [
    {
     "data": {
      "text/html": [
       "<div>\n",
       "<style scoped>\n",
       "    .dataframe tbody tr th:only-of-type {\n",
       "        vertical-align: middle;\n",
       "    }\n",
       "\n",
       "    .dataframe tbody tr th {\n",
       "        vertical-align: top;\n",
       "    }\n",
       "\n",
       "    .dataframe thead th {\n",
       "        text-align: right;\n",
       "    }\n",
       "</style>\n",
       "<table border=\"1\" class=\"dataframe\">\n",
       "  <thead>\n",
       "    <tr style=\"text-align: right;\">\n",
       "      <th></th>\n",
       "      <th>Date de premiere inscription en doctorat</th>\n",
       "      <th>Identifiant auteur</th>\n",
       "      <th>Langue_rec</th>\n",
       "      <th>Year</th>\n",
       "      <th>Date de soutenance</th>\n",
       "      <th>Identifiant etablissement</th>\n",
       "      <th>etablissement_rec</th>\n",
       "      <th>Langue de la these</th>\n",
       "      <th>Genre</th>\n",
       "      <th>Discipline_prÃ©di</th>\n",
       "      <th>...</th>\n",
       "      <th>Statut</th>\n",
       "      <th>Discipline</th>\n",
       "      <th>Etablissement de soutenance</th>\n",
       "      <th>Identifiant directeur</th>\n",
       "      <th>Directeur de these (nom prenom)</th>\n",
       "      <th>Unnamed: 0</th>\n",
       "      <th>Jour de soutenance</th>\n",
       "      <th>Mois de soutenance</th>\n",
       "      <th>Année de soutenance</th>\n",
       "      <th>language_rec</th>\n",
       "    </tr>\n",
       "  </thead>\n",
       "  <tbody>\n",
       "    <tr>\n",
       "      <th>2</th>\n",
       "      <td>NaN</td>\n",
       "      <td>NaN</td>\n",
       "      <td>Français</td>\n",
       "      <td>1993.0</td>\n",
       "      <td>1993-01-01</td>\n",
       "      <td>NaN</td>\n",
       "      <td>Université de Lorraine</td>\n",
       "      <td>fr</td>\n",
       "      <td>male</td>\n",
       "      <td>Medecine</td>\n",
       "      <td>...</td>\n",
       "      <td>soutenue</td>\n",
       "      <td>Medecine</td>\n",
       "      <td>Nancy 1</td>\n",
       "      <td>57030758</td>\n",
       "      <td>Kohler Francois</td>\n",
       "      <td>2</td>\n",
       "      <td>1</td>\n",
       "      <td>janvier</td>\n",
       "      <td>1993</td>\n",
       "      <td>français</td>\n",
       "    </tr>\n",
       "    <tr>\n",
       "      <th>5</th>\n",
       "      <td>01-12-02</td>\n",
       "      <td>NaN</td>\n",
       "      <td>NaN</td>\n",
       "      <td>2008.0</td>\n",
       "      <td>2008-11-24</td>\n",
       "      <td>26404788</td>\n",
       "      <td>Université de Paris</td>\n",
       "      <td>na</td>\n",
       "      <td>unknown</td>\n",
       "      <td>Droit et Science Politique</td>\n",
       "      <td>...</td>\n",
       "      <td>enCours</td>\n",
       "      <td>Science politique</td>\n",
       "      <td>Paris 5</td>\n",
       "      <td>26941848</td>\n",
       "      <td>Jouve Edmond</td>\n",
       "      <td>5</td>\n",
       "      <td>24</td>\n",
       "      <td>novembre</td>\n",
       "      <td>2008</td>\n",
       "      <td>autre</td>\n",
       "    </tr>\n",
       "    <tr>\n",
       "      <th>6</th>\n",
       "      <td>01-02-02</td>\n",
       "      <td>NaN</td>\n",
       "      <td>NaN</td>\n",
       "      <td>2005.0</td>\n",
       "      <td>2005-01-07</td>\n",
       "      <td>28209966</td>\n",
       "      <td>Université Jean Monnet</td>\n",
       "      <td>na</td>\n",
       "      <td>andy</td>\n",
       "      <td>Droit et Science Politique</td>\n",
       "      <td>...</td>\n",
       "      <td>enCours</td>\n",
       "      <td>Droit public</td>\n",
       "      <td>Saint Etienne</td>\n",
       "      <td>na</td>\n",
       "      <td>Comte Pierre</td>\n",
       "      <td>6</td>\n",
       "      <td>7</td>\n",
       "      <td>janvier</td>\n",
       "      <td>2005</td>\n",
       "      <td>autre</td>\n",
       "    </tr>\n",
       "  </tbody>\n",
       "</table>\n",
       "<p>3 rows × 27 columns</p>\n",
       "</div>"
      ],
      "text/plain": [
       "  Date de premiere inscription en doctorat Identifiant auteur Langue_rec  \\\n",
       "2                                      NaN                NaN   Français   \n",
       "5                                 01-12-02                NaN        NaN   \n",
       "6                                 01-02-02                NaN        NaN   \n",
       "\n",
       "     Year Date de soutenance Identifiant etablissement  \\\n",
       "2  1993.0         1993-01-01                       NaN   \n",
       "5  2008.0         2008-11-24                  26404788   \n",
       "6  2005.0         2005-01-07                  28209966   \n",
       "\n",
       "        etablissement_rec Langue de la these    Genre  \\\n",
       "2  Université de Lorraine                 fr     male   \n",
       "5     Université de Paris                 na  unknown   \n",
       "6  Université Jean Monnet                 na     andy   \n",
       "\n",
       "            Discipline_prÃ©di  ...    Statut         Discipline  \\\n",
       "2                    Medecine  ...  soutenue           Medecine   \n",
       "5  Droit et Science Politique  ...   enCours  Science politique   \n",
       "6  Droit et Science Politique  ...   enCours       Droit public   \n",
       "\n",
       "  Etablissement de soutenance Identifiant directeur  \\\n",
       "2                     Nancy 1              57030758   \n",
       "5                     Paris 5              26941848   \n",
       "6               Saint Etienne                    na   \n",
       "\n",
       "  Directeur de these (nom prenom) Unnamed: 0 Jour de soutenance  \\\n",
       "2                 Kohler Francois          2                  1   \n",
       "5                    Jouve Edmond          5                 24   \n",
       "6                    Comte Pierre          6                  7   \n",
       "\n",
       "  Mois de soutenance Année de soutenance language_rec  \n",
       "2            janvier                1993     français  \n",
       "5           novembre                2008        autre  \n",
       "6            janvier                2005        autre  \n",
       "\n",
       "[3 rows x 27 columns]"
      ]
     },
     "execution_count": 262,
     "metadata": {},
     "output_type": "execute_result"
    }
   ],
   "source": [
    "# Création d'un dictionnaire de correspondances :\n",
    "langues_répertoire = {'fr': 'français',\n",
    "                      'FR' : 'français',\n",
    "                      'en': 'anglais',\n",
    "                      'fren': 'bilingue',\n",
    "                      'enfr' : 'bilingue'}\n",
    "\n",
    "# Création des étiquettes de langues :\n",
    "phd_1984_2018 = phd_1984_2018.assign(language_rec=phd_1984_2018['Langue de la these'].map(lambda x: langues_répertoire.get(x, 'autre')))\n",
    "\n",
    "# Affichage du tableau mis à jour :\n",
    "phd_1984_2018.head(3)"
   ]
  },
  {
   "cell_type": "code",
   "execution_count": 263,
   "metadata": {},
   "outputs": [
    {
     "name": "stdout",
     "output_type": "stream",
     "text": [
      "['français' 'autre' 'anglais' 'bilingue']\n"
     ]
    }
   ],
   "source": [
    "# Affichage des valeurs uniques de la colonne \"language_rec\" :\n",
    "print(phd_1984_2018['language_rec'].unique())"
   ]
  },
  {
   "cell_type": "markdown",
   "metadata": {},
   "source": [
    "_b. Visualisation du nombre de soutenances par années et par langues_"
   ]
  },
  {
   "cell_type": "code",
   "execution_count": 264,
   "metadata": {},
   "outputs": [
    {
     "data": {
      "image/png": "[encoded data removed]",
      "text/plain": [
       "<Figure size 1000x600 with 1 Axes>"
      ]
     },
     "metadata": {},
     "output_type": "display_data"
    }
   ],
   "source": [
    "# Création de la figure :\n",
    "plt.figure(figsize = (10, 6))\n",
    "\n",
    "# Configuration du style :\n",
    "plt.rcParams['font.family'] = \"EB Garamond\"\n",
    "plt.rcParams['font.size'] = 12\n",
    "\n",
    "# création de l'histogramme : \n",
    "histplot = sns.histplot(\n",
    "    data = phd_1984_2018,\n",
    "    x = 'Date de soutenance',\n",
    "    bins = 36,\n",
    "    hue = 'language_rec',\n",
    "    hue_order = ['français', 'anglais', 'bilingue', 'autre'],\n",
    "    palette = 'nipy_spectral',\n",
    "    kde = True)\n",
    "\n",
    "# Modification des titres des axes :\n",
    "histplot.set_xlabel('Années de soutenances')\n",
    "histplot.set_ylabel('Nombre de thèses soutenues')\n",
    "\n",
    "# Modification du titre de la légende :\n",
    "legend = histplot.legend_\n",
    "legend.set_title('Langues')\n",
    "\n",
    "# Affichage du graphique :\n",
    "plt.show()"
   ]
  },
  {
   "cell_type": "markdown",
   "metadata": {},
   "source": [
    "##### 2. Proportions de soutenances par années et par langues #####"
   ]
  },
  {
   "cell_type": "code",
   "execution_count": 297,
   "metadata": {},
   "outputs": [
    {
     "data": {
      "image/png": "[encoded data removed]",
      "text/plain": [
       "<Figure size 1000x600 with 1 Axes>"
      ]
     },
     "metadata": {},
     "output_type": "display_data"
    }
   ],
   "source": [
    "# Calcul des proportions par année et par groupe : \n",
    "proportions = phd_1984_2018.groupby(['Année de soutenance', 'language_rec']).size().unstack()\n",
    "proportions_langues_1984_2018 = proportions.div(proportions.sum(axis=1), axis=0)\n",
    "\n",
    "# Organisation des colonnes :\n",
    "langues_ordonnées = ['français', 'anglais', 'bilingue', 'autre']\n",
    "proportions_langues_1984_2018 = proportions_langues_1984_2018[langues_ordonnées]\n",
    "\n",
    "# Conversion des proportions en pourcentages :\n",
    "proportions_pourcentages = proportions_langues_1984_2018 * 100\n",
    "\n",
    "# Tracé du graphique avec seaborn :\n",
    "plt.figure(figsize=(10, 6))\n",
    "sns.lineplot(data=proportions_pourcentages, palette='nipy_spectral', markers=False, dashes=False)\n",
    "\n",
    "# Paramétrage des titres et de la légende :\n",
    "plt.xlabel('Années de soutenance')\n",
    "plt.ylabel('Pourcentage de thèses soutenues (%)')\n",
    "plt.legend(title = 'Langues')\n",
    "\n",
    "# Affichage du graphique :\n",
    "plt.show()"
   ]
  }
 ],
 "metadata": {
  "kernelspec": {
   "display_name": "Python 3",
   "language": "python",
   "name": "python3"
  },
  "language_info": {
   "codemirror_mode": {
    "name": "ipython",
    "version": 3
   },
   "file_extension": ".py",
   "mimetype": "text/x-python",
   "name": "python",
   "nbconvert_exporter": "python",
   "pygments_lexer": "ipython3",
   "version": "3.9.18"
  }
 },
 "nbformat": 4,
 "nbformat_minor": 2
}
